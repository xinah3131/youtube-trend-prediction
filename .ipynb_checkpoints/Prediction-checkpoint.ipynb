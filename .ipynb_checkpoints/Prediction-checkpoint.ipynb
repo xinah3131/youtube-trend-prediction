{
 "cells": [
  {
   "cell_type": "code",
   "execution_count": 3,
   "id": "ebbc2dc2",
   "metadata": {},
   "outputs": [],
   "source": [
    "import pandas as pd\n",
    "import numpy as np\n",
    "import seaborn as sns #Exploratary Plot\n",
    "import matplotlib.pylab as plt\n",
    "import os\n",
    "import pickle\n",
    "from sklearn.pipeline import Pipeline\n",
    "from sklearn.preprocessing import StandardScaler\n",
    "from sklearn.feature_extraction.text import TfidfVectorizer\n",
    "from sklearn.feature_selection import SelectKBest, chi2\n",
    "from sklearn.linear_model import LogisticRegression\n",
    "from sklearn.model_selection import GridSearchCV, train_test_split\n",
    "from sklearn.naive_bayes import MultinomialNB\n",
    "from sklearn.svm import SVC\n",
    "from sklearn.ensemble import RandomForestClassifier\n",
    "from sklearn.ensemble import VotingClassifier\n",
    "from sklearn.metrics import accuracy_score\n",
    "from sklearn.metrics import classification_report\n",
    "plt.style.use('ggplot')\n",
    "pd.options.display.max_rows = 4000"
   ]
  },
  {
   "cell_type": "code",
   "execution_count": 4,
   "id": "6fea09e3",
   "metadata": {},
   "outputs": [],
   "source": [
    "df = pd.read_csv(r'C:\\Users\\LEGION\\Desktop\\MMU\\Data Science Fundamental\\Project\\Prediction of Video\\dataset\\merged.csv')"
   ]
  },
  {
   "cell_type": "code",
   "execution_count": 5,
   "id": "85050d87",
   "metadata": {},
   "outputs": [
    {
     "data": {
      "text/plain": [
       "Index(['Unnamed: 0', 'videoID', 'title', 'publishedAt', 'channelId',\n",
       "       'channelTitle', 'categoryId', 'tags', 'views', 'likes', 'comments',\n",
       "       'thumbnailLink', 'dayOfWeek', 'daytime', 'duration', 'trendingOrNot'],\n",
       "      dtype='object')"
      ]
     },
     "execution_count": 5,
     "metadata": {},
     "output_type": "execute_result"
    }
   ],
   "source": [
    "df.columns"
   ]
  },
  {
   "cell_type": "code",
   "execution_count": 6,
   "id": "33ca8fc8",
   "metadata": {},
   "outputs": [],
   "source": [
    "df = df.drop(['Unnamed: 0','videoID','publishedAt','channelId','channelTitle','thumbnailLink'],axis=1)"
   ]
  },
  {
   "cell_type": "code",
   "execution_count": 7,
   "id": "f4d287c9",
   "metadata": {},
   "outputs": [],
   "source": [
    "df['title_length'] = df['title'].apply(lambda x: len(x))"
   ]
  },
  {
   "cell_type": "code",
   "execution_count": 8,
   "id": "e5f8d57a",
   "metadata": {},
   "outputs": [],
   "source": [
    "from sklearn.preprocessing import LabelEncoder\n",
    "\n",
    "# Create a label encoder object\n",
    "le = LabelEncoder()\n",
    "\n",
    "# Fit the encoder to the data\n",
    "le.fit(df['daytime'])\n",
    "\n",
    "# Transform the data using the encoder\n",
    "df['daytime'] = le.transform(df['daytime'])\n"
   ]
  },
  {
   "cell_type": "code",
   "execution_count": 9,
   "id": "8f76c6b9",
   "metadata": {},
   "outputs": [],
   "source": [
    "df = df[(df.duration != 0)]"
   ]
  },
  {
   "cell_type": "code",
   "execution_count": 10,
   "id": "4bc65578",
   "metadata": {},
   "outputs": [
    {
     "name": "stderr",
     "output_type": "stream",
     "text": [
      "[nltk_data] Downloading package stopwords to\n",
      "[nltk_data]     C:\\Users\\LEGION\\AppData\\Roaming\\nltk_data...\n",
      "[nltk_data]   Package stopwords is already up-to-date!\n",
      "[nltk_data] Downloading package punkt to\n",
      "[nltk_data]     C:\\Users\\LEGION\\AppData\\Roaming\\nltk_data...\n",
      "[nltk_data]   Package punkt is already up-to-date!\n"
     ]
    }
   ],
   "source": [
    "import nltk\n",
    "import string\n",
    "import re\n",
    "from nltk.corpus import stopwords\n",
    "from nltk.tokenize import word_tokenize\n",
    "\n",
    "nltk.download('stopwords')\n",
    "nltk.download('punkt')\n",
    "\n",
    "stop_words = set(stopwords.words('english'))  # set of English stop words\n",
    "\n",
    "def preprocess(text):\n",
    "    if not isinstance(text, str):\n",
    "        try:\n",
    "            text = str(text)\n",
    "        except:\n",
    "            raise TypeError('Input must be a string or a float')\n",
    "            \n",
    "  \n",
    "    # convert to lowercase\n",
    "    text = text.lower()\n",
    "    \n",
    "    # Remove URLs\n",
    "    text = re.sub(r'http\\S+', '', text)\n",
    "    # Remove special characters and punctuation\n",
    "    text = re.sub(r'[^a-zA-Z\\s]', '', text)\n",
    "    # tokenize the text\n",
    "    words = word_tokenize(text)\n",
    "    # remove stop words\n",
    "    words = [w for w in words if not w in stop_words]\n",
    "    \n",
    "    return words\n",
    "\n",
    "# Applying preprocessing function to title column\n",
    "df['clean_title'] = df['title'].apply(preprocess)\n",
    "df['clean_title_str'] = df['clean_title'].apply(lambda x: ' '.join(x))\n",
    "# df['clean_tags']  = df['tags'].apply(preprocess)\n",
    "# df['clean_tags_str'] = df['tags'].apply(lambda x: ' '.join(x))\n"
   ]
  },
  {
   "cell_type": "code",
   "execution_count": 34,
   "id": "fd1e17f7",
   "metadata": {},
   "outputs": [],
   "source": [
    "import numpy as np\n",
    "import matplotlib.pyplot as plt\n",
    "from sklearn.model_selection import learning_curve\n",
    "\n",
    "def plot_learning_curve(estimator, title, X, y, ylim=None, cv=None, n_jobs=-1, train_sizes=np.linspace(.1, 1.0, 5)):\n",
    "    plt.figure()\n",
    "    plt.title(title)\n",
    "    if ylim is not None:\n",
    "        plt.ylim(*ylim)\n",
    "    plt.xlabel(\"Training examples\")\n",
    "    plt.ylabel(\"Score\")\n",
    "    train_sizes, train_scores, test_scores = learning_curve(\n",
    "        estimator, X, y, cv=cv, n_jobs=n_jobs, train_sizes=train_sizes)\n",
    "    train_scores_mean = np.mean(train_scores, axis=1)\n",
    "    train_scores_std = np.std(train_scores, axis=1)\n",
    "    test_scores_mean = np.mean(test_scores, axis=1)\n",
    "    test_scores_std = np.std(test_scores, axis=1)\n",
    "    plt.grid()\n",
    "\n",
    "    plt.fill_between(train_sizes, train_scores_mean - train_scores_std,\n",
    "                     train_scores_mean + train_scores_std, alpha=0.1,\n",
    "                     color=\"r\")\n",
    "    plt.fill_between(train_sizes, test_scores_mean - test_scores_std,\n",
    "                     test_scores_mean + test_scores_std, alpha=0.1, color=\"g\")\n",
    "    plt.plot(train_sizes, train_scores_mean, 'o-', color=\"r\",\n",
    "             label=\"Training score\")\n",
    "    plt.plot(train_sizes, test_scores_mean, 'o-', color=\"g\",\n",
    "             label=\"Cross-validation score\")\n",
    "\n",
    "    plt.legend(loc=\"best\")\n",
    "    return plt\n"
   ]
  },
  {
   "cell_type": "code",
   "execution_count": 35,
   "id": "a653f61c",
   "metadata": {},
   "outputs": [
    {
     "data": {
      "image/png": "[encoded data removed]",
      "text/plain": [
       "<Figure size 432x288 with 1 Axes>"
      ]
     },
     "metadata": {},
     "output_type": "display_data"
    }
   ],
   "source": [
    "from sklearn.datasets import make_classification\n",
    "from sklearn.linear_model import LogisticRegression\n",
    "\n",
    "# X, y = make_classification(n_samples=1000, n_features=10, n_informative=5, n_redundant=2, random_state=42)\n",
    "X = df[['categoryId','dayOfWeek','daytime','title_length','duration']]\n",
    "y = df.trendingOrNot\n",
    "logreg = LogisticRegression()\n",
    "\n",
    "plot_learning_curve(logreg, \"Learning Curve (Logistic Regression)\", X, y, cv=5)\n",
    "plt.show()\n",
    "\n",
    "#High training Score, Low validation score = overfitting\n",
    "#Low Training score, Low Validaiton Score = undefitting"
   ]
  },
  {
   "cell_type": "code",
   "execution_count": 38,
   "id": "7a5cdcff",
   "metadata": {
    "scrolled": false
   },
   "outputs": [
    {
     "data": {
      "image/png": "[encoded data removed]",
      "text/plain": [
       "<Figure size 432x288 with 1 Axes>"
      ]
     },
     "metadata": {},
     "output_type": "display_data"
    },
    {
     "name": "stderr",
     "output_type": "stream",
     "text": [
      "C:\\Users\\LEGION\\AppData\\Local\\Temp\\ipykernel_20772\\2285235928.py:6: FutureWarning: Dropping of nuisance columns in DataFrame reductions (with 'numeric_only=None') is deprecated; in a future version this will raise TypeError.  Select only valid columns before calling the reduction.\n",
      "  z_scores = (test_df - test_df.mean()) / df.std()\n"
     ]
    },
    {
     "data": {
      "text/html": [
       "<div>\n",
       "<style scoped>\n",
       "    .dataframe tbody tr th:only-of-type {\n",
       "        vertical-align: middle;\n",
       "    }\n",
       "\n",
       "    .dataframe tbody tr th {\n",
       "        vertical-align: top;\n",
       "    }\n",
       "\n",
       "    .dataframe thead th {\n",
       "        text-align: right;\n",
       "    }\n",
       "</style>\n",
       "<table border=\"1\" class=\"dataframe\">\n",
       "  <thead>\n",
       "    <tr style=\"text-align: right;\">\n",
       "      <th></th>\n",
       "      <th>categoryId</th>\n",
       "      <th>comments</th>\n",
       "      <th>dayOfWeek</th>\n",
       "      <th>daytime</th>\n",
       "      <th>duration</th>\n",
       "      <th>likes</th>\n",
       "      <th>title_length</th>\n",
       "      <th>trendingOrNot</th>\n",
       "      <th>views</th>\n",
       "    </tr>\n",
       "  </thead>\n",
       "  <tbody>\n",
       "    <tr>\n",
       "      <th>0</th>\n",
       "      <td>0.862596</td>\n",
       "      <td>NaN</td>\n",
       "      <td>0.625621</td>\n",
       "      <td>-0.235812</td>\n",
       "      <td>-0.170329</td>\n",
       "      <td>NaN</td>\n",
       "      <td>-1.026074</td>\n",
       "      <td>1.593022</td>\n",
       "      <td>NaN</td>\n",
       "    </tr>\n",
       "    <tr>\n",
       "      <th>1</th>\n",
       "      <td>0.520824</td>\n",
       "      <td>NaN</td>\n",
       "      <td>0.625621</td>\n",
       "      <td>0.659446</td>\n",
       "      <td>-0.143659</td>\n",
       "      <td>NaN</td>\n",
       "      <td>0.834506</td>\n",
       "      <td>1.593022</td>\n",
       "      <td>NaN</td>\n",
       "    </tr>\n",
       "    <tr>\n",
       "      <th>2</th>\n",
       "      <td>0.520824</td>\n",
       "      <td>NaN</td>\n",
       "      <td>0.098296</td>\n",
       "      <td>-0.235812</td>\n",
       "      <td>-0.229507</td>\n",
       "      <td>NaN</td>\n",
       "      <td>-1.026074</td>\n",
       "      <td>1.593022</td>\n",
       "      <td>NaN</td>\n",
       "    </tr>\n",
       "    <tr>\n",
       "      <th>3</th>\n",
       "      <td>0.691710</td>\n",
       "      <td>NaN</td>\n",
       "      <td>1.680270</td>\n",
       "      <td>1.554704</td>\n",
       "      <td>-0.208808</td>\n",
       "      <td>NaN</td>\n",
       "      <td>0.199186</td>\n",
       "      <td>1.593022</td>\n",
       "      <td>NaN</td>\n",
       "    </tr>\n",
       "    <tr>\n",
       "      <th>4</th>\n",
       "      <td>0.520824</td>\n",
       "      <td>NaN</td>\n",
       "      <td>0.098296</td>\n",
       "      <td>1.554704</td>\n",
       "      <td>-0.220882</td>\n",
       "      <td>NaN</td>\n",
       "      <td>-0.481514</td>\n",
       "      <td>1.593022</td>\n",
       "      <td>NaN</td>\n",
       "    </tr>\n",
       "    <tr>\n",
       "      <th>...</th>\n",
       "      <td>...</td>\n",
       "      <td>...</td>\n",
       "      <td>...</td>\n",
       "      <td>...</td>\n",
       "      <td>...</td>\n",
       "      <td>...</td>\n",
       "      <td>...</td>\n",
       "      <td>...</td>\n",
       "      <td>...</td>\n",
       "    </tr>\n",
       "    <tr>\n",
       "      <th>102786</th>\n",
       "      <td>-1.871580</td>\n",
       "      <td>NaN</td>\n",
       "      <td>1.152945</td>\n",
       "      <td>1.554704</td>\n",
       "      <td>0.272312</td>\n",
       "      <td>NaN</td>\n",
       "      <td>1.605966</td>\n",
       "      <td>-0.627731</td>\n",
       "      <td>NaN</td>\n",
       "    </tr>\n",
       "    <tr>\n",
       "      <th>102787</th>\n",
       "      <td>-1.871580</td>\n",
       "      <td>NaN</td>\n",
       "      <td>0.625621</td>\n",
       "      <td>1.554704</td>\n",
       "      <td>0.276028</td>\n",
       "      <td>NaN</td>\n",
       "      <td>1.787486</td>\n",
       "      <td>-0.627731</td>\n",
       "      <td>NaN</td>\n",
       "    </tr>\n",
       "    <tr>\n",
       "      <th>102788</th>\n",
       "      <td>-1.871580</td>\n",
       "      <td>NaN</td>\n",
       "      <td>0.098296</td>\n",
       "      <td>1.554704</td>\n",
       "      <td>0.270986</td>\n",
       "      <td>NaN</td>\n",
       "      <td>1.469826</td>\n",
       "      <td>-0.627731</td>\n",
       "      <td>NaN</td>\n",
       "    </tr>\n",
       "    <tr>\n",
       "      <th>102789</th>\n",
       "      <td>-1.871580</td>\n",
       "      <td>NaN</td>\n",
       "      <td>-0.429028</td>\n",
       "      <td>1.554704</td>\n",
       "      <td>0.259973</td>\n",
       "      <td>NaN</td>\n",
       "      <td>1.605966</td>\n",
       "      <td>-0.627731</td>\n",
       "      <td>NaN</td>\n",
       "    </tr>\n",
       "    <tr>\n",
       "      <th>102790</th>\n",
       "      <td>0.179052</td>\n",
       "      <td>NaN</td>\n",
       "      <td>-0.956353</td>\n",
       "      <td>0.659446</td>\n",
       "      <td>0.277355</td>\n",
       "      <td>NaN</td>\n",
       "      <td>1.605966</td>\n",
       "      <td>1.593022</td>\n",
       "      <td>NaN</td>\n",
       "    </tr>\n",
       "  </tbody>\n",
       "</table>\n",
       "<p>93538 rows × 9 columns</p>\n",
       "</div>"
      ],
      "text/plain": [
       "        categoryId  comments  dayOfWeek   daytime  duration  likes  \\\n",
       "0         0.862596       NaN   0.625621 -0.235812 -0.170329    NaN   \n",
       "1         0.520824       NaN   0.625621  0.659446 -0.143659    NaN   \n",
       "2         0.520824       NaN   0.098296 -0.235812 -0.229507    NaN   \n",
       "3         0.691710       NaN   1.680270  1.554704 -0.208808    NaN   \n",
       "4         0.520824       NaN   0.098296  1.554704 -0.220882    NaN   \n",
       "...            ...       ...        ...       ...       ...    ...   \n",
       "102786   -1.871580       NaN   1.152945  1.554704  0.272312    NaN   \n",
       "102787   -1.871580       NaN   0.625621  1.554704  0.276028    NaN   \n",
       "102788   -1.871580       NaN   0.098296  1.554704  0.270986    NaN   \n",
       "102789   -1.871580       NaN  -0.429028  1.554704  0.259973    NaN   \n",
       "102790    0.179052       NaN  -0.956353  0.659446  0.277355    NaN   \n",
       "\n",
       "        title_length  trendingOrNot  views  \n",
       "0          -1.026074       1.593022    NaN  \n",
       "1           0.834506       1.593022    NaN  \n",
       "2          -1.026074       1.593022    NaN  \n",
       "3           0.199186       1.593022    NaN  \n",
       "4          -0.481514       1.593022    NaN  \n",
       "...              ...            ...    ...  \n",
       "102786      1.605966      -0.627731    NaN  \n",
       "102787      1.787486      -0.627731    NaN  \n",
       "102788      1.469826      -0.627731    NaN  \n",
       "102789      1.605966      -0.627731    NaN  \n",
       "102790      1.605966       1.593022    NaN  \n",
       "\n",
       "[93538 rows x 9 columns]"
      ]
     },
     "execution_count": 38,
     "metadata": {},
     "output_type": "execute_result"
    }
   ],
   "source": [
    "\n",
    "test_df = df[['categoryId','dayOfWeek','daytime','title_length','duration','trendingOrNot']].copy()\n",
    "sns.boxplot(data=test_df)\n",
    "plt.show()\n",
    "\n",
    "# Calculate the Z-score for each column\n",
    "z_scores = (test_df - test_df.mean()) / df.std()\n",
    "\n",
    "# Identify outliers using Z-score > 3 or < -3\n",
    "z_scores"
   ]
  },
  {
   "cell_type": "code",
   "execution_count": 46,
   "id": "06f4651e",
   "metadata": {},
   "outputs": [
    {
     "name": "stdout",
     "output_type": "stream",
     "text": [
      "              precision    recall  f1-score   support\n",
      "\n",
      "           0       0.75      0.96      0.84     33618\n",
      "           1       0.62      0.18      0.28     13151\n",
      "\n",
      "    accuracy                           0.74     46769\n",
      "   macro avg       0.68      0.57      0.56     46769\n",
      "weighted avg       0.71      0.74      0.68     46769\n",
      "\n"
     ]
    }
   ],
   "source": [
    "from sklearn.model_selection import train_test_split\n",
    "from sklearn.linear_model import LogisticRegression\n",
    "\n",
    "X = df[['categoryId','dayOfWeek','daytime','title_length','duration']]\n",
    "y = df['trendingOrNot']\n",
    "\n",
    "X_train, X_test, y_train, y_test = train_test_split(X, y, test_size=0.5, random_state=42)\n",
    "\n",
    "scaler = StandardScaler()\n",
    "num_cols = ['title_length', 'duration']\n",
    "X_train[num_cols] = scaler.fit_transform(X_train[num_cols])\n",
    "X_test[num_cols] = scaler.transform(X_test[num_cols])\n",
    "\n",
    "model = LogisticRegression()\n",
    "model.fit(X_train, y_train)\n",
    "\n",
    "y_pred = model.predict(X_test)\n",
    "#model.score(X_test,y_test)\n",
    "print(classification_report(y_test, y_pred))"
   ]
  },
  {
   "cell_type": "code",
   "execution_count": 16,
   "id": "a41e10f8",
   "metadata": {},
   "outputs": [
    {
     "name": "stdout",
     "output_type": "stream",
     "text": [
      "Accuracy: 0.8251550138977978\n",
      "              precision    recall  f1-score   support\n",
      "\n",
      "           0       0.86      0.90      0.88     13426\n",
      "           1       0.71      0.63      0.67      5282\n",
      "\n",
      "    accuracy                           0.83     18708\n",
      "   macro avg       0.79      0.77      0.78     18708\n",
      "weighted avg       0.82      0.83      0.82     18708\n",
      "\n"
     ]
    }
   ],
   "source": [
    "from sklearn.feature_extraction.text import TfidfVectorizer\n",
    "from sklearn.feature_selection import SelectKBest, chi2\n",
    "from sklearn.linear_model import SGDClassifier\n",
    "from sklearn.pipeline import Pipeline\n",
    "from sklearn.model_selection import train_test_split\n",
    "from sklearn.metrics import accuracy_score\n",
    "import pandas as pd\n",
    "import numpy as np\n",
    "\n",
    "# Extract features using TF-IDF\n",
    "vectorizer = TfidfVectorizer()\n",
    "X_title = vectorizer.fit_transform(df['clean_title_str'])\n",
    "\n",
    "# Select the top 1000 features based on chi-squared test\n",
    "selector_title = SelectKBest(chi2, k=500)\n",
    "X_title = selector_title.fit_transform(X_title, df['trendingOrNot'])\n",
    "\n",
    "# Convert 'categoryId' and 'daysOfUploading' to a numpy array\n",
    "# X_numeric = df[['categoryId','title_length','duration']].to_numpy()\n",
    "# Scale 'title_length' and 'duration' features\n",
    "scaler = StandardScaler()\n",
    "X_numeric = scaler.fit_transform(df[['title_length', 'duration']].to_numpy())\n",
    "\n",
    "# Include 'categoryId' as a feature\n",
    "X_cat = df[['categoryId']].to_numpy()\n",
    "\n",
    "# Concatenate the selected features and convert to a numpy array\n",
    "X = np.concatenate((X_title.toarray(), X_cat,X_numeric), axis=1)\n",
    "\n",
    "# Split the data into training and testing sets\n",
    "y = df['trendingOrNot']\n",
    "X_train, X_test, y_train, y_test = train_test_split(X, y, test_size=0.2, random_state=42)\n",
    "\n",
    "# Train the SGD classifier model\n",
    "clf = RandomForestClassifier(n_estimators=100, random_state=42)\n",
    "clf.fit(X_train, y_train)\n",
    "\n",
    "# Make predictions on the test set and evaluate the model\n",
    "y_pred = clf.predict(X_test)\n",
    "accuracy = accuracy_score(y_test, y_pred)\n",
    "print(\"Accuracy:\", accuracy)\n",
    "print(classification_report(y_test, y_pred))\n"
   ]
  },
  {
   "cell_type": "code",
   "execution_count": 17,
   "id": "c444542e",
   "metadata": {},
   "outputs": [],
   "source": [
    "# Save the trained model to a file\n",
    "filename = 'randomModel.sav'\n",
    "pickle.dump(clf, open(filename, 'wb'))\n",
    "\n",
    "# Save the vectorizer to a file\n",
    "vectorizer_filename = 'vectorizer.sav'\n",
    "pickle.dump(vectorizer, open(vectorizer_filename, 'wb'))\n",
    "\n",
    "# Save the selector_title to a file\n",
    "selector_title_filename = 'selector_title.sav'\n",
    "pickle.dump(selector_title, open(selector_title_filename, 'wb'))\n",
    "# Load the saved model from a file\n",
    "#clf = pickle.load(open(filename, 'rb'))\n",
    "\n"
   ]
  },
  {
   "cell_type": "code",
   "execution_count": 21,
   "id": "5438a648",
   "metadata": {},
   "outputs": [],
   "source": [
    "# Load the vectorizer from file\n",
    "vectorizer_filename = 'vectorizer.sav'\n",
    "with open(vectorizer_filename, 'rb') as f:\n",
    "    vectorizer = pickle.load(f)\n",
    "\n",
    "# Load the selector_title from file\n",
    "selector_title_filename = 'selector_title.sav'\n",
    "with open(selector_title_filename, 'rb') as f:\n",
    "    selector_title = pickle.load(f)\n",
    "filename = 'randomModel.sav'\n",
    "clf = pickle.load(open(filename, 'rb'))"
   ]
  },
  {
   "cell_type": "code",
   "execution_count": 57,
   "id": "ffc7cfdc",
   "metadata": {},
   "outputs": [
    {
     "data": {
      "text/plain": [
       "array([[0.27, 0.73]])"
      ]
     },
     "execution_count": 57,
     "metadata": {},
     "output_type": "execute_result"
    }
   ],
   "source": [
    "new_title = \"Pokémon: Twilight Wings | Episode 7 | Sky\"\n",
    "import string\n",
    "\n",
    "# Remove punctuation and spaces\n",
    "new_title = new_title.translate(str.maketrans('', '', string.punctuation)).replace(\" \", \"\")\n",
    "new_category_id = 2\n",
    "title_length = 34\n",
    "duration = 577 # 0 - Morning 1 - Afternoon 2 - Noon 3 - Night\n",
    "\n",
    "# Extract features using TF-IDF\n",
    "new_title_features = vectorizer.transform([new_title])\n",
    "\n",
    "# Select the top 500 features based on chi-squared test\n",
    "new_title_features = selector_title.transform(new_title_features)\n",
    "\n",
    "# Scale 'title_length' and 'duration' features\n",
    "new_numeric_features = scaler.transform([[title_length, duration]])\n",
    "\n",
    "# Include 'categoryId' as a feature\n",
    "new_cat_features = np.array([[new_category_id]])\n",
    "\n",
    "# Combine the features into a numpy array\n",
    "new_features = np.concatenate((new_title_features.toarray(), new_cat_features, new_numeric_features), axis=1)\n",
    "\n",
    "# Make a prediction on the new data point\n",
    "clf.predict_proba(new_features)\n"
   ]
  },
  {
   "cell_type": "code",
   "execution_count": 13,
   "id": "1038d9ff",
   "metadata": {},
   "outputs": [
    {
     "name": "stdout",
     "output_type": "stream",
     "text": [
      "Accuracy: 0.8091346855391799\n"
     ]
    },
    {
     "name": "stderr",
     "output_type": "stream",
     "text": [
      "C:\\Users\\LEGION\\anaconda3\\lib\\site-packages\\sklearn\\linear_model\\_logistic.py:814: ConvergenceWarning: lbfgs failed to converge (status=1):\n",
      "STOP: TOTAL NO. of ITERATIONS REACHED LIMIT.\n",
      "\n",
      "Increase the number of iterations (max_iter) or scale the data as shown in:\n",
      "    https://scikit-learn.org/stable/modules/preprocessing.html\n",
      "Please also refer to the documentation for alternative solver options:\n",
      "    https://scikit-learn.org/stable/modules/linear_model.html#logistic-regression\n",
      "  n_iter_i = _check_optimize_result(\n"
     ]
    }
   ],
   "source": [
    "from sklearn.feature_extraction.text import TfidfVectorizer\n",
    "from sklearn.linear_model import LogisticRegression\n",
    "from sklearn.model_selection import train_test_split\n",
    "from sklearn.metrics import accuracy_score\n",
    "\n",
    "\n",
    "# Extract features using TF-IDF\n",
    "vectorizer = TfidfVectorizer()\n",
    "X = vectorizer.fit_transform(df['clean_title_str'])\n",
    "\n",
    "# Split the data into training and testing sets\n",
    "y = df['trendingOrNot']\n",
    "X_train, X_test, y_train, y_test = train_test_split(X, y, test_size=0.2, random_state=42)\n",
    "\n",
    "# Train the logistic regression model\n",
    "clf = LogisticRegression()\n",
    "clf.fit(X_train, y_train)\n",
    "\n",
    "# Make predictions on the test set and evaluate the model\n",
    "y_pred = clf.predict(X_test)\n",
    "accuracy = accuracy_score(y_test, y_pred)\n",
    "print(\"Accuracy:\", accuracy)"
   ]
  },
  {
   "cell_type": "code",
   "execution_count": 14,
   "id": "b04b2703",
   "metadata": {},
   "outputs": [
    {
     "data": {
      "text/plain": [
       "array([[0.72043626, 0.27956374]])"
      ]
     },
     "execution_count": 14,
     "metadata": {},
     "output_type": "execute_result"
    }
   ],
   "source": [
    "clf.predict_proba(vectorizer.transform(['Cake Rescue Fixing Viral Cake']))"
   ]
  },
  {
   "cell_type": "code",
   "execution_count": 52,
   "id": "88000768",
   "metadata": {},
   "outputs": [
    {
     "name": "stdout",
     "output_type": "stream",
     "text": [
      "Accuracy: 0.7672653410305752\n"
     ]
    },
    {
     "name": "stderr",
     "output_type": "stream",
     "text": [
      "C:\\Users\\LEGION\\anaconda3\\lib\\site-packages\\sklearn\\linear_model\\_logistic.py:814: ConvergenceWarning: lbfgs failed to converge (status=1):\n",
      "STOP: TOTAL NO. of ITERATIONS REACHED LIMIT.\n",
      "\n",
      "Increase the number of iterations (max_iter) or scale the data as shown in:\n",
      "    https://scikit-learn.org/stable/modules/preprocessing.html\n",
      "Please also refer to the documentation for alternative solver options:\n",
      "    https://scikit-learn.org/stable/modules/linear_model.html#logistic-regression\n",
      "  n_iter_i = _check_optimize_result(\n"
     ]
    }
   ],
   "source": [
    "from sklearn.feature_extraction.text import TfidfVectorizer\n",
    "from sklearn.feature_selection import SelectKBest, chi2\n",
    "from sklearn.linear_model import LogisticRegression\n",
    "from sklearn.model_selection import train_test_split\n",
    "from sklearn.metrics import accuracy_score\n",
    "import pandas as pd\n",
    "import numpy as np\n",
    "\n",
    "# Extract features using TF-IDF\n",
    "vectorizer = TfidfVectorizer()\n",
    "X_title = vectorizer.fit_transform(df['clean_title_str'])\n",
    "\n",
    "# Select the top 1000 features based on chi-squared test\n",
    "selector_title = SelectKBest(chi2, k=100)\n",
    "X_title = selector_title.fit_transform(X_title, df['trendingOrNot'])\n",
    "\n",
    "# Convert 'categoryId' and 'daysOfUploading' to a numpy array\n",
    "X_numeric = df[['dayOfWeek','daytime']].to_numpy()\n",
    "\n",
    "# Concatenate the selected features and convert to a numpy array\n",
    "X = np.concatenate((X_title.toarray(), X_numeric), axis=1)\n",
    "\n",
    "# Split the data into training and testing sets\n",
    "y = df['trendingOrNot']\n",
    "X_train, X_test, y_train, y_test = train_test_split(X, y, test_size=0.2, random_state=42)\n",
    "\n",
    "# Train the logistic regression model\n",
    "clf = LogisticRegression()\n",
    "clf.fit(X_train, y_train)\n",
    "# from sklearn.naive_bayes import MultinomialNB\n",
    "# clf = MultinomialNB()\n",
    "# clf.fit(X_train, y_train)\n",
    "# Make predictions on the test set and evaluate the model\n",
    "y_pred = clf.predict(X_test)\n",
    "accuracy = accuracy_score(y_test, y_pred)\n",
    "print(\"Accuracy:\", accuracy)\n"
   ]
  },
  {
   "cell_type": "code",
   "execution_count": null,
   "id": "c5ee3f30",
   "metadata": {},
   "outputs": [],
   "source": [
    "X_train"
   ]
  },
  {
   "cell_type": "code",
   "execution_count": 39,
   "id": "53432c32",
   "metadata": {},
   "outputs": [
    {
     "name": "stderr",
     "output_type": "stream",
     "text": [
      "C:\\Users\\LEGION\\anaconda3\\lib\\site-packages\\sklearn\\linear_model\\_logistic.py:814: ConvergenceWarning: lbfgs failed to converge (status=1):\n",
      "STOP: TOTAL NO. of ITERATIONS REACHED LIMIT.\n",
      "\n",
      "Increase the number of iterations (max_iter) or scale the data as shown in:\n",
      "    https://scikit-learn.org/stable/modules/preprocessing.html\n",
      "Please also refer to the documentation for alternative solver options:\n",
      "    https://scikit-learn.org/stable/modules/linear_model.html#logistic-regression\n",
      "  n_iter_i = _check_optimize_result(\n",
      "C:\\Users\\LEGION\\anaconda3\\lib\\site-packages\\sklearn\\linear_model\\_logistic.py:814: ConvergenceWarning: lbfgs failed to converge (status=1):\n",
      "STOP: TOTAL NO. of ITERATIONS REACHED LIMIT.\n",
      "\n",
      "Increase the number of iterations (max_iter) or scale the data as shown in:\n",
      "    https://scikit-learn.org/stable/modules/preprocessing.html\n",
      "Please also refer to the documentation for alternative solver options:\n",
      "    https://scikit-learn.org/stable/modules/linear_model.html#logistic-regression\n",
      "  n_iter_i = _check_optimize_result(\n",
      "C:\\Users\\LEGION\\anaconda3\\lib\\site-packages\\sklearn\\linear_model\\_logistic.py:814: ConvergenceWarning: lbfgs failed to converge (status=1):\n",
      "STOP: TOTAL NO. of ITERATIONS REACHED LIMIT.\n",
      "\n",
      "Increase the number of iterations (max_iter) or scale the data as shown in:\n",
      "    https://scikit-learn.org/stable/modules/preprocessing.html\n",
      "Please also refer to the documentation for alternative solver options:\n",
      "    https://scikit-learn.org/stable/modules/linear_model.html#logistic-regression\n",
      "  n_iter_i = _check_optimize_result(\n",
      "C:\\Users\\LEGION\\anaconda3\\lib\\site-packages\\sklearn\\linear_model\\_logistic.py:814: ConvergenceWarning: lbfgs failed to converge (status=1):\n",
      "STOP: TOTAL NO. of ITERATIONS REACHED LIMIT.\n",
      "\n",
      "Increase the number of iterations (max_iter) or scale the data as shown in:\n",
      "    https://scikit-learn.org/stable/modules/preprocessing.html\n",
      "Please also refer to the documentation for alternative solver options:\n",
      "    https://scikit-learn.org/stable/modules/linear_model.html#logistic-regression\n",
      "  n_iter_i = _check_optimize_result(\n",
      "C:\\Users\\LEGION\\anaconda3\\lib\\site-packages\\sklearn\\linear_model\\_logistic.py:814: ConvergenceWarning: lbfgs failed to converge (status=1):\n",
      "STOP: TOTAL NO. of ITERATIONS REACHED LIMIT.\n",
      "\n",
      "Increase the number of iterations (max_iter) or scale the data as shown in:\n",
      "    https://scikit-learn.org/stable/modules/preprocessing.html\n",
      "Please also refer to the documentation for alternative solver options:\n",
      "    https://scikit-learn.org/stable/modules/linear_model.html#logistic-regression\n",
      "  n_iter_i = _check_optimize_result(\n",
      "C:\\Users\\LEGION\\anaconda3\\lib\\site-packages\\sklearn\\linear_model\\_logistic.py:814: ConvergenceWarning: lbfgs failed to converge (status=1):\n",
      "STOP: TOTAL NO. of ITERATIONS REACHED LIMIT.\n",
      "\n",
      "Increase the number of iterations (max_iter) or scale the data as shown in:\n",
      "    https://scikit-learn.org/stable/modules/preprocessing.html\n",
      "Please also refer to the documentation for alternative solver options:\n",
      "    https://scikit-learn.org/stable/modules/linear_model.html#logistic-regression\n",
      "  n_iter_i = _check_optimize_result(\n",
      "C:\\Users\\LEGION\\anaconda3\\lib\\site-packages\\sklearn\\linear_model\\_logistic.py:814: ConvergenceWarning: lbfgs failed to converge (status=1):\n",
      "STOP: TOTAL NO. of ITERATIONS REACHED LIMIT.\n",
      "\n",
      "Increase the number of iterations (max_iter) or scale the data as shown in:\n",
      "    https://scikit-learn.org/stable/modules/preprocessing.html\n",
      "Please also refer to the documentation for alternative solver options:\n",
      "    https://scikit-learn.org/stable/modules/linear_model.html#logistic-regression\n",
      "  n_iter_i = _check_optimize_result(\n",
      "C:\\Users\\LEGION\\anaconda3\\lib\\site-packages\\sklearn\\linear_model\\_logistic.py:814: ConvergenceWarning: lbfgs failed to converge (status=1):\n",
      "STOP: TOTAL NO. of ITERATIONS REACHED LIMIT.\n",
      "\n",
      "Increase the number of iterations (max_iter) or scale the data as shown in:\n",
      "    https://scikit-learn.org/stable/modules/preprocessing.html\n",
      "Please also refer to the documentation for alternative solver options:\n",
      "    https://scikit-learn.org/stable/modules/linear_model.html#logistic-regression\n",
      "  n_iter_i = _check_optimize_result(\n",
      "C:\\Users\\LEGION\\anaconda3\\lib\\site-packages\\sklearn\\linear_model\\_logistic.py:814: ConvergenceWarning: lbfgs failed to converge (status=1):\n",
      "STOP: TOTAL NO. of ITERATIONS REACHED LIMIT.\n",
      "\n",
      "Increase the number of iterations (max_iter) or scale the data as shown in:\n",
      "    https://scikit-learn.org/stable/modules/preprocessing.html\n",
      "Please also refer to the documentation for alternative solver options:\n",
      "    https://scikit-learn.org/stable/modules/linear_model.html#logistic-regression\n",
      "  n_iter_i = _check_optimize_result(\n",
      "C:\\Users\\LEGION\\anaconda3\\lib\\site-packages\\sklearn\\linear_model\\_logistic.py:814: ConvergenceWarning: lbfgs failed to converge (status=1):\n",
      "STOP: TOTAL NO. of ITERATIONS REACHED LIMIT.\n",
      "\n",
      "Increase the number of iterations (max_iter) or scale the data as shown in:\n",
      "    https://scikit-learn.org/stable/modules/preprocessing.html\n",
      "Please also refer to the documentation for alternative solver options:\n",
      "    https://scikit-learn.org/stable/modules/linear_model.html#logistic-regression\n",
      "  n_iter_i = _check_optimize_result(\n",
      "C:\\Users\\LEGION\\anaconda3\\lib\\site-packages\\sklearn\\linear_model\\_logistic.py:814: ConvergenceWarning: lbfgs failed to converge (status=1):\n",
      "STOP: TOTAL NO. of ITERATIONS REACHED LIMIT.\n",
      "\n",
      "Increase the number of iterations (max_iter) or scale the data as shown in:\n",
      "    https://scikit-learn.org/stable/modules/preprocessing.html\n",
      "Please also refer to the documentation for alternative solver options:\n",
      "    https://scikit-learn.org/stable/modules/linear_model.html#logistic-regression\n",
      "  n_iter_i = _check_optimize_result(\n",
      "C:\\Users\\LEGION\\anaconda3\\lib\\site-packages\\sklearn\\linear_model\\_logistic.py:814: ConvergenceWarning: lbfgs failed to converge (status=1):\n",
      "STOP: TOTAL NO. of ITERATIONS REACHED LIMIT.\n",
      "\n",
      "Increase the number of iterations (max_iter) or scale the data as shown in:\n",
      "    https://scikit-learn.org/stable/modules/preprocessing.html\n",
      "Please also refer to the documentation for alternative solver options:\n",
      "    https://scikit-learn.org/stable/modules/linear_model.html#logistic-regression\n",
      "  n_iter_i = _check_optimize_result(\n",
      "C:\\Users\\LEGION\\anaconda3\\lib\\site-packages\\sklearn\\linear_model\\_logistic.py:814: ConvergenceWarning: lbfgs failed to converge (status=1):\n",
      "STOP: TOTAL NO. of ITERATIONS REACHED LIMIT.\n",
      "\n",
      "Increase the number of iterations (max_iter) or scale the data as shown in:\n",
      "    https://scikit-learn.org/stable/modules/preprocessing.html\n",
      "Please also refer to the documentation for alternative solver options:\n",
      "    https://scikit-learn.org/stable/modules/linear_model.html#logistic-regression\n",
      "  n_iter_i = _check_optimize_result(\n",
      "C:\\Users\\LEGION\\anaconda3\\lib\\site-packages\\sklearn\\linear_model\\_logistic.py:814: ConvergenceWarning: lbfgs failed to converge (status=1):\n",
      "STOP: TOTAL NO. of ITERATIONS REACHED LIMIT.\n",
      "\n",
      "Increase the number of iterations (max_iter) or scale the data as shown in:\n",
      "    https://scikit-learn.org/stable/modules/preprocessing.html\n",
      "Please also refer to the documentation for alternative solver options:\n",
      "    https://scikit-learn.org/stable/modules/linear_model.html#logistic-regression\n",
      "  n_iter_i = _check_optimize_result(\n",
      "C:\\Users\\LEGION\\anaconda3\\lib\\site-packages\\sklearn\\linear_model\\_logistic.py:814: ConvergenceWarning: lbfgs failed to converge (status=1):\n",
      "STOP: TOTAL NO. of ITERATIONS REACHED LIMIT.\n",
      "\n",
      "Increase the number of iterations (max_iter) or scale the data as shown in:\n",
      "    https://scikit-learn.org/stable/modules/preprocessing.html\n",
      "Please also refer to the documentation for alternative solver options:\n",
      "    https://scikit-learn.org/stable/modules/linear_model.html#logistic-regression\n",
      "  n_iter_i = _check_optimize_result(\n",
      "C:\\Users\\LEGION\\anaconda3\\lib\\site-packages\\sklearn\\model_selection\\_validation.py:372: FitFailedWarning: \n",
      "15 fits failed out of a total of 30.\n",
      "The score on these train-test partitions for these parameters will be set to nan.\n",
      "If these failures are not expected, you can try to debug them by setting error_score='raise'.\n",
      "\n",
      "Below are more details about the failures:\n",
      "--------------------------------------------------------------------------------\n",
      "15 fits failed with the following error:\n",
      "Traceback (most recent call last):\n",
      "  File \"C:\\Users\\LEGION\\anaconda3\\lib\\site-packages\\sklearn\\model_selection\\_validation.py\", line 680, in _fit_and_score\n",
      "    estimator.fit(X_train, y_train, **fit_params)\n",
      "  File \"C:\\Users\\LEGION\\anaconda3\\lib\\site-packages\\sklearn\\pipeline.py\", line 394, in fit\n",
      "    self._final_estimator.fit(Xt, y, **fit_params_last_step)\n",
      "  File \"C:\\Users\\LEGION\\anaconda3\\lib\\site-packages\\sklearn\\linear_model\\_logistic.py\", line 1461, in fit\n",
      "    solver = _check_solver(self.solver, self.penalty, self.dual)\n",
      "  File \"C:\\Users\\LEGION\\anaconda3\\lib\\site-packages\\sklearn\\linear_model\\_logistic.py\", line 447, in _check_solver\n",
      "    raise ValueError(\n",
      "ValueError: Solver lbfgs supports only 'l2' or 'none' penalties, got l1 penalty.\n",
      "\n",
      "  warnings.warn(some_fits_failed_message, FitFailedWarning)\n",
      "C:\\Users\\LEGION\\anaconda3\\lib\\site-packages\\sklearn\\model_selection\\_search.py:969: UserWarning: One or more of the test scores are non-finite: [       nan 0.81941339        nan 0.81864727        nan 0.81842838]\n",
      "  warnings.warn(\n"
     ]
    },
    {
     "name": "stderr",
     "output_type": "stream",
     "text": [
      "C:\\Users\\LEGION\\anaconda3\\lib\\site-packages\\sklearn\\linear_model\\_logistic.py:814: ConvergenceWarning: lbfgs failed to converge (status=1):\n",
      "STOP: TOTAL NO. of ITERATIONS REACHED LIMIT.\n",
      "\n",
      "Increase the number of iterations (max_iter) or scale the data as shown in:\n",
      "    https://scikit-learn.org/stable/modules/preprocessing.html\n",
      "Please also refer to the documentation for alternative solver options:\n",
      "    https://scikit-learn.org/stable/modules/linear_model.html#logistic-regression\n",
      "  n_iter_i = _check_optimize_result(\n",
      "C:\\Users\\LEGION\\anaconda3\\lib\\site-packages\\sklearn\\model_selection\\_validation.py:372: FitFailedWarning: \n",
      "15 fits failed out of a total of 15.\n",
      "The score on these train-test partitions for these parameters will be set to nan.\n",
      "If these failures are not expected, you can try to debug them by setting error_score='raise'.\n",
      "\n",
      "Below are more details about the failures:\n",
      "--------------------------------------------------------------------------------\n",
      "15 fits failed with the following error:\n",
      "Traceback (most recent call last):\n",
      "  File \"C:\\Users\\LEGION\\anaconda3\\lib\\site-packages\\sklearn\\model_selection\\_validation.py\", line 680, in _fit_and_score\n",
      "    estimator.fit(X_train, y_train, **fit_params)\n",
      "  File \"C:\\Users\\LEGION\\anaconda3\\lib\\site-packages\\sklearn\\pipeline.py\", line 394, in fit\n",
      "    self._final_estimator.fit(Xt, y, **fit_params_last_step)\n",
      "  File \"C:\\Users\\LEGION\\anaconda3\\lib\\site-packages\\sklearn\\naive_bayes.py\", line 690, in fit\n",
      "    self._count(X, Y)\n",
      "  File \"C:\\Users\\LEGION\\anaconda3\\lib\\site-packages\\sklearn\\naive_bayes.py\", line 863, in _count\n",
      "    check_non_negative(X, \"MultinomialNB (input X)\")\n",
      "  File \"C:\\Users\\LEGION\\anaconda3\\lib\\site-packages\\sklearn\\utils\\validation.py\", line 1249, in check_non_negative\n",
      "    raise ValueError(\"Negative values in data passed to %s\" % whom)\n",
      "ValueError: Negative values in data passed to MultinomialNB (input X)\n",
      "\n",
      "  warnings.warn(some_fits_failed_message, FitFailedWarning)\n",
      "C:\\Users\\LEGION\\anaconda3\\lib\\site-packages\\sklearn\\model_selection\\_search.py:969: UserWarning: One or more of the test scores are non-finite: [nan nan nan]\n",
      "  warnings.warn(\n"
     ]
    },
    {
     "ename": "ValueError",
     "evalue": "Negative values in data passed to MultinomialNB (input X)",
     "output_type": "error",
     "traceback": [
      "\u001b[1;31m---------------------------------------------------------------------------\u001b[0m",
      "\u001b[1;31mValueError\u001b[0m                                Traceback (most recent call last)",
      "Input \u001b[1;32mIn [39]\u001b[0m, in \u001b[0;36m<cell line: 63>\u001b[1;34m()\u001b[0m\n\u001b[0;32m     60\u001b[0m logreg_grid\u001b[38;5;241m.\u001b[39mfit(X_train, y_train)\n\u001b[0;32m     62\u001b[0m nb_grid \u001b[38;5;241m=\u001b[39m GridSearchCV(nb_pipe, nb_params, cv\u001b[38;5;241m=\u001b[39m\u001b[38;5;241m5\u001b[39m)\n\u001b[1;32m---> 63\u001b[0m \u001b[43mnb_grid\u001b[49m\u001b[38;5;241;43m.\u001b[39;49m\u001b[43mfit\u001b[49m\u001b[43m(\u001b[49m\u001b[43mX_train\u001b[49m\u001b[43m,\u001b[49m\u001b[43m \u001b[49m\u001b[43my_train\u001b[49m\u001b[43m)\u001b[49m\n\u001b[0;32m     65\u001b[0m \u001b[38;5;66;03m# Fit the ensemble model using the best models from grid search\u001b[39;00m\n\u001b[0;32m     66\u001b[0m ensemble\u001b[38;5;241m.\u001b[39mestimators_ \u001b[38;5;241m=\u001b[39m [\n\u001b[0;32m     67\u001b[0m     (\u001b[38;5;124m'\u001b[39m\u001b[38;5;124mlogreg\u001b[39m\u001b[38;5;124m'\u001b[39m, logreg_grid\u001b[38;5;241m.\u001b[39mbest_estimator_),\n\u001b[0;32m     68\u001b[0m     (\u001b[38;5;124m'\u001b[39m\u001b[38;5;124mnb\u001b[39m\u001b[38;5;124m'\u001b[39m, nb_grid\u001b[38;5;241m.\u001b[39mbest_estimator_)\n\u001b[0;32m     69\u001b[0m ]\n",
      "File \u001b[1;32m~\\anaconda3\\lib\\site-packages\\sklearn\\model_selection\\_search.py:926\u001b[0m, in \u001b[0;36mBaseSearchCV.fit\u001b[1;34m(self, X, y, groups, **fit_params)\u001b[0m\n\u001b[0;32m    924\u001b[0m refit_start_time \u001b[38;5;241m=\u001b[39m time\u001b[38;5;241m.\u001b[39mtime()\n\u001b[0;32m    925\u001b[0m \u001b[38;5;28;01mif\u001b[39;00m y \u001b[38;5;129;01mis\u001b[39;00m \u001b[38;5;129;01mnot\u001b[39;00m \u001b[38;5;28;01mNone\u001b[39;00m:\n\u001b[1;32m--> 926\u001b[0m     \u001b[38;5;28mself\u001b[39m\u001b[38;5;241m.\u001b[39mbest_estimator_\u001b[38;5;241m.\u001b[39mfit(X, y, \u001b[38;5;241m*\u001b[39m\u001b[38;5;241m*\u001b[39mfit_params)\n\u001b[0;32m    927\u001b[0m \u001b[38;5;28;01melse\u001b[39;00m:\n\u001b[0;32m    928\u001b[0m     \u001b[38;5;28mself\u001b[39m\u001b[38;5;241m.\u001b[39mbest_estimator_\u001b[38;5;241m.\u001b[39mfit(X, \u001b[38;5;241m*\u001b[39m\u001b[38;5;241m*\u001b[39mfit_params)\n",
      "File \u001b[1;32m~\\anaconda3\\lib\\site-packages\\sklearn\\pipeline.py:394\u001b[0m, in \u001b[0;36mPipeline.fit\u001b[1;34m(self, X, y, **fit_params)\u001b[0m\n\u001b[0;32m    392\u001b[0m     \u001b[38;5;28;01mif\u001b[39;00m \u001b[38;5;28mself\u001b[39m\u001b[38;5;241m.\u001b[39m_final_estimator \u001b[38;5;241m!=\u001b[39m \u001b[38;5;124m\"\u001b[39m\u001b[38;5;124mpassthrough\u001b[39m\u001b[38;5;124m\"\u001b[39m:\n\u001b[0;32m    393\u001b[0m         fit_params_last_step \u001b[38;5;241m=\u001b[39m fit_params_steps[\u001b[38;5;28mself\u001b[39m\u001b[38;5;241m.\u001b[39msteps[\u001b[38;5;241m-\u001b[39m\u001b[38;5;241m1\u001b[39m][\u001b[38;5;241m0\u001b[39m]]\n\u001b[1;32m--> 394\u001b[0m         \u001b[38;5;28mself\u001b[39m\u001b[38;5;241m.\u001b[39m_final_estimator\u001b[38;5;241m.\u001b[39mfit(Xt, y, \u001b[38;5;241m*\u001b[39m\u001b[38;5;241m*\u001b[39mfit_params_last_step)\n\u001b[0;32m    396\u001b[0m \u001b[38;5;28;01mreturn\u001b[39;00m \u001b[38;5;28mself\u001b[39m\n",
      "File \u001b[1;32m~\\anaconda3\\lib\\site-packages\\sklearn\\naive_bayes.py:690\u001b[0m, in \u001b[0;36m_BaseDiscreteNB.fit\u001b[1;34m(self, X, y, sample_weight)\u001b[0m\n\u001b[0;32m    688\u001b[0m n_classes \u001b[38;5;241m=\u001b[39m Y\u001b[38;5;241m.\u001b[39mshape[\u001b[38;5;241m1\u001b[39m]\n\u001b[0;32m    689\u001b[0m \u001b[38;5;28mself\u001b[39m\u001b[38;5;241m.\u001b[39m_init_counters(n_classes, n_features)\n\u001b[1;32m--> 690\u001b[0m \u001b[38;5;28;43mself\u001b[39;49m\u001b[38;5;241;43m.\u001b[39;49m\u001b[43m_count\u001b[49m\u001b[43m(\u001b[49m\u001b[43mX\u001b[49m\u001b[43m,\u001b[49m\u001b[43m \u001b[49m\u001b[43mY\u001b[49m\u001b[43m)\u001b[49m\n\u001b[0;32m    691\u001b[0m alpha \u001b[38;5;241m=\u001b[39m \u001b[38;5;28mself\u001b[39m\u001b[38;5;241m.\u001b[39m_check_alpha()\n\u001b[0;32m    692\u001b[0m \u001b[38;5;28mself\u001b[39m\u001b[38;5;241m.\u001b[39m_update_feature_log_prob(alpha)\n",
      "File \u001b[1;32m~\\anaconda3\\lib\\site-packages\\sklearn\\naive_bayes.py:863\u001b[0m, in \u001b[0;36mMultinomialNB._count\u001b[1;34m(self, X, Y)\u001b[0m\n\u001b[0;32m    861\u001b[0m \u001b[38;5;28;01mdef\u001b[39;00m \u001b[38;5;21m_count\u001b[39m(\u001b[38;5;28mself\u001b[39m, X, Y):\n\u001b[0;32m    862\u001b[0m     \u001b[38;5;124;03m\"\"\"Count and smooth feature occurrences.\"\"\"\u001b[39;00m\n\u001b[1;32m--> 863\u001b[0m     \u001b[43mcheck_non_negative\u001b[49m\u001b[43m(\u001b[49m\u001b[43mX\u001b[49m\u001b[43m,\u001b[49m\u001b[43m \u001b[49m\u001b[38;5;124;43m\"\u001b[39;49m\u001b[38;5;124;43mMultinomialNB (input X)\u001b[39;49m\u001b[38;5;124;43m\"\u001b[39;49m\u001b[43m)\u001b[49m\n\u001b[0;32m    864\u001b[0m     \u001b[38;5;28mself\u001b[39m\u001b[38;5;241m.\u001b[39mfeature_count_ \u001b[38;5;241m+\u001b[39m\u001b[38;5;241m=\u001b[39m safe_sparse_dot(Y\u001b[38;5;241m.\u001b[39mT, X)\n\u001b[0;32m    865\u001b[0m     \u001b[38;5;28mself\u001b[39m\u001b[38;5;241m.\u001b[39mclass_count_ \u001b[38;5;241m+\u001b[39m\u001b[38;5;241m=\u001b[39m Y\u001b[38;5;241m.\u001b[39msum(axis\u001b[38;5;241m=\u001b[39m\u001b[38;5;241m0\u001b[39m)\n",
      "File \u001b[1;32m~\\anaconda3\\lib\\site-packages\\sklearn\\utils\\validation.py:1249\u001b[0m, in \u001b[0;36mcheck_non_negative\u001b[1;34m(X, whom)\u001b[0m\n\u001b[0;32m   1246\u001b[0m     X_min \u001b[38;5;241m=\u001b[39m X\u001b[38;5;241m.\u001b[39mmin()\n\u001b[0;32m   1248\u001b[0m \u001b[38;5;28;01mif\u001b[39;00m X_min \u001b[38;5;241m<\u001b[39m \u001b[38;5;241m0\u001b[39m:\n\u001b[1;32m-> 1249\u001b[0m     \u001b[38;5;28;01mraise\u001b[39;00m \u001b[38;5;167;01mValueError\u001b[39;00m(\u001b[38;5;124m\"\u001b[39m\u001b[38;5;124mNegative values in data passed to \u001b[39m\u001b[38;5;132;01m%s\u001b[39;00m\u001b[38;5;124m\"\u001b[39m \u001b[38;5;241m%\u001b[39m whom)\n",
      "\u001b[1;31mValueError\u001b[0m: Negative values in data passed to MultinomialNB (input X)"
     ]
    }
   ],
   "source": [
    "# Define the features\n",
    "vectorizer = TfidfVectorizer()\n",
    "X_title = vectorizer.fit_transform(df['clean_title_str'])\n",
    "selector_title = SelectKBest(chi2, k=10000)\n",
    "X_title = selector_title.fit_transform(X_title, df['trendingOrNot'])\n",
    "X_numeric = df[['categoryId', 'dayOfWeek','daytime']].to_numpy()\n",
    "X = np.concatenate((X_title.toarray(), X_numeric), axis=1)\n",
    "\n",
    "# Split the data into training and testing sets\n",
    "y = df['trendingOrNot']\n",
    "X_train, X_test, y_train, y_test = train_test_split(X, y, test_size=0.2, random_state=42)\n",
    "\n",
    "# Define the models to use\n",
    "logreg = LogisticRegression(random_state=42)\n",
    "nb = MultinomialNB()\n",
    "\n",
    "# Define the pipeline for the logistic regression model\n",
    "logreg_pipe = Pipeline([\n",
    "    ('clf', logreg)\n",
    "])\n",
    "\n",
    "# Define the pipeline for the Naive Bayes model\n",
    "nb_pipe = Pipeline([\n",
    "    ('clf', nb)\n",
    "])\n",
    "\n",
    "# Define the ensemble model\n",
    "ensemble = VotingClassifier(\n",
    "    estimators=[('logreg', logreg_pipe), ('nb', nb_pipe)],\n",
    "    voting='soft'\n",
    ")\n",
    "\n",
    "# Define the hyperparameters to tune for the logistic regression model\n",
    "logreg_params = {\n",
    "    'clf__C': [0.1, 1, 10],\n",
    "    'clf__penalty': ['l1', 'l2']\n",
    "}\n",
    "\n",
    "# Define the hyperparameters to tune for the Naive Bayes model\n",
    "nb_params = {\n",
    "    'clf__alpha': [0.1, 1, 10],\n",
    "}\n",
    "\n",
    "# Perform grid search to find the best hyperparameters for each model\n",
    "logreg_grid = GridSearchCV(logreg_pipe, logreg_params, cv=5)\n",
    "logreg_grid.fit(X_train, y_train)\n",
    "\n",
    "nb_grid = GridSearchCV(nb_pipe, nb_params, cv=5)\n",
    "nb_grid.fit(X_train, y_train)\n",
    "\n",
    "# Fit the ensemble model using the best models from grid search\n",
    "ensemble.estimators_ = [\n",
    "    ('logreg', logreg_grid.best_estimator_),\n",
    "    ('nb', nb_grid.best_estimator_)\n",
    "]\n",
    "ensemble.fit(X_train, y_train)\n",
    "\n",
    "# Make predictions on the test set and evaluate the model\n"
   ]
  },
  {
   "cell_type": "code",
   "execution_count": 14,
   "id": "a650733f",
   "metadata": {},
   "outputs": [],
   "source": [
    "\n",
    "\n",
    "# Save the trained model to a file\n",
    "filename = 'ensemble_model.sav'\n",
    "#pickle.dump(ensemble, open(filename, 'wb'))\n",
    "\n",
    "# Load the saved model from a file\n",
    "loaded_model = pickle.load(open(filename, 'rb'))"
   ]
  },
  {
   "cell_type": "code",
   "execution_count": 42,
   "id": "6d76b561",
   "metadata": {},
   "outputs": [
    {
     "name": "stdout",
     "output_type": "stream",
     "text": [
      "Accuracy: 0.8086482805583929\n"
     ]
    }
   ],
   "source": [
    "y_pred = loaded_model.predict(X_test)\n",
    "accuracy = accuracy_score(y_test, y_pred)\n",
    "print(\"Accuracy:\", accuracy)"
   ]
  },
  {
   "cell_type": "code",
   "execution_count": 15,
   "id": "c6d970d4",
   "metadata": {},
   "outputs": [
    {
     "ename": "NotFittedError",
     "evalue": "The TF-IDF vectorizer is not fitted",
     "output_type": "error",
     "traceback": [
      "\u001b[1;31m---------------------------------------------------------------------------\u001b[0m",
      "\u001b[1;31mNotFittedError\u001b[0m                            Traceback (most recent call last)",
      "Input \u001b[1;32mIn [15]\u001b[0m, in \u001b[0;36m<cell line: 7>\u001b[1;34m()\u001b[0m\n\u001b[0;32m      4\u001b[0m daytime \u001b[38;5;241m=\u001b[39m \u001b[38;5;241m3\u001b[39m \u001b[38;5;66;03m# 0 - Morning 1 - Afternoon 2 - Noon 3 - Night\u001b[39;00m\n\u001b[0;32m      6\u001b[0m \u001b[38;5;66;03m# Extract features using TF-IDF\u001b[39;00m\n\u001b[1;32m----> 7\u001b[0m new_title_features \u001b[38;5;241m=\u001b[39m \u001b[43mvectorizer\u001b[49m\u001b[38;5;241;43m.\u001b[39;49m\u001b[43mtransform\u001b[49m\u001b[43m(\u001b[49m\u001b[43m[\u001b[49m\u001b[43mnew_title\u001b[49m\u001b[43m]\u001b[49m\u001b[43m)\u001b[49m\n\u001b[0;32m      9\u001b[0m \u001b[38;5;66;03m# Select the top 1000 features based on chi-squared test\u001b[39;00m\n\u001b[0;32m     10\u001b[0m new_title_features \u001b[38;5;241m=\u001b[39m selector_title\u001b[38;5;241m.\u001b[39mtransform(new_title_features)\n",
      "File \u001b[1;32m~\\anaconda3\\lib\\site-packages\\sklearn\\feature_extraction\\text.py:2099\u001b[0m, in \u001b[0;36mTfidfVectorizer.transform\u001b[1;34m(self, raw_documents)\u001b[0m\n\u001b[0;32m   2083\u001b[0m \u001b[38;5;28;01mdef\u001b[39;00m \u001b[38;5;21mtransform\u001b[39m(\u001b[38;5;28mself\u001b[39m, raw_documents):\n\u001b[0;32m   2084\u001b[0m     \u001b[38;5;124;03m\"\"\"Transform documents to document-term matrix.\u001b[39;00m\n\u001b[0;32m   2085\u001b[0m \n\u001b[0;32m   2086\u001b[0m \u001b[38;5;124;03m    Uses the vocabulary and document frequencies (df) learned by fit (or\u001b[39;00m\n\u001b[1;32m   (...)\u001b[0m\n\u001b[0;32m   2097\u001b[0m \u001b[38;5;124;03m        Tf-idf-weighted document-term matrix.\u001b[39;00m\n\u001b[0;32m   2098\u001b[0m \u001b[38;5;124;03m    \"\"\"\u001b[39;00m\n\u001b[1;32m-> 2099\u001b[0m     \u001b[43mcheck_is_fitted\u001b[49m\u001b[43m(\u001b[49m\u001b[38;5;28;43mself\u001b[39;49m\u001b[43m,\u001b[49m\u001b[43m \u001b[49m\u001b[43mmsg\u001b[49m\u001b[38;5;241;43m=\u001b[39;49m\u001b[38;5;124;43m\"\u001b[39;49m\u001b[38;5;124;43mThe TF-IDF vectorizer is not fitted\u001b[39;49m\u001b[38;5;124;43m\"\u001b[39;49m\u001b[43m)\u001b[49m\n\u001b[0;32m   2101\u001b[0m     X \u001b[38;5;241m=\u001b[39m \u001b[38;5;28msuper\u001b[39m()\u001b[38;5;241m.\u001b[39mtransform(raw_documents)\n\u001b[0;32m   2102\u001b[0m     \u001b[38;5;28;01mreturn\u001b[39;00m \u001b[38;5;28mself\u001b[39m\u001b[38;5;241m.\u001b[39m_tfidf\u001b[38;5;241m.\u001b[39mtransform(X, copy\u001b[38;5;241m=\u001b[39m\u001b[38;5;28;01mFalse\u001b[39;00m)\n",
      "File \u001b[1;32m~\\anaconda3\\lib\\site-packages\\sklearn\\utils\\validation.py:1222\u001b[0m, in \u001b[0;36mcheck_is_fitted\u001b[1;34m(estimator, attributes, msg, all_or_any)\u001b[0m\n\u001b[0;32m   1217\u001b[0m     fitted \u001b[38;5;241m=\u001b[39m [\n\u001b[0;32m   1218\u001b[0m         v \u001b[38;5;28;01mfor\u001b[39;00m v \u001b[38;5;129;01min\u001b[39;00m \u001b[38;5;28mvars\u001b[39m(estimator) \u001b[38;5;28;01mif\u001b[39;00m v\u001b[38;5;241m.\u001b[39mendswith(\u001b[38;5;124m\"\u001b[39m\u001b[38;5;124m_\u001b[39m\u001b[38;5;124m\"\u001b[39m) \u001b[38;5;129;01mand\u001b[39;00m \u001b[38;5;129;01mnot\u001b[39;00m v\u001b[38;5;241m.\u001b[39mstartswith(\u001b[38;5;124m\"\u001b[39m\u001b[38;5;124m__\u001b[39m\u001b[38;5;124m\"\u001b[39m)\n\u001b[0;32m   1219\u001b[0m     ]\n\u001b[0;32m   1221\u001b[0m \u001b[38;5;28;01mif\u001b[39;00m \u001b[38;5;129;01mnot\u001b[39;00m fitted:\n\u001b[1;32m-> 1222\u001b[0m     \u001b[38;5;28;01mraise\u001b[39;00m NotFittedError(msg \u001b[38;5;241m%\u001b[39m {\u001b[38;5;124m\"\u001b[39m\u001b[38;5;124mname\u001b[39m\u001b[38;5;124m\"\u001b[39m: \u001b[38;5;28mtype\u001b[39m(estimator)\u001b[38;5;241m.\u001b[39m\u001b[38;5;18m__name__\u001b[39m})\n",
      "\u001b[1;31mNotFittedError\u001b[0m: The TF-IDF vectorizer is not fitted"
     ]
    }
   ],
   "source": [
    "new_title = \"This is Goodbye\"\n",
    "new_category_id = 10 \n",
    "days_uploading = 4 # 0 - Sunday ,..., 6- Saturday\n",
    "daytime = 3 # 0 - Morning 1 - Afternoon 2 - Noon 3 - Night\n",
    "\n",
    "# Extract features using TF-IDF\n",
    "new_title_features = vectorizer.transform([new_title])\n",
    "\n",
    "# Select the top 1000 features based on chi-squared test\n",
    "new_title_features = selector_title.transform(new_title_features)\n",
    "\n",
    "# Combine the features into a numpy array\n",
    "new_features = np.concatenate((new_title_features.toarray(), [[new_category_id,days_uploading,daytime ]]), axis=1)\n",
    "\n",
    "# Make a prediction on the new data point\n",
    "loaded_model.predict_proba(new_features)"
   ]
  },
  {
   "cell_type": "code",
   "execution_count": 130,
   "id": "4b19b248",
   "metadata": {},
   "outputs": [
    {
     "data": {
      "text/plain": [
       "Index(['title', 'categoryId', 'tags', 'views', 'likes', 'comments',\n",
       "       'dayOfWeek', 'daytime', 'trendingOrNot', 'title_length', 'clean_title',\n",
       "       'clean_title_str'],\n",
       "      dtype='object')"
      ]
     },
     "execution_count": 130,
     "metadata": {},
     "output_type": "execute_result"
    }
   ],
   "source": [
    "df.columns"
   ]
  },
  {
   "cell_type": "code",
   "execution_count": 10,
   "id": "3a66260e",
   "metadata": {},
   "outputs": [
    {
     "data": {
      "image/png": "[encoded data removed]",
      "text/plain": [
       "<Figure size 432x288 with 1 Axes>"
      ]
     },
     "metadata": {},
     "output_type": "display_data"
    }
   ],
   "source": [
    "sns.countplot(x='trendingOrNot',data=df,palette='hls')\n",
    "plt.show()"
   ]
  },
  {
   "cell_type": "code",
   "execution_count": 11,
   "id": "ba7fdeab",
   "metadata": {},
   "outputs": [
    {
     "name": "stdout",
     "output_type": "stream",
     "text": [
      "percentage of trend is 28.266586841711387\n",
      "percentage of no trend 71.73341315828861\n"
     ]
    }
   ],
   "source": [
    "trend = len(df[df['trendingOrNot']==1])\n",
    "noTrend = len(df[df['trendingOrNot']==0])\n",
    "pctOfTrend = trend/(trend+noTrend)\n",
    "print(\"percentage of trend is\", pctOfTrend*100)\n",
    "pctOfNoTrend = 100 - pctOfTrend*100\n",
    "print(\"percentage of no trend\", pctOfNoTrend)"
   ]
  },
  {
   "cell_type": "code",
   "execution_count": 88,
   "id": "4e13283d",
   "metadata": {},
   "outputs": [
    {
     "name": "stdout",
     "output_type": "stream",
     "text": [
      "Accuracy: 0.8249428474147575\n"
     ]
    }
   ],
   "source": [
    "from sklearn.ensemble import RandomForestClassifier\n",
    "from sklearn.metrics import accuracy_score\n",
    "\n",
    "rfc = RandomForestClassifier()\n",
    "rfc.fit(X_train_counts, y_train)\n",
    "y_pred = rfc.predict(X_test_counts)\n",
    "print(\"Accuracy:\", accuracy_score(y_test, y_pred))"
   ]
  },
  {
   "cell_type": "code",
   "execution_count": 89,
   "id": "ad1a4707",
   "metadata": {},
   "outputs": [
    {
     "data": {
      "text/plain": [
       "array([0, 1, 0, ..., 0, 0, 0], dtype=int64)"
      ]
     },
     "execution_count": 89,
     "metadata": {},
     "output_type": "execute_result"
    }
   ],
   "source": [
    "rfc.predict(X_test_counts)"
   ]
  },
  {
   "cell_type": "code",
   "execution_count": 18,
   "id": "d33ad4ce",
   "metadata": {},
   "outputs": [
    {
     "data": {
      "text/plain": [
       "Index(['title', 'categoryId', 'tags', 'views', 'likes', 'comments',\n",
       "       'dayOfWeek', 'daytime', 'duration', 'trendingOrNot', 'title_length'],\n",
       "      dtype='object')"
      ]
     },
     "execution_count": 18,
     "metadata": {},
     "output_type": "execute_result"
    }
   ],
   "source": [
    "df.columns"
   ]
  },
  {
   "cell_type": "code",
   "execution_count": 20,
   "id": "2a720687",
   "metadata": {},
   "outputs": [],
   "source": [
    "test_df = df[['categoryId','dayOfWeek','daytime','title_length','duration','trendingOrNot']].copy()"
   ]
  },
  {
   "cell_type": "code",
   "execution_count": 23,
   "id": "e52bf3d0",
   "metadata": {},
   "outputs": [],
   "source": [
    "#SMOTE\n",
    "X = test_df.loc[:, test_df.columns != 'trendingOrNot']\n",
    "y = test_df.loc[:, test_df.columns == 'trendingOrNot']\n",
    "from imblearn.over_sampling import SMOTE\n",
    "from sklearn.model_selection import train_test_split\n",
    "os = SMOTE(random_state=0)\n",
    "X_train, X_test, y_train, y_test = train_test_split(X, y, test_size=0.3, random_state=0)\n",
    "# columns = X_train.columns\n",
    "os_data_X,os_data_y=os.fit_resample(X_train, y_train)\n",
    "# os_data_X = pd.DataFrame(data=os_data_X,columns=columns )\n",
    "# os_data_y= pd.DataFrame(data=os_data_y,columns=['trendingOrNot'])\n",
    "# print(\"length of oversampled data is \",len(os_data_X))\n",
    "# print(\"Number of no trend  in oversampled data\",len(os_data_y[os_data_y['trendingOrNot']==0]))\n",
    "# print(\"Number of trend \",len(os_data_y[os_data_y['trendingOrNot']==1]))\n",
    "# print(\"Proportion of no subscription data in oversampled data is \",len(os_data_y[os_data_y['trendingOrNot']==0])/len(os_data_X))\n",
    "# print(\"Proportion of subscription data in oversampled data is \",len(os_data_y[os_data_y['trendingOrNot']==1])/len(os_data_X))"
   ]
  },
  {
   "cell_type": "code",
   "execution_count": 186,
   "id": "be3dda80",
   "metadata": {},
   "outputs": [
    {
     "data": {
      "text/plain": [
       "array(['views', 'likes', 'comments', 'trendingOrNot'], dtype=object)"
      ]
     },
     "execution_count": 186,
     "metadata": {},
     "output_type": "execute_result"
    }
   ],
   "source": [
    "test_df.columns.values"
   ]
  },
  {
   "cell_type": "markdown",
   "id": "fda47351",
   "metadata": {},
   "source": [
    "# Data Balancing"
   ]
  },
  {
   "cell_type": "code",
   "execution_count": 122,
   "id": "3e45aa82",
   "metadata": {},
   "outputs": [
    {
     "data": {
      "image/png": "[encoded data removed]",
      "text/plain": [
       "<Figure size 432x288 with 1 Axes>"
      ]
     },
     "metadata": {},
     "output_type": "display_data"
    }
   ],
   "source": [
    "from imblearn.under_sampling import RandomUnderSampler\n",
    "X = merged_df[['views']]\n",
    "y = merged_df.trendingOrNot\n",
    "rus = RandomUnderSampler(sampling_strategy=1)\n",
    "X_res,y_res = rus.fit_resample(X,y)\n",
    "\n",
    "ax = y_res.value_counts().plot.pie(autopct='%.2f')\n"
   ]
  },
  {
   "cell_type": "code",
   "execution_count": 123,
   "id": "9766cf9e",
   "metadata": {},
   "outputs": [
    {
     "data": {
      "text/plain": [
       "0    26184\n",
       "1    26184\n",
       "Name: trendingOrNot, dtype: int64"
      ]
     },
     "execution_count": 123,
     "metadata": {},
     "output_type": "execute_result"
    }
   ],
   "source": [
    "y_res.value_counts()"
   ]
  },
  {
   "cell_type": "markdown",
   "id": "8bca4506",
   "metadata": {},
   "source": [
    "# Feature Engineer"
   ]
  },
  {
   "cell_type": "code",
   "execution_count": 61,
   "id": "3a2f41e1",
   "metadata": {},
   "outputs": [],
   "source": [
    "import string\n",
    "def remove_punc(text):\n",
    "    text = text.replace('|',' ')\n",
    "    text = \"\".join([chart for chart in text if chart not in string.punctuation])\n",
    "\n",
    "    return text\n",
    "\n",
    "merged_df['tags_clean'] = merged_df['tags'].apply(lambda x: remove_punc(x))"
   ]
  },
  {
   "cell_type": "code",
   "execution_count": 63,
   "id": "91da3a39",
   "metadata": {},
   "outputs": [],
   "source": [
    "import re\n",
    "def tokenizer(text):\n",
    "    tokens = re.split('\\W+',text)\n",
    "    return tokens\n",
    "\n",
    "df['tokens'] = df['tags_clean'].apply(lambda x: tokenizer(x.lower()))"
   ]
  },
  {
   "cell_type": "code",
   "execution_count": 65,
   "id": "a6f928b2",
   "metadata": {
    "scrolled": false
   },
   "outputs": [
    {
     "name": "stderr",
     "output_type": "stream",
     "text": [
      "[nltk_data] Downloading package stopwords to\n",
      "[nltk_data]     C:\\Users\\LEGION\\AppData\\Roaming\\nltk_data...\n",
      "[nltk_data]   Package stopwords is already up-to-date!\n"
     ]
    }
   ],
   "source": [
    "import nltk\n",
    "from collections import Counter\n",
    "nltk.download('stopwords')\n",
    "stopwords_en = nltk.corpus.stopwords.words('english')\n",
    "stopwords_sp = nltk.corpus.stopwords.words('spanish')\n",
    "\n",
    "stopwords = stopwords_en + stopwords_sp"
   ]
  },
  {
   "cell_type": "code",
   "execution_count": 67,
   "id": "18bd91e6",
   "metadata": {},
   "outputs": [],
   "source": [
    "def remove_stopwords(tokens):\n",
    "    tokens = [token for token in tokens if token not in stopwords]\n",
    "    return tokens\n",
    "\n",
    "df['tokens'] = df['tokens'].apply(lambda x: remove_stopwords(x))"
   ]
  },
  {
   "cell_type": "code",
   "execution_count": 68,
   "id": "5b887f13",
   "metadata": {},
   "outputs": [],
   "source": [
    "def remove_numb(tokens):\n",
    "    tokens = [token for token in tokens if token.isalpha()]\n",
    "    return tokens\n",
    "\n",
    "df['tokens'] = df['tokens'].apply(lambda x: remove_numb(x))"
   ]
  },
  {
   "cell_type": "code",
   "execution_count": 69,
   "id": "6d19e58c",
   "metadata": {},
   "outputs": [
    {
     "data": {
      "text/html": [
       "<div>\n",
       "<style scoped>\n",
       "    .dataframe tbody tr th:only-of-type {\n",
       "        vertical-align: middle;\n",
       "    }\n",
       "\n",
       "    .dataframe tbody tr th {\n",
       "        vertical-align: top;\n",
       "    }\n",
       "\n",
       "    .dataframe thead th {\n",
       "        text-align: right;\n",
       "    }\n",
       "</style>\n",
       "<table border=\"1\" class=\"dataframe\">\n",
       "  <thead>\n",
       "    <tr style=\"text-align: right;\">\n",
       "      <th></th>\n",
       "      <th>categoryId</th>\n",
       "      <th>category_name</th>\n",
       "      <th>video_id</th>\n",
       "      <th>title</th>\n",
       "      <th>publishedAt</th>\n",
       "      <th>channelId</th>\n",
       "      <th>channelTitle</th>\n",
       "      <th>trending_date</th>\n",
       "      <th>tags</th>\n",
       "      <th>view_count</th>\n",
       "      <th>...</th>\n",
       "      <th>thumbnail_link</th>\n",
       "      <th>comments_disabled</th>\n",
       "      <th>ratings_disabled</th>\n",
       "      <th>description</th>\n",
       "      <th>count_max_view</th>\n",
       "      <th>month</th>\n",
       "      <th>untilTrend</th>\n",
       "      <th>hourUntilTrend</th>\n",
       "      <th>tags_clean</th>\n",
       "      <th>tokens</th>\n",
       "    </tr>\n",
       "  </thead>\n",
       "  <tbody>\n",
       "    <tr>\n",
       "      <th>0</th>\n",
       "      <td>1</td>\n",
       "      <td>Autos &amp; Vehicles</td>\n",
       "      <td>5WjcDji3xYc</td>\n",
       "      <td>Honest Trailers | Avatar: The Last Airbender</td>\n",
       "      <td>2020-08-11T17:03:59Z</td>\n",
       "      <td>UCOpcACMWblDls9Z6GERVi1A</td>\n",
       "      <td>Screen Junkies</td>\n",
       "      <td>2020-08-12T00:00:00Z</td>\n",
       "      <td>screenjunkies|screen junkies|honest trailers|h...</td>\n",
       "      <td>833369</td>\n",
       "      <td>...</td>\n",
       "      <td>https://i.ytimg.com/vi/5WjcDji3xYc/default.jpg</td>\n",
       "      <td>False</td>\n",
       "      <td>False</td>\n",
       "      <td>►►Subscribe to ScreenJunkies!► https://fandom....</td>\n",
       "      <td>1457675</td>\n",
       "      <td>8</td>\n",
       "      <td>0</td>\n",
       "      <td>17</td>\n",
       "      <td>screenjunkies screen junkies honest trailers h...</td>\n",
       "      <td>[screenjunkies, screen, junkies, honest, trail...</td>\n",
       "    </tr>\n",
       "    <tr>\n",
       "      <th>1</th>\n",
       "      <td>1</td>\n",
       "      <td>Autos &amp; Vehicles</td>\n",
       "      <td>z5l8ovbw_6M</td>\n",
       "      <td>Don't be a Tourist</td>\n",
       "      <td>2020-08-10T21:28:49Z</td>\n",
       "      <td>UCDQBZcjYKP1J1Nu-Y0_D37Q</td>\n",
       "      <td>Tabbes</td>\n",
       "      <td>2020-08-12T00:00:00Z</td>\n",
       "      <td>drawing|humor|storytime animation|story|slice ...</td>\n",
       "      <td>1061892</td>\n",
       "      <td>...</td>\n",
       "      <td>https://i.ytimg.com/vi/z5l8ovbw_6M/default.jpg</td>\n",
       "      <td>False</td>\n",
       "      <td>False</td>\n",
       "      <td>This one is for all you full time travelersEMA...</td>\n",
       "      <td>1480119</td>\n",
       "      <td>8</td>\n",
       "      <td>1</td>\n",
       "      <td>21</td>\n",
       "      <td>drawing humor storytime animation story slice ...</td>\n",
       "      <td>[drawing, humor, storytime, animation, story, ...</td>\n",
       "    </tr>\n",
       "    <tr>\n",
       "      <th>2</th>\n",
       "      <td>1</td>\n",
       "      <td>Autos &amp; Vehicles</td>\n",
       "      <td>yVdH3QacEXc</td>\n",
       "      <td>Selena Gomez - This is the Year (Official Prem...</td>\n",
       "      <td>2020-08-10T16:32:06Z</td>\n",
       "      <td>UCPNxhDvTcytIdvwXWAm43cA</td>\n",
       "      <td>Selena Gomez</td>\n",
       "      <td>2020-08-12T00:00:00Z</td>\n",
       "      <td>Selena Gomez|David Henrie|Dixie D’Amelio|Charl...</td>\n",
       "      <td>1523818</td>\n",
       "      <td>...</td>\n",
       "      <td>https://i.ytimg.com/vi/yVdH3QacEXc/default.jpg</td>\n",
       "      <td>False</td>\n",
       "      <td>False</td>\n",
       "      <td>Get your tickets here: https://thisistheyear.f...</td>\n",
       "      <td>2081043</td>\n",
       "      <td>8</td>\n",
       "      <td>1</td>\n",
       "      <td>16</td>\n",
       "      <td>Selena Gomez David Henrie Dixie D’Amelio Charl...</td>\n",
       "      <td>[selena, gomez, david, henrie, dixie, amelio, ...</td>\n",
       "    </tr>\n",
       "    <tr>\n",
       "      <th>3</th>\n",
       "      <td>1</td>\n",
       "      <td>Autos &amp; Vehicles</td>\n",
       "      <td>A5RHu1lTv14</td>\n",
       "      <td>Satina Wants a Bedtime Story (SATINA SHORT #1)</td>\n",
       "      <td>2020-08-08T16:00:04Z</td>\n",
       "      <td>UC1fjSSxPEEHb7WqAdd6xChQ</td>\n",
       "      <td>Hannah Daigle</td>\n",
       "      <td>2020-08-12T00:00:00Z</td>\n",
       "      <td>[None]</td>\n",
       "      <td>605317</td>\n",
       "      <td>...</td>\n",
       "      <td>https://i.ytimg.com/vi/A5RHu1lTv14/default.jpg</td>\n",
       "      <td>False</td>\n",
       "      <td>False</td>\n",
       "      <td>MERCH STORE: https://sharkrobot.com/collection...</td>\n",
       "      <td>773068</td>\n",
       "      <td>8</td>\n",
       "      <td>3</td>\n",
       "      <td>16</td>\n",
       "      <td>None</td>\n",
       "      <td>[none]</td>\n",
       "    </tr>\n",
       "    <tr>\n",
       "      <th>4</th>\n",
       "      <td>1</td>\n",
       "      <td>Autos &amp; Vehicles</td>\n",
       "      <td>PORP0q8nThs</td>\n",
       "      <td>Getting Suspended In High School</td>\n",
       "      <td>2020-08-07T20:52:37Z</td>\n",
       "      <td>UCRfg0SWjIHm_h95e4V8X5og</td>\n",
       "      <td>Young Don The Sauce God</td>\n",
       "      <td>2020-08-12T00:00:00Z</td>\n",
       "      <td>young don the sauce god|animations|animated|st...</td>\n",
       "      <td>741546</td>\n",
       "      <td>...</td>\n",
       "      <td>https://i.ytimg.com/vi/PORP0q8nThs/default.jpg</td>\n",
       "      <td>False</td>\n",
       "      <td>False</td>\n",
       "      <td>No Risk. No Reward. Getting Suspended In High ...</td>\n",
       "      <td>786231</td>\n",
       "      <td>8</td>\n",
       "      <td>4</td>\n",
       "      <td>20</td>\n",
       "      <td>young don the sauce god animations animated st...</td>\n",
       "      <td>[young, sauce, god, animations, animated, stor...</td>\n",
       "    </tr>\n",
       "  </tbody>\n",
       "</table>\n",
       "<p>5 rows × 23 columns</p>\n",
       "</div>"
      ],
      "text/plain": [
       "   categoryId     category_name     video_id  \\\n",
       "0           1  Autos & Vehicles  5WjcDji3xYc   \n",
       "1           1  Autos & Vehicles  z5l8ovbw_6M   \n",
       "2           1  Autos & Vehicles  yVdH3QacEXc   \n",
       "3           1  Autos & Vehicles  A5RHu1lTv14   \n",
       "4           1  Autos & Vehicles  PORP0q8nThs   \n",
       "\n",
       "                                               title           publishedAt  \\\n",
       "0       Honest Trailers | Avatar: The Last Airbender  2020-08-11T17:03:59Z   \n",
       "1                                 Don't be a Tourist  2020-08-10T21:28:49Z   \n",
       "2  Selena Gomez - This is the Year (Official Prem...  2020-08-10T16:32:06Z   \n",
       "3     Satina Wants a Bedtime Story (SATINA SHORT #1)  2020-08-08T16:00:04Z   \n",
       "4                   Getting Suspended In High School  2020-08-07T20:52:37Z   \n",
       "\n",
       "                  channelId             channelTitle         trending_date  \\\n",
       "0  UCOpcACMWblDls9Z6GERVi1A           Screen Junkies  2020-08-12T00:00:00Z   \n",
       "1  UCDQBZcjYKP1J1Nu-Y0_D37Q                   Tabbes  2020-08-12T00:00:00Z   \n",
       "2  UCPNxhDvTcytIdvwXWAm43cA             Selena Gomez  2020-08-12T00:00:00Z   \n",
       "3  UC1fjSSxPEEHb7WqAdd6xChQ            Hannah Daigle  2020-08-12T00:00:00Z   \n",
       "4  UCRfg0SWjIHm_h95e4V8X5og  Young Don The Sauce God  2020-08-12T00:00:00Z   \n",
       "\n",
       "                                                tags  view_count  ...  \\\n",
       "0  screenjunkies|screen junkies|honest trailers|h...      833369  ...   \n",
       "1  drawing|humor|storytime animation|story|slice ...     1061892  ...   \n",
       "2  Selena Gomez|David Henrie|Dixie D’Amelio|Charl...     1523818  ...   \n",
       "3                                             [None]      605317  ...   \n",
       "4  young don the sauce god|animations|animated|st...      741546  ...   \n",
       "\n",
       "                                   thumbnail_link  comments_disabled  \\\n",
       "0  https://i.ytimg.com/vi/5WjcDji3xYc/default.jpg              False   \n",
       "1  https://i.ytimg.com/vi/z5l8ovbw_6M/default.jpg              False   \n",
       "2  https://i.ytimg.com/vi/yVdH3QacEXc/default.jpg              False   \n",
       "3  https://i.ytimg.com/vi/A5RHu1lTv14/default.jpg              False   \n",
       "4  https://i.ytimg.com/vi/PORP0q8nThs/default.jpg              False   \n",
       "\n",
       "   ratings_disabled                                        description  \\\n",
       "0             False  ►►Subscribe to ScreenJunkies!► https://fandom....   \n",
       "1             False  This one is for all you full time travelersEMA...   \n",
       "2             False  Get your tickets here: https://thisistheyear.f...   \n",
       "3             False  MERCH STORE: https://sharkrobot.com/collection...   \n",
       "4             False  No Risk. No Reward. Getting Suspended In High ...   \n",
       "\n",
       "   count_max_view  month untilTrend  hourUntilTrend  \\\n",
       "0         1457675      8          0              17   \n",
       "1         1480119      8          1              21   \n",
       "2         2081043      8          1              16   \n",
       "3          773068      8          3              16   \n",
       "4          786231      8          4              20   \n",
       "\n",
       "                                          tags_clean  \\\n",
       "0  screenjunkies screen junkies honest trailers h...   \n",
       "1  drawing humor storytime animation story slice ...   \n",
       "2  Selena Gomez David Henrie Dixie D’Amelio Charl...   \n",
       "3                                               None   \n",
       "4  young don the sauce god animations animated st...   \n",
       "\n",
       "                                              tokens  \n",
       "0  [screenjunkies, screen, junkies, honest, trail...  \n",
       "1  [drawing, humor, storytime, animation, story, ...  \n",
       "2  [selena, gomez, david, henrie, dixie, amelio, ...  \n",
       "3                                             [none]  \n",
       "4  [young, sauce, god, animations, animated, stor...  \n",
       "\n",
       "[5 rows x 23 columns]"
      ]
     },
     "execution_count": 69,
     "metadata": {},
     "output_type": "execute_result"
    }
   ],
   "source": [
    "df.head()"
   ]
  },
  {
   "cell_type": "code",
   "execution_count": 71,
   "id": "cc7a03a1",
   "metadata": {},
   "outputs": [],
   "source": [
    "unique_videos = df[['title','video_id']].drop_duplicates()\n",
    "\n",
    "c = Counter()\n",
    "def counter(text):\n",
    "      c.update(text)\n",
    "df.loc[unique_videos.index,'tokens'].apply(lambda x: counter(x))\n",
    "\n",
    "common_words_1 = [word[0] for word in c.most_common()[:300]]\n",
    "mono_words = list()\n",
    "for word in common_words_1:\n",
    "    if len(word)==1:\n",
    "        mono_words.append(word)\n",
    "\n",
    "for word in mono_words:\n",
    "    common_words_1.remove(word)"
   ]
  },
  {
   "cell_type": "code",
   "execution_count": 72,
   "id": "3fa7120c",
   "metadata": {},
   "outputs": [
    {
     "name": "stderr",
     "output_type": "stream",
     "text": [
      "C:\\Users\\LEGION\\AppData\\Local\\Temp\\ipykernel_3228\\1788549698.py:2: PerformanceWarning: DataFrame is highly fragmented.  This is usually the result of calling `frame.insert` many times, which has poor performance.  Consider joining all columns at once using pd.concat(axis=1) instead. To get a de-fragmented frame, use `newframe = frame.copy()`\n",
      "  df[word] = df['tokens'].apply(lambda x: x.count(word))\n",
      "C:\\Users\\LEGION\\AppData\\Local\\Temp\\ipykernel_3228\\1788549698.py:2: PerformanceWarning: DataFrame is highly fragmented.  This is usually the result of calling `frame.insert` many times, which has poor performance.  Consider joining all columns at once using pd.concat(axis=1) instead. To get a de-fragmented frame, use `newframe = frame.copy()`\n",
      "  df[word] = df['tokens'].apply(lambda x: x.count(word))\n",
      "C:\\Users\\LEGION\\AppData\\Local\\Temp\\ipykernel_3228\\1788549698.py:2: PerformanceWarning: DataFrame is highly fragmented.  This is usually the result of calling `frame.insert` many times, which has poor performance.  Consider joining all columns at once using pd.concat(axis=1) instead. To get a de-fragmented frame, use `newframe = frame.copy()`\n",
      "  df[word] = df['tokens'].apply(lambda x: x.count(word))\n",
      "C:\\Users\\LEGION\\AppData\\Local\\Temp\\ipykernel_3228\\1788549698.py:2: PerformanceWarning: DataFrame is highly fragmented.  This is usually the result of calling `frame.insert` many times, which has poor performance.  Consider joining all columns at once using pd.concat(axis=1) instead. To get a de-fragmented frame, use `newframe = frame.copy()`\n",
      "  df[word] = df['tokens'].apply(lambda x: x.count(word))\n",
      "C:\\Users\\LEGION\\AppData\\Local\\Temp\\ipykernel_3228\\1788549698.py:2: PerformanceWarning: DataFrame is highly fragmented.  This is usually the result of calling `frame.insert` many times, which has poor performance.  Consider joining all columns at once using pd.concat(axis=1) instead. To get a de-fragmented frame, use `newframe = frame.copy()`\n",
      "  df[word] = df['tokens'].apply(lambda x: x.count(word))\n",
      "C:\\Users\\LEGION\\AppData\\Local\\Temp\\ipykernel_3228\\1788549698.py:2: PerformanceWarning: DataFrame is highly fragmented.  This is usually the result of calling `frame.insert` many times, which has poor performance.  Consider joining all columns at once using pd.concat(axis=1) instead. To get a de-fragmented frame, use `newframe = frame.copy()`\n",
      "  df[word] = df['tokens'].apply(lambda x: x.count(word))\n",
      "C:\\Users\\LEGION\\AppData\\Local\\Temp\\ipykernel_3228\\1788549698.py:2: PerformanceWarning: DataFrame is highly fragmented.  This is usually the result of calling `frame.insert` many times, which has poor performance.  Consider joining all columns at once using pd.concat(axis=1) instead. To get a de-fragmented frame, use `newframe = frame.copy()`\n",
      "  df[word] = df['tokens'].apply(lambda x: x.count(word))\n",
      "C:\\Users\\LEGION\\AppData\\Local\\Temp\\ipykernel_3228\\1788549698.py:2: PerformanceWarning: DataFrame is highly fragmented.  This is usually the result of calling `frame.insert` many times, which has poor performance.  Consider joining all columns at once using pd.concat(axis=1) instead. To get a de-fragmented frame, use `newframe = frame.copy()`\n",
      "  df[word] = df['tokens'].apply(lambda x: x.count(word))\n",
      "C:\\Users\\LEGION\\AppData\\Local\\Temp\\ipykernel_3228\\1788549698.py:2: PerformanceWarning: DataFrame is highly fragmented.  This is usually the result of calling `frame.insert` many times, which has poor performance.  Consider joining all columns at once using pd.concat(axis=1) instead. To get a de-fragmented frame, use `newframe = frame.copy()`\n",
      "  df[word] = df['tokens'].apply(lambda x: x.count(word))\n",
      "C:\\Users\\LEGION\\AppData\\Local\\Temp\\ipykernel_3228\\1788549698.py:2: PerformanceWarning: DataFrame is highly fragmented.  This is usually the result of calling `frame.insert` many times, which has poor performance.  Consider joining all columns at once using pd.concat(axis=1) instead. To get a de-fragmented frame, use `newframe = frame.copy()`\n",
      "  df[word] = df['tokens'].apply(lambda x: x.count(word))\n",
      "C:\\Users\\LEGION\\AppData\\Local\\Temp\\ipykernel_3228\\1788549698.py:2: PerformanceWarning: DataFrame is highly fragmented.  This is usually the result of calling `frame.insert` many times, which has poor performance.  Consider joining all columns at once using pd.concat(axis=1) instead. To get a de-fragmented frame, use `newframe = frame.copy()`\n",
      "  df[word] = df['tokens'].apply(lambda x: x.count(word))\n",
      "C:\\Users\\LEGION\\AppData\\Local\\Temp\\ipykernel_3228\\1788549698.py:2: PerformanceWarning: DataFrame is highly fragmented.  This is usually the result of calling `frame.insert` many times, which has poor performance.  Consider joining all columns at once using pd.concat(axis=1) instead. To get a de-fragmented frame, use `newframe = frame.copy()`\n",
      "  df[word] = df['tokens'].apply(lambda x: x.count(word))\n",
      "C:\\Users\\LEGION\\AppData\\Local\\Temp\\ipykernel_3228\\1788549698.py:2: PerformanceWarning: DataFrame is highly fragmented.  This is usually the result of calling `frame.insert` many times, which has poor performance.  Consider joining all columns at once using pd.concat(axis=1) instead. To get a de-fragmented frame, use `newframe = frame.copy()`\n",
      "  df[word] = df['tokens'].apply(lambda x: x.count(word))\n",
      "C:\\Users\\LEGION\\AppData\\Local\\Temp\\ipykernel_3228\\1788549698.py:2: PerformanceWarning: DataFrame is highly fragmented.  This is usually the result of calling `frame.insert` many times, which has poor performance.  Consider joining all columns at once using pd.concat(axis=1) instead. To get a de-fragmented frame, use `newframe = frame.copy()`\n",
      "  df[word] = df['tokens'].apply(lambda x: x.count(word))\n",
      "C:\\Users\\LEGION\\AppData\\Local\\Temp\\ipykernel_3228\\1788549698.py:2: PerformanceWarning: DataFrame is highly fragmented.  This is usually the result of calling `frame.insert` many times, which has poor performance.  Consider joining all columns at once using pd.concat(axis=1) instead. To get a de-fragmented frame, use `newframe = frame.copy()`\n",
      "  df[word] = df['tokens'].apply(lambda x: x.count(word))\n",
      "C:\\Users\\LEGION\\AppData\\Local\\Temp\\ipykernel_3228\\1788549698.py:2: PerformanceWarning: DataFrame is highly fragmented.  This is usually the result of calling `frame.insert` many times, which has poor performance.  Consider joining all columns at once using pd.concat(axis=1) instead. To get a de-fragmented frame, use `newframe = frame.copy()`\n",
      "  df[word] = df['tokens'].apply(lambda x: x.count(word))\n",
      "C:\\Users\\LEGION\\AppData\\Local\\Temp\\ipykernel_3228\\1788549698.py:2: PerformanceWarning: DataFrame is highly fragmented.  This is usually the result of calling `frame.insert` many times, which has poor performance.  Consider joining all columns at once using pd.concat(axis=1) instead. To get a de-fragmented frame, use `newframe = frame.copy()`\n",
      "  df[word] = df['tokens'].apply(lambda x: x.count(word))\n",
      "C:\\Users\\LEGION\\AppData\\Local\\Temp\\ipykernel_3228\\1788549698.py:2: PerformanceWarning: DataFrame is highly fragmented.  This is usually the result of calling `frame.insert` many times, which has poor performance.  Consider joining all columns at once using pd.concat(axis=1) instead. To get a de-fragmented frame, use `newframe = frame.copy()`\n",
      "  df[word] = df['tokens'].apply(lambda x: x.count(word))\n",
      "C:\\Users\\LEGION\\AppData\\Local\\Temp\\ipykernel_3228\\1788549698.py:2: PerformanceWarning: DataFrame is highly fragmented.  This is usually the result of calling `frame.insert` many times, which has poor performance.  Consider joining all columns at once using pd.concat(axis=1) instead. To get a de-fragmented frame, use `newframe = frame.copy()`\n",
      "  df[word] = df['tokens'].apply(lambda x: x.count(word))\n",
      "C:\\Users\\LEGION\\AppData\\Local\\Temp\\ipykernel_3228\\1788549698.py:2: PerformanceWarning: DataFrame is highly fragmented.  This is usually the result of calling `frame.insert` many times, which has poor performance.  Consider joining all columns at once using pd.concat(axis=1) instead. To get a de-fragmented frame, use `newframe = frame.copy()`\n",
      "  df[word] = df['tokens'].apply(lambda x: x.count(word))\n",
      "C:\\Users\\LEGION\\AppData\\Local\\Temp\\ipykernel_3228\\1788549698.py:2: PerformanceWarning: DataFrame is highly fragmented.  This is usually the result of calling `frame.insert` many times, which has poor performance.  Consider joining all columns at once using pd.concat(axis=1) instead. To get a de-fragmented frame, use `newframe = frame.copy()`\n",
      "  df[word] = df['tokens'].apply(lambda x: x.count(word))\n",
      "C:\\Users\\LEGION\\AppData\\Local\\Temp\\ipykernel_3228\\1788549698.py:2: PerformanceWarning: DataFrame is highly fragmented.  This is usually the result of calling `frame.insert` many times, which has poor performance.  Consider joining all columns at once using pd.concat(axis=1) instead. To get a de-fragmented frame, use `newframe = frame.copy()`\n",
      "  df[word] = df['tokens'].apply(lambda x: x.count(word))\n"
     ]
    },
    {
     "name": "stderr",
     "output_type": "stream",
     "text": [
      "C:\\Users\\LEGION\\AppData\\Local\\Temp\\ipykernel_3228\\1788549698.py:2: PerformanceWarning: DataFrame is highly fragmented.  This is usually the result of calling `frame.insert` many times, which has poor performance.  Consider joining all columns at once using pd.concat(axis=1) instead. To get a de-fragmented frame, use `newframe = frame.copy()`\n",
      "  df[word] = df['tokens'].apply(lambda x: x.count(word))\n",
      "C:\\Users\\LEGION\\AppData\\Local\\Temp\\ipykernel_3228\\1788549698.py:2: PerformanceWarning: DataFrame is highly fragmented.  This is usually the result of calling `frame.insert` many times, which has poor performance.  Consider joining all columns at once using pd.concat(axis=1) instead. To get a de-fragmented frame, use `newframe = frame.copy()`\n",
      "  df[word] = df['tokens'].apply(lambda x: x.count(word))\n",
      "C:\\Users\\LEGION\\AppData\\Local\\Temp\\ipykernel_3228\\1788549698.py:2: PerformanceWarning: DataFrame is highly fragmented.  This is usually the result of calling `frame.insert` many times, which has poor performance.  Consider joining all columns at once using pd.concat(axis=1) instead. To get a de-fragmented frame, use `newframe = frame.copy()`\n",
      "  df[word] = df['tokens'].apply(lambda x: x.count(word))\n",
      "C:\\Users\\LEGION\\AppData\\Local\\Temp\\ipykernel_3228\\1788549698.py:2: PerformanceWarning: DataFrame is highly fragmented.  This is usually the result of calling `frame.insert` many times, which has poor performance.  Consider joining all columns at once using pd.concat(axis=1) instead. To get a de-fragmented frame, use `newframe = frame.copy()`\n",
      "  df[word] = df['tokens'].apply(lambda x: x.count(word))\n",
      "C:\\Users\\LEGION\\AppData\\Local\\Temp\\ipykernel_3228\\1788549698.py:2: PerformanceWarning: DataFrame is highly fragmented.  This is usually the result of calling `frame.insert` many times, which has poor performance.  Consider joining all columns at once using pd.concat(axis=1) instead. To get a de-fragmented frame, use `newframe = frame.copy()`\n",
      "  df[word] = df['tokens'].apply(lambda x: x.count(word))\n",
      "C:\\Users\\LEGION\\AppData\\Local\\Temp\\ipykernel_3228\\1788549698.py:2: PerformanceWarning: DataFrame is highly fragmented.  This is usually the result of calling `frame.insert` many times, which has poor performance.  Consider joining all columns at once using pd.concat(axis=1) instead. To get a de-fragmented frame, use `newframe = frame.copy()`\n",
      "  df[word] = df['tokens'].apply(lambda x: x.count(word))\n",
      "C:\\Users\\LEGION\\AppData\\Local\\Temp\\ipykernel_3228\\1788549698.py:2: PerformanceWarning: DataFrame is highly fragmented.  This is usually the result of calling `frame.insert` many times, which has poor performance.  Consider joining all columns at once using pd.concat(axis=1) instead. To get a de-fragmented frame, use `newframe = frame.copy()`\n",
      "  df[word] = df['tokens'].apply(lambda x: x.count(word))\n",
      "C:\\Users\\LEGION\\AppData\\Local\\Temp\\ipykernel_3228\\1788549698.py:2: PerformanceWarning: DataFrame is highly fragmented.  This is usually the result of calling `frame.insert` many times, which has poor performance.  Consider joining all columns at once using pd.concat(axis=1) instead. To get a de-fragmented frame, use `newframe = frame.copy()`\n",
      "  df[word] = df['tokens'].apply(lambda x: x.count(word))\n",
      "C:\\Users\\LEGION\\AppData\\Local\\Temp\\ipykernel_3228\\1788549698.py:2: PerformanceWarning: DataFrame is highly fragmented.  This is usually the result of calling `frame.insert` many times, which has poor performance.  Consider joining all columns at once using pd.concat(axis=1) instead. To get a de-fragmented frame, use `newframe = frame.copy()`\n",
      "  df[word] = df['tokens'].apply(lambda x: x.count(word))\n",
      "C:\\Users\\LEGION\\AppData\\Local\\Temp\\ipykernel_3228\\1788549698.py:2: PerformanceWarning: DataFrame is highly fragmented.  This is usually the result of calling `frame.insert` many times, which has poor performance.  Consider joining all columns at once using pd.concat(axis=1) instead. To get a de-fragmented frame, use `newframe = frame.copy()`\n",
      "  df[word] = df['tokens'].apply(lambda x: x.count(word))\n",
      "C:\\Users\\LEGION\\AppData\\Local\\Temp\\ipykernel_3228\\1788549698.py:2: PerformanceWarning: DataFrame is highly fragmented.  This is usually the result of calling `frame.insert` many times, which has poor performance.  Consider joining all columns at once using pd.concat(axis=1) instead. To get a de-fragmented frame, use `newframe = frame.copy()`\n",
      "  df[word] = df['tokens'].apply(lambda x: x.count(word))\n",
      "C:\\Users\\LEGION\\AppData\\Local\\Temp\\ipykernel_3228\\1788549698.py:2: PerformanceWarning: DataFrame is highly fragmented.  This is usually the result of calling `frame.insert` many times, which has poor performance.  Consider joining all columns at once using pd.concat(axis=1) instead. To get a de-fragmented frame, use `newframe = frame.copy()`\n",
      "  df[word] = df['tokens'].apply(lambda x: x.count(word))\n",
      "C:\\Users\\LEGION\\AppData\\Local\\Temp\\ipykernel_3228\\1788549698.py:2: PerformanceWarning: DataFrame is highly fragmented.  This is usually the result of calling `frame.insert` many times, which has poor performance.  Consider joining all columns at once using pd.concat(axis=1) instead. To get a de-fragmented frame, use `newframe = frame.copy()`\n",
      "  df[word] = df['tokens'].apply(lambda x: x.count(word))\n",
      "C:\\Users\\LEGION\\AppData\\Local\\Temp\\ipykernel_3228\\1788549698.py:2: PerformanceWarning: DataFrame is highly fragmented.  This is usually the result of calling `frame.insert` many times, which has poor performance.  Consider joining all columns at once using pd.concat(axis=1) instead. To get a de-fragmented frame, use `newframe = frame.copy()`\n",
      "  df[word] = df['tokens'].apply(lambda x: x.count(word))\n",
      "C:\\Users\\LEGION\\AppData\\Local\\Temp\\ipykernel_3228\\1788549698.py:2: PerformanceWarning: DataFrame is highly fragmented.  This is usually the result of calling `frame.insert` many times, which has poor performance.  Consider joining all columns at once using pd.concat(axis=1) instead. To get a de-fragmented frame, use `newframe = frame.copy()`\n",
      "  df[word] = df['tokens'].apply(lambda x: x.count(word))\n",
      "C:\\Users\\LEGION\\AppData\\Local\\Temp\\ipykernel_3228\\1788549698.py:2: PerformanceWarning: DataFrame is highly fragmented.  This is usually the result of calling `frame.insert` many times, which has poor performance.  Consider joining all columns at once using pd.concat(axis=1) instead. To get a de-fragmented frame, use `newframe = frame.copy()`\n",
      "  df[word] = df['tokens'].apply(lambda x: x.count(word))\n",
      "C:\\Users\\LEGION\\AppData\\Local\\Temp\\ipykernel_3228\\1788549698.py:2: PerformanceWarning: DataFrame is highly fragmented.  This is usually the result of calling `frame.insert` many times, which has poor performance.  Consider joining all columns at once using pd.concat(axis=1) instead. To get a de-fragmented frame, use `newframe = frame.copy()`\n",
      "  df[word] = df['tokens'].apply(lambda x: x.count(word))\n",
      "C:\\Users\\LEGION\\AppData\\Local\\Temp\\ipykernel_3228\\1788549698.py:2: PerformanceWarning: DataFrame is highly fragmented.  This is usually the result of calling `frame.insert` many times, which has poor performance.  Consider joining all columns at once using pd.concat(axis=1) instead. To get a de-fragmented frame, use `newframe = frame.copy()`\n",
      "  df[word] = df['tokens'].apply(lambda x: x.count(word))\n",
      "C:\\Users\\LEGION\\AppData\\Local\\Temp\\ipykernel_3228\\1788549698.py:2: PerformanceWarning: DataFrame is highly fragmented.  This is usually the result of calling `frame.insert` many times, which has poor performance.  Consider joining all columns at once using pd.concat(axis=1) instead. To get a de-fragmented frame, use `newframe = frame.copy()`\n",
      "  df[word] = df['tokens'].apply(lambda x: x.count(word))\n",
      "C:\\Users\\LEGION\\AppData\\Local\\Temp\\ipykernel_3228\\1788549698.py:2: PerformanceWarning: DataFrame is highly fragmented.  This is usually the result of calling `frame.insert` many times, which has poor performance.  Consider joining all columns at once using pd.concat(axis=1) instead. To get a de-fragmented frame, use `newframe = frame.copy()`\n",
      "  df[word] = df['tokens'].apply(lambda x: x.count(word))\n",
      "C:\\Users\\LEGION\\AppData\\Local\\Temp\\ipykernel_3228\\1788549698.py:2: PerformanceWarning: DataFrame is highly fragmented.  This is usually the result of calling `frame.insert` many times, which has poor performance.  Consider joining all columns at once using pd.concat(axis=1) instead. To get a de-fragmented frame, use `newframe = frame.copy()`\n",
      "  df[word] = df['tokens'].apply(lambda x: x.count(word))\n",
      "C:\\Users\\LEGION\\AppData\\Local\\Temp\\ipykernel_3228\\1788549698.py:2: PerformanceWarning: DataFrame is highly fragmented.  This is usually the result of calling `frame.insert` many times, which has poor performance.  Consider joining all columns at once using pd.concat(axis=1) instead. To get a de-fragmented frame, use `newframe = frame.copy()`\n",
      "  df[word] = df['tokens'].apply(lambda x: x.count(word))\n"
     ]
    },
    {
     "name": "stderr",
     "output_type": "stream",
     "text": [
      "C:\\Users\\LEGION\\AppData\\Local\\Temp\\ipykernel_3228\\1788549698.py:2: PerformanceWarning: DataFrame is highly fragmented.  This is usually the result of calling `frame.insert` many times, which has poor performance.  Consider joining all columns at once using pd.concat(axis=1) instead. To get a de-fragmented frame, use `newframe = frame.copy()`\n",
      "  df[word] = df['tokens'].apply(lambda x: x.count(word))\n",
      "C:\\Users\\LEGION\\AppData\\Local\\Temp\\ipykernel_3228\\1788549698.py:2: PerformanceWarning: DataFrame is highly fragmented.  This is usually the result of calling `frame.insert` many times, which has poor performance.  Consider joining all columns at once using pd.concat(axis=1) instead. To get a de-fragmented frame, use `newframe = frame.copy()`\n",
      "  df[word] = df['tokens'].apply(lambda x: x.count(word))\n",
      "C:\\Users\\LEGION\\AppData\\Local\\Temp\\ipykernel_3228\\1788549698.py:2: PerformanceWarning: DataFrame is highly fragmented.  This is usually the result of calling `frame.insert` many times, which has poor performance.  Consider joining all columns at once using pd.concat(axis=1) instead. To get a de-fragmented frame, use `newframe = frame.copy()`\n",
      "  df[word] = df['tokens'].apply(lambda x: x.count(word))\n",
      "C:\\Users\\LEGION\\AppData\\Local\\Temp\\ipykernel_3228\\1788549698.py:2: PerformanceWarning: DataFrame is highly fragmented.  This is usually the result of calling `frame.insert` many times, which has poor performance.  Consider joining all columns at once using pd.concat(axis=1) instead. To get a de-fragmented frame, use `newframe = frame.copy()`\n",
      "  df[word] = df['tokens'].apply(lambda x: x.count(word))\n",
      "C:\\Users\\LEGION\\AppData\\Local\\Temp\\ipykernel_3228\\1788549698.py:2: PerformanceWarning: DataFrame is highly fragmented.  This is usually the result of calling `frame.insert` many times, which has poor performance.  Consider joining all columns at once using pd.concat(axis=1) instead. To get a de-fragmented frame, use `newframe = frame.copy()`\n",
      "  df[word] = df['tokens'].apply(lambda x: x.count(word))\n",
      "C:\\Users\\LEGION\\AppData\\Local\\Temp\\ipykernel_3228\\1788549698.py:2: PerformanceWarning: DataFrame is highly fragmented.  This is usually the result of calling `frame.insert` many times, which has poor performance.  Consider joining all columns at once using pd.concat(axis=1) instead. To get a de-fragmented frame, use `newframe = frame.copy()`\n",
      "  df[word] = df['tokens'].apply(lambda x: x.count(word))\n",
      "C:\\Users\\LEGION\\AppData\\Local\\Temp\\ipykernel_3228\\1788549698.py:2: PerformanceWarning: DataFrame is highly fragmented.  This is usually the result of calling `frame.insert` many times, which has poor performance.  Consider joining all columns at once using pd.concat(axis=1) instead. To get a de-fragmented frame, use `newframe = frame.copy()`\n",
      "  df[word] = df['tokens'].apply(lambda x: x.count(word))\n",
      "C:\\Users\\LEGION\\AppData\\Local\\Temp\\ipykernel_3228\\1788549698.py:2: PerformanceWarning: DataFrame is highly fragmented.  This is usually the result of calling `frame.insert` many times, which has poor performance.  Consider joining all columns at once using pd.concat(axis=1) instead. To get a de-fragmented frame, use `newframe = frame.copy()`\n",
      "  df[word] = df['tokens'].apply(lambda x: x.count(word))\n",
      "C:\\Users\\LEGION\\AppData\\Local\\Temp\\ipykernel_3228\\1788549698.py:2: PerformanceWarning: DataFrame is highly fragmented.  This is usually the result of calling `frame.insert` many times, which has poor performance.  Consider joining all columns at once using pd.concat(axis=1) instead. To get a de-fragmented frame, use `newframe = frame.copy()`\n",
      "  df[word] = df['tokens'].apply(lambda x: x.count(word))\n",
      "C:\\Users\\LEGION\\AppData\\Local\\Temp\\ipykernel_3228\\1788549698.py:2: PerformanceWarning: DataFrame is highly fragmented.  This is usually the result of calling `frame.insert` many times, which has poor performance.  Consider joining all columns at once using pd.concat(axis=1) instead. To get a de-fragmented frame, use `newframe = frame.copy()`\n",
      "  df[word] = df['tokens'].apply(lambda x: x.count(word))\n",
      "C:\\Users\\LEGION\\AppData\\Local\\Temp\\ipykernel_3228\\1788549698.py:2: PerformanceWarning: DataFrame is highly fragmented.  This is usually the result of calling `frame.insert` many times, which has poor performance.  Consider joining all columns at once using pd.concat(axis=1) instead. To get a de-fragmented frame, use `newframe = frame.copy()`\n",
      "  df[word] = df['tokens'].apply(lambda x: x.count(word))\n",
      "C:\\Users\\LEGION\\AppData\\Local\\Temp\\ipykernel_3228\\1788549698.py:2: PerformanceWarning: DataFrame is highly fragmented.  This is usually the result of calling `frame.insert` many times, which has poor performance.  Consider joining all columns at once using pd.concat(axis=1) instead. To get a de-fragmented frame, use `newframe = frame.copy()`\n",
      "  df[word] = df['tokens'].apply(lambda x: x.count(word))\n",
      "C:\\Users\\LEGION\\AppData\\Local\\Temp\\ipykernel_3228\\1788549698.py:2: PerformanceWarning: DataFrame is highly fragmented.  This is usually the result of calling `frame.insert` many times, which has poor performance.  Consider joining all columns at once using pd.concat(axis=1) instead. To get a de-fragmented frame, use `newframe = frame.copy()`\n",
      "  df[word] = df['tokens'].apply(lambda x: x.count(word))\n",
      "C:\\Users\\LEGION\\AppData\\Local\\Temp\\ipykernel_3228\\1788549698.py:2: PerformanceWarning: DataFrame is highly fragmented.  This is usually the result of calling `frame.insert` many times, which has poor performance.  Consider joining all columns at once using pd.concat(axis=1) instead. To get a de-fragmented frame, use `newframe = frame.copy()`\n",
      "  df[word] = df['tokens'].apply(lambda x: x.count(word))\n",
      "C:\\Users\\LEGION\\AppData\\Local\\Temp\\ipykernel_3228\\1788549698.py:2: PerformanceWarning: DataFrame is highly fragmented.  This is usually the result of calling `frame.insert` many times, which has poor performance.  Consider joining all columns at once using pd.concat(axis=1) instead. To get a de-fragmented frame, use `newframe = frame.copy()`\n",
      "  df[word] = df['tokens'].apply(lambda x: x.count(word))\n",
      "C:\\Users\\LEGION\\AppData\\Local\\Temp\\ipykernel_3228\\1788549698.py:2: PerformanceWarning: DataFrame is highly fragmented.  This is usually the result of calling `frame.insert` many times, which has poor performance.  Consider joining all columns at once using pd.concat(axis=1) instead. To get a de-fragmented frame, use `newframe = frame.copy()`\n",
      "  df[word] = df['tokens'].apply(lambda x: x.count(word))\n",
      "C:\\Users\\LEGION\\AppData\\Local\\Temp\\ipykernel_3228\\1788549698.py:2: PerformanceWarning: DataFrame is highly fragmented.  This is usually the result of calling `frame.insert` many times, which has poor performance.  Consider joining all columns at once using pd.concat(axis=1) instead. To get a de-fragmented frame, use `newframe = frame.copy()`\n",
      "  df[word] = df['tokens'].apply(lambda x: x.count(word))\n",
      "C:\\Users\\LEGION\\AppData\\Local\\Temp\\ipykernel_3228\\1788549698.py:2: PerformanceWarning: DataFrame is highly fragmented.  This is usually the result of calling `frame.insert` many times, which has poor performance.  Consider joining all columns at once using pd.concat(axis=1) instead. To get a de-fragmented frame, use `newframe = frame.copy()`\n",
      "  df[word] = df['tokens'].apply(lambda x: x.count(word))\n",
      "C:\\Users\\LEGION\\AppData\\Local\\Temp\\ipykernel_3228\\1788549698.py:2: PerformanceWarning: DataFrame is highly fragmented.  This is usually the result of calling `frame.insert` many times, which has poor performance.  Consider joining all columns at once using pd.concat(axis=1) instead. To get a de-fragmented frame, use `newframe = frame.copy()`\n",
      "  df[word] = df['tokens'].apply(lambda x: x.count(word))\n",
      "C:\\Users\\LEGION\\AppData\\Local\\Temp\\ipykernel_3228\\1788549698.py:2: PerformanceWarning: DataFrame is highly fragmented.  This is usually the result of calling `frame.insert` many times, which has poor performance.  Consider joining all columns at once using pd.concat(axis=1) instead. To get a de-fragmented frame, use `newframe = frame.copy()`\n",
      "  df[word] = df['tokens'].apply(lambda x: x.count(word))\n",
      "C:\\Users\\LEGION\\AppData\\Local\\Temp\\ipykernel_3228\\1788549698.py:2: PerformanceWarning: DataFrame is highly fragmented.  This is usually the result of calling `frame.insert` many times, which has poor performance.  Consider joining all columns at once using pd.concat(axis=1) instead. To get a de-fragmented frame, use `newframe = frame.copy()`\n",
      "  df[word] = df['tokens'].apply(lambda x: x.count(word))\n",
      "C:\\Users\\LEGION\\AppData\\Local\\Temp\\ipykernel_3228\\1788549698.py:2: PerformanceWarning: DataFrame is highly fragmented.  This is usually the result of calling `frame.insert` many times, which has poor performance.  Consider joining all columns at once using pd.concat(axis=1) instead. To get a de-fragmented frame, use `newframe = frame.copy()`\n",
      "  df[word] = df['tokens'].apply(lambda x: x.count(word))\n"
     ]
    },
    {
     "name": "stderr",
     "output_type": "stream",
     "text": [
      "C:\\Users\\LEGION\\AppData\\Local\\Temp\\ipykernel_3228\\1788549698.py:2: PerformanceWarning: DataFrame is highly fragmented.  This is usually the result of calling `frame.insert` many times, which has poor performance.  Consider joining all columns at once using pd.concat(axis=1) instead. To get a de-fragmented frame, use `newframe = frame.copy()`\n",
      "  df[word] = df['tokens'].apply(lambda x: x.count(word))\n",
      "C:\\Users\\LEGION\\AppData\\Local\\Temp\\ipykernel_3228\\1788549698.py:2: PerformanceWarning: DataFrame is highly fragmented.  This is usually the result of calling `frame.insert` many times, which has poor performance.  Consider joining all columns at once using pd.concat(axis=1) instead. To get a de-fragmented frame, use `newframe = frame.copy()`\n",
      "  df[word] = df['tokens'].apply(lambda x: x.count(word))\n",
      "C:\\Users\\LEGION\\AppData\\Local\\Temp\\ipykernel_3228\\1788549698.py:2: PerformanceWarning: DataFrame is highly fragmented.  This is usually the result of calling `frame.insert` many times, which has poor performance.  Consider joining all columns at once using pd.concat(axis=1) instead. To get a de-fragmented frame, use `newframe = frame.copy()`\n",
      "  df[word] = df['tokens'].apply(lambda x: x.count(word))\n",
      "C:\\Users\\LEGION\\AppData\\Local\\Temp\\ipykernel_3228\\1788549698.py:2: PerformanceWarning: DataFrame is highly fragmented.  This is usually the result of calling `frame.insert` many times, which has poor performance.  Consider joining all columns at once using pd.concat(axis=1) instead. To get a de-fragmented frame, use `newframe = frame.copy()`\n",
      "  df[word] = df['tokens'].apply(lambda x: x.count(word))\n",
      "C:\\Users\\LEGION\\AppData\\Local\\Temp\\ipykernel_3228\\1788549698.py:2: PerformanceWarning: DataFrame is highly fragmented.  This is usually the result of calling `frame.insert` many times, which has poor performance.  Consider joining all columns at once using pd.concat(axis=1) instead. To get a de-fragmented frame, use `newframe = frame.copy()`\n",
      "  df[word] = df['tokens'].apply(lambda x: x.count(word))\n",
      "C:\\Users\\LEGION\\AppData\\Local\\Temp\\ipykernel_3228\\1788549698.py:2: PerformanceWarning: DataFrame is highly fragmented.  This is usually the result of calling `frame.insert` many times, which has poor performance.  Consider joining all columns at once using pd.concat(axis=1) instead. To get a de-fragmented frame, use `newframe = frame.copy()`\n",
      "  df[word] = df['tokens'].apply(lambda x: x.count(word))\n",
      "C:\\Users\\LEGION\\AppData\\Local\\Temp\\ipykernel_3228\\1788549698.py:2: PerformanceWarning: DataFrame is highly fragmented.  This is usually the result of calling `frame.insert` many times, which has poor performance.  Consider joining all columns at once using pd.concat(axis=1) instead. To get a de-fragmented frame, use `newframe = frame.copy()`\n",
      "  df[word] = df['tokens'].apply(lambda x: x.count(word))\n",
      "C:\\Users\\LEGION\\AppData\\Local\\Temp\\ipykernel_3228\\1788549698.py:2: PerformanceWarning: DataFrame is highly fragmented.  This is usually the result of calling `frame.insert` many times, which has poor performance.  Consider joining all columns at once using pd.concat(axis=1) instead. To get a de-fragmented frame, use `newframe = frame.copy()`\n",
      "  df[word] = df['tokens'].apply(lambda x: x.count(word))\n",
      "C:\\Users\\LEGION\\AppData\\Local\\Temp\\ipykernel_3228\\1788549698.py:2: PerformanceWarning: DataFrame is highly fragmented.  This is usually the result of calling `frame.insert` many times, which has poor performance.  Consider joining all columns at once using pd.concat(axis=1) instead. To get a de-fragmented frame, use `newframe = frame.copy()`\n",
      "  df[word] = df['tokens'].apply(lambda x: x.count(word))\n",
      "C:\\Users\\LEGION\\AppData\\Local\\Temp\\ipykernel_3228\\1788549698.py:2: PerformanceWarning: DataFrame is highly fragmented.  This is usually the result of calling `frame.insert` many times, which has poor performance.  Consider joining all columns at once using pd.concat(axis=1) instead. To get a de-fragmented frame, use `newframe = frame.copy()`\n",
      "  df[word] = df['tokens'].apply(lambda x: x.count(word))\n",
      "C:\\Users\\LEGION\\AppData\\Local\\Temp\\ipykernel_3228\\1788549698.py:2: PerformanceWarning: DataFrame is highly fragmented.  This is usually the result of calling `frame.insert` many times, which has poor performance.  Consider joining all columns at once using pd.concat(axis=1) instead. To get a de-fragmented frame, use `newframe = frame.copy()`\n",
      "  df[word] = df['tokens'].apply(lambda x: x.count(word))\n",
      "C:\\Users\\LEGION\\AppData\\Local\\Temp\\ipykernel_3228\\1788549698.py:2: PerformanceWarning: DataFrame is highly fragmented.  This is usually the result of calling `frame.insert` many times, which has poor performance.  Consider joining all columns at once using pd.concat(axis=1) instead. To get a de-fragmented frame, use `newframe = frame.copy()`\n",
      "  df[word] = df['tokens'].apply(lambda x: x.count(word))\n",
      "C:\\Users\\LEGION\\AppData\\Local\\Temp\\ipykernel_3228\\1788549698.py:2: PerformanceWarning: DataFrame is highly fragmented.  This is usually the result of calling `frame.insert` many times, which has poor performance.  Consider joining all columns at once using pd.concat(axis=1) instead. To get a de-fragmented frame, use `newframe = frame.copy()`\n",
      "  df[word] = df['tokens'].apply(lambda x: x.count(word))\n",
      "C:\\Users\\LEGION\\AppData\\Local\\Temp\\ipykernel_3228\\1788549698.py:2: PerformanceWarning: DataFrame is highly fragmented.  This is usually the result of calling `frame.insert` many times, which has poor performance.  Consider joining all columns at once using pd.concat(axis=1) instead. To get a de-fragmented frame, use `newframe = frame.copy()`\n",
      "  df[word] = df['tokens'].apply(lambda x: x.count(word))\n",
      "C:\\Users\\LEGION\\AppData\\Local\\Temp\\ipykernel_3228\\1788549698.py:2: PerformanceWarning: DataFrame is highly fragmented.  This is usually the result of calling `frame.insert` many times, which has poor performance.  Consider joining all columns at once using pd.concat(axis=1) instead. To get a de-fragmented frame, use `newframe = frame.copy()`\n",
      "  df[word] = df['tokens'].apply(lambda x: x.count(word))\n",
      "C:\\Users\\LEGION\\AppData\\Local\\Temp\\ipykernel_3228\\1788549698.py:2: PerformanceWarning: DataFrame is highly fragmented.  This is usually the result of calling `frame.insert` many times, which has poor performance.  Consider joining all columns at once using pd.concat(axis=1) instead. To get a de-fragmented frame, use `newframe = frame.copy()`\n",
      "  df[word] = df['tokens'].apply(lambda x: x.count(word))\n",
      "C:\\Users\\LEGION\\AppData\\Local\\Temp\\ipykernel_3228\\1788549698.py:2: PerformanceWarning: DataFrame is highly fragmented.  This is usually the result of calling `frame.insert` many times, which has poor performance.  Consider joining all columns at once using pd.concat(axis=1) instead. To get a de-fragmented frame, use `newframe = frame.copy()`\n",
      "  df[word] = df['tokens'].apply(lambda x: x.count(word))\n",
      "C:\\Users\\LEGION\\AppData\\Local\\Temp\\ipykernel_3228\\1788549698.py:2: PerformanceWarning: DataFrame is highly fragmented.  This is usually the result of calling `frame.insert` many times, which has poor performance.  Consider joining all columns at once using pd.concat(axis=1) instead. To get a de-fragmented frame, use `newframe = frame.copy()`\n",
      "  df[word] = df['tokens'].apply(lambda x: x.count(word))\n",
      "C:\\Users\\LEGION\\AppData\\Local\\Temp\\ipykernel_3228\\1788549698.py:2: PerformanceWarning: DataFrame is highly fragmented.  This is usually the result of calling `frame.insert` many times, which has poor performance.  Consider joining all columns at once using pd.concat(axis=1) instead. To get a de-fragmented frame, use `newframe = frame.copy()`\n",
      "  df[word] = df['tokens'].apply(lambda x: x.count(word))\n",
      "C:\\Users\\LEGION\\AppData\\Local\\Temp\\ipykernel_3228\\1788549698.py:2: PerformanceWarning: DataFrame is highly fragmented.  This is usually the result of calling `frame.insert` many times, which has poor performance.  Consider joining all columns at once using pd.concat(axis=1) instead. To get a de-fragmented frame, use `newframe = frame.copy()`\n",
      "  df[word] = df['tokens'].apply(lambda x: x.count(word))\n",
      "C:\\Users\\LEGION\\AppData\\Local\\Temp\\ipykernel_3228\\1788549698.py:2: PerformanceWarning: DataFrame is highly fragmented.  This is usually the result of calling `frame.insert` many times, which has poor performance.  Consider joining all columns at once using pd.concat(axis=1) instead. To get a de-fragmented frame, use `newframe = frame.copy()`\n",
      "  df[word] = df['tokens'].apply(lambda x: x.count(word))\n",
      "C:\\Users\\LEGION\\AppData\\Local\\Temp\\ipykernel_3228\\1788549698.py:2: PerformanceWarning: DataFrame is highly fragmented.  This is usually the result of calling `frame.insert` many times, which has poor performance.  Consider joining all columns at once using pd.concat(axis=1) instead. To get a de-fragmented frame, use `newframe = frame.copy()`\n",
      "  df[word] = df['tokens'].apply(lambda x: x.count(word))\n"
     ]
    },
    {
     "name": "stderr",
     "output_type": "stream",
     "text": [
      "C:\\Users\\LEGION\\AppData\\Local\\Temp\\ipykernel_3228\\1788549698.py:2: PerformanceWarning: DataFrame is highly fragmented.  This is usually the result of calling `frame.insert` many times, which has poor performance.  Consider joining all columns at once using pd.concat(axis=1) instead. To get a de-fragmented frame, use `newframe = frame.copy()`\n",
      "  df[word] = df['tokens'].apply(lambda x: x.count(word))\n",
      "C:\\Users\\LEGION\\AppData\\Local\\Temp\\ipykernel_3228\\1788549698.py:2: PerformanceWarning: DataFrame is highly fragmented.  This is usually the result of calling `frame.insert` many times, which has poor performance.  Consider joining all columns at once using pd.concat(axis=1) instead. To get a de-fragmented frame, use `newframe = frame.copy()`\n",
      "  df[word] = df['tokens'].apply(lambda x: x.count(word))\n",
      "C:\\Users\\LEGION\\AppData\\Local\\Temp\\ipykernel_3228\\1788549698.py:2: PerformanceWarning: DataFrame is highly fragmented.  This is usually the result of calling `frame.insert` many times, which has poor performance.  Consider joining all columns at once using pd.concat(axis=1) instead. To get a de-fragmented frame, use `newframe = frame.copy()`\n",
      "  df[word] = df['tokens'].apply(lambda x: x.count(word))\n",
      "C:\\Users\\LEGION\\AppData\\Local\\Temp\\ipykernel_3228\\1788549698.py:2: PerformanceWarning: DataFrame is highly fragmented.  This is usually the result of calling `frame.insert` many times, which has poor performance.  Consider joining all columns at once using pd.concat(axis=1) instead. To get a de-fragmented frame, use `newframe = frame.copy()`\n",
      "  df[word] = df['tokens'].apply(lambda x: x.count(word))\n",
      "C:\\Users\\LEGION\\AppData\\Local\\Temp\\ipykernel_3228\\1788549698.py:2: PerformanceWarning: DataFrame is highly fragmented.  This is usually the result of calling `frame.insert` many times, which has poor performance.  Consider joining all columns at once using pd.concat(axis=1) instead. To get a de-fragmented frame, use `newframe = frame.copy()`\n",
      "  df[word] = df['tokens'].apply(lambda x: x.count(word))\n",
      "C:\\Users\\LEGION\\AppData\\Local\\Temp\\ipykernel_3228\\1788549698.py:2: PerformanceWarning: DataFrame is highly fragmented.  This is usually the result of calling `frame.insert` many times, which has poor performance.  Consider joining all columns at once using pd.concat(axis=1) instead. To get a de-fragmented frame, use `newframe = frame.copy()`\n",
      "  df[word] = df['tokens'].apply(lambda x: x.count(word))\n",
      "C:\\Users\\LEGION\\AppData\\Local\\Temp\\ipykernel_3228\\1788549698.py:2: PerformanceWarning: DataFrame is highly fragmented.  This is usually the result of calling `frame.insert` many times, which has poor performance.  Consider joining all columns at once using pd.concat(axis=1) instead. To get a de-fragmented frame, use `newframe = frame.copy()`\n",
      "  df[word] = df['tokens'].apply(lambda x: x.count(word))\n",
      "C:\\Users\\LEGION\\AppData\\Local\\Temp\\ipykernel_3228\\1788549698.py:2: PerformanceWarning: DataFrame is highly fragmented.  This is usually the result of calling `frame.insert` many times, which has poor performance.  Consider joining all columns at once using pd.concat(axis=1) instead. To get a de-fragmented frame, use `newframe = frame.copy()`\n",
      "  df[word] = df['tokens'].apply(lambda x: x.count(word))\n",
      "C:\\Users\\LEGION\\AppData\\Local\\Temp\\ipykernel_3228\\1788549698.py:2: PerformanceWarning: DataFrame is highly fragmented.  This is usually the result of calling `frame.insert` many times, which has poor performance.  Consider joining all columns at once using pd.concat(axis=1) instead. To get a de-fragmented frame, use `newframe = frame.copy()`\n",
      "  df[word] = df['tokens'].apply(lambda x: x.count(word))\n",
      "C:\\Users\\LEGION\\AppData\\Local\\Temp\\ipykernel_3228\\1788549698.py:2: PerformanceWarning: DataFrame is highly fragmented.  This is usually the result of calling `frame.insert` many times, which has poor performance.  Consider joining all columns at once using pd.concat(axis=1) instead. To get a de-fragmented frame, use `newframe = frame.copy()`\n",
      "  df[word] = df['tokens'].apply(lambda x: x.count(word))\n",
      "C:\\Users\\LEGION\\AppData\\Local\\Temp\\ipykernel_3228\\1788549698.py:2: PerformanceWarning: DataFrame is highly fragmented.  This is usually the result of calling `frame.insert` many times, which has poor performance.  Consider joining all columns at once using pd.concat(axis=1) instead. To get a de-fragmented frame, use `newframe = frame.copy()`\n",
      "  df[word] = df['tokens'].apply(lambda x: x.count(word))\n",
      "C:\\Users\\LEGION\\AppData\\Local\\Temp\\ipykernel_3228\\1788549698.py:2: PerformanceWarning: DataFrame is highly fragmented.  This is usually the result of calling `frame.insert` many times, which has poor performance.  Consider joining all columns at once using pd.concat(axis=1) instead. To get a de-fragmented frame, use `newframe = frame.copy()`\n",
      "  df[word] = df['tokens'].apply(lambda x: x.count(word))\n",
      "C:\\Users\\LEGION\\AppData\\Local\\Temp\\ipykernel_3228\\1788549698.py:2: PerformanceWarning: DataFrame is highly fragmented.  This is usually the result of calling `frame.insert` many times, which has poor performance.  Consider joining all columns at once using pd.concat(axis=1) instead. To get a de-fragmented frame, use `newframe = frame.copy()`\n",
      "  df[word] = df['tokens'].apply(lambda x: x.count(word))\n",
      "C:\\Users\\LEGION\\AppData\\Local\\Temp\\ipykernel_3228\\1788549698.py:2: PerformanceWarning: DataFrame is highly fragmented.  This is usually the result of calling `frame.insert` many times, which has poor performance.  Consider joining all columns at once using pd.concat(axis=1) instead. To get a de-fragmented frame, use `newframe = frame.copy()`\n",
      "  df[word] = df['tokens'].apply(lambda x: x.count(word))\n",
      "C:\\Users\\LEGION\\AppData\\Local\\Temp\\ipykernel_3228\\1788549698.py:2: PerformanceWarning: DataFrame is highly fragmented.  This is usually the result of calling `frame.insert` many times, which has poor performance.  Consider joining all columns at once using pd.concat(axis=1) instead. To get a de-fragmented frame, use `newframe = frame.copy()`\n",
      "  df[word] = df['tokens'].apply(lambda x: x.count(word))\n",
      "C:\\Users\\LEGION\\AppData\\Local\\Temp\\ipykernel_3228\\1788549698.py:2: PerformanceWarning: DataFrame is highly fragmented.  This is usually the result of calling `frame.insert` many times, which has poor performance.  Consider joining all columns at once using pd.concat(axis=1) instead. To get a de-fragmented frame, use `newframe = frame.copy()`\n",
      "  df[word] = df['tokens'].apply(lambda x: x.count(word))\n",
      "C:\\Users\\LEGION\\AppData\\Local\\Temp\\ipykernel_3228\\1788549698.py:2: PerformanceWarning: DataFrame is highly fragmented.  This is usually the result of calling `frame.insert` many times, which has poor performance.  Consider joining all columns at once using pd.concat(axis=1) instead. To get a de-fragmented frame, use `newframe = frame.copy()`\n",
      "  df[word] = df['tokens'].apply(lambda x: x.count(word))\n",
      "C:\\Users\\LEGION\\AppData\\Local\\Temp\\ipykernel_3228\\1788549698.py:2: PerformanceWarning: DataFrame is highly fragmented.  This is usually the result of calling `frame.insert` many times, which has poor performance.  Consider joining all columns at once using pd.concat(axis=1) instead. To get a de-fragmented frame, use `newframe = frame.copy()`\n",
      "  df[word] = df['tokens'].apply(lambda x: x.count(word))\n",
      "C:\\Users\\LEGION\\AppData\\Local\\Temp\\ipykernel_3228\\1788549698.py:2: PerformanceWarning: DataFrame is highly fragmented.  This is usually the result of calling `frame.insert` many times, which has poor performance.  Consider joining all columns at once using pd.concat(axis=1) instead. To get a de-fragmented frame, use `newframe = frame.copy()`\n",
      "  df[word] = df['tokens'].apply(lambda x: x.count(word))\n",
      "C:\\Users\\LEGION\\AppData\\Local\\Temp\\ipykernel_3228\\1788549698.py:2: PerformanceWarning: DataFrame is highly fragmented.  This is usually the result of calling `frame.insert` many times, which has poor performance.  Consider joining all columns at once using pd.concat(axis=1) instead. To get a de-fragmented frame, use `newframe = frame.copy()`\n",
      "  df[word] = df['tokens'].apply(lambda x: x.count(word))\n",
      "C:\\Users\\LEGION\\AppData\\Local\\Temp\\ipykernel_3228\\1788549698.py:2: PerformanceWarning: DataFrame is highly fragmented.  This is usually the result of calling `frame.insert` many times, which has poor performance.  Consider joining all columns at once using pd.concat(axis=1) instead. To get a de-fragmented frame, use `newframe = frame.copy()`\n",
      "  df[word] = df['tokens'].apply(lambda x: x.count(word))\n",
      "C:\\Users\\LEGION\\AppData\\Local\\Temp\\ipykernel_3228\\1788549698.py:2: PerformanceWarning: DataFrame is highly fragmented.  This is usually the result of calling `frame.insert` many times, which has poor performance.  Consider joining all columns at once using pd.concat(axis=1) instead. To get a de-fragmented frame, use `newframe = frame.copy()`\n",
      "  df[word] = df['tokens'].apply(lambda x: x.count(word))\n"
     ]
    },
    {
     "name": "stderr",
     "output_type": "stream",
     "text": [
      "C:\\Users\\LEGION\\AppData\\Local\\Temp\\ipykernel_3228\\1788549698.py:2: PerformanceWarning: DataFrame is highly fragmented.  This is usually the result of calling `frame.insert` many times, which has poor performance.  Consider joining all columns at once using pd.concat(axis=1) instead. To get a de-fragmented frame, use `newframe = frame.copy()`\n",
      "  df[word] = df['tokens'].apply(lambda x: x.count(word))\n",
      "C:\\Users\\LEGION\\AppData\\Local\\Temp\\ipykernel_3228\\1788549698.py:2: PerformanceWarning: DataFrame is highly fragmented.  This is usually the result of calling `frame.insert` many times, which has poor performance.  Consider joining all columns at once using pd.concat(axis=1) instead. To get a de-fragmented frame, use `newframe = frame.copy()`\n",
      "  df[word] = df['tokens'].apply(lambda x: x.count(word))\n",
      "C:\\Users\\LEGION\\AppData\\Local\\Temp\\ipykernel_3228\\1788549698.py:2: PerformanceWarning: DataFrame is highly fragmented.  This is usually the result of calling `frame.insert` many times, which has poor performance.  Consider joining all columns at once using pd.concat(axis=1) instead. To get a de-fragmented frame, use `newframe = frame.copy()`\n",
      "  df[word] = df['tokens'].apply(lambda x: x.count(word))\n",
      "C:\\Users\\LEGION\\AppData\\Local\\Temp\\ipykernel_3228\\1788549698.py:2: PerformanceWarning: DataFrame is highly fragmented.  This is usually the result of calling `frame.insert` many times, which has poor performance.  Consider joining all columns at once using pd.concat(axis=1) instead. To get a de-fragmented frame, use `newframe = frame.copy()`\n",
      "  df[word] = df['tokens'].apply(lambda x: x.count(word))\n",
      "C:\\Users\\LEGION\\AppData\\Local\\Temp\\ipykernel_3228\\1788549698.py:2: PerformanceWarning: DataFrame is highly fragmented.  This is usually the result of calling `frame.insert` many times, which has poor performance.  Consider joining all columns at once using pd.concat(axis=1) instead. To get a de-fragmented frame, use `newframe = frame.copy()`\n",
      "  df[word] = df['tokens'].apply(lambda x: x.count(word))\n",
      "C:\\Users\\LEGION\\AppData\\Local\\Temp\\ipykernel_3228\\1788549698.py:2: PerformanceWarning: DataFrame is highly fragmented.  This is usually the result of calling `frame.insert` many times, which has poor performance.  Consider joining all columns at once using pd.concat(axis=1) instead. To get a de-fragmented frame, use `newframe = frame.copy()`\n",
      "  df[word] = df['tokens'].apply(lambda x: x.count(word))\n",
      "C:\\Users\\LEGION\\AppData\\Local\\Temp\\ipykernel_3228\\1788549698.py:2: PerformanceWarning: DataFrame is highly fragmented.  This is usually the result of calling `frame.insert` many times, which has poor performance.  Consider joining all columns at once using pd.concat(axis=1) instead. To get a de-fragmented frame, use `newframe = frame.copy()`\n",
      "  df[word] = df['tokens'].apply(lambda x: x.count(word))\n",
      "C:\\Users\\LEGION\\AppData\\Local\\Temp\\ipykernel_3228\\1788549698.py:2: PerformanceWarning: DataFrame is highly fragmented.  This is usually the result of calling `frame.insert` many times, which has poor performance.  Consider joining all columns at once using pd.concat(axis=1) instead. To get a de-fragmented frame, use `newframe = frame.copy()`\n",
      "  df[word] = df['tokens'].apply(lambda x: x.count(word))\n",
      "C:\\Users\\LEGION\\AppData\\Local\\Temp\\ipykernel_3228\\1788549698.py:2: PerformanceWarning: DataFrame is highly fragmented.  This is usually the result of calling `frame.insert` many times, which has poor performance.  Consider joining all columns at once using pd.concat(axis=1) instead. To get a de-fragmented frame, use `newframe = frame.copy()`\n",
      "  df[word] = df['tokens'].apply(lambda x: x.count(word))\n",
      "C:\\Users\\LEGION\\AppData\\Local\\Temp\\ipykernel_3228\\1788549698.py:2: PerformanceWarning: DataFrame is highly fragmented.  This is usually the result of calling `frame.insert` many times, which has poor performance.  Consider joining all columns at once using pd.concat(axis=1) instead. To get a de-fragmented frame, use `newframe = frame.copy()`\n",
      "  df[word] = df['tokens'].apply(lambda x: x.count(word))\n",
      "C:\\Users\\LEGION\\AppData\\Local\\Temp\\ipykernel_3228\\1788549698.py:2: PerformanceWarning: DataFrame is highly fragmented.  This is usually the result of calling `frame.insert` many times, which has poor performance.  Consider joining all columns at once using pd.concat(axis=1) instead. To get a de-fragmented frame, use `newframe = frame.copy()`\n",
      "  df[word] = df['tokens'].apply(lambda x: x.count(word))\n",
      "C:\\Users\\LEGION\\AppData\\Local\\Temp\\ipykernel_3228\\1788549698.py:2: PerformanceWarning: DataFrame is highly fragmented.  This is usually the result of calling `frame.insert` many times, which has poor performance.  Consider joining all columns at once using pd.concat(axis=1) instead. To get a de-fragmented frame, use `newframe = frame.copy()`\n",
      "  df[word] = df['tokens'].apply(lambda x: x.count(word))\n",
      "C:\\Users\\LEGION\\AppData\\Local\\Temp\\ipykernel_3228\\1788549698.py:2: PerformanceWarning: DataFrame is highly fragmented.  This is usually the result of calling `frame.insert` many times, which has poor performance.  Consider joining all columns at once using pd.concat(axis=1) instead. To get a de-fragmented frame, use `newframe = frame.copy()`\n",
      "  df[word] = df['tokens'].apply(lambda x: x.count(word))\n",
      "C:\\Users\\LEGION\\AppData\\Local\\Temp\\ipykernel_3228\\1788549698.py:2: PerformanceWarning: DataFrame is highly fragmented.  This is usually the result of calling `frame.insert` many times, which has poor performance.  Consider joining all columns at once using pd.concat(axis=1) instead. To get a de-fragmented frame, use `newframe = frame.copy()`\n",
      "  df[word] = df['tokens'].apply(lambda x: x.count(word))\n",
      "C:\\Users\\LEGION\\AppData\\Local\\Temp\\ipykernel_3228\\1788549698.py:2: PerformanceWarning: DataFrame is highly fragmented.  This is usually the result of calling `frame.insert` many times, which has poor performance.  Consider joining all columns at once using pd.concat(axis=1) instead. To get a de-fragmented frame, use `newframe = frame.copy()`\n",
      "  df[word] = df['tokens'].apply(lambda x: x.count(word))\n",
      "C:\\Users\\LEGION\\AppData\\Local\\Temp\\ipykernel_3228\\1788549698.py:2: PerformanceWarning: DataFrame is highly fragmented.  This is usually the result of calling `frame.insert` many times, which has poor performance.  Consider joining all columns at once using pd.concat(axis=1) instead. To get a de-fragmented frame, use `newframe = frame.copy()`\n",
      "  df[word] = df['tokens'].apply(lambda x: x.count(word))\n",
      "C:\\Users\\LEGION\\AppData\\Local\\Temp\\ipykernel_3228\\1788549698.py:2: PerformanceWarning: DataFrame is highly fragmented.  This is usually the result of calling `frame.insert` many times, which has poor performance.  Consider joining all columns at once using pd.concat(axis=1) instead. To get a de-fragmented frame, use `newframe = frame.copy()`\n",
      "  df[word] = df['tokens'].apply(lambda x: x.count(word))\n",
      "C:\\Users\\LEGION\\AppData\\Local\\Temp\\ipykernel_3228\\1788549698.py:2: PerformanceWarning: DataFrame is highly fragmented.  This is usually the result of calling `frame.insert` many times, which has poor performance.  Consider joining all columns at once using pd.concat(axis=1) instead. To get a de-fragmented frame, use `newframe = frame.copy()`\n",
      "  df[word] = df['tokens'].apply(lambda x: x.count(word))\n",
      "C:\\Users\\LEGION\\AppData\\Local\\Temp\\ipykernel_3228\\1788549698.py:2: PerformanceWarning: DataFrame is highly fragmented.  This is usually the result of calling `frame.insert` many times, which has poor performance.  Consider joining all columns at once using pd.concat(axis=1) instead. To get a de-fragmented frame, use `newframe = frame.copy()`\n",
      "  df[word] = df['tokens'].apply(lambda x: x.count(word))\n",
      "C:\\Users\\LEGION\\AppData\\Local\\Temp\\ipykernel_3228\\1788549698.py:2: PerformanceWarning: DataFrame is highly fragmented.  This is usually the result of calling `frame.insert` many times, which has poor performance.  Consider joining all columns at once using pd.concat(axis=1) instead. To get a de-fragmented frame, use `newframe = frame.copy()`\n",
      "  df[word] = df['tokens'].apply(lambda x: x.count(word))\n",
      "C:\\Users\\LEGION\\AppData\\Local\\Temp\\ipykernel_3228\\1788549698.py:2: PerformanceWarning: DataFrame is highly fragmented.  This is usually the result of calling `frame.insert` many times, which has poor performance.  Consider joining all columns at once using pd.concat(axis=1) instead. To get a de-fragmented frame, use `newframe = frame.copy()`\n",
      "  df[word] = df['tokens'].apply(lambda x: x.count(word))\n",
      "C:\\Users\\LEGION\\AppData\\Local\\Temp\\ipykernel_3228\\1788549698.py:2: PerformanceWarning: DataFrame is highly fragmented.  This is usually the result of calling `frame.insert` many times, which has poor performance.  Consider joining all columns at once using pd.concat(axis=1) instead. To get a de-fragmented frame, use `newframe = frame.copy()`\n",
      "  df[word] = df['tokens'].apply(lambda x: x.count(word))\n"
     ]
    },
    {
     "name": "stderr",
     "output_type": "stream",
     "text": [
      "C:\\Users\\LEGION\\AppData\\Local\\Temp\\ipykernel_3228\\1788549698.py:2: PerformanceWarning: DataFrame is highly fragmented.  This is usually the result of calling `frame.insert` many times, which has poor performance.  Consider joining all columns at once using pd.concat(axis=1) instead. To get a de-fragmented frame, use `newframe = frame.copy()`\n",
      "  df[word] = df['tokens'].apply(lambda x: x.count(word))\n",
      "C:\\Users\\LEGION\\AppData\\Local\\Temp\\ipykernel_3228\\1788549698.py:2: PerformanceWarning: DataFrame is highly fragmented.  This is usually the result of calling `frame.insert` many times, which has poor performance.  Consider joining all columns at once using pd.concat(axis=1) instead. To get a de-fragmented frame, use `newframe = frame.copy()`\n",
      "  df[word] = df['tokens'].apply(lambda x: x.count(word))\n",
      "C:\\Users\\LEGION\\AppData\\Local\\Temp\\ipykernel_3228\\1788549698.py:2: PerformanceWarning: DataFrame is highly fragmented.  This is usually the result of calling `frame.insert` many times, which has poor performance.  Consider joining all columns at once using pd.concat(axis=1) instead. To get a de-fragmented frame, use `newframe = frame.copy()`\n",
      "  df[word] = df['tokens'].apply(lambda x: x.count(word))\n",
      "C:\\Users\\LEGION\\AppData\\Local\\Temp\\ipykernel_3228\\1788549698.py:2: PerformanceWarning: DataFrame is highly fragmented.  This is usually the result of calling `frame.insert` many times, which has poor performance.  Consider joining all columns at once using pd.concat(axis=1) instead. To get a de-fragmented frame, use `newframe = frame.copy()`\n",
      "  df[word] = df['tokens'].apply(lambda x: x.count(word))\n",
      "C:\\Users\\LEGION\\AppData\\Local\\Temp\\ipykernel_3228\\1788549698.py:2: PerformanceWarning: DataFrame is highly fragmented.  This is usually the result of calling `frame.insert` many times, which has poor performance.  Consider joining all columns at once using pd.concat(axis=1) instead. To get a de-fragmented frame, use `newframe = frame.copy()`\n",
      "  df[word] = df['tokens'].apply(lambda x: x.count(word))\n",
      "C:\\Users\\LEGION\\AppData\\Local\\Temp\\ipykernel_3228\\1788549698.py:2: PerformanceWarning: DataFrame is highly fragmented.  This is usually the result of calling `frame.insert` many times, which has poor performance.  Consider joining all columns at once using pd.concat(axis=1) instead. To get a de-fragmented frame, use `newframe = frame.copy()`\n",
      "  df[word] = df['tokens'].apply(lambda x: x.count(word))\n",
      "C:\\Users\\LEGION\\AppData\\Local\\Temp\\ipykernel_3228\\1788549698.py:2: PerformanceWarning: DataFrame is highly fragmented.  This is usually the result of calling `frame.insert` many times, which has poor performance.  Consider joining all columns at once using pd.concat(axis=1) instead. To get a de-fragmented frame, use `newframe = frame.copy()`\n",
      "  df[word] = df['tokens'].apply(lambda x: x.count(word))\n",
      "C:\\Users\\LEGION\\AppData\\Local\\Temp\\ipykernel_3228\\1788549698.py:2: PerformanceWarning: DataFrame is highly fragmented.  This is usually the result of calling `frame.insert` many times, which has poor performance.  Consider joining all columns at once using pd.concat(axis=1) instead. To get a de-fragmented frame, use `newframe = frame.copy()`\n",
      "  df[word] = df['tokens'].apply(lambda x: x.count(word))\n",
      "C:\\Users\\LEGION\\AppData\\Local\\Temp\\ipykernel_3228\\1788549698.py:2: PerformanceWarning: DataFrame is highly fragmented.  This is usually the result of calling `frame.insert` many times, which has poor performance.  Consider joining all columns at once using pd.concat(axis=1) instead. To get a de-fragmented frame, use `newframe = frame.copy()`\n",
      "  df[word] = df['tokens'].apply(lambda x: x.count(word))\n",
      "C:\\Users\\LEGION\\AppData\\Local\\Temp\\ipykernel_3228\\1788549698.py:2: PerformanceWarning: DataFrame is highly fragmented.  This is usually the result of calling `frame.insert` many times, which has poor performance.  Consider joining all columns at once using pd.concat(axis=1) instead. To get a de-fragmented frame, use `newframe = frame.copy()`\n",
      "  df[word] = df['tokens'].apply(lambda x: x.count(word))\n",
      "C:\\Users\\LEGION\\AppData\\Local\\Temp\\ipykernel_3228\\1788549698.py:2: PerformanceWarning: DataFrame is highly fragmented.  This is usually the result of calling `frame.insert` many times, which has poor performance.  Consider joining all columns at once using pd.concat(axis=1) instead. To get a de-fragmented frame, use `newframe = frame.copy()`\n",
      "  df[word] = df['tokens'].apply(lambda x: x.count(word))\n",
      "C:\\Users\\LEGION\\AppData\\Local\\Temp\\ipykernel_3228\\1788549698.py:2: PerformanceWarning: DataFrame is highly fragmented.  This is usually the result of calling `frame.insert` many times, which has poor performance.  Consider joining all columns at once using pd.concat(axis=1) instead. To get a de-fragmented frame, use `newframe = frame.copy()`\n",
      "  df[word] = df['tokens'].apply(lambda x: x.count(word))\n",
      "C:\\Users\\LEGION\\AppData\\Local\\Temp\\ipykernel_3228\\1788549698.py:2: PerformanceWarning: DataFrame is highly fragmented.  This is usually the result of calling `frame.insert` many times, which has poor performance.  Consider joining all columns at once using pd.concat(axis=1) instead. To get a de-fragmented frame, use `newframe = frame.copy()`\n",
      "  df[word] = df['tokens'].apply(lambda x: x.count(word))\n",
      "C:\\Users\\LEGION\\AppData\\Local\\Temp\\ipykernel_3228\\1788549698.py:2: PerformanceWarning: DataFrame is highly fragmented.  This is usually the result of calling `frame.insert` many times, which has poor performance.  Consider joining all columns at once using pd.concat(axis=1) instead. To get a de-fragmented frame, use `newframe = frame.copy()`\n",
      "  df[word] = df['tokens'].apply(lambda x: x.count(word))\n",
      "C:\\Users\\LEGION\\AppData\\Local\\Temp\\ipykernel_3228\\1788549698.py:2: PerformanceWarning: DataFrame is highly fragmented.  This is usually the result of calling `frame.insert` many times, which has poor performance.  Consider joining all columns at once using pd.concat(axis=1) instead. To get a de-fragmented frame, use `newframe = frame.copy()`\n",
      "  df[word] = df['tokens'].apply(lambda x: x.count(word))\n",
      "C:\\Users\\LEGION\\AppData\\Local\\Temp\\ipykernel_3228\\1788549698.py:2: PerformanceWarning: DataFrame is highly fragmented.  This is usually the result of calling `frame.insert` many times, which has poor performance.  Consider joining all columns at once using pd.concat(axis=1) instead. To get a de-fragmented frame, use `newframe = frame.copy()`\n",
      "  df[word] = df['tokens'].apply(lambda x: x.count(word))\n",
      "C:\\Users\\LEGION\\AppData\\Local\\Temp\\ipykernel_3228\\1788549698.py:2: PerformanceWarning: DataFrame is highly fragmented.  This is usually the result of calling `frame.insert` many times, which has poor performance.  Consider joining all columns at once using pd.concat(axis=1) instead. To get a de-fragmented frame, use `newframe = frame.copy()`\n",
      "  df[word] = df['tokens'].apply(lambda x: x.count(word))\n",
      "C:\\Users\\LEGION\\AppData\\Local\\Temp\\ipykernel_3228\\1788549698.py:2: PerformanceWarning: DataFrame is highly fragmented.  This is usually the result of calling `frame.insert` many times, which has poor performance.  Consider joining all columns at once using pd.concat(axis=1) instead. To get a de-fragmented frame, use `newframe = frame.copy()`\n",
      "  df[word] = df['tokens'].apply(lambda x: x.count(word))\n",
      "C:\\Users\\LEGION\\AppData\\Local\\Temp\\ipykernel_3228\\1788549698.py:2: PerformanceWarning: DataFrame is highly fragmented.  This is usually the result of calling `frame.insert` many times, which has poor performance.  Consider joining all columns at once using pd.concat(axis=1) instead. To get a de-fragmented frame, use `newframe = frame.copy()`\n",
      "  df[word] = df['tokens'].apply(lambda x: x.count(word))\n",
      "C:\\Users\\LEGION\\AppData\\Local\\Temp\\ipykernel_3228\\1788549698.py:2: PerformanceWarning: DataFrame is highly fragmented.  This is usually the result of calling `frame.insert` many times, which has poor performance.  Consider joining all columns at once using pd.concat(axis=1) instead. To get a de-fragmented frame, use `newframe = frame.copy()`\n",
      "  df[word] = df['tokens'].apply(lambda x: x.count(word))\n",
      "C:\\Users\\LEGION\\AppData\\Local\\Temp\\ipykernel_3228\\1788549698.py:2: PerformanceWarning: DataFrame is highly fragmented.  This is usually the result of calling `frame.insert` many times, which has poor performance.  Consider joining all columns at once using pd.concat(axis=1) instead. To get a de-fragmented frame, use `newframe = frame.copy()`\n",
      "  df[word] = df['tokens'].apply(lambda x: x.count(word))\n",
      "C:\\Users\\LEGION\\AppData\\Local\\Temp\\ipykernel_3228\\1788549698.py:2: PerformanceWarning: DataFrame is highly fragmented.  This is usually the result of calling `frame.insert` many times, which has poor performance.  Consider joining all columns at once using pd.concat(axis=1) instead. To get a de-fragmented frame, use `newframe = frame.copy()`\n",
      "  df[word] = df['tokens'].apply(lambda x: x.count(word))\n"
     ]
    },
    {
     "name": "stderr",
     "output_type": "stream",
     "text": [
      "C:\\Users\\LEGION\\AppData\\Local\\Temp\\ipykernel_3228\\1788549698.py:2: PerformanceWarning: DataFrame is highly fragmented.  This is usually the result of calling `frame.insert` many times, which has poor performance.  Consider joining all columns at once using pd.concat(axis=1) instead. To get a de-fragmented frame, use `newframe = frame.copy()`\n",
      "  df[word] = df['tokens'].apply(lambda x: x.count(word))\n",
      "C:\\Users\\LEGION\\AppData\\Local\\Temp\\ipykernel_3228\\1788549698.py:2: PerformanceWarning: DataFrame is highly fragmented.  This is usually the result of calling `frame.insert` many times, which has poor performance.  Consider joining all columns at once using pd.concat(axis=1) instead. To get a de-fragmented frame, use `newframe = frame.copy()`\n",
      "  df[word] = df['tokens'].apply(lambda x: x.count(word))\n",
      "C:\\Users\\LEGION\\AppData\\Local\\Temp\\ipykernel_3228\\1788549698.py:2: PerformanceWarning: DataFrame is highly fragmented.  This is usually the result of calling `frame.insert` many times, which has poor performance.  Consider joining all columns at once using pd.concat(axis=1) instead. To get a de-fragmented frame, use `newframe = frame.copy()`\n",
      "  df[word] = df['tokens'].apply(lambda x: x.count(word))\n",
      "C:\\Users\\LEGION\\AppData\\Local\\Temp\\ipykernel_3228\\1788549698.py:2: PerformanceWarning: DataFrame is highly fragmented.  This is usually the result of calling `frame.insert` many times, which has poor performance.  Consider joining all columns at once using pd.concat(axis=1) instead. To get a de-fragmented frame, use `newframe = frame.copy()`\n",
      "  df[word] = df['tokens'].apply(lambda x: x.count(word))\n",
      "C:\\Users\\LEGION\\AppData\\Local\\Temp\\ipykernel_3228\\1788549698.py:2: PerformanceWarning: DataFrame is highly fragmented.  This is usually the result of calling `frame.insert` many times, which has poor performance.  Consider joining all columns at once using pd.concat(axis=1) instead. To get a de-fragmented frame, use `newframe = frame.copy()`\n",
      "  df[word] = df['tokens'].apply(lambda x: x.count(word))\n",
      "C:\\Users\\LEGION\\AppData\\Local\\Temp\\ipykernel_3228\\1788549698.py:2: PerformanceWarning: DataFrame is highly fragmented.  This is usually the result of calling `frame.insert` many times, which has poor performance.  Consider joining all columns at once using pd.concat(axis=1) instead. To get a de-fragmented frame, use `newframe = frame.copy()`\n",
      "  df[word] = df['tokens'].apply(lambda x: x.count(word))\n",
      "C:\\Users\\LEGION\\AppData\\Local\\Temp\\ipykernel_3228\\1788549698.py:2: PerformanceWarning: DataFrame is highly fragmented.  This is usually the result of calling `frame.insert` many times, which has poor performance.  Consider joining all columns at once using pd.concat(axis=1) instead. To get a de-fragmented frame, use `newframe = frame.copy()`\n",
      "  df[word] = df['tokens'].apply(lambda x: x.count(word))\n",
      "C:\\Users\\LEGION\\AppData\\Local\\Temp\\ipykernel_3228\\1788549698.py:2: PerformanceWarning: DataFrame is highly fragmented.  This is usually the result of calling `frame.insert` many times, which has poor performance.  Consider joining all columns at once using pd.concat(axis=1) instead. To get a de-fragmented frame, use `newframe = frame.copy()`\n",
      "  df[word] = df['tokens'].apply(lambda x: x.count(word))\n",
      "C:\\Users\\LEGION\\AppData\\Local\\Temp\\ipykernel_3228\\1788549698.py:2: PerformanceWarning: DataFrame is highly fragmented.  This is usually the result of calling `frame.insert` many times, which has poor performance.  Consider joining all columns at once using pd.concat(axis=1) instead. To get a de-fragmented frame, use `newframe = frame.copy()`\n",
      "  df[word] = df['tokens'].apply(lambda x: x.count(word))\n",
      "C:\\Users\\LEGION\\AppData\\Local\\Temp\\ipykernel_3228\\1788549698.py:2: PerformanceWarning: DataFrame is highly fragmented.  This is usually the result of calling `frame.insert` many times, which has poor performance.  Consider joining all columns at once using pd.concat(axis=1) instead. To get a de-fragmented frame, use `newframe = frame.copy()`\n",
      "  df[word] = df['tokens'].apply(lambda x: x.count(word))\n",
      "C:\\Users\\LEGION\\AppData\\Local\\Temp\\ipykernel_3228\\1788549698.py:2: PerformanceWarning: DataFrame is highly fragmented.  This is usually the result of calling `frame.insert` many times, which has poor performance.  Consider joining all columns at once using pd.concat(axis=1) instead. To get a de-fragmented frame, use `newframe = frame.copy()`\n",
      "  df[word] = df['tokens'].apply(lambda x: x.count(word))\n",
      "C:\\Users\\LEGION\\AppData\\Local\\Temp\\ipykernel_3228\\1788549698.py:2: PerformanceWarning: DataFrame is highly fragmented.  This is usually the result of calling `frame.insert` many times, which has poor performance.  Consider joining all columns at once using pd.concat(axis=1) instead. To get a de-fragmented frame, use `newframe = frame.copy()`\n",
      "  df[word] = df['tokens'].apply(lambda x: x.count(word))\n",
      "C:\\Users\\LEGION\\AppData\\Local\\Temp\\ipykernel_3228\\1788549698.py:2: PerformanceWarning: DataFrame is highly fragmented.  This is usually the result of calling `frame.insert` many times, which has poor performance.  Consider joining all columns at once using pd.concat(axis=1) instead. To get a de-fragmented frame, use `newframe = frame.copy()`\n",
      "  df[word] = df['tokens'].apply(lambda x: x.count(word))\n",
      "C:\\Users\\LEGION\\AppData\\Local\\Temp\\ipykernel_3228\\1788549698.py:2: PerformanceWarning: DataFrame is highly fragmented.  This is usually the result of calling `frame.insert` many times, which has poor performance.  Consider joining all columns at once using pd.concat(axis=1) instead. To get a de-fragmented frame, use `newframe = frame.copy()`\n",
      "  df[word] = df['tokens'].apply(lambda x: x.count(word))\n",
      "C:\\Users\\LEGION\\AppData\\Local\\Temp\\ipykernel_3228\\1788549698.py:2: PerformanceWarning: DataFrame is highly fragmented.  This is usually the result of calling `frame.insert` many times, which has poor performance.  Consider joining all columns at once using pd.concat(axis=1) instead. To get a de-fragmented frame, use `newframe = frame.copy()`\n",
      "  df[word] = df['tokens'].apply(lambda x: x.count(word))\n",
      "C:\\Users\\LEGION\\AppData\\Local\\Temp\\ipykernel_3228\\1788549698.py:2: PerformanceWarning: DataFrame is highly fragmented.  This is usually the result of calling `frame.insert` many times, which has poor performance.  Consider joining all columns at once using pd.concat(axis=1) instead. To get a de-fragmented frame, use `newframe = frame.copy()`\n",
      "  df[word] = df['tokens'].apply(lambda x: x.count(word))\n",
      "C:\\Users\\LEGION\\AppData\\Local\\Temp\\ipykernel_3228\\1788549698.py:2: PerformanceWarning: DataFrame is highly fragmented.  This is usually the result of calling `frame.insert` many times, which has poor performance.  Consider joining all columns at once using pd.concat(axis=1) instead. To get a de-fragmented frame, use `newframe = frame.copy()`\n",
      "  df[word] = df['tokens'].apply(lambda x: x.count(word))\n",
      "C:\\Users\\LEGION\\AppData\\Local\\Temp\\ipykernel_3228\\1788549698.py:2: PerformanceWarning: DataFrame is highly fragmented.  This is usually the result of calling `frame.insert` many times, which has poor performance.  Consider joining all columns at once using pd.concat(axis=1) instead. To get a de-fragmented frame, use `newframe = frame.copy()`\n",
      "  df[word] = df['tokens'].apply(lambda x: x.count(word))\n",
      "C:\\Users\\LEGION\\AppData\\Local\\Temp\\ipykernel_3228\\1788549698.py:2: PerformanceWarning: DataFrame is highly fragmented.  This is usually the result of calling `frame.insert` many times, which has poor performance.  Consider joining all columns at once using pd.concat(axis=1) instead. To get a de-fragmented frame, use `newframe = frame.copy()`\n",
      "  df[word] = df['tokens'].apply(lambda x: x.count(word))\n",
      "C:\\Users\\LEGION\\AppData\\Local\\Temp\\ipykernel_3228\\1788549698.py:2: PerformanceWarning: DataFrame is highly fragmented.  This is usually the result of calling `frame.insert` many times, which has poor performance.  Consider joining all columns at once using pd.concat(axis=1) instead. To get a de-fragmented frame, use `newframe = frame.copy()`\n",
      "  df[word] = df['tokens'].apply(lambda x: x.count(word))\n",
      "C:\\Users\\LEGION\\AppData\\Local\\Temp\\ipykernel_3228\\1788549698.py:2: PerformanceWarning: DataFrame is highly fragmented.  This is usually the result of calling `frame.insert` many times, which has poor performance.  Consider joining all columns at once using pd.concat(axis=1) instead. To get a de-fragmented frame, use `newframe = frame.copy()`\n",
      "  df[word] = df['tokens'].apply(lambda x: x.count(word))\n",
      "C:\\Users\\LEGION\\AppData\\Local\\Temp\\ipykernel_3228\\1788549698.py:2: PerformanceWarning: DataFrame is highly fragmented.  This is usually the result of calling `frame.insert` many times, which has poor performance.  Consider joining all columns at once using pd.concat(axis=1) instead. To get a de-fragmented frame, use `newframe = frame.copy()`\n",
      "  df[word] = df['tokens'].apply(lambda x: x.count(word))\n"
     ]
    },
    {
     "name": "stderr",
     "output_type": "stream",
     "text": [
      "C:\\Users\\LEGION\\AppData\\Local\\Temp\\ipykernel_3228\\1788549698.py:2: PerformanceWarning: DataFrame is highly fragmented.  This is usually the result of calling `frame.insert` many times, which has poor performance.  Consider joining all columns at once using pd.concat(axis=1) instead. To get a de-fragmented frame, use `newframe = frame.copy()`\n",
      "  df[word] = df['tokens'].apply(lambda x: x.count(word))\n",
      "C:\\Users\\LEGION\\AppData\\Local\\Temp\\ipykernel_3228\\1788549698.py:2: PerformanceWarning: DataFrame is highly fragmented.  This is usually the result of calling `frame.insert` many times, which has poor performance.  Consider joining all columns at once using pd.concat(axis=1) instead. To get a de-fragmented frame, use `newframe = frame.copy()`\n",
      "  df[word] = df['tokens'].apply(lambda x: x.count(word))\n",
      "C:\\Users\\LEGION\\AppData\\Local\\Temp\\ipykernel_3228\\1788549698.py:2: PerformanceWarning: DataFrame is highly fragmented.  This is usually the result of calling `frame.insert` many times, which has poor performance.  Consider joining all columns at once using pd.concat(axis=1) instead. To get a de-fragmented frame, use `newframe = frame.copy()`\n",
      "  df[word] = df['tokens'].apply(lambda x: x.count(word))\n",
      "C:\\Users\\LEGION\\AppData\\Local\\Temp\\ipykernel_3228\\1788549698.py:2: PerformanceWarning: DataFrame is highly fragmented.  This is usually the result of calling `frame.insert` many times, which has poor performance.  Consider joining all columns at once using pd.concat(axis=1) instead. To get a de-fragmented frame, use `newframe = frame.copy()`\n",
      "  df[word] = df['tokens'].apply(lambda x: x.count(word))\n",
      "C:\\Users\\LEGION\\AppData\\Local\\Temp\\ipykernel_3228\\1788549698.py:2: PerformanceWarning: DataFrame is highly fragmented.  This is usually the result of calling `frame.insert` many times, which has poor performance.  Consider joining all columns at once using pd.concat(axis=1) instead. To get a de-fragmented frame, use `newframe = frame.copy()`\n",
      "  df[word] = df['tokens'].apply(lambda x: x.count(word))\n",
      "C:\\Users\\LEGION\\AppData\\Local\\Temp\\ipykernel_3228\\1788549698.py:2: PerformanceWarning: DataFrame is highly fragmented.  This is usually the result of calling `frame.insert` many times, which has poor performance.  Consider joining all columns at once using pd.concat(axis=1) instead. To get a de-fragmented frame, use `newframe = frame.copy()`\n",
      "  df[word] = df['tokens'].apply(lambda x: x.count(word))\n",
      "C:\\Users\\LEGION\\AppData\\Local\\Temp\\ipykernel_3228\\1788549698.py:2: PerformanceWarning: DataFrame is highly fragmented.  This is usually the result of calling `frame.insert` many times, which has poor performance.  Consider joining all columns at once using pd.concat(axis=1) instead. To get a de-fragmented frame, use `newframe = frame.copy()`\n",
      "  df[word] = df['tokens'].apply(lambda x: x.count(word))\n",
      "C:\\Users\\LEGION\\AppData\\Local\\Temp\\ipykernel_3228\\1788549698.py:2: PerformanceWarning: DataFrame is highly fragmented.  This is usually the result of calling `frame.insert` many times, which has poor performance.  Consider joining all columns at once using pd.concat(axis=1) instead. To get a de-fragmented frame, use `newframe = frame.copy()`\n",
      "  df[word] = df['tokens'].apply(lambda x: x.count(word))\n",
      "C:\\Users\\LEGION\\AppData\\Local\\Temp\\ipykernel_3228\\1788549698.py:2: PerformanceWarning: DataFrame is highly fragmented.  This is usually the result of calling `frame.insert` many times, which has poor performance.  Consider joining all columns at once using pd.concat(axis=1) instead. To get a de-fragmented frame, use `newframe = frame.copy()`\n",
      "  df[word] = df['tokens'].apply(lambda x: x.count(word))\n",
      "C:\\Users\\LEGION\\AppData\\Local\\Temp\\ipykernel_3228\\1788549698.py:2: PerformanceWarning: DataFrame is highly fragmented.  This is usually the result of calling `frame.insert` many times, which has poor performance.  Consider joining all columns at once using pd.concat(axis=1) instead. To get a de-fragmented frame, use `newframe = frame.copy()`\n",
      "  df[word] = df['tokens'].apply(lambda x: x.count(word))\n",
      "C:\\Users\\LEGION\\AppData\\Local\\Temp\\ipykernel_3228\\1788549698.py:2: PerformanceWarning: DataFrame is highly fragmented.  This is usually the result of calling `frame.insert` many times, which has poor performance.  Consider joining all columns at once using pd.concat(axis=1) instead. To get a de-fragmented frame, use `newframe = frame.copy()`\n",
      "  df[word] = df['tokens'].apply(lambda x: x.count(word))\n",
      "C:\\Users\\LEGION\\AppData\\Local\\Temp\\ipykernel_3228\\1788549698.py:2: PerformanceWarning: DataFrame is highly fragmented.  This is usually the result of calling `frame.insert` many times, which has poor performance.  Consider joining all columns at once using pd.concat(axis=1) instead. To get a de-fragmented frame, use `newframe = frame.copy()`\n",
      "  df[word] = df['tokens'].apply(lambda x: x.count(word))\n",
      "C:\\Users\\LEGION\\AppData\\Local\\Temp\\ipykernel_3228\\1788549698.py:2: PerformanceWarning: DataFrame is highly fragmented.  This is usually the result of calling `frame.insert` many times, which has poor performance.  Consider joining all columns at once using pd.concat(axis=1) instead. To get a de-fragmented frame, use `newframe = frame.copy()`\n",
      "  df[word] = df['tokens'].apply(lambda x: x.count(word))\n",
      "C:\\Users\\LEGION\\AppData\\Local\\Temp\\ipykernel_3228\\1788549698.py:2: PerformanceWarning: DataFrame is highly fragmented.  This is usually the result of calling `frame.insert` many times, which has poor performance.  Consider joining all columns at once using pd.concat(axis=1) instead. To get a de-fragmented frame, use `newframe = frame.copy()`\n",
      "  df[word] = df['tokens'].apply(lambda x: x.count(word))\n",
      "C:\\Users\\LEGION\\AppData\\Local\\Temp\\ipykernel_3228\\1788549698.py:2: PerformanceWarning: DataFrame is highly fragmented.  This is usually the result of calling `frame.insert` many times, which has poor performance.  Consider joining all columns at once using pd.concat(axis=1) instead. To get a de-fragmented frame, use `newframe = frame.copy()`\n",
      "  df[word] = df['tokens'].apply(lambda x: x.count(word))\n",
      "C:\\Users\\LEGION\\AppData\\Local\\Temp\\ipykernel_3228\\1788549698.py:2: PerformanceWarning: DataFrame is highly fragmented.  This is usually the result of calling `frame.insert` many times, which has poor performance.  Consider joining all columns at once using pd.concat(axis=1) instead. To get a de-fragmented frame, use `newframe = frame.copy()`\n",
      "  df[word] = df['tokens'].apply(lambda x: x.count(word))\n",
      "C:\\Users\\LEGION\\AppData\\Local\\Temp\\ipykernel_3228\\1788549698.py:2: PerformanceWarning: DataFrame is highly fragmented.  This is usually the result of calling `frame.insert` many times, which has poor performance.  Consider joining all columns at once using pd.concat(axis=1) instead. To get a de-fragmented frame, use `newframe = frame.copy()`\n",
      "  df[word] = df['tokens'].apply(lambda x: x.count(word))\n",
      "C:\\Users\\LEGION\\AppData\\Local\\Temp\\ipykernel_3228\\1788549698.py:2: PerformanceWarning: DataFrame is highly fragmented.  This is usually the result of calling `frame.insert` many times, which has poor performance.  Consider joining all columns at once using pd.concat(axis=1) instead. To get a de-fragmented frame, use `newframe = frame.copy()`\n",
      "  df[word] = df['tokens'].apply(lambda x: x.count(word))\n",
      "C:\\Users\\LEGION\\AppData\\Local\\Temp\\ipykernel_3228\\1788549698.py:2: PerformanceWarning: DataFrame is highly fragmented.  This is usually the result of calling `frame.insert` many times, which has poor performance.  Consider joining all columns at once using pd.concat(axis=1) instead. To get a de-fragmented frame, use `newframe = frame.copy()`\n",
      "  df[word] = df['tokens'].apply(lambda x: x.count(word))\n",
      "C:\\Users\\LEGION\\AppData\\Local\\Temp\\ipykernel_3228\\1788549698.py:2: PerformanceWarning: DataFrame is highly fragmented.  This is usually the result of calling `frame.insert` many times, which has poor performance.  Consider joining all columns at once using pd.concat(axis=1) instead. To get a de-fragmented frame, use `newframe = frame.copy()`\n",
      "  df[word] = df['tokens'].apply(lambda x: x.count(word))\n",
      "C:\\Users\\LEGION\\AppData\\Local\\Temp\\ipykernel_3228\\1788549698.py:2: PerformanceWarning: DataFrame is highly fragmented.  This is usually the result of calling `frame.insert` many times, which has poor performance.  Consider joining all columns at once using pd.concat(axis=1) instead. To get a de-fragmented frame, use `newframe = frame.copy()`\n",
      "  df[word] = df['tokens'].apply(lambda x: x.count(word))\n",
      "C:\\Users\\LEGION\\AppData\\Local\\Temp\\ipykernel_3228\\1788549698.py:2: PerformanceWarning: DataFrame is highly fragmented.  This is usually the result of calling `frame.insert` many times, which has poor performance.  Consider joining all columns at once using pd.concat(axis=1) instead. To get a de-fragmented frame, use `newframe = frame.copy()`\n",
      "  df[word] = df['tokens'].apply(lambda x: x.count(word))\n"
     ]
    },
    {
     "name": "stderr",
     "output_type": "stream",
     "text": [
      "C:\\Users\\LEGION\\AppData\\Local\\Temp\\ipykernel_3228\\1788549698.py:2: PerformanceWarning: DataFrame is highly fragmented.  This is usually the result of calling `frame.insert` many times, which has poor performance.  Consider joining all columns at once using pd.concat(axis=1) instead. To get a de-fragmented frame, use `newframe = frame.copy()`\n",
      "  df[word] = df['tokens'].apply(lambda x: x.count(word))\n",
      "C:\\Users\\LEGION\\AppData\\Local\\Temp\\ipykernel_3228\\1788549698.py:2: PerformanceWarning: DataFrame is highly fragmented.  This is usually the result of calling `frame.insert` many times, which has poor performance.  Consider joining all columns at once using pd.concat(axis=1) instead. To get a de-fragmented frame, use `newframe = frame.copy()`\n",
      "  df[word] = df['tokens'].apply(lambda x: x.count(word))\n",
      "C:\\Users\\LEGION\\AppData\\Local\\Temp\\ipykernel_3228\\1788549698.py:2: PerformanceWarning: DataFrame is highly fragmented.  This is usually the result of calling `frame.insert` many times, which has poor performance.  Consider joining all columns at once using pd.concat(axis=1) instead. To get a de-fragmented frame, use `newframe = frame.copy()`\n",
      "  df[word] = df['tokens'].apply(lambda x: x.count(word))\n"
     ]
    }
   ],
   "source": [
    "for word in common_words_1:\n",
    "    df[word] = df['tokens'].apply(lambda x: x.count(word)) "
   ]
  },
  {
   "cell_type": "code",
   "execution_count": 227,
   "id": "0f449835",
   "metadata": {},
   "outputs": [],
   "source": [
    "from sklearn.feature_extraction.text import CountVectorizer\n",
    "import string\n",
    "import nltk\n",
    "import re\n",
    "\n",
    "text = df.title\n",
    "\n",
    "stopwords = nltk.corpus.stopwords.words('english')\n",
    "ps = nltk.PorterStemmer()\n",
    "\n",
    "# we set ngram_range for the CountVectorizer to get context around each word\n",
    "vectorizer = CountVectorizer(min_df=1, analyzer='word', ngram_range=(3, 3))\n",
    "\n",
    "# we create a function that will get rid of punctuations, tokenize, stem and remove stopwords\n",
    "def clean_text(text):\n",
    "    text = \"\".join([word.lower() for word in text if word not in string.punctuation])\n",
    "    tokens = re.split('\\W+', text)\n",
    "    text = [ps.stem(word) for word in tokens if word not in stopwords]\n",
    "    return text\n",
    "\n",
    "clean_text(text)\n",
    "\n",
    "# call `fit` to build the vocabulary\n",
    "vectorizer.fit(text)\n",
    "\n",
    "# call `transform` to convert text to a bag of words\n",
    "x = vectorizer.transform(text)\n",
    "\n"
   ]
  },
  {
   "cell_type": "code",
   "execution_count": 228,
   "id": "9d26a9ad",
   "metadata": {},
   "outputs": [],
   "source": [
    "from scipy.sparse import hstack\n",
    "#Create a function to get our X, y   \n",
    "def make_xy(data, vectorizer=None):  \n",
    "    if vectorizer is None:\n",
    "        vectorizer = CountVectorizer()\n",
    "    X = vectorizer.fit_transform(data.title)\n",
    "    X = X.tocsc()  # some versions of sklearn return COO format\n",
    "    y = data.trendingOrNot  \n",
    "    return X, y\n",
    "X, y = make_xy(df)"
   ]
  },
  {
   "cell_type": "code",
   "execution_count": 229,
   "id": "d33d5b4b",
   "metadata": {},
   "outputs": [
    {
     "name": "stdout",
     "output_type": "stream",
     "text": [
      "Accuracy of Training Set: 0.8257491001070143\n",
      "Accuracy of Test Set: 0.786711415924899\n"
     ]
    }
   ],
   "source": [
    "\n",
    "#Splitting our data into training and testing sets\n",
    "from sklearn.model_selection import train_test_split\n",
    "from sklearn.naive_bayes import MultinomialNB\n",
    "clf = MultinomialNB()\n",
    "\n",
    "X_train, X_test, y_train, y_test = train_test_split(X, y, test_size = 0.2)\n",
    "\n",
    "clf.fit(X_train, y_train)\n",
    "\n",
    "# Predict on the test data: y_pred\n",
    "y_pred = clf.predict(X_test)\n",
    "\n",
    "print(\"Accuracy of Training Set: {}\".format(clf.score(X_train, y_train)))\n",
    "print(\"Accuracy of Test Set: {}\".format(clf.score(X_test, y_test)))"
   ]
  },
  {
   "cell_type": "code",
   "execution_count": 241,
   "id": "c8f1615b",
   "metadata": {},
   "outputs": [
    {
     "data": {
      "text/plain": [
       "array([[0.29834917, 0.70165083]])"
      ]
     },
     "execution_count": 241,
     "metadata": {},
     "output_type": "execute_result"
    }
   ],
   "source": [
    "clf.predict_proba(vectorizer.transform(['JUDAS AND THE BLACK MESSIAH - Official Trailer\t']))"
   ]
  },
  {
   "cell_type": "code",
   "execution_count": 230,
   "id": "8a6b3b9a",
   "metadata": {},
   "outputs": [
    {
     "data": {
      "text/html": [
       "<div>\n",
       "<style scoped>\n",
       "    .dataframe tbody tr th:only-of-type {\n",
       "        vertical-align: middle;\n",
       "    }\n",
       "\n",
       "    .dataframe tbody tr th {\n",
       "        vertical-align: top;\n",
       "    }\n",
       "\n",
       "    .dataframe thead th {\n",
       "        text-align: right;\n",
       "    }\n",
       "</style>\n",
       "<table border=\"1\" class=\"dataframe\">\n",
       "  <thead>\n",
       "    <tr style=\"text-align: right;\">\n",
       "      <th></th>\n",
       "      <th>title</th>\n",
       "      <th>categoryId</th>\n",
       "      <th>tags</th>\n",
       "      <th>views</th>\n",
       "      <th>likes</th>\n",
       "      <th>comments</th>\n",
       "      <th>dayOfWeek</th>\n",
       "      <th>daytime</th>\n",
       "      <th>trendingOrNot</th>\n",
       "      <th>title_length</th>\n",
       "      <th>clean_title</th>\n",
       "      <th>clean_title_str</th>\n",
       "    </tr>\n",
       "  </thead>\n",
       "  <tbody>\n",
       "    <tr>\n",
       "      <th>0</th>\n",
       "      <td>How To Make a Curried Egg Sandwich</td>\n",
       "      <td>26</td>\n",
       "      <td>how to make a curried egg sandwich|curried egg...</td>\n",
       "      <td>1238677.0</td>\n",
       "      <td>104736.0</td>\n",
       "      <td>13876.0</td>\n",
       "      <td>4</td>\n",
       "      <td>1</td>\n",
       "      <td>1</td>\n",
       "      <td>34</td>\n",
       "      <td>[make, curried, egg, sandwich]</td>\n",
       "      <td>make curried egg sandwich</td>\n",
       "    </tr>\n",
       "    <tr>\n",
       "      <th>1</th>\n",
       "      <td>Cake Rescue Fixing Viral Cake Fails | How To C...</td>\n",
       "      <td>24</td>\n",
       "      <td>cake rescue|caek fail|viral cake fails|funny c...</td>\n",
       "      <td>938198.0</td>\n",
       "      <td>44088.0</td>\n",
       "      <td>2409.0</td>\n",
       "      <td>4</td>\n",
       "      <td>2</td>\n",
       "      <td>1</td>\n",
       "      <td>75</td>\n",
       "      <td>[cake, rescue, fixing, viral, cake, fails, coo...</td>\n",
       "      <td>cake rescue fixing viral cake fails cook ann r...</td>\n",
       "    </tr>\n",
       "    <tr>\n",
       "      <th>2</th>\n",
       "      <td>Son, lemme teach you something new</td>\n",
       "      <td>24</td>\n",
       "      <td>[None]</td>\n",
       "      <td>1722152.0</td>\n",
       "      <td>169501.0</td>\n",
       "      <td>7263.0</td>\n",
       "      <td>3</td>\n",
       "      <td>1</td>\n",
       "      <td>1</td>\n",
       "      <td>34</td>\n",
       "      <td>[son, lem, teach, something, new]</td>\n",
       "      <td>son lem teach something new</td>\n",
       "    </tr>\n",
       "    <tr>\n",
       "      <th>3</th>\n",
       "      <td>Trump takes executive action to address econom...</td>\n",
       "      <td>25</td>\n",
       "      <td>president|trump|donald|executive|orders|stimul...</td>\n",
       "      <td>1090847.0</td>\n",
       "      <td>10922.0</td>\n",
       "      <td>9876.0</td>\n",
       "      <td>6</td>\n",
       "      <td>3</td>\n",
       "      <td>1</td>\n",
       "      <td>61</td>\n",
       "      <td>[trump, takes, executive, action, address, eco...</td>\n",
       "      <td>trump takes executive action address economy a...</td>\n",
       "    </tr>\n",
       "    <tr>\n",
       "      <th>4</th>\n",
       "      <td>JUDAS AND THE BLACK MESSIAH - Official Trailer</td>\n",
       "      <td>24</td>\n",
       "      <td>warner bros|warner brothers|wb|fred hampton|wi...</td>\n",
       "      <td>971704.0</td>\n",
       "      <td>23311.0</td>\n",
       "      <td>3240.0</td>\n",
       "      <td>3</td>\n",
       "      <td>3</td>\n",
       "      <td>1</td>\n",
       "      <td>46</td>\n",
       "      <td>[judas, black, messiah, official, trailer]</td>\n",
       "      <td>judas black messiah official trailer</td>\n",
       "    </tr>\n",
       "  </tbody>\n",
       "</table>\n",
       "</div>"
      ],
      "text/plain": [
       "                                               title  categoryId  \\\n",
       "0                 How To Make a Curried Egg Sandwich          26   \n",
       "1  Cake Rescue Fixing Viral Cake Fails | How To C...          24   \n",
       "2                 Son, lemme teach you something new          24   \n",
       "3  Trump takes executive action to address econom...          25   \n",
       "4     JUDAS AND THE BLACK MESSIAH - Official Trailer          24   \n",
       "\n",
       "                                                tags      views     likes  \\\n",
       "0  how to make a curried egg sandwich|curried egg...  1238677.0  104736.0   \n",
       "1  cake rescue|caek fail|viral cake fails|funny c...   938198.0   44088.0   \n",
       "2                                             [None]  1722152.0  169501.0   \n",
       "3  president|trump|donald|executive|orders|stimul...  1090847.0   10922.0   \n",
       "4  warner bros|warner brothers|wb|fred hampton|wi...   971704.0   23311.0   \n",
       "\n",
       "   comments  dayOfWeek  daytime  trendingOrNot  title_length  \\\n",
       "0   13876.0          4        1              1            34   \n",
       "1    2409.0          4        2              1            75   \n",
       "2    7263.0          3        1              1            34   \n",
       "3    9876.0          6        3              1            61   \n",
       "4    3240.0          3        3              1            46   \n",
       "\n",
       "                                         clean_title  \\\n",
       "0                     [make, curried, egg, sandwich]   \n",
       "1  [cake, rescue, fixing, viral, cake, fails, coo...   \n",
       "2                  [son, lem, teach, something, new]   \n",
       "3  [trump, takes, executive, action, address, eco...   \n",
       "4         [judas, black, messiah, official, trailer]   \n",
       "\n",
       "                                     clean_title_str  \n",
       "0                          make curried egg sandwich  \n",
       "1  cake rescue fixing viral cake fails cook ann r...  \n",
       "2                        son lem teach something new  \n",
       "3  trump takes executive action address economy a...  \n",
       "4               judas black messiah official trailer  "
      ]
     },
     "execution_count": 230,
     "metadata": {},
     "output_type": "execute_result"
    }
   ],
   "source": [
    "df.head()"
   ]
  },
  {
   "cell_type": "code",
   "execution_count": 232,
   "id": "dc6231b8",
   "metadata": {},
   "outputs": [],
   "source": [
    "from sklearn.model_selection import KFold\n",
    "def cv_score(clf, X, y, scorefunc):\n",
    "    result = 0.\n",
    "    nfold = 5\n",
    "    for train, test in KFold(nfold).split(X): # split data into train/test groups, 5 times\n",
    "        clf.fit(X[train], y.iloc[train]) # fit the classifier, passed is as clf.\n",
    "        result += scorefunc(clf, X[test], y.iloc[test]) # evaluate score function on held-out data\n",
    "    return result / nfold # average"
   ]
  },
  {
   "cell_type": "code",
   "execution_count": 233,
   "id": "5daddd4c",
   "metadata": {},
   "outputs": [],
   "source": [
    "def log_likelihood(clf, x, y):\n",
    "    prob = clf.predict_log_proba(x)\n",
    "    good = y \n",
    "    bad = ~good\n",
    "    return prob[good, 0].sum() + prob[bad, 1].sum()"
   ]
  },
  {
   "cell_type": "code",
   "execution_count": 234,
   "id": "9434a612",
   "metadata": {},
   "outputs": [
    {
     "name": "stderr",
     "output_type": "stream",
     "text": [
      "C:\\Users\\LEGION\\AppData\\Local\\Temp\\ipykernel_13360\\2123442951.py:3: DeprecationWarning: `np.bool` is a deprecated alias for the builtin `bool`. To silence this warning, use `bool` by itself. Doing this will not modify any behavior and is safe. If you specifically wanted the numpy scalar type, use `np.bool_` here.\n",
      "Deprecated in NumPy 1.20; for more details and guidance: https://numpy.org/devdocs/release/1.20.0-notes.html#deprecations\n",
      "  mask = np.zeros(df.shape[0], dtype=np.bool)\n"
     ]
    }
   ],
   "source": [
    "from sklearn.model_selection import train_test_split\n",
    "_, itest = train_test_split(range(df.shape[0]), train_size=0.7)\n",
    "mask = np.zeros(df.shape[0], dtype=np.bool)\n",
    "mask[itest] = True"
   ]
  },
  {
   "cell_type": "code",
   "execution_count": 235,
   "id": "62207024",
   "metadata": {},
   "outputs": [],
   "source": [
    "from sklearn.naive_bayes import MultinomialNB\n",
    "\n",
    "#the grid of parameters to search over\n",
    "alphas = [.1, 1, 5]\n",
    "min_dfs = [1]\n",
    "\n",
    "#Find the best value for alpha and min_df, and the best classifier\n",
    "best_alpha = None\n",
    "best_min_df = None\n",
    "maxscore=-np.inf\n",
    "for alpha in alphas:\n",
    "    for min_df in min_dfs:\n",
    "        vectorizer = CountVectorizer(min_df = min_df)\n",
    "        Xthis, ythis = make_xy(df, vectorizer)\n",
    "        Xtrainthis=Xthis[mask]\n",
    "        ytrainthis=ythis[mask]\n",
    "        clf = MultinomialNB(alpha=alpha)\n",
    "        cvscore = cv_score(clf, Xtrainthis, ytrainthis, log_likelihood)\n",
    "\n",
    "        if cvscore > maxscore:\n",
    "            maxscore = cvscore\n",
    "            best_alpha, best_min_df = alpha, min_df"
   ]
  },
  {
   "cell_type": "code",
   "execution_count": 236,
   "id": "32090cc0",
   "metadata": {},
   "outputs": [
    {
     "name": "stdout",
     "output_type": "stream",
     "text": [
      "Accuracy on training data: 0.875608\n",
      "Accuracy on test data:     0.768460\n"
     ]
    }
   ],
   "source": [
    "vectorizer = CountVectorizer(min_df=best_min_df)\n",
    "X, y = make_xy(df, vectorizer)\n",
    "xtrain=X[mask]\n",
    "ytrain=y[mask]\n",
    "xtest=X[~mask]\n",
    "ytest=y[~mask]\n",
    "\n",
    "clf = MultinomialNB(alpha=best_alpha).fit(xtrain, ytrain)\n",
    "\n",
    "#your turn. Print the accuracy on the test and training dataset\n",
    "training_accuracy = clf.score(xtrain, ytrain)\n",
    "test_accuracy = clf.score(xtest, ytest)\n",
    "\n",
    "print(\"Accuracy on training data: {:2f}\".format(training_accuracy))\n",
    "print(\"Accuracy on test data:     {:2f}\".format(test_accuracy))"
   ]
  },
  {
   "cell_type": "code",
   "execution_count": 85,
   "id": "4eae84e3",
   "metadata": {},
   "outputs": [
    {
     "name": "stderr",
     "output_type": "stream",
     "text": [
      "C:\\Users\\LEGION\\anaconda3\\lib\\site-packages\\sklearn\\utils\\deprecation.py:87: FutureWarning: Function get_feature_names is deprecated; get_feature_names is deprecated in 1.0 and will be removed in 1.2. Please use get_feature_names_out instead.\n",
      "  warnings.warn(msg, category=FutureWarning)\n"
     ]
    },
    {
     "name": "stdout",
     "output_type": "stream",
     "text": [
      "Good words\t     P(good | word)\n",
      "                2022 0.99\n",
      "              shorts 0.99\n",
      "          highlights 0.98\n",
      "                2021 0.98\n",
      "           minecraft 0.98\n",
      "             oficial 0.97\n",
      "                2023 0.96\n",
      "                 ufc 0.96\n",
      "               among 0.95\n",
      "                  mv 0.95\n",
      "                 lil 0.95\n",
      "            survived 0.95\n",
      "            hardcore 0.95\n",
      "               built 0.94\n",
      "         hermitcraft 0.94\n",
      "                 nba 0.94\n",
      "                 000 0.94\n",
      "                 nbc 0.94\n",
      "              lakers 0.93\n",
      "                 bts 0.93\n",
      "                  24 0.92\n",
      "                  fc 0.92\n",
      "               music 0.92\n",
      "              reacts 0.92\n",
      "              tiktok 0.92\n",
      "              funkin 0.91\n",
      "                 cbs 0.91\n",
      "                ring 0.91\n",
      "            pregnant 0.91\n",
      "               elden 0.91\n",
      "           breakdown 0.91\n",
      "           challenge 0.91\n",
      "              roblox 0.90\n",
      "             genshin 0.90\n",
      "                 snl 0.90\n",
      "          manchester 0.90\n",
      "              reveal 0.90\n",
      "                fifa 0.90\n",
      "               lyric 0.90\n",
      "                guys 0.90\n",
      "                espn 0.90\n",
      "               wings 0.90\n",
      "                 pov 0.90\n",
      "            youngboy 0.90\n",
      "               dream 0.90\n",
      "              golazo 0.89\n",
      "              league 0.89\n",
      "             premier 0.89\n",
      "                 100 0.89\n",
      "                 him 0.89\n",
      "               spicy 0.89\n",
      "                 ksi 0.89\n",
      "              bought 0.89\n",
      "               debut 0.89\n",
      "                durk 0.89\n",
      "                 psg 0.89\n",
      "                 smp 0.89\n",
      "           barcelona 0.89\n",
      "            playtime 0.89\n",
      "           liverpool 0.89\n",
      "             sidemen 0.89\n",
      "               hours 0.88\n",
      "              united 0.88\n",
      "                 but 0.88\n",
      "               방탄소년단 0.88\n",
      "               poppy 0.88\n",
      "               queen 0.88\n",
      "                baby 0.88\n",
      "                loss 0.88\n",
      "               blind 0.88\n",
      "              amelio 0.88\n",
      "          basketball 0.88\n",
      "               twins 0.88\n",
      "                full 0.87\n",
      "               spent 0.87\n",
      "                  he 0.87\n",
      "                nets 0.87\n",
      "                 ucl 0.87\n",
      "             manhunt 0.87\n",
      "                2020 0.87\n",
      "         performance 0.87\n",
      "                 sec 0.87\n",
      "              billie 0.87\n",
      "                 tnt 0.87\n",
      "                seek 0.87\n",
      "            birthday 0.87\n",
      "               drake 0.87\n",
      "                went 0.87\n",
      "                 usa 0.87\n",
      "              sports 0.86\n",
      "               squid 0.86\n",
      "             cooking 0.86\n",
      "              eilish 0.86\n",
      "          undisputed 0.86\n",
      "               dixie 0.86\n",
      "                 mod 0.86\n",
      "                 cat 0.86\n",
      "                food 0.86\n",
      "            extended 0.86\n",
      "                  ft 0.86\n",
      "Bad words\t     P(good | word)\n",
      "                leak 0.22\n",
      "             station 0.21\n",
      "                  e3 0.21\n",
      "             expanse 0.21\n",
      "            giveaway 0.21\n",
      "                 anh 0.21\n",
      "                 cho 0.21\n",
      "           transport 0.21\n",
      "               lapse 0.21\n",
      "            probably 0.21\n",
      "                tale 0.21\n",
      "              gaming 0.20\n",
      "             thrones 0.20\n",
      "             tractor 0.20\n",
      "          discussion 0.20\n",
      "              hubble 0.20\n",
      "           tailosive 0.20\n",
      "      reorchestrated 0.20\n",
      "               movie 0.20\n",
      "            handmaid 0.20\n",
      "               games 0.20\n",
      "                play 0.20\n",
      "                 ios 0.20\n",
      "                 suv 0.20\n",
      "             english 0.20\n",
      "              gerard 0.20\n",
      "              driver 0.20\n",
      "             fallout 0.19\n",
      "                 360 0.19\n",
      "             angular 0.19\n",
      "                cách 0.19\n",
      "              beyond 0.19\n",
      "               madea 0.18\n",
      "                 sun 0.18\n",
      "         predictions 0.18\n",
      "            illenium 0.18\n",
      "               perry 0.17\n",
      "           streaming 0.17\n",
      "                tech 0.17\n",
      "        construction 0.17\n",
      "              review 0.17\n",
      "              gamers 0.17\n",
      "                2013 0.17\n",
      "           astronomy 0.17\n",
      "                  tv 0.17\n",
      "                2010 0.16\n",
      "                 buy 0.16\n",
      "             harvard 0.15\n",
      "                 iss 0.15\n",
      "                 101 0.15\n",
      "               cargo 0.15\n",
      "             batería 0.14\n",
      "                 top 0.14\n",
      "               space 0.14\n",
      "       international 0.14\n",
      "                 4x4 0.14\n",
      "               touch 0.14\n",
      "                  3d 0.14\n",
      "              indeed 0.13\n",
      "                tame 0.13\n",
      "           discovery 0.13\n",
      "              undead 0.13\n",
      "                nasa 0.13\n",
      "                wait 0.13\n",
      "          statistics 0.13\n",
      "              nooner 0.13\n",
      "                  và 0.12\n",
      "             evolved 0.12\n",
      "           simulator 0.11\n",
      "           reactions 0.11\n",
      "                 hls 0.11\n",
      "                rant 0.11\n",
      "                drum 0.11\n",
      "                clip 0.11\n",
      "                 ark 0.11\n",
      "                sale 0.11\n",
      "             driving 0.10\n",
      "                trek 0.10\n",
      "             madonna 0.10\n",
      "           anonymous 0.10\n",
      "           paramount 0.09\n",
      "                  hd 0.08\n",
      "                hulu 0.08\n",
      "                 ps4 0.08\n",
      "          featurette 0.08\n",
      "              mobile 0.08\n",
      "                2015 0.07\n",
      "                spot 0.06\n",
      "             netflix 0.06\n",
      "            pictures 0.06\n",
      "             offroad 0.05\n",
      "                rent 0.05\n",
      "                  qn 0.04\n",
      "                 bảo 0.04\n",
      "                bình 0.04\n",
      "                2016 0.03\n",
      "                2019 0.03\n",
      "                2018 0.03\n",
      "             android 0.03\n",
      "                2017 0.03\n"
     ]
    }
   ],
   "source": [
    "words = np.array(vectorizer.get_feature_names())\n",
    "\n",
    "x = np.eye(xtest.shape[1])\n",
    "probs = clf.predict_log_proba(x)[:, 0]\n",
    "ind = np.argsort(probs)\n",
    "\n",
    "good_words = words[ind[:100]]\n",
    "bad_words = words[ind[-100:]]\n",
    "\n",
    "good_prob = probs[ind[:100]]\n",
    "bad_prob = probs[ind[-100:]]\n",
    "\n",
    "print(\"Good words\\t     P(good | word)\")\n",
    "for w, p in zip(good_words, good_prob):\n",
    "    print(\"{:>20}\".format(w), \"{:.2f}\".format(1 - np.exp(p)))\n",
    "    \n",
    "print(\"Bad words\\t     P(good | word)\")\n",
    "for w, p in zip(bad_words, bad_prob):\n",
    "    print(\"{:>20}\".format(w), \"{:.2f}\".format(1 - np.exp(p)))"
   ]
  },
  {
   "cell_type": "code",
   "execution_count": 20,
   "id": "32ee10b9",
   "metadata": {},
   "outputs": [
    {
     "data": {
      "text/plain": [
       "array([[0.46509481, 0.53490519]])"
      ]
     },
     "execution_count": 20,
     "metadata": {},
     "output_type": "execute_result"
    }
   ],
   "source": [
    "clf.predict_proba(vectorizer.transform(['']))"
   ]
  },
  {
   "cell_type": "code",
   "execution_count": 38,
   "id": "b38726d8",
   "metadata": {},
   "outputs": [
    {
     "data": {
      "text/plain": [
       "Pipeline(steps=[('tfidf', TfidfVectorizer()), ('clf', MultinomialNB())])"
      ]
     },
     "execution_count": 38,
     "metadata": {},
     "output_type": "execute_result"
    }
   ],
   "source": [
    "from sklearn.naive_bayes import MultinomialNB\n",
    "from sklearn.model_selection import train_test_split\n",
    "X = df[['title']]\n",
    "y = df.trendingOrNot\n",
    "\n",
    "X_train, X_test, y_train, y_test = train_test_split(X, y,test_size = 0.2)\n",
    "# X_train, X_test, y_train, y_test = train_test_split(os_data_X, os_data_y,test_size = 0.2)\n",
    "from sklearn.feature_extraction.text import CountVectorizer\n",
    "count_vect = CountVectorizer()\n",
    "X_train_counts = count_vect.fit_transform(X_train)\n",
    "\n",
    "from sklearn.feature_extraction.text import TfidfTransformer\n",
    "tfidf_transformer = TfidfTransformer()\n",
    "X_train_tfidf = tfidf_transformer.fit_transform(X_train_counts)\n",
    "\n",
    "from sklearn.pipeline import Pipeline\n",
    "from sklearn.feature_extraction.text import TfidfVectorizer\n",
    "\n",
    "text_clf = Pipeline([('tfidf',TfidfVectorizer()),('clf',MultinomialNB())])\n",
    "X_train = X_train['title'].values.ravel()\n",
    "text_clf.fit(X_train,y_train)"
   ]
  },
  {
   "cell_type": "code",
   "execution_count": 39,
   "id": "4f39e4d4",
   "metadata": {},
   "outputs": [
    {
     "name": "stdout",
     "output_type": "stream",
     "text": [
      "Accuracy: 0.7887056763461258\n"
     ]
    }
   ],
   "source": [
    "accuracy = text_clf.score(X_test['title'], y_test)\n",
    "print('Accuracy:', accuracy)"
   ]
  },
  {
   "cell_type": "code",
   "execution_count": 40,
   "id": "4dffad1e",
   "metadata": {},
   "outputs": [
    {
     "data": {
      "text/plain": [
       "55375              Incredible Solar Explosions #Sun #Shorts\n",
       "7709         Ever Given UPDATE 28 March Operation Backtwist\n",
       "50200     BMW X7 City Driving Simulator - Police Offroad...\n",
       "30340      Japan vs. Spain Highlights | 2022 FIFA World Cup\n",
       "76706     10 Facts You Don't Know About Every Pokémon Ge...\n",
       "                                ...                        \n",
       "41130         Jack Harlow - ONCE MAY COMES [Official Audio]\n",
       "101202        Sea cucumbers, hummus, bagels 🥯 , blue cheese\n",
       "97162                                           Live 8/4/18\n",
       "9734                               Meek Mill - Flamerz Flow\n",
       "69452     Atlanta Hawks vs. Boston Celtics Full Highligh...\n",
       "Name: title, Length: 20559, dtype: object"
      ]
     },
     "execution_count": 40,
     "metadata": {},
     "output_type": "execute_result"
    }
   ],
   "source": [
    "X_test['title']"
   ]
  },
  {
   "cell_type": "code",
   "execution_count": 45,
   "id": "ed2e54d9",
   "metadata": {},
   "outputs": [
    {
     "data": {
      "text/plain": [
       "55375     0\n",
       "7709      1\n",
       "50200     0\n",
       "30340     1\n",
       "76706     0\n",
       "         ..\n",
       "41130     0\n",
       "101202    0\n",
       "97162     0\n",
       "9734      1\n",
       "69452     0\n",
       "Name: trendingOrNot, Length: 20559, dtype: int64"
      ]
     },
     "execution_count": 45,
     "metadata": {},
     "output_type": "execute_result"
    }
   ],
   "source": [
    "y_test"
   ]
  },
  {
   "cell_type": "code",
   "execution_count": 49,
   "id": "601ad137",
   "metadata": {},
   "outputs": [
    {
     "data": {
      "text/plain": [
       "array([0], dtype=int64)"
      ]
     },
     "execution_count": 49,
     "metadata": {},
     "output_type": "execute_result"
    }
   ],
   "source": [
    "\n",
    "text_clf.predict(['Top 10 Best Places to Visit in Japan'])"
   ]
  },
  {
   "cell_type": "code",
   "execution_count": 65,
   "id": "bc02d3f7",
   "metadata": {},
   "outputs": [
    {
     "data": {
      "text/plain": [
       "Pipeline(steps=[('tfidf', TfidfVectorizer()), ('clf', SVC())])"
      ]
     },
     "execution_count": 65,
     "metadata": {},
     "output_type": "execute_result"
    }
   ],
   "source": [
    "from sklearn.svm import SVC\n",
    "from sklearn.model_selection import train_test_split\n",
    "X = merged_df[['tags_clean']]\n",
    "y = merged_df.trendingOrNot\n",
    "\n",
    "X_train, X_test, y_train, y_test = train_test_split(X, y,test_size = 0.2)\n",
    "# X_train, X_test, y_train, y_test = train_test_split(os_data_X, os_data_y,test_size = 0.2)\n",
    "from sklearn.feature_extraction.text import CountVectorizer\n",
    "count_vect = CountVectorizer()\n",
    "X_train_counts = count_vect.fit_transform(X_train)\n",
    "\n",
    "from sklearn.feature_extraction.text import TfidfTransformer\n",
    "tfidf_transformer = TfidfTransformer()\n",
    "X_train_tfidf = tfidf_transformer.fit_transform(X_train_counts)\n",
    "\n",
    "from sklearn.pipeline import Pipeline\n",
    "from sklearn.feature_extraction.text import TfidfVectorizer\n",
    "\n",
    "text_clf = Pipeline([('tfidf',TfidfVectorizer()),('clf',SVC())])\n",
    "X_train = X_train['tags_clean'].values.ravel()\n",
    "text_clf.fit(X_train,y_train)"
   ]
  },
  {
   "cell_type": "code",
   "execution_count": 66,
   "id": "7aa22800",
   "metadata": {},
   "outputs": [
    {
     "data": {
      "text/plain": [
       "48965    Story Work Pay Per Click Website Category Heal...\n",
       "58059    thinkhero Captain America Fictional Character ...\n",
       "34211                             sonic sonic the hedgehog\n",
       "4421     ChrisFix coolant antifreeze engine car how to ...\n",
       "42176    Netflix Trailer Netflix Original Series Netfli...\n",
       "                               ...                        \n",
       "33683    Telemundo Deportes Liverpool Manchester United...\n",
       "43235    hulu Stephen King Friday the 13th Horror jj ab...\n",
       "50067    webdev app development lesson tutorial angular...\n",
       "38288    ghost in the shell ghost in the shell trailer ...\n",
       "32916                                       golf good good\n",
       "Name: tags_clean, Length: 12213, dtype: object"
      ]
     },
     "execution_count": 66,
     "metadata": {},
     "output_type": "execute_result"
    }
   ],
   "source": [
    "X_test['tags_clean']"
   ]
  },
  {
   "cell_type": "code",
   "execution_count": 68,
   "id": "96b493c1",
   "metadata": {},
   "outputs": [
    {
     "name": "stdout",
     "output_type": "stream",
     "text": [
      "Accuracy: 0.9649553754196348\n"
     ]
    }
   ],
   "source": [
    "accuracy = text_clf.score(X_test['tags_clean'], y_test)\n",
    "print('Accuracy:', accuracy)"
   ]
  },
  {
   "cell_type": "code",
   "execution_count": 74,
   "id": "14ad12f7",
   "metadata": {},
   "outputs": [
    {
     "data": {
      "text/plain": [
       "array([1], dtype=int64)"
      ]
     },
     "execution_count": 74,
     "metadata": {},
     "output_type": "execute_result"
    }
   ],
   "source": [
    "\n",
    "text_clf.predict(['sonic'])"
   ]
  },
  {
   "cell_type": "markdown",
   "id": "94752591",
   "metadata": {},
   "source": [
    "# Feature Selection"
   ]
  },
  {
   "cell_type": "code",
   "execution_count": 48,
   "id": "2683391b",
   "metadata": {},
   "outputs": [
    {
     "data": {
      "text/html": [
       "<div>\n",
       "<style scoped>\n",
       "    .dataframe tbody tr th:only-of-type {\n",
       "        vertical-align: middle;\n",
       "    }\n",
       "\n",
       "    .dataframe tbody tr th {\n",
       "        vertical-align: top;\n",
       "    }\n",
       "\n",
       "    .dataframe thead th {\n",
       "        text-align: right;\n",
       "    }\n",
       "</style>\n",
       "<table border=\"1\" class=\"dataframe\">\n",
       "  <thead>\n",
       "    <tr style=\"text-align: right;\">\n",
       "      <th></th>\n",
       "      <th>categoryId</th>\n",
       "      <th>dayOfWeek</th>\n",
       "      <th>daytime</th>\n",
       "    </tr>\n",
       "  </thead>\n",
       "  <tbody>\n",
       "    <tr>\n",
       "      <th>categoryId</th>\n",
       "      <td>1.000000</td>\n",
       "      <td>-0.009481</td>\n",
       "      <td>-0.044329</td>\n",
       "    </tr>\n",
       "    <tr>\n",
       "      <th>dayOfWeek</th>\n",
       "      <td>-0.009481</td>\n",
       "      <td>1.000000</td>\n",
       "      <td>0.015999</td>\n",
       "    </tr>\n",
       "    <tr>\n",
       "      <th>daytime</th>\n",
       "      <td>-0.044329</td>\n",
       "      <td>0.015999</td>\n",
       "      <td>1.000000</td>\n",
       "    </tr>\n",
       "  </tbody>\n",
       "</table>\n",
       "</div>"
      ],
      "text/plain": [
       "            categoryId  dayOfWeek   daytime\n",
       "categoryId    1.000000  -0.009481 -0.044329\n",
       "dayOfWeek    -0.009481   1.000000  0.015999\n",
       "daytime      -0.044329   0.015999  1.000000"
      ]
     },
     "execution_count": 48,
     "metadata": {},
     "output_type": "execute_result"
    }
   ],
   "source": [
    "dfCorr = merged_df[['categoryId','dayOfWeek','daytime']].corr()\n",
    "dfCorr\n",
    "# sns.heatmap(dfCorr,annot=True)"
   ]
  },
  {
   "cell_type": "code",
   "execution_count": 83,
   "id": "2c748199",
   "metadata": {},
   "outputs": [
    {
     "data": {
      "text/html": [
       "<div>\n",
       "<style scoped>\n",
       "    .dataframe tbody tr th:only-of-type {\n",
       "        vertical-align: middle;\n",
       "    }\n",
       "\n",
       "    .dataframe tbody tr th {\n",
       "        vertical-align: top;\n",
       "    }\n",
       "\n",
       "    .dataframe thead th {\n",
       "        text-align: right;\n",
       "    }\n",
       "</style>\n",
       "<table border=\"1\" class=\"dataframe\">\n",
       "  <thead>\n",
       "    <tr style=\"text-align: right;\">\n",
       "      <th></th>\n",
       "      <th>videoID</th>\n",
       "      <th>title</th>\n",
       "      <th>publishedAt</th>\n",
       "      <th>channelId</th>\n",
       "      <th>channelTitle</th>\n",
       "      <th>categoryId</th>\n",
       "      <th>tags</th>\n",
       "      <th>views</th>\n",
       "      <th>likes</th>\n",
       "      <th>comments</th>\n",
       "      <th>description</th>\n",
       "      <th>untilTrend</th>\n",
       "      <th>trendingOrNot</th>\n",
       "    </tr>\n",
       "  </thead>\n",
       "  <tbody>\n",
       "    <tr>\n",
       "      <th>0</th>\n",
       "      <td>cAtazIk1IYw</td>\n",
       "      <td>How To Make a Curried Egg Sandwich</td>\n",
       "      <td>2020-08-07 18:30:06+00:00</td>\n",
       "      <td>UCR4s1DE9J4DHzZYXMltSMAg</td>\n",
       "      <td>HowToBasic</td>\n",
       "      <td>26</td>\n",
       "      <td>how to make a curried egg sandwich|curried egg...</td>\n",
       "      <td>1238677.0</td>\n",
       "      <td>104736.0</td>\n",
       "      <td>13876.0</td>\n",
       "      <td>Today I show you how to make a curried egg san...</td>\n",
       "      <td>4</td>\n",
       "      <td>1</td>\n",
       "    </tr>\n",
       "  </tbody>\n",
       "</table>\n",
       "</div>"
      ],
      "text/plain": [
       "       videoID                               title               publishedAt  \\\n",
       "0  cAtazIk1IYw  How To Make a Curried Egg Sandwich 2020-08-07 18:30:06+00:00   \n",
       "\n",
       "                  channelId channelTitle  categoryId  \\\n",
       "0  UCR4s1DE9J4DHzZYXMltSMAg   HowToBasic          26   \n",
       "\n",
       "                                                tags      views     likes  \\\n",
       "0  how to make a curried egg sandwich|curried egg...  1238677.0  104736.0   \n",
       "\n",
       "   comments                                        description  untilTrend  \\\n",
       "0   13876.0  Today I show you how to make a curried egg san...           4   \n",
       "\n",
       "   trendingOrNot  \n",
       "0              1  "
      ]
     },
     "execution_count": 83,
     "metadata": {},
     "output_type": "execute_result"
    }
   ],
   "source": [
    "merged_df.head(1)"
   ]
  },
  {
   "cell_type": "code",
   "execution_count": 67,
   "id": "fdcd547c",
   "metadata": {},
   "outputs": [],
   "source": [
    "X = df[['categoryId', 'views', 'likes', 'comments', 'dayOfWeek','duration']]\n",
    "y = df['trendingOrNot']\n"
   ]
  },
  {
   "cell_type": "code",
   "execution_count": 68,
   "id": "6286f37b",
   "metadata": {},
   "outputs": [
    {
     "data": {
      "text/plain": [
       "dayOfWeek     2.165008e-42\n",
       "categoryId    0.000000e+00\n",
       "views         0.000000e+00\n",
       "likes         0.000000e+00\n",
       "comments      0.000000e+00\n",
       "duration      0.000000e+00\n",
       "dtype: float64"
      ]
     },
     "execution_count": 68,
     "metadata": {},
     "output_type": "execute_result"
    }
   ],
   "source": [
    "#Categorical Feature(Chi-Squared Test)\n",
    "from sklearn.model_selection import train_test_split\n",
    "from sklearn.feature_selection import chi2\n",
    "\n",
    "X_train, X_test, y_train, y_test = train_test_split(X,y,test_size = 0.3,random_state=123)\n",
    "\n",
    "f_score=chi2(X_train,y_train)\n",
    "\n",
    "pvalues = pd.Series(f_score[1])\n",
    "pvalues.index = X_train.columns\n",
    "pvalues.sort_values(ascending=False)"
   ]
  },
  {
   "cell_type": "code",
   "execution_count": 42,
   "id": "71d4c279",
   "metadata": {},
   "outputs": [
    {
     "data": {
      "text/plain": [
       "array(['likes', 'comments'], dtype=object)"
      ]
     },
     "execution_count": 42,
     "metadata": {},
     "output_type": "execute_result"
    }
   ],
   "source": [
    "#Regularization-based Feature Selection(L1 (Lasso) / L2(Ridge))\n",
    "from sklearn.model_selection import train_test_split\n",
    "\n",
    "X_train, X_test, y_train, y_test = train_test_split(X,y,test_size = 0.3,random_state=123)\n",
    "\n",
    "from sklearn.feature_selection import SelectFromModel\n",
    "from sklearn.linear_model import LogisticRegression\n",
    "\n",
    "\n",
    "sel = SelectFromModel(LogisticRegression(penalty=\"l2\",C=1,solver=\"liblinear\"))\n",
    "\n",
    "sel.fit(X_train,y_train)\n",
    "\n",
    "sel.get_feature_names_out()"
   ]
  },
  {
   "cell_type": "code",
   "execution_count": 69,
   "id": "34cb19f1",
   "metadata": {},
   "outputs": [
    {
     "data": {
      "text/plain": [
       "duration        0.059012\n",
       "categoryId      0.044644\n",
       "title_length    0.022751\n",
       "dayOfWeek       0.005229\n",
       "daytime         0.004172\n",
       "dtype: float64"
      ]
     },
     "execution_count": 69,
     "metadata": {},
     "output_type": "execute_result"
    }
   ],
   "source": [
    "# Mutual Information\n",
    "from sklearn.feature_selection import mutual_info_classif\n",
    "from sklearn.model_selection import train_test_split\n",
    "X = df[['categoryId',  'dayOfWeek','daytime','title_length','duration']]\n",
    "y = df['trendingOrNot']\n",
    "X_train, X_test, y_train, y_test = train_test_split(X,y,test_size = 0.3,random_state=123)\n",
    "mutual_info = mutual_info_classif(X_train,y_train)\n",
    "mutual_info = pd.Series(mutual_info)\n",
    "mutual_info.index = X_train.columns\n",
    "mutual_info.sort_values(ascending=False)"
   ]
  },
  {
   "cell_type": "code",
   "execution_count": 70,
   "id": "5bafcd89",
   "metadata": {},
   "outputs": [
    {
     "data": {
      "text/plain": [
       "RFE(estimator=DecisionTreeClassifier(), n_features_to_select=2)"
      ]
     },
     "execution_count": 70,
     "metadata": {},
     "output_type": "execute_result"
    }
   ],
   "source": [
    "# Recursive Feature Elimination(RFE)\n",
    "\n",
    "from sklearn.feature_selection import RFE\n",
    "from sklearn.tree import DecisionTreeClassifier\n",
    "\n",
    "X = df[['categoryId',  'dayOfWeek','daytime','title_length','duration']]\n",
    "y = df['trendingOrNot']\n",
    "\n",
    "rfe = RFE(estimator=DecisionTreeClassifier(),n_features_to_select=2)\n",
    "rfe.fit(X,y)\n"
   ]
  },
  {
   "cell_type": "code",
   "execution_count": 71,
   "id": "ea5dca58",
   "metadata": {},
   "outputs": [
    {
     "name": "stdout",
     "output_type": "stream",
     "text": [
      "categoryId selected=False rank=2\n",
      "dayOfWeek selected=False rank=3\n",
      "daytime selected=False rank=4\n",
      "title_length selected=True rank=1\n",
      "duration selected=True rank=1\n"
     ]
    }
   ],
   "source": [
    "for i, col in enumerate(X.columns):\n",
    "    print(f\"{col} selected={rfe.support_[i]} rank={rfe.ranking_[i]}\")\n"
   ]
  },
  {
   "cell_type": "code",
   "execution_count": 41,
   "id": "7eafb8db",
   "metadata": {},
   "outputs": [
    {
     "data": {
      "text/plain": [
       "<AxesSubplot:>"
      ]
     },
     "execution_count": 41,
     "metadata": {},
     "output_type": "execute_result"
    },
    {
     "data": {
      "image/png": "[encoded data removed]",
      "text/plain": [
       "<Figure size 432x288 with 2 Axes>"
      ]
     },
     "metadata": {},
     "output_type": "display_data"
    }
   ],
   "source": [
    "# Select columns for correlation analysis\n",
    "cols = ['categoryId', 'dayOfWeek', 'daytime', 'title_length', 'duration']\n",
    "corr_matrix = df[cols].corr()\n",
    "\n",
    "# Plot heatmap of correlation matrix\n",
    "sns.heatmap(corr_matrix, cmap='coolwarm', annot=True)\n"
   ]
  },
  {
   "cell_type": "markdown",
   "id": "e7197614",
   "metadata": {},
   "source": [
    "# Classification (Logistic Regression)"
   ]
  },
  {
   "cell_type": "code",
   "execution_count": 220,
   "id": "ed40b361",
   "metadata": {},
   "outputs": [
    {
     "data": {
      "text/plain": [
       "<matplotlib.collections.PathCollection at 0x1afdf91ba00>"
      ]
     },
     "execution_count": 220,
     "metadata": {},
     "output_type": "execute_result"
    },
    {
     "data": {
      "image/png": "[encoded data removed]",
      "text/plain": [
       "<Figure size 432x288 with 1 Axes>"
      ]
     },
     "metadata": {},
     "output_type": "display_data"
    }
   ],
   "source": [
    "plt.scatter(df.categoryId,df.trendingOrNot,color='red')"
   ]
  },
  {
   "cell_type": "code",
   "execution_count": 141,
   "id": "d52c8f75",
   "metadata": {},
   "outputs": [
    {
     "data": {
      "text/plain": [
       "Index(['title', 'categoryId', 'tags', 'views', 'likes', 'comments',\n",
       "       'dayOfWeek', 'trendingOrNot'],\n",
       "      dtype='object')"
      ]
     },
     "execution_count": 141,
     "metadata": {},
     "output_type": "execute_result"
    }
   ],
   "source": [
    "merged_df.columns"
   ]
  },
  {
   "cell_type": "code",
   "execution_count": 28,
   "id": "d5353163",
   "metadata": {},
   "outputs": [],
   "source": [
    "from sklearn.model_selection import train_test_split\n",
    "X = df[['categoryId','dayOfWeek','daytime','title_length','duration']]\n",
    "y = df.trendingOrNot\n",
    "X_train, X_test, y_train, y_test = train_test_split(X, y,test_size = 0.5)"
   ]
  },
  {
   "cell_type": "code",
   "execution_count": 116,
   "id": "4cdab10e",
   "metadata": {},
   "outputs": [
    {
     "data": {
      "text/html": [
       "<div>\n",
       "<style scoped>\n",
       "    .dataframe tbody tr th:only-of-type {\n",
       "        vertical-align: middle;\n",
       "    }\n",
       "\n",
       "    .dataframe tbody tr th {\n",
       "        vertical-align: top;\n",
       "    }\n",
       "\n",
       "    .dataframe thead th {\n",
       "        text-align: right;\n",
       "    }\n",
       "</style>\n",
       "<table border=\"1\" class=\"dataframe\">\n",
       "  <thead>\n",
       "    <tr style=\"text-align: right;\">\n",
       "      <th></th>\n",
       "      <th>views</th>\n",
       "    </tr>\n",
       "  </thead>\n",
       "  <tbody>\n",
       "    <tr>\n",
       "      <th>21445</th>\n",
       "      <td>2317110.0</td>\n",
       "    </tr>\n",
       "    <tr>\n",
       "      <th>2502</th>\n",
       "      <td>686554.0</td>\n",
       "    </tr>\n",
       "    <tr>\n",
       "      <th>36282</th>\n",
       "      <td>110103.0</td>\n",
       "    </tr>\n",
       "    <tr>\n",
       "      <th>38397</th>\n",
       "      <td>35856.0</td>\n",
       "    </tr>\n",
       "    <tr>\n",
       "      <th>1688</th>\n",
       "      <td>482856.0</td>\n",
       "    </tr>\n",
       "    <tr>\n",
       "      <th>...</th>\n",
       "      <td>...</td>\n",
       "    </tr>\n",
       "    <tr>\n",
       "      <th>20435</th>\n",
       "      <td>551663.0</td>\n",
       "    </tr>\n",
       "    <tr>\n",
       "      <th>3518</th>\n",
       "      <td>1115902.0</td>\n",
       "    </tr>\n",
       "    <tr>\n",
       "      <th>50524</th>\n",
       "      <td>798203.0</td>\n",
       "    </tr>\n",
       "    <tr>\n",
       "      <th>25639</th>\n",
       "      <td>2878055.0</td>\n",
       "    </tr>\n",
       "    <tr>\n",
       "      <th>26977</th>\n",
       "      <td>604678.0</td>\n",
       "    </tr>\n",
       "  </tbody>\n",
       "</table>\n",
       "<p>30952 rows × 1 columns</p>\n",
       "</div>"
      ],
      "text/plain": [
       "           views\n",
       "21445  2317110.0\n",
       "2502    686554.0\n",
       "36282   110103.0\n",
       "38397    35856.0\n",
       "1688    482856.0\n",
       "...          ...\n",
       "20435   551663.0\n",
       "3518   1115902.0\n",
       "50524   798203.0\n",
       "25639  2878055.0\n",
       "26977   604678.0\n",
       "\n",
       "[30952 rows x 1 columns]"
      ]
     },
     "execution_count": 116,
     "metadata": {},
     "output_type": "execute_result"
    }
   ],
   "source": [
    "X_test"
   ]
  },
  {
   "cell_type": "code",
   "execution_count": 29,
   "id": "d83e8808",
   "metadata": {},
   "outputs": [
    {
     "data": {
      "text/plain": [
       "0.738715816031987"
      ]
     },
     "execution_count": 29,
     "metadata": {},
     "output_type": "execute_result"
    }
   ],
   "source": [
    "from sklearn.linear_model import LogisticRegression\n",
    "model = LogisticRegression()\n",
    "model.fit(X_train,y_train)\n",
    "\n",
    "model.score(X_test,y_test)"
   ]
  },
  {
   "cell_type": "code",
   "execution_count": 30,
   "id": "3cd70c5c",
   "metadata": {},
   "outputs": [
    {
     "data": {
      "text/plain": [
       "array([0, 0, 0, ..., 0, 0, 0], dtype=int64)"
      ]
     },
     "execution_count": 30,
     "metadata": {},
     "output_type": "execute_result"
    }
   ],
   "source": [
    "model.predict(X_test)"
   ]
  },
  {
   "cell_type": "code",
   "execution_count": 31,
   "id": "bae721d0",
   "metadata": {},
   "outputs": [
    {
     "data": {
      "text/plain": [
       "array([[0.73216023, 0.26783977],\n",
       "       [0.83297616, 0.16702384],\n",
       "       [0.61271336, 0.38728664],\n",
       "       ...,\n",
       "       [0.56377132, 0.43622868],\n",
       "       [0.87162221, 0.12837779],\n",
       "       [0.84560732, 0.15439268]])"
      ]
     },
     "execution_count": 31,
     "metadata": {},
     "output_type": "execute_result"
    }
   ],
   "source": [
    "model.predict_proba(X_test)"
   ]
  },
  {
   "cell_type": "code",
   "execution_count": 32,
   "id": "3385791b",
   "metadata": {},
   "outputs": [
    {
     "data": {
      "text/html": [
       "<div>\n",
       "<style scoped>\n",
       "    .dataframe tbody tr th:only-of-type {\n",
       "        vertical-align: middle;\n",
       "    }\n",
       "\n",
       "    .dataframe tbody tr th {\n",
       "        vertical-align: top;\n",
       "    }\n",
       "\n",
       "    .dataframe thead th {\n",
       "        text-align: right;\n",
       "    }\n",
       "</style>\n",
       "<table border=\"1\" class=\"dataframe\">\n",
       "  <thead>\n",
       "    <tr style=\"text-align: right;\">\n",
       "      <th></th>\n",
       "      <th>categoryId</th>\n",
       "      <th>dayOfWeek</th>\n",
       "      <th>daytime</th>\n",
       "      <th>title_length</th>\n",
       "      <th>duration</th>\n",
       "    </tr>\n",
       "  </thead>\n",
       "  <tbody>\n",
       "    <tr>\n",
       "      <th>63358</th>\n",
       "      <td>24</td>\n",
       "      <td>4</td>\n",
       "      <td>1</td>\n",
       "      <td>45</td>\n",
       "      <td>1755.0</td>\n",
       "    </tr>\n",
       "    <tr>\n",
       "      <th>7012</th>\n",
       "      <td>26</td>\n",
       "      <td>6</td>\n",
       "      <td>1</td>\n",
       "      <td>75</td>\n",
       "      <td>462.0</td>\n",
       "    </tr>\n",
       "    <tr>\n",
       "      <th>1668</th>\n",
       "      <td>27</td>\n",
       "      <td>1</td>\n",
       "      <td>0</td>\n",
       "      <td>16</td>\n",
       "      <td>64.0</td>\n",
       "    </tr>\n",
       "    <tr>\n",
       "      <th>88710</th>\n",
       "      <td>24</td>\n",
       "      <td>0</td>\n",
       "      <td>3</td>\n",
       "      <td>87</td>\n",
       "      <td>64.0</td>\n",
       "    </tr>\n",
       "    <tr>\n",
       "      <th>56137</th>\n",
       "      <td>20</td>\n",
       "      <td>5</td>\n",
       "      <td>1</td>\n",
       "      <td>39</td>\n",
       "      <td>506.0</td>\n",
       "    </tr>\n",
       "    <tr>\n",
       "      <th>...</th>\n",
       "      <td>...</td>\n",
       "      <td>...</td>\n",
       "      <td>...</td>\n",
       "      <td>...</td>\n",
       "      <td>...</td>\n",
       "    </tr>\n",
       "    <tr>\n",
       "      <th>99944</th>\n",
       "      <td>22</td>\n",
       "      <td>2</td>\n",
       "      <td>1</td>\n",
       "      <td>41</td>\n",
       "      <td>337.0</td>\n",
       "    </tr>\n",
       "    <tr>\n",
       "      <th>51681</th>\n",
       "      <td>24</td>\n",
       "      <td>0</td>\n",
       "      <td>1</td>\n",
       "      <td>56</td>\n",
       "      <td>1027.0</td>\n",
       "    </tr>\n",
       "    <tr>\n",
       "      <th>85052</th>\n",
       "      <td>20</td>\n",
       "      <td>4</td>\n",
       "      <td>0</td>\n",
       "      <td>38</td>\n",
       "      <td>891.0</td>\n",
       "    </tr>\n",
       "    <tr>\n",
       "      <th>84526</th>\n",
       "      <td>24</td>\n",
       "      <td>4</td>\n",
       "      <td>0</td>\n",
       "      <td>99</td>\n",
       "      <td>311.0</td>\n",
       "    </tr>\n",
       "    <tr>\n",
       "      <th>94647</th>\n",
       "      <td>22</td>\n",
       "      <td>2</td>\n",
       "      <td>3</td>\n",
       "      <td>75</td>\n",
       "      <td>608.0</td>\n",
       "    </tr>\n",
       "  </tbody>\n",
       "</table>\n",
       "<p>46769 rows × 5 columns</p>\n",
       "</div>"
      ],
      "text/plain": [
       "       categoryId  dayOfWeek  daytime  title_length  duration\n",
       "63358          24          4        1            45    1755.0\n",
       "7012           26          6        1            75     462.0\n",
       "1668           27          1        0            16      64.0\n",
       "88710          24          0        3            87      64.0\n",
       "56137          20          5        1            39     506.0\n",
       "...           ...        ...      ...           ...       ...\n",
       "99944          22          2        1            41     337.0\n",
       "51681          24          0        1            56    1027.0\n",
       "85052          20          4        0            38     891.0\n",
       "84526          24          4        0            99     311.0\n",
       "94647          22          2        3            75     608.0\n",
       "\n",
       "[46769 rows x 5 columns]"
      ]
     },
     "execution_count": 32,
     "metadata": {},
     "output_type": "execute_result"
    }
   ],
   "source": [
    "X_test"
   ]
  },
  {
   "cell_type": "code",
   "execution_count": 33,
   "id": "12f22936",
   "metadata": {},
   "outputs": [
    {
     "data": {
      "text/plain": [
       "63358    0\n",
       "7012     0\n",
       "1668     0\n",
       "88710    0\n",
       "56137    1\n",
       "        ..\n",
       "99944    0\n",
       "51681    1\n",
       "85052    0\n",
       "84526    0\n",
       "94647    1\n",
       "Name: trendingOrNot, Length: 46769, dtype: int64"
      ]
     },
     "execution_count": 33,
     "metadata": {},
     "output_type": "execute_result"
    }
   ],
   "source": [
    "y_test"
   ]
  },
  {
   "cell_type": "markdown",
   "id": "d17f11e7",
   "metadata": {},
   "source": [
    "# Classfication (SVC)"
   ]
  },
  {
   "cell_type": "code",
   "execution_count": 31,
   "id": "a5ab6e2e",
   "metadata": {},
   "outputs": [
    {
     "data": {
      "text/plain": [
       "Index(['title', 'categoryId', 'tags', 'views', 'likes', 'comments',\n",
       "       'dayOfWeek', 'daytime', 'trendingOrNot'],\n",
       "      dtype='object')"
      ]
     },
     "execution_count": 31,
     "metadata": {},
     "output_type": "execute_result"
    }
   ],
   "source": [
    "df.columns"
   ]
  },
  {
   "cell_type": "code",
   "execution_count": 35,
   "id": "9917ed41",
   "metadata": {},
   "outputs": [
    {
     "data": {
      "text/plain": [
       "0.7004718128313634"
      ]
     },
     "execution_count": 35,
     "metadata": {},
     "output_type": "execute_result"
    }
   ],
   "source": [
    "from sklearn.svm import SVC\n",
    "\n",
    "\n",
    "from sklearn.model_selection import train_test_split\n",
    "X = df[['categoryId','dayOfWeek','daytime']]\n",
    "y = df.trendingOrNot\n",
    "\n",
    "X_train, X_test, y_train, y_test = train_test_split(X, y,test_size = 0.2)\n",
    "# X_train, X_test, y_train, y_test = train_test_split(os_data_X, os_data_y,test_size = 0.2)\n",
    "model = SVC()\n",
    "\n",
    "model.fit(X_train,y_train)\n",
    "\n",
    "model.score(X_test,y_test)"
   ]
  },
  {
   "cell_type": "code",
   "execution_count": 36,
   "id": "14045557",
   "metadata": {},
   "outputs": [
    {
     "data": {
      "text/plain": [
       "17643     1\n",
       "32027     1\n",
       "21663     1\n",
       "21869     1\n",
       "101916    0\n",
       "         ..\n",
       "66837     0\n",
       "31568     1\n",
       "10673     1\n",
       "20325     1\n",
       "20230     1\n",
       "Name: trendingOrNot, Length: 20559, dtype: int64"
      ]
     },
     "execution_count": 36,
     "metadata": {},
     "output_type": "execute_result"
    }
   ],
   "source": [
    "y_test"
   ]
  },
  {
   "cell_type": "code",
   "execution_count": 80,
   "id": "c844471b",
   "metadata": {},
   "outputs": [
    {
     "name": "stderr",
     "output_type": "stream",
     "text": [
      "C:\\Users\\LEGION\\anaconda3\\lib\\site-packages\\sklearn\\base.py:450: UserWarning: X does not have valid feature names, but SVC was fitted with feature names\n",
      "  warnings.warn(\n"
     ]
    },
    {
     "data": {
      "text/plain": [
       "array([0], dtype=int64)"
      ]
     },
     "execution_count": 80,
     "metadata": {},
     "output_type": "execute_result"
    }
   ],
   "source": [
    "X_test = np.array([[200000, 40000, 50000,1]])\n",
    "\n",
    "model.predict(X_test)"
   ]
  },
  {
   "cell_type": "code",
   "execution_count": 101,
   "id": "14a9167f",
   "metadata": {},
   "outputs": [
    {
     "name": "stdout",
     "output_type": "stream",
     "text": [
      "Accuracy: 0.9331859493981822\n"
     ]
    }
   ],
   "source": [
    "from sklearn.svm import SVC\n",
    "from sklearn.model_selection import train_test_split\n",
    "# Split data into training and testing sets\n",
    "X = merged_df[['title']]\n",
    "y = merged_df.trendingOrNot\n",
    "X_train, X_test, y_train, y_test = train_test_split(X, y, test_size=0.2)\n",
    "\n",
    "# Create a pipeline object with CountVectorizer, TfidfTransformer, and SVM\n",
    "text_clf = Pipeline([\n",
    "    ('vect', CountVectorizer()),\n",
    "    ('tfidf', TfidfTransformer()),\n",
    "    ('clf', SVC())\n",
    "])\n",
    "\n",
    "# Fit the pipeline object on the training data\n",
    "text_clf.fit(X_train['title'], y_train)\n",
    "\n",
    "# Predict on the testing data\n",
    "y_pred = text_clf.predict(X_test['title'])\n",
    "\n",
    "# Evaluate the performance of the classifier\n",
    "from sklearn.metrics import accuracy_score\n",
    "accuracy = accuracy_score(y_test, y_pred)\n",
    "print('Accuracy:', accuracy)"
   ]
  },
  {
   "cell_type": "code",
   "execution_count": 103,
   "id": "a6916396",
   "metadata": {},
   "outputs": [
    {
     "data": {
      "text/plain": [
       "array([0, 1, 1, 1], dtype=int64)"
      ]
     },
     "execution_count": 103,
     "metadata": {},
     "output_type": "execute_result"
    }
   ],
   "source": [
    "text_clf.predict(X_test)"
   ]
  },
  {
   "cell_type": "code",
   "execution_count": 109,
   "id": "42fc39a0",
   "metadata": {},
   "outputs": [
    {
     "name": "stdout",
     "output_type": "stream",
     "text": [
      "Accuracy: 0.9331859493981822\n"
     ]
    }
   ],
   "source": [
    "test = text_clf.predict(X_test['title'])\n",
    "from sklearn.metrics import accuracy_score\n",
    "accuracy = accuracy_score(y_test, test)\n",
    "print('Accuracy:', accuracy)"
   ]
  },
  {
   "cell_type": "code",
   "execution_count": 146,
   "id": "48e9a346",
   "metadata": {},
   "outputs": [
    {
     "data": {
      "text/plain": [
       "Pipeline(steps=[('tfidf', TfidfVectorizer()), ('clf', SVC())])"
      ]
     },
     "execution_count": 146,
     "metadata": {},
     "output_type": "execute_result"
    }
   ],
   "source": [
    "from sklearn.svm import SVC\n",
    "from sklearn.model_selection import train_test_split\n",
    "X = merged_df[['title']]\n",
    "y = merged_df.trendingOrNot\n",
    "\n",
    "X_train, X_test, y_train, y_test = train_test_split(X, y,test_size = 0.2)\n",
    "# X_train, X_test, y_train, y_test = train_test_split(os_data_X, os_data_y,test_size = 0.2)\n",
    "from sklearn.feature_extraction.text import CountVectorizer\n",
    "count_vect = CountVectorizer()\n",
    "X_train_counts = count_vect.fit_transform(X_train)\n",
    "\n",
    "from sklearn.feature_extraction.text import TfidfTransformer\n",
    "tfidf_transformer = TfidfTransformer()\n",
    "X_train_tfidf = tfidf_transformer.fit_transform(X_train_counts)\n",
    "\n",
    "from sklearn.pipeline import Pipeline\n",
    "from sklearn.feature_extraction.text import TfidfVectorizer\n",
    "\n",
    "text_clf = Pipeline([('tfidf',TfidfVectorizer()),('clf',SVC())])\n",
    "X_train = X_train['title'].values.ravel()\n",
    "text_clf.fit(X_train,y_train)\n",
    "# model = SVC()\n",
    "\n",
    "# model.fit(X_train,y_train)\n",
    "\n",
    "# model.score(X_test,y_test)\n"
   ]
  },
  {
   "cell_type": "code",
   "execution_count": 147,
   "id": "5e6cc3bb",
   "metadata": {},
   "outputs": [
    {
     "name": "stdout",
     "output_type": "stream",
     "text": [
      "Accuracy: 0.9307002665374364\n"
     ]
    }
   ],
   "source": [
    "accuracy = text_clf.score(X_test['title'], y_test)\n",
    "print('Accuracy:', accuracy)"
   ]
  },
  {
   "cell_type": "code",
   "execution_count": 151,
   "id": "38173a21",
   "metadata": {},
   "outputs": [
    {
     "data": {
      "text/plain": [
       "13964                    Wildest Dreams (Taylor's Version)\n",
       "24250    The Netherlands upset Belgium 4-1 behind two g...\n",
       "55563              Top 10 Pokémon With TERRIBLE Evolutions\n",
       "57753    Review Game Blade & Soul Revolution Mobile | B...\n",
       "46189    CYBERPUNK 2077 NEW DETAILS, PARENTS ARE HIRING...\n",
       "                               ...                        \n",
       "49527    Epic is Suing This Fortnite Hacker Because Of ...\n",
       "61788    Affordable Skincare Routine for Acne Prone Ski...\n",
       "24214    Kambosos & Haney Have Explosive Faceoff Interv...\n",
       "25854                Thor: Love and Thunder - Movie Review\n",
       "38483    You're Next (2013) - 'Really Scary' TV Spot #1...\n",
       "Name: title, Length: 12381, dtype: object"
      ]
     },
     "execution_count": 151,
     "metadata": {},
     "output_type": "execute_result"
    }
   ],
   "source": [
    "X_test['title']"
   ]
  },
  {
   "cell_type": "code",
   "execution_count": 125,
   "id": "7c291c55",
   "metadata": {},
   "outputs": [
    {
     "data": {
      "text/plain": [
       "SVC()"
      ]
     },
     "execution_count": 125,
     "metadata": {},
     "output_type": "execute_result"
    }
   ],
   "source": [
    "X_train, X_test, y_train, y_test = train_test_split(X_res, y_res,test_size = 0.2)\n",
    "model = SVC()\n",
    "\n",
    "model.fit(X_train,y_train)\n",
    "model.score(X_test,y_test)"
   ]
  },
  {
   "cell_type": "code",
   "execution_count": 132,
   "id": "744fd2a2",
   "metadata": {},
   "outputs": [
    {
     "data": {
      "text/plain": [
       "array([0, 0, 1, 1, 1, 0, 0, 1, 0, 0], dtype=int64)"
      ]
     },
     "execution_count": 132,
     "metadata": {},
     "output_type": "execute_result"
    }
   ],
   "source": [
    "model.predict(X_test[:10])"
   ]
  },
  {
   "cell_type": "code",
   "execution_count": 131,
   "id": "4ed61cf7",
   "metadata": {},
   "outputs": [
    {
     "data": {
      "text/html": [
       "<div>\n",
       "<style scoped>\n",
       "    .dataframe tbody tr th:only-of-type {\n",
       "        vertical-align: middle;\n",
       "    }\n",
       "\n",
       "    .dataframe tbody tr th {\n",
       "        vertical-align: top;\n",
       "    }\n",
       "\n",
       "    .dataframe thead th {\n",
       "        text-align: right;\n",
       "    }\n",
       "</style>\n",
       "<table border=\"1\" class=\"dataframe\">\n",
       "  <thead>\n",
       "    <tr style=\"text-align: right;\">\n",
       "      <th></th>\n",
       "      <th>views</th>\n",
       "      <th>likes</th>\n",
       "      <th>comments</th>\n",
       "    </tr>\n",
       "  </thead>\n",
       "  <tbody>\n",
       "    <tr>\n",
       "      <th>39437</th>\n",
       "      <td>11603.0</td>\n",
       "      <td>142.0</td>\n",
       "      <td>15.0</td>\n",
       "    </tr>\n",
       "    <tr>\n",
       "      <th>58087</th>\n",
       "      <td>20821.0</td>\n",
       "      <td>452.0</td>\n",
       "      <td>66.0</td>\n",
       "    </tr>\n",
       "    <tr>\n",
       "      <th>5664</th>\n",
       "      <td>3624294.0</td>\n",
       "      <td>27022.0</td>\n",
       "      <td>0.0</td>\n",
       "    </tr>\n",
       "    <tr>\n",
       "      <th>16079</th>\n",
       "      <td>487135.0</td>\n",
       "      <td>24571.0</td>\n",
       "      <td>913.0</td>\n",
       "    </tr>\n",
       "    <tr>\n",
       "      <th>10325</th>\n",
       "      <td>4333597.0</td>\n",
       "      <td>46787.0</td>\n",
       "      <td>1435.0</td>\n",
       "    </tr>\n",
       "    <tr>\n",
       "      <th>...</th>\n",
       "      <td>...</td>\n",
       "      <td>...</td>\n",
       "      <td>...</td>\n",
       "    </tr>\n",
       "    <tr>\n",
       "      <th>24408</th>\n",
       "      <td>342153.0</td>\n",
       "      <td>13645.0</td>\n",
       "      <td>1434.0</td>\n",
       "    </tr>\n",
       "    <tr>\n",
       "      <th>1079</th>\n",
       "      <td>804912.0</td>\n",
       "      <td>34227.0</td>\n",
       "      <td>1575.0</td>\n",
       "    </tr>\n",
       "    <tr>\n",
       "      <th>31393</th>\n",
       "      <td>1913570.0</td>\n",
       "      <td>123233.0</td>\n",
       "      <td>12503.0</td>\n",
       "    </tr>\n",
       "    <tr>\n",
       "      <th>22400</th>\n",
       "      <td>964524.0</td>\n",
       "      <td>8326.0</td>\n",
       "      <td>1361.0</td>\n",
       "    </tr>\n",
       "    <tr>\n",
       "      <th>45852</th>\n",
       "      <td>5584702.0</td>\n",
       "      <td>103317.0</td>\n",
       "      <td>3695.0</td>\n",
       "    </tr>\n",
       "  </tbody>\n",
       "</table>\n",
       "<p>12381 rows × 3 columns</p>\n",
       "</div>"
      ],
      "text/plain": [
       "           views     likes  comments\n",
       "39437    11603.0     142.0      15.0\n",
       "58087    20821.0     452.0      66.0\n",
       "5664   3624294.0   27022.0       0.0\n",
       "16079   487135.0   24571.0     913.0\n",
       "10325  4333597.0   46787.0    1435.0\n",
       "...          ...       ...       ...\n",
       "24408   342153.0   13645.0    1434.0\n",
       "1079    804912.0   34227.0    1575.0\n",
       "31393  1913570.0  123233.0   12503.0\n",
       "22400   964524.0    8326.0    1361.0\n",
       "45852  5584702.0  103317.0    3695.0\n",
       "\n",
       "[12381 rows x 3 columns]"
      ]
     },
     "execution_count": 131,
     "metadata": {},
     "output_type": "execute_result"
    }
   ],
   "source": [
    "X_test"
   ]
  },
  {
   "cell_type": "markdown",
   "id": "ec04ab6f",
   "metadata": {},
   "source": [
    "# Cross-Validation (K-Fold)"
   ]
  },
  {
   "cell_type": "code",
   "execution_count": null,
   "id": "0ce65ba0",
   "metadata": {},
   "outputs": [],
   "source": [
    "def get_score (model, X_train,X_test,y_train,y_test):\n",
    "    model.fit(X_train,y_train)\n",
    "    return model.score(X_test,y_test)\n"
   ]
  },
  {
   "cell_type": "code",
   "execution_count": null,
   "id": "6517ebde",
   "metadata": {},
   "outputs": [],
   "source": [
    "from sklearn.model_selection import cross_val_score\n",
    "\n",
    "scores = cross_val_score(model,X_train,y_train,scoring='r2',cv = 10)"
   ]
  },
  {
   "cell_type": "code",
   "execution_count": null,
   "id": "e59f15c1",
   "metadata": {},
   "outputs": [],
   "source": [
    "from sklearn.model_selection import cross_val_predict\n",
    "\n",
    "pred = cross_val_predict(model.fit(X_train,y_train),X_test,y_test)\n",
    "\n",
    "scores_test = cross_val_score(model,X_test,y_test,cv = 10)\n",
    "np.mean(scores_test)"
   ]
  },
  {
   "cell_type": "markdown",
   "id": "6e7c2fae",
   "metadata": {},
   "source": [
    "# Hyperparameter Tuning"
   ]
  },
  {
   "cell_type": "code",
   "execution_count": null,
   "id": "0b8782f6",
   "metadata": {},
   "outputs": [],
   "source": [
    "from sklearn.model_selection import GridSearchCV\n",
    "\n",
    "clf = GridSearchCV(svm.SVC(gamma='auto'),{\n",
    "    'C':[1,10,20],\n",
    "    'kernel':['rbf','linear']\n",
    "},cv=5, return_train_score=False)\n",
    "clf.fit(X_train,X_test)\n",
    "clf.cv_results_"
   ]
  },
  {
   "cell_type": "code",
   "execution_count": null,
   "id": "3d51d72a",
   "metadata": {},
   "outputs": [],
   "source": [
    "result = pd.DataFrame(clf.cv_results_)\n",
    "df['param_C','param_kernel','mean_test_score']"
   ]
  },
  {
   "cell_type": "code",
   "execution_count": null,
   "id": "c130140a",
   "metadata": {},
   "outputs": [],
   "source": [
    "clf.best_params_"
   ]
  },
  {
   "cell_type": "code",
   "execution_count": null,
   "id": "36cdffae",
   "metadata": {},
   "outputs": [],
   "source": [
    "model_params = {\n",
    "    model_params = {\n",
    "    'svm': {\n",
    "        'model': svm.SVC(gamma='auto'),\n",
    "        'params' : {\n",
    "            'C': [1,10,20],\n",
    "            'kernel': ['rbf','linear']\n",
    "        }  \n",
    "    },\n",
    "    'random_forest': {\n",
    "        'model': RandomForestClassifier(),\n",
    "        'params' : {\n",
    "            'n_estimators': [1,5,10]\n",
    "        }\n",
    "    },\n",
    "    'logistic_regression' : {\n",
    "        'model': LogisticRegression(solver='liblinear',multi_class='auto'),\n",
    "        'params': {\n",
    "            'C': [1,5,10]\n",
    "        }\n",
    "    }\n",
    "}\n",
    "}"
   ]
  },
  {
   "cell_type": "code",
   "execution_count": null,
   "id": "87473382",
   "metadata": {},
   "outputs": [],
   "source": [
    "\n",
    "scores = []\n",
    "\n",
    "for model_name, mp in model_params.items():\n",
    "    clf =  GridSearchCV(mp['model'], mp['params'], cv=5, return_train_score=False)\n",
    "    clf.fit(iris.data, iris.target)\n",
    "    scores.append({\n",
    "        'model': model_name,\n",
    "        'best_score': clf.best_score_,\n",
    "        'best_params': clf.best_params_\n",
    "    })\n",
    "    \n",
    "df = pd.DataFrame(scores,columns=['model','best_score','best_params'])\n",
    "df"
   ]
  }
 ],
 "metadata": {
  "kernelspec": {
   "display_name": "Python 3 (ipykernel)",
   "language": "python",
   "name": "python3"
  },
  "language_info": {
   "codemirror_mode": {
    "name": "ipython",
    "version": 3
   },
   "file_extension": ".py",
   "mimetype": "text/x-python",
   "name": "python",
   "nbconvert_exporter": "python",
   "pygments_lexer": "ipython3",
   "version": "3.9.12"
  }
 },
 "nbformat": 4,
 "nbformat_minor": 5
}
