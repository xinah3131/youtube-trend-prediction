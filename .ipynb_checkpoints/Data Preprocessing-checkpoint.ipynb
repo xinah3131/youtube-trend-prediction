{
 "cells": [
  {
   "cell_type": "markdown",
   "id": "7987e7ee",
   "metadata": {},
   "source": [
    "# Data Cleaning "
   ]
  },
  {
   "cell_type": "code",
   "execution_count": 7,
   "id": "ad5f6e82",
   "metadata": {},
   "outputs": [],
   "source": [
    "import pandas as pd\n",
    "import numpy as np\n",
    "import os\n",
    "pd.options.display.max_rows = 4000"
   ]
  },
  {
   "cell_type": "markdown",
   "id": "91fd9ac1",
   "metadata": {},
   "source": [
    "# Trending Video Dataset"
   ]
  },
  {
   "cell_type": "code",
   "execution_count": 55,
   "id": "a4289e2f",
   "metadata": {},
   "outputs": [],
   "source": [
    "df = pd.read_csv(r'C:\\Users\\LEGION\\Desktop\\MMU\\Data Science Fundamental\\Project\\Prediction of Video\\dataset\\US_youtube_trending_data.csv')"
   ]
  },
  {
   "cell_type": "code",
   "execution_count": 56,
   "id": "08bc7564",
   "metadata": {},
   "outputs": [
    {
     "data": {
      "text/plain": [
       "(195990, 16)"
      ]
     },
     "execution_count": 56,
     "metadata": {},
     "output_type": "execute_result"
    }
   ],
   "source": [
    "df.shape"
   ]
  },
  {
   "cell_type": "code",
   "execution_count": 57,
   "id": "b29c8cbd",
   "metadata": {},
   "outputs": [
    {
     "data": {
      "text/html": [
       "<div>\n",
       "<style scoped>\n",
       "    .dataframe tbody tr th:only-of-type {\n",
       "        vertical-align: middle;\n",
       "    }\n",
       "\n",
       "    .dataframe tbody tr th {\n",
       "        vertical-align: top;\n",
       "    }\n",
       "\n",
       "    .dataframe thead th {\n",
       "        text-align: right;\n",
       "    }\n",
       "</style>\n",
       "<table border=\"1\" class=\"dataframe\">\n",
       "  <thead>\n",
       "    <tr style=\"text-align: right;\">\n",
       "      <th></th>\n",
       "      <th>video_id</th>\n",
       "      <th>title</th>\n",
       "      <th>publishedAt</th>\n",
       "      <th>channelId</th>\n",
       "      <th>channelTitle</th>\n",
       "      <th>categoryId</th>\n",
       "      <th>trending_date</th>\n",
       "      <th>tags</th>\n",
       "      <th>view_count</th>\n",
       "      <th>likes</th>\n",
       "      <th>dislikes</th>\n",
       "      <th>comment_count</th>\n",
       "      <th>thumbnail_link</th>\n",
       "      <th>comments_disabled</th>\n",
       "      <th>ratings_disabled</th>\n",
       "      <th>description</th>\n",
       "    </tr>\n",
       "  </thead>\n",
       "  <tbody>\n",
       "    <tr>\n",
       "      <th>0</th>\n",
       "      <td>3C66w5Z0ixs</td>\n",
       "      <td>I ASKED HER TO BE MY GIRLFRIEND...</td>\n",
       "      <td>2020-08-11T19:20:14Z</td>\n",
       "      <td>UCvtRTOMP2TqYqu51xNrqAzg</td>\n",
       "      <td>Brawadis</td>\n",
       "      <td>22</td>\n",
       "      <td>2020-08-12T00:00:00Z</td>\n",
       "      <td>brawadis|prank|basketball|skits|ghost|funny vi...</td>\n",
       "      <td>1514614</td>\n",
       "      <td>156908</td>\n",
       "      <td>5855</td>\n",
       "      <td>35313</td>\n",
       "      <td>https://i.ytimg.com/vi/3C66w5Z0ixs/default.jpg</td>\n",
       "      <td>False</td>\n",
       "      <td>False</td>\n",
       "      <td>SUBSCRIBE to BRAWADIS ▶ http://bit.ly/Subscrib...</td>\n",
       "    </tr>\n",
       "    <tr>\n",
       "      <th>1</th>\n",
       "      <td>M9Pmf9AB4Mo</td>\n",
       "      <td>Apex Legends | Stories from the Outlands – “Th...</td>\n",
       "      <td>2020-08-11T17:00:10Z</td>\n",
       "      <td>UC0ZV6M2THA81QT9hrVWJG3A</td>\n",
       "      <td>Apex Legends</td>\n",
       "      <td>20</td>\n",
       "      <td>2020-08-12T00:00:00Z</td>\n",
       "      <td>Apex Legends|Apex Legends characters|new Apex ...</td>\n",
       "      <td>2381688</td>\n",
       "      <td>146739</td>\n",
       "      <td>2794</td>\n",
       "      <td>16549</td>\n",
       "      <td>https://i.ytimg.com/vi/M9Pmf9AB4Mo/default.jpg</td>\n",
       "      <td>False</td>\n",
       "      <td>False</td>\n",
       "      <td>While running her own modding shop, Ramya Pare...</td>\n",
       "    </tr>\n",
       "    <tr>\n",
       "      <th>2</th>\n",
       "      <td>J78aPJ3VyNs</td>\n",
       "      <td>I left youtube for a month and THIS is what ha...</td>\n",
       "      <td>2020-08-11T16:34:06Z</td>\n",
       "      <td>UCYzPXprvl5Y-Sf0g4vX-m6g</td>\n",
       "      <td>jacksepticeye</td>\n",
       "      <td>24</td>\n",
       "      <td>2020-08-12T00:00:00Z</td>\n",
       "      <td>jacksepticeye|funny|funny meme|memes|jacksepti...</td>\n",
       "      <td>2038853</td>\n",
       "      <td>353787</td>\n",
       "      <td>2628</td>\n",
       "      <td>40221</td>\n",
       "      <td>https://i.ytimg.com/vi/J78aPJ3VyNs/default.jpg</td>\n",
       "      <td>False</td>\n",
       "      <td>False</td>\n",
       "      <td>I left youtube for a month and this is what ha...</td>\n",
       "    </tr>\n",
       "    <tr>\n",
       "      <th>3</th>\n",
       "      <td>kXLn3HkpjaA</td>\n",
       "      <td>XXL 2020 Freshman Class Revealed - Official An...</td>\n",
       "      <td>2020-08-11T16:38:55Z</td>\n",
       "      <td>UCbg_UMjlHJg_19SZckaKajg</td>\n",
       "      <td>XXL</td>\n",
       "      <td>10</td>\n",
       "      <td>2020-08-12T00:00:00Z</td>\n",
       "      <td>xxl freshman|xxl freshmen|2020 xxl freshman|20...</td>\n",
       "      <td>496771</td>\n",
       "      <td>23251</td>\n",
       "      <td>1856</td>\n",
       "      <td>7647</td>\n",
       "      <td>https://i.ytimg.com/vi/kXLn3HkpjaA/default.jpg</td>\n",
       "      <td>False</td>\n",
       "      <td>False</td>\n",
       "      <td>Subscribe to XXL → http://bit.ly/subscribe-xxl...</td>\n",
       "    </tr>\n",
       "    <tr>\n",
       "      <th>4</th>\n",
       "      <td>VIUo6yapDbc</td>\n",
       "      <td>Ultimate DIY Home Movie Theater for The LaBran...</td>\n",
       "      <td>2020-08-11T15:10:05Z</td>\n",
       "      <td>UCDVPcEbVLQgLZX0Rt6jo34A</td>\n",
       "      <td>Mr. Kate</td>\n",
       "      <td>26</td>\n",
       "      <td>2020-08-12T00:00:00Z</td>\n",
       "      <td>The LaBrant Family|DIY|Interior Design|Makeove...</td>\n",
       "      <td>1123889</td>\n",
       "      <td>45802</td>\n",
       "      <td>964</td>\n",
       "      <td>2196</td>\n",
       "      <td>https://i.ytimg.com/vi/VIUo6yapDbc/default.jpg</td>\n",
       "      <td>False</td>\n",
       "      <td>False</td>\n",
       "      <td>Transforming The LaBrant Family's empty white ...</td>\n",
       "    </tr>\n",
       "  </tbody>\n",
       "</table>\n",
       "</div>"
      ],
      "text/plain": [
       "      video_id                                              title  \\\n",
       "0  3C66w5Z0ixs                 I ASKED HER TO BE MY GIRLFRIEND...   \n",
       "1  M9Pmf9AB4Mo  Apex Legends | Stories from the Outlands – “Th...   \n",
       "2  J78aPJ3VyNs  I left youtube for a month and THIS is what ha...   \n",
       "3  kXLn3HkpjaA  XXL 2020 Freshman Class Revealed - Official An...   \n",
       "4  VIUo6yapDbc  Ultimate DIY Home Movie Theater for The LaBran...   \n",
       "\n",
       "            publishedAt                 channelId   channelTitle  categoryId  \\\n",
       "0  2020-08-11T19:20:14Z  UCvtRTOMP2TqYqu51xNrqAzg       Brawadis          22   \n",
       "1  2020-08-11T17:00:10Z  UC0ZV6M2THA81QT9hrVWJG3A   Apex Legends          20   \n",
       "2  2020-08-11T16:34:06Z  UCYzPXprvl5Y-Sf0g4vX-m6g  jacksepticeye          24   \n",
       "3  2020-08-11T16:38:55Z  UCbg_UMjlHJg_19SZckaKajg            XXL          10   \n",
       "4  2020-08-11T15:10:05Z  UCDVPcEbVLQgLZX0Rt6jo34A       Mr. Kate          26   \n",
       "\n",
       "          trending_date                                               tags  \\\n",
       "0  2020-08-12T00:00:00Z  brawadis|prank|basketball|skits|ghost|funny vi...   \n",
       "1  2020-08-12T00:00:00Z  Apex Legends|Apex Legends characters|new Apex ...   \n",
       "2  2020-08-12T00:00:00Z  jacksepticeye|funny|funny meme|memes|jacksepti...   \n",
       "3  2020-08-12T00:00:00Z  xxl freshman|xxl freshmen|2020 xxl freshman|20...   \n",
       "4  2020-08-12T00:00:00Z  The LaBrant Family|DIY|Interior Design|Makeove...   \n",
       "\n",
       "   view_count   likes  dislikes  comment_count  \\\n",
       "0     1514614  156908      5855          35313   \n",
       "1     2381688  146739      2794          16549   \n",
       "2     2038853  353787      2628          40221   \n",
       "3      496771   23251      1856           7647   \n",
       "4     1123889   45802       964           2196   \n",
       "\n",
       "                                   thumbnail_link  comments_disabled  \\\n",
       "0  https://i.ytimg.com/vi/3C66w5Z0ixs/default.jpg              False   \n",
       "1  https://i.ytimg.com/vi/M9Pmf9AB4Mo/default.jpg              False   \n",
       "2  https://i.ytimg.com/vi/J78aPJ3VyNs/default.jpg              False   \n",
       "3  https://i.ytimg.com/vi/kXLn3HkpjaA/default.jpg              False   \n",
       "4  https://i.ytimg.com/vi/VIUo6yapDbc/default.jpg              False   \n",
       "\n",
       "   ratings_disabled                                        description  \n",
       "0             False  SUBSCRIBE to BRAWADIS ▶ http://bit.ly/Subscrib...  \n",
       "1             False  While running her own modding shop, Ramya Pare...  \n",
       "2             False  I left youtube for a month and this is what ha...  \n",
       "3             False  Subscribe to XXL → http://bit.ly/subscribe-xxl...  \n",
       "4             False  Transforming The LaBrant Family's empty white ...  "
      ]
     },
     "execution_count": 57,
     "metadata": {},
     "output_type": "execute_result"
    }
   ],
   "source": [
    "df.head()"
   ]
  },
  {
   "cell_type": "code",
   "execution_count": 58,
   "id": "fa130f06",
   "metadata": {},
   "outputs": [
    {
     "data": {
      "text/plain": [
       "Index(['video_id', 'title', 'publishedAt', 'channelId', 'channelTitle',\n",
       "       'categoryId', 'trending_date', 'tags', 'view_count', 'likes',\n",
       "       'dislikes', 'comment_count', 'thumbnail_link', 'comments_disabled',\n",
       "       'ratings_disabled', 'description'],\n",
       "      dtype='object')"
      ]
     },
     "execution_count": 58,
     "metadata": {},
     "output_type": "execute_result"
    }
   ],
   "source": [
    "df.columns"
   ]
  },
  {
   "cell_type": "code",
   "execution_count": 59,
   "id": "c85bf113",
   "metadata": {},
   "outputs": [
    {
     "data": {
      "text/plain": [
       "video_id             object\n",
       "title                object\n",
       "publishedAt          object\n",
       "channelId            object\n",
       "channelTitle         object\n",
       "categoryId            int64\n",
       "trending_date        object\n",
       "tags                 object\n",
       "view_count            int64\n",
       "likes                 int64\n",
       "dislikes              int64\n",
       "comment_count         int64\n",
       "thumbnail_link       object\n",
       "comments_disabled      bool\n",
       "ratings_disabled       bool\n",
       "description          object\n",
       "dtype: object"
      ]
     },
     "execution_count": 59,
     "metadata": {},
     "output_type": "execute_result"
    }
   ],
   "source": [
    "df.dtypes"
   ]
  },
  {
   "cell_type": "code",
   "execution_count": 60,
   "id": "700ddd16",
   "metadata": {},
   "outputs": [
    {
     "data": {
      "text/html": [
       "<div>\n",
       "<style scoped>\n",
       "    .dataframe tbody tr th:only-of-type {\n",
       "        vertical-align: middle;\n",
       "    }\n",
       "\n",
       "    .dataframe tbody tr th {\n",
       "        vertical-align: top;\n",
       "    }\n",
       "\n",
       "    .dataframe thead th {\n",
       "        text-align: right;\n",
       "    }\n",
       "</style>\n",
       "<table border=\"1\" class=\"dataframe\">\n",
       "  <thead>\n",
       "    <tr style=\"text-align: right;\">\n",
       "      <th></th>\n",
       "      <th>categoryId</th>\n",
       "      <th>view_count</th>\n",
       "      <th>likes</th>\n",
       "      <th>dislikes</th>\n",
       "      <th>comment_count</th>\n",
       "    </tr>\n",
       "  </thead>\n",
       "  <tbody>\n",
       "    <tr>\n",
       "      <th>count</th>\n",
       "      <td>195990.000000</td>\n",
       "      <td>1.959900e+05</td>\n",
       "      <td>1.959900e+05</td>\n",
       "      <td>195990.000000</td>\n",
       "      <td>1.959900e+05</td>\n",
       "    </tr>\n",
       "    <tr>\n",
       "      <th>mean</th>\n",
       "      <td>18.807720</td>\n",
       "      <td>2.498657e+06</td>\n",
       "      <td>1.293927e+05</td>\n",
       "      <td>1555.584698</td>\n",
       "      <td>1.077568e+04</td>\n",
       "    </tr>\n",
       "    <tr>\n",
       "      <th>std</th>\n",
       "      <td>6.759202</td>\n",
       "      <td>7.064335e+06</td>\n",
       "      <td>4.076709e+05</td>\n",
       "      <td>9389.205433</td>\n",
       "      <td>8.174297e+04</td>\n",
       "    </tr>\n",
       "    <tr>\n",
       "      <th>min</th>\n",
       "      <td>1.000000</td>\n",
       "      <td>0.000000e+00</td>\n",
       "      <td>0.000000e+00</td>\n",
       "      <td>0.000000</td>\n",
       "      <td>0.000000e+00</td>\n",
       "    </tr>\n",
       "    <tr>\n",
       "      <th>25%</th>\n",
       "      <td>17.000000</td>\n",
       "      <td>4.784200e+05</td>\n",
       "      <td>1.858800e+04</td>\n",
       "      <td>0.000000</td>\n",
       "      <td>1.328000e+03</td>\n",
       "    </tr>\n",
       "    <tr>\n",
       "      <th>50%</th>\n",
       "      <td>20.000000</td>\n",
       "      <td>9.659445e+05</td>\n",
       "      <td>4.272550e+04</td>\n",
       "      <td>24.500000</td>\n",
       "      <td>2.934000e+03</td>\n",
       "    </tr>\n",
       "    <tr>\n",
       "      <th>75%</th>\n",
       "      <td>24.000000</td>\n",
       "      <td>2.162866e+06</td>\n",
       "      <td>1.063425e+05</td>\n",
       "      <td>859.000000</td>\n",
       "      <td>6.920000e+03</td>\n",
       "    </tr>\n",
       "    <tr>\n",
       "      <th>max</th>\n",
       "      <td>29.000000</td>\n",
       "      <td>2.777917e+08</td>\n",
       "      <td>1.602153e+07</td>\n",
       "      <td>879354.000000</td>\n",
       "      <td>6.738537e+06</td>\n",
       "    </tr>\n",
       "  </tbody>\n",
       "</table>\n",
       "</div>"
      ],
      "text/plain": [
       "          categoryId    view_count         likes       dislikes  comment_count\n",
       "count  195990.000000  1.959900e+05  1.959900e+05  195990.000000   1.959900e+05\n",
       "mean       18.807720  2.498657e+06  1.293927e+05    1555.584698   1.077568e+04\n",
       "std         6.759202  7.064335e+06  4.076709e+05    9389.205433   8.174297e+04\n",
       "min         1.000000  0.000000e+00  0.000000e+00       0.000000   0.000000e+00\n",
       "25%        17.000000  4.784200e+05  1.858800e+04       0.000000   1.328000e+03\n",
       "50%        20.000000  9.659445e+05  4.272550e+04      24.500000   2.934000e+03\n",
       "75%        24.000000  2.162866e+06  1.063425e+05     859.000000   6.920000e+03\n",
       "max        29.000000  2.777917e+08  1.602153e+07  879354.000000   6.738537e+06"
      ]
     },
     "execution_count": 60,
     "metadata": {},
     "output_type": "execute_result"
    }
   ],
   "source": [
    "df.describe()"
   ]
  },
  {
   "cell_type": "code",
   "execution_count": 61,
   "id": "822e5a9c",
   "metadata": {},
   "outputs": [],
   "source": [
    "df = df[['video_id', 'title', 'publishedAt', 'channelId', 'channelTitle',\n",
    "       'categoryId', 'trending_date', 'tags', 'view_count', 'likes',\n",
    "      'comment_count','description','thumbnail_link']].copy()\n"
   ]
  },
  {
   "cell_type": "code",
   "execution_count": 62,
   "id": "d63c1cb8",
   "metadata": {},
   "outputs": [],
   "source": [
    "df = df.rename(columns={'video_id' : 'videoID',\n",
    "                   'trending_date':'trendingDate',\n",
    "                   'view_count':'views',\n",
    "                   'comment_count':'comments',\n",
    "                   'thumbnail_link':'thumbnailLink'})"
   ]
  },
  {
   "cell_type": "code",
   "execution_count": 63,
   "id": "881007f5",
   "metadata": {},
   "outputs": [],
   "source": [
    "df['trendingDate'] = pd.to_datetime(df['trendingDate'])\n",
    "df['publishedAt'] = pd.to_datetime(df['publishedAt'])"
   ]
  },
  {
   "cell_type": "code",
   "execution_count": 64,
   "id": "231ad762",
   "metadata": {},
   "outputs": [
    {
     "data": {
      "text/plain": [
       "(35719, 13)"
      ]
     },
     "execution_count": 64,
     "metadata": {},
     "output_type": "execute_result"
    }
   ],
   "source": [
    "df  = df.loc[~df.duplicated(subset=['videoID'],keep=\"last\")].reset_index(drop=True).copy()\n",
    "df.shape"
   ]
  },
  {
   "cell_type": "code",
   "execution_count": 65,
   "id": "8c56163c",
   "metadata": {},
   "outputs": [],
   "source": [
    "df = df[(df.likes != 0)& (df.comments != 0) & (df.views != 0)]"
   ]
  },
  {
   "cell_type": "code",
   "execution_count": 66,
   "id": "5a8a58be",
   "metadata": {},
   "outputs": [],
   "source": [
    "#Inverse Mapping\n",
    "df['description'] = df['description'].astype(object)"
   ]
  },
  {
   "cell_type": "code",
   "execution_count": 67,
   "id": "f664ce68",
   "metadata": {},
   "outputs": [],
   "source": [
    "df.channelId = df.channelId.astype(\"category\")\n",
    "df.channelTitle = df.channelTitle.astype(\"category\")"
   ]
  },
  {
   "cell_type": "code",
   "execution_count": 68,
   "id": "fb70d445",
   "metadata": {},
   "outputs": [],
   "source": [
    "df.description = df.description.fillna('No description')"
   ]
  },
  {
   "cell_type": "code",
   "execution_count": 69,
   "id": "8b500fa3",
   "metadata": {
    "scrolled": true
   },
   "outputs": [
    {
     "data": {
      "text/plain": [
       "videoID          0\n",
       "title            0\n",
       "publishedAt      0\n",
       "channelId        0\n",
       "channelTitle     0\n",
       "categoryId       0\n",
       "trendingDate     0\n",
       "tags             0\n",
       "views            0\n",
       "likes            0\n",
       "comments         0\n",
       "description      0\n",
       "thumbnailLink    0\n",
       "dtype: int64"
      ]
     },
     "execution_count": 69,
     "metadata": {},
     "output_type": "execute_result"
    }
   ],
   "source": [
    "df.isna().sum()"
   ]
  },
  {
   "cell_type": "markdown",
   "id": "60934d6f",
   "metadata": {},
   "source": [
    "# Non Trending Dataset"
   ]
  },
  {
   "cell_type": "code",
   "execution_count": 23,
   "id": "a05b3121",
   "metadata": {},
   "outputs": [],
   "source": [
    "df2 = pd.read_csv(r'C:\\Users\\LEGION\\Desktop\\MMU\\Data Science Fundamental\\Project\\Prediction of Video\\dataset\\US_youtube_non_trending_data.csv')"
   ]
  },
  {
   "cell_type": "code",
   "execution_count": 24,
   "id": "40bef6de",
   "metadata": {},
   "outputs": [],
   "source": [
    "df2 = df2.rename(columns={'video_id' : 'videoID',\n",
    "                   'view_count':'views',\n",
    "                   'comment_count':'comments',\n",
    "                   'thumbnail_link':'thumbnailLink'})"
   ]
  },
  {
   "cell_type": "code",
   "execution_count": 25,
   "id": "764b30f8",
   "metadata": {},
   "outputs": [],
   "source": [
    "df2['publishedAt'] = pd.to_datetime(df2['publishedAt'])"
   ]
  },
  {
   "cell_type": "code",
   "execution_count": 26,
   "id": "31695371",
   "metadata": {},
   "outputs": [],
   "source": [
    "df2.channelId = df2.channelId.astype(\"category\")\n",
    "df2.channelTitle = df2.channelTitle.astype(\"category\")"
   ]
  },
  {
   "cell_type": "code",
   "execution_count": 27,
   "id": "0f868339",
   "metadata": {},
   "outputs": [],
   "source": [
    "df2.description = df2.description.fillna('No description')"
   ]
  },
  {
   "cell_type": "code",
   "execution_count": 28,
   "id": "5fe3e604",
   "metadata": {},
   "outputs": [],
   "source": [
    "df2  = df2.loc[~df2.duplicated(subset=['videoID'],keep=\"last\")].reset_index(drop=True).copy()"
   ]
  },
  {
   "cell_type": "code",
   "execution_count": 29,
   "id": "ba7ae86b",
   "metadata": {},
   "outputs": [],
   "source": [
    "df2 = df2.dropna(subset=['likes','comments','views'])\n",
    "df2 = df2[(df2.likes != 0)& (df2.comments != 0) & (df2.views != 0)]\n",
    "# df2 = df2[df2.views <=  999999]\n",
    "df2.tags = df2.tags.fillna('[None]')\n"
   ]
  },
  {
   "cell_type": "code",
   "execution_count": 30,
   "id": "35e9bfe7",
   "metadata": {},
   "outputs": [],
   "source": [
    "import pytz\n",
    "\n",
    "cutoff_date = pd.Timestamp('2018-01-01', tz=pytz.utc)\n",
    "df2 = df2[df2['publishedAt'] >= cutoff_date]\n"
   ]
  },
  {
   "cell_type": "code",
   "execution_count": 31,
   "id": "024cccdb",
   "metadata": {},
   "outputs": [
    {
     "data": {
      "text/plain": [
       "videoID          0\n",
       "title            0\n",
       "publishedAt      0\n",
       "channelId        0\n",
       "channelTitle     0\n",
       "categoryId       0\n",
       "tags             0\n",
       "views            0\n",
       "likes            0\n",
       "comments         0\n",
       "thumbnailLink    0\n",
       "description      0\n",
       "dtype: int64"
      ]
     },
     "execution_count": 31,
     "metadata": {},
     "output_type": "execute_result"
    }
   ],
   "source": [
    "df2.isna().sum()"
   ]
  },
  {
   "cell_type": "code",
   "execution_count": 32,
   "id": "5b2698ed",
   "metadata": {},
   "outputs": [
    {
     "data": {
      "text/plain": [
       "(67912, 12)"
      ]
     },
     "execution_count": 32,
     "metadata": {},
     "output_type": "execute_result"
    }
   ],
   "source": [
    "df2.shape"
   ]
  },
  {
   "cell_type": "markdown",
   "id": "1b843816",
   "metadata": {},
   "source": [
    "# Save Both Data Set To CSV"
   ]
  },
  {
   "cell_type": "code",
   "execution_count": 33,
   "id": "91139b22",
   "metadata": {},
   "outputs": [],
   "source": [
    "df.to_csv('US_youtube_cleaned_trending_data.csv')\n",
    "df2.to_csv('US_youtube_cleaned_non_trending_data.csv')"
   ]
  },
  {
   "cell_type": "markdown",
   "id": "3d5c3b5c",
   "metadata": {},
   "source": [
    "# Data Integration\n",
    "## Merge both dataset"
   ]
  },
  {
   "cell_type": "code",
   "execution_count": 96,
   "id": "420d3d32",
   "metadata": {},
   "outputs": [],
   "source": [
    "df = pd.read_csv(r'C:\\Users\\LEGION\\Desktop\\MMU\\Data Science Fundamental\\Project\\Prediction of Video\\dataset\\US_youtube_cleaned_trending_data.csv')\n",
    "df2 = pd.read_csv(r'C:\\Users\\LEGION\\Desktop\\MMU\\Data Science Fundamental\\Project\\Prediction of Video\\dataset\\US_youtube_cleaned_non_trending_data.csv')\n",
    "trending = df.copy()\n",
    "nonTrending = df2.copy()\n",
    "\n",
    "common_cols = list(set(trending.columns).intersection(nonTrending.columns))\n",
    "\n",
    "# Merge the two dataframes using only the common columns\n",
    "merged_df = pd.merge(trending[common_cols], nonTrending[common_cols], how='outer')"
   ]
  },
  {
   "cell_type": "code",
   "execution_count": 97,
   "id": "db14190d",
   "metadata": {},
   "outputs": [
    {
     "name": "stdout",
     "output_type": "stream",
     "text": [
      "The threshold value is: 546505.0790633421\n"
     ]
    }
   ],
   "source": [
    "avg_views = merged_df['views'].mean()\n",
    "#Cast a wider net and capture a larger number of potentially trending videos\n",
    "threshold = avg_views / 2\n",
    "print(\"The threshold value is:\", threshold)"
   ]
  },
  {
   "cell_type": "code",
   "execution_count": 98,
   "id": "83caea3e",
   "metadata": {},
   "outputs": [],
   "source": [
    "merged_df['trendingOrNot'] = merged_df['views'].apply(lambda x: 1 if x >=  threshold else 0)"
   ]
  },
  {
   "cell_type": "code",
   "execution_count": 99,
   "id": "8e8cdf53",
   "metadata": {},
   "outputs": [
    {
     "data": {
      "text/plain": [
       "0    69775\n",
       "1    33016\n",
       "Name: trendingOrNot, dtype: int64"
      ]
     },
     "execution_count": 99,
     "metadata": {},
     "output_type": "execute_result"
    }
   ],
   "source": [
    "merged_df['trendingOrNot'].value_counts()"
   ]
  },
  {
   "cell_type": "code",
   "execution_count": 100,
   "id": "8dcb337f",
   "metadata": {},
   "outputs": [
    {
     "data": {
      "text/plain": [
       "Index(['channelTitle', 'videoID', 'tags', 'Unnamed: 0.4', 'comments',\n",
       "       'Unnamed: 0', 'Unnamed: 0.3', 'Unnamed: 0.2', 'duration', 'publishedAt',\n",
       "       'views', 'channelId', 'description', 'thumbnailLink', 'likes', 'title',\n",
       "       'categoryId', 'Unnamed: 0.1', 'trendingOrNot'],\n",
       "      dtype='object')"
      ]
     },
     "execution_count": 100,
     "metadata": {},
     "output_type": "execute_result"
    }
   ],
   "source": [
    "merged_df.columns"
   ]
  },
  {
   "cell_type": "code",
   "execution_count": 101,
   "id": "5d11be86",
   "metadata": {},
   "outputs": [],
   "source": [
    "\n",
    "merged_df = merged_df[['videoID','title', 'publishedAt','channelId','channelTitle','categoryId', 'tags', 'views', 'likes', 'comments',\\\n",
    "     'thumbnailLink','duration','trendingOrNot']].copy()\n",
    "new_order = ['videoID','title','publishedAt', 'channelId','channelTitle','categoryId', 'tags', 'views', 'likes', 'comments',\\\n",
    "    'thumbnailLink','duration','trendingOrNot']\n",
    "merged_df = merged_df[new_order]"
   ]
  },
  {
   "cell_type": "markdown",
   "id": "6d3f1c4f",
   "metadata": {},
   "source": [
    "# Data Transformation"
   ]
  },
  {
   "cell_type": "code",
   "execution_count": 102,
   "id": "28ba9e04",
   "metadata": {},
   "outputs": [],
   "source": [
    "# Retrieve the day of the week and the day time for video published\n",
    "merged_df['publishedAt'] = pd.to_datetime(merged_df['publishedAt'])\n",
    "\n",
    "# create a frequency distribution of the words in the 'title' column\n",
    "\n",
    "merged_df['dayOfWeek'] = merged_df['publishedAt'].dt.weekday\n",
    "def getDaytime(x):\n",
    "    if x.hour>4 and x.hour<=10:\n",
    "        return \"Morning\"\n",
    "    elif x.hour>10 and x.hour<=16:\n",
    "        return \"Afternoon\"\n",
    "    elif x.hour>16 and x.hour<=22:\n",
    "        return \"Evening\"\n",
    "    else:\n",
    "        return \"Night\"\n",
    "\n",
    "merged_df['daytime']=merged_df.publishedAt.apply(lambda x: getDaytime(x))\n",
    "\n",
    "\n",
    "merged_df = merged_df[['videoID','title', 'publishedAt','channelId','channelTitle','categoryId', 'tags', 'views', 'likes', 'comments',\\\n",
    "     'thumbnailLink', 'dayOfWeek','daytime','duration','trendingOrNot']].copy()\n",
    "new_order = ['videoID','title','publishedAt', 'channelId','channelTitle','categoryId', 'tags', 'views', 'likes', 'comments',\\\n",
    "    'thumbnailLink', 'dayOfWeek','daytime','duration','trendingOrNot']\n",
    "merged_df = merged_df[new_order]"
   ]
  },
  {
   "cell_type": "code",
   "execution_count": 201,
   "id": "aa10b721",
   "metadata": {},
   "outputs": [
    {
     "data": {
      "text/html": [
       "<div>\n",
       "<style scoped>\n",
       "    .dataframe tbody tr th:only-of-type {\n",
       "        vertical-align: middle;\n",
       "    }\n",
       "\n",
       "    .dataframe tbody tr th {\n",
       "        vertical-align: top;\n",
       "    }\n",
       "\n",
       "    .dataframe thead th {\n",
       "        text-align: right;\n",
       "    }\n",
       "</style>\n",
       "<table border=\"1\" class=\"dataframe\">\n",
       "  <thead>\n",
       "    <tr style=\"text-align: right;\">\n",
       "      <th></th>\n",
       "      <th>Column Name</th>\n",
       "      <th>Missing Count</th>\n",
       "      <th>Percentage(%)</th>\n",
       "    </tr>\n",
       "  </thead>\n",
       "  <tbody>\n",
       "    <tr>\n",
       "      <th>0</th>\n",
       "      <td>videoID</td>\n",
       "      <td>0</td>\n",
       "      <td>0.00%</td>\n",
       "    </tr>\n",
       "    <tr>\n",
       "      <th>1</th>\n",
       "      <td>title</td>\n",
       "      <td>0</td>\n",
       "      <td>0.00%</td>\n",
       "    </tr>\n",
       "    <tr>\n",
       "      <th>2</th>\n",
       "      <td>publishedAt</td>\n",
       "      <td>0</td>\n",
       "      <td>0.00%</td>\n",
       "    </tr>\n",
       "    <tr>\n",
       "      <th>3</th>\n",
       "      <td>channelId</td>\n",
       "      <td>0</td>\n",
       "      <td>0.00%</td>\n",
       "    </tr>\n",
       "    <tr>\n",
       "      <th>4</th>\n",
       "      <td>channelTitle</td>\n",
       "      <td>0</td>\n",
       "      <td>0.00%</td>\n",
       "    </tr>\n",
       "    <tr>\n",
       "      <th>5</th>\n",
       "      <td>categoryId</td>\n",
       "      <td>0</td>\n",
       "      <td>0.00%</td>\n",
       "    </tr>\n",
       "    <tr>\n",
       "      <th>6</th>\n",
       "      <td>tags</td>\n",
       "      <td>0</td>\n",
       "      <td>0.00%</td>\n",
       "    </tr>\n",
       "    <tr>\n",
       "      <th>7</th>\n",
       "      <td>views</td>\n",
       "      <td>0</td>\n",
       "      <td>0.00%</td>\n",
       "    </tr>\n",
       "    <tr>\n",
       "      <th>8</th>\n",
       "      <td>likes</td>\n",
       "      <td>0</td>\n",
       "      <td>0.00%</td>\n",
       "    </tr>\n",
       "    <tr>\n",
       "      <th>9</th>\n",
       "      <td>comments</td>\n",
       "      <td>0</td>\n",
       "      <td>0.00%</td>\n",
       "    </tr>\n",
       "    <tr>\n",
       "      <th>10</th>\n",
       "      <td>thumbnailLink</td>\n",
       "      <td>0</td>\n",
       "      <td>0.00%</td>\n",
       "    </tr>\n",
       "    <tr>\n",
       "      <th>11</th>\n",
       "      <td>dayOfWeek</td>\n",
       "      <td>0</td>\n",
       "      <td>0.00%</td>\n",
       "    </tr>\n",
       "    <tr>\n",
       "      <th>12</th>\n",
       "      <td>daytime</td>\n",
       "      <td>0</td>\n",
       "      <td>0.00%</td>\n",
       "    </tr>\n",
       "    <tr>\n",
       "      <th>13</th>\n",
       "      <td>trendingOrNot</td>\n",
       "      <td>0</td>\n",
       "      <td>0.00%</td>\n",
       "    </tr>\n",
       "  </tbody>\n",
       "</table>\n",
       "</div>"
      ],
      "text/plain": [
       "      Column Name  Missing Count Percentage(%)\n",
       "0         videoID              0         0.00%\n",
       "1           title              0         0.00%\n",
       "2     publishedAt              0         0.00%\n",
       "3       channelId              0         0.00%\n",
       "4    channelTitle              0         0.00%\n",
       "5      categoryId              0         0.00%\n",
       "6            tags              0         0.00%\n",
       "7           views              0         0.00%\n",
       "8           likes              0         0.00%\n",
       "9        comments              0         0.00%\n",
       "10  thumbnailLink              0         0.00%\n",
       "11      dayOfWeek              0         0.00%\n",
       "12        daytime              0         0.00%\n",
       "13  trendingOrNot              0         0.00%"
      ]
     },
     "execution_count": 201,
     "metadata": {},
     "output_type": "execute_result"
    }
   ],
   "source": [
    "def Missing_Counts( Data, NoMissing=True ) : \n",
    "    missing = Data.isnull().sum()  \n",
    "    \n",
    "    if NoMissing==False :\n",
    "        missing = missing[ missing>0 ]\n",
    "        \n",
    "    missing.sort_values( ascending=False, inplace=True )  \n",
    "    Missing_Count = pd.DataFrame( { 'Column Name':missing.index, 'Missing Count':missing.values } ) \n",
    "    Missing_Count[ 'Percentage(%)' ] = Missing_Count['Missing Count'].apply( lambda x: '{:.2%}'.format(x/Data.shape[0] ))\n",
    "    return  Missing_Count\n",
    "\n",
    "Missing_Counts(merged_df)"
   ]
  },
  {
   "cell_type": "code",
   "execution_count": 103,
   "id": "05de191c",
   "metadata": {},
   "outputs": [],
   "source": [
    "merged_df.to_csv('merged.csv')"
   ]
  },
  {
   "cell_type": "markdown",
   "id": "8b76d4c0",
   "metadata": {},
   "source": [
    "# Feature Engineer"
   ]
  },
  {
   "cell_type": "code",
   "execution_count": 99,
   "id": "d1b3a4d1",
   "metadata": {},
   "outputs": [],
   "source": [
    "from nltk.probability import FreqDist\n",
    "\n",
    "# create a frequency distribution of the words in the 'title' column\n",
    "title_freq = FreqDist([word.lower() for words in title_words for word in words])\n",
    "tags_freq = FreqDist([word.lower() for words in tags_words for word in words])"
   ]
  },
  {
   "cell_type": "code",
   "execution_count": 99,
   "id": "189d3c1f",
   "metadata": {},
   "outputs": [],
   "source": [
    "from nltk.probability import FreqDist\n",
    "\n",
    "# create a frequency distribution of the words in the 'title' column\n",
    "title_freq = FreqDist([word.lower() for words in title_words for word in words])\n",
    "tags_freq = FreqDist([word.lower() for words in tags_words for word in words])"
   ]
  },
  {
   "cell_type": "code",
   "execution_count": null,
   "id": "0f468fd2",
   "metadata": {},
   "outputs": [],
   "source": [
    "import nltk\n",
    "import string\n",
    "import re\n",
    "from nltk.corpus import stopwords\n",
    "from nltk.tokenize import word_tokenize\n",
    "\n",
    "nltk.download('stopwords')\n",
    "nltk.download('punkt')\n",
    "\n",
    "stop_words = set(stopwords.words('english'))  # set of English stop words\n",
    "\n",
    "def preprocess(text):\n",
    "    if not isinstance(text, str):\n",
    "        try:\n",
    "            text = str(text)\n",
    "        except:\n",
    "            raise TypeError('Input must be a string or a float')\n",
    "            \n",
    "  \n",
    "    # convert to lowercase\n",
    "    text = text.lower()\n",
    "    \n",
    "    # Remove URLs\n",
    "    text = re.sub(r'http\\S+', '', text)\n",
    "    # Remove special characters and punctuation\n",
    "    text = re.sub(r'[^a-zA-Z\\s]', '', text)\n",
    "    # tokenize the text\n",
    "    words = word_tokenize(text)\n",
    "    # remove stop words\n",
    "    words = [w for w in words if not w in stop_words]\n",
    "    \n",
    "    return words\n",
    "from nltk.probability import FreqDist\n",
    "\n",
    "# create a frequency distribution of the words in the 'title' column\n",
    "title_freq = FreqDist([word.lower() for words in title_words for word in words])\n",
    "tags_freq = FreqDist([word.lower() for words in tags_words for word in words])"
   ]
  },
  {
   "cell_type": "code",
   "execution_count": 203,
   "id": "212bf644",
   "metadata": {},
   "outputs": [
    {
     "ename": "NameError",
     "evalue": "name 'preprocess' is not defined",
     "output_type": "error",
     "traceback": [
      "\u001b[1;31m---------------------------------------------------------------------------\u001b[0m",
      "\u001b[1;31mNameError\u001b[0m                                 Traceback (most recent call last)",
      "Input \u001b[1;32mIn [203]\u001b[0m, in \u001b[0;36m<cell line: 1>\u001b[1;34m()\u001b[0m\n\u001b[1;32m----> 1\u001b[0m title_words \u001b[38;5;241m=\u001b[39m df[\u001b[38;5;124m'\u001b[39m\u001b[38;5;124mtitle\u001b[39m\u001b[38;5;124m'\u001b[39m]\u001b[38;5;241m.\u001b[39mapply(\u001b[43mpreprocess\u001b[49m)\n\u001b[0;32m      2\u001b[0m tags_words \u001b[38;5;241m=\u001b[39m df[\u001b[38;5;124m'\u001b[39m\u001b[38;5;124mtags\u001b[39m\u001b[38;5;124m'\u001b[39m]\u001b[38;5;241m.\u001b[39mapply(preprocess)\n",
      "\u001b[1;31mNameError\u001b[0m: name 'preprocess' is not defined"
     ]
    }
   ],
   "source": [
    "title_words = df['title'].apply(preprocess)\n",
    "tags_words = df['tags'].apply(preprocess)"
   ]
  },
  {
   "cell_type": "code",
   "execution_count": null,
   "id": "07af9c85",
   "metadata": {},
   "outputs": [],
   "source": [
    "from nltk.probability import FreqDist\n",
    "\n",
    "# create a frequency distribution of the words in the 'title' column\n",
    "title_freq = FreqDist([word.lower() for words in title_words for word in words])\n",
    "tags_freq = FreqDist([word.lower() for words in tags_words for word in words])"
   ]
  },
  {
   "cell_type": "code",
   "execution_count": null,
   "id": "6df90d7b",
   "metadata": {},
   "outputs": [],
   "source": [
    "import matplotlib.pyplot as plt\n",
    "\n",
    "# create a bar chart of the top 20 words\n",
    "top_words = title_freq.most_common(20)\n",
    "words, counts = zip(*top_words)\n",
    "plt.bar(words, counts)\n",
    "plt.xticks(rotation=90)\n",
    "plt.show()"
   ]
  },
  {
   "cell_type": "code",
   "execution_count": null,
   "id": "631ef431",
   "metadata": {},
   "outputs": [],
   "source": [
    "top_words = tags_freq.most_common(20)\n",
    "words, counts = zip(*top_words)\n",
    "plt.bar(words, counts)\n",
    "plt.xticks(rotation=90)\n",
    "plt.show()"
   ]
  },
  {
   "cell_type": "code",
   "execution_count": null,
   "id": "99769be4",
   "metadata": {},
   "outputs": [],
   "source": [
    "def extract_keyword(title):\n",
    "    words = word_tokenize(title)\n",
    "    keywords = [word for word in words if word.lower() in title_freq]\n",
    "    if len(keywords) > 0:\n",
    "        return max(keywords, key=lambda word: title_freq[word.lower()])\n",
    "    else:\n",
    "        return None\n",
    "    \n",
    "df['titleKeyword'] = df['title'].apply(extract_keyword)"
   ]
  },
  {
   "cell_type": "code",
   "execution_count": null,
   "id": "9a5c3073",
   "metadata": {},
   "outputs": [],
   "source": [
    "title_freq_df = pd.DataFrame(list(title_freq.items()), columns=['word', 'frequency'])\n",
    "\n",
    "# sort the DataFrame by frequency in descending order\n",
    "title_freq_df = title_freq_df.sort_values(by='frequency', ascending=False)\n",
    "\n",
    "# reset the index of the DataFrame\n",
    "title_freq_df = title_freq_df.reset_index(drop=True)"
   ]
  }
 ],
 "metadata": {
  "kernelspec": {
   "display_name": "Python 3 (ipykernel)",
   "language": "python",
   "name": "python3"
  },
  "language_info": {
   "codemirror_mode": {
    "name": "ipython",
    "version": 3
   },
   "file_extension": ".py",
   "mimetype": "text/x-python",
   "name": "python",
   "nbconvert_exporter": "python",
   "pygments_lexer": "ipython3",
   "version": "3.9.12"
  }
 },
 "nbformat": 4,
 "nbformat_minor": 5
}
