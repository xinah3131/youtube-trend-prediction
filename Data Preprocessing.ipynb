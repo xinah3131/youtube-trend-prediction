{
 "cells": [
  {
   "cell_type": "markdown",
   "id": "7987e7ee",
   "metadata": {},
   "source": [
    "# Data Cleaning "
   ]
  },
  {
   "cell_type": "code",
   "execution_count": 5,
   "id": "ad5f6e82",
   "metadata": {},
   "outputs": [],
   "source": [
    "import pandas as pd\n",
    "import numpy as np\n",
    "import os\n",
    "pd.options.display.max_rows = 4000"
   ]
  },
  {
   "attachments": {},
   "cell_type": "markdown",
   "id": "91fd9ac1",
   "metadata": {},
   "source": [
    "# Video Dataset from Kaggle (Trending)"
   ]
  },
  {
   "cell_type": "code",
   "execution_count": null,
   "id": "a4289e2f",
   "metadata": {},
   "outputs": [],
   "source": [
    "df = pd.read_csv(r'C:\\Users\\LEGION\\Desktop\\MMU\\Data Science Fundamental\\Project\\Prediction of Video\\dataset\\US_youtube_trending_data.csv')"
   ]
  },
  {
   "cell_type": "code",
   "execution_count": null,
   "id": "08bc7564",
   "metadata": {},
   "outputs": [
    {
     "data": {
      "text/plain": [
       "(195990, 16)"
      ]
     },
     "execution_count": 56,
     "metadata": {},
     "output_type": "execute_result"
    }
   ],
   "source": [
    "df.shape"
   ]
  },
  {
   "cell_type": "code",
   "execution_count": null,
   "id": "b29c8cbd",
   "metadata": {},
   "outputs": [
    {
     "data": {
      "text/html": [
       "<div>\n",
       "<style scoped>\n",
       "    .dataframe tbody tr th:only-of-type {\n",
       "        vertical-align: middle;\n",
       "    }\n",
       "\n",
       "    .dataframe tbody tr th {\n",
       "        vertical-align: top;\n",
       "    }\n",
       "\n",
       "    .dataframe thead th {\n",
       "        text-align: right;\n",
       "    }\n",
       "</style>\n",
       "<table border=\"1\" class=\"dataframe\">\n",
       "  <thead>\n",
       "    <tr style=\"text-align: right;\">\n",
       "      <th></th>\n",
       "      <th>video_id</th>\n",
       "      <th>title</th>\n",
       "      <th>publishedAt</th>\n",
       "      <th>channelId</th>\n",
       "      <th>channelTitle</th>\n",
       "      <th>categoryId</th>\n",
       "      <th>trending_date</th>\n",
       "      <th>tags</th>\n",
       "      <th>view_count</th>\n",
       "      <th>likes</th>\n",
       "      <th>dislikes</th>\n",
       "      <th>comment_count</th>\n",
       "      <th>thumbnail_link</th>\n",
       "      <th>comments_disabled</th>\n",
       "      <th>ratings_disabled</th>\n",
       "      <th>description</th>\n",
       "    </tr>\n",
       "  </thead>\n",
       "  <tbody>\n",
       "    <tr>\n",
       "      <th>0</th>\n",
       "      <td>3C66w5Z0ixs</td>\n",
       "      <td>I ASKED HER TO BE MY GIRLFRIEND...</td>\n",
       "      <td>2020-08-11T19:20:14Z</td>\n",
       "      <td>UCvtRTOMP2TqYqu51xNrqAzg</td>\n",
       "      <td>Brawadis</td>\n",
       "      <td>22</td>\n",
       "      <td>2020-08-12T00:00:00Z</td>\n",
       "      <td>brawadis|prank|basketball|skits|ghost|funny vi...</td>\n",
       "      <td>1514614</td>\n",
       "      <td>156908</td>\n",
       "      <td>5855</td>\n",
       "      <td>35313</td>\n",
       "      <td>https://i.ytimg.com/vi/3C66w5Z0ixs/default.jpg</td>\n",
       "      <td>False</td>\n",
       "      <td>False</td>\n",
       "      <td>SUBSCRIBE to BRAWADIS ▶ http://bit.ly/Subscrib...</td>\n",
       "    </tr>\n",
       "    <tr>\n",
       "      <th>1</th>\n",
       "      <td>M9Pmf9AB4Mo</td>\n",
       "      <td>Apex Legends | Stories from the Outlands – “Th...</td>\n",
       "      <td>2020-08-11T17:00:10Z</td>\n",
       "      <td>UC0ZV6M2THA81QT9hrVWJG3A</td>\n",
       "      <td>Apex Legends</td>\n",
       "      <td>20</td>\n",
       "      <td>2020-08-12T00:00:00Z</td>\n",
       "      <td>Apex Legends|Apex Legends characters|new Apex ...</td>\n",
       "      <td>2381688</td>\n",
       "      <td>146739</td>\n",
       "      <td>2794</td>\n",
       "      <td>16549</td>\n",
       "      <td>https://i.ytimg.com/vi/M9Pmf9AB4Mo/default.jpg</td>\n",
       "      <td>False</td>\n",
       "      <td>False</td>\n",
       "      <td>While running her own modding shop, Ramya Pare...</td>\n",
       "    </tr>\n",
       "    <tr>\n",
       "      <th>2</th>\n",
       "      <td>J78aPJ3VyNs</td>\n",
       "      <td>I left youtube for a month and THIS is what ha...</td>\n",
       "      <td>2020-08-11T16:34:06Z</td>\n",
       "      <td>UCYzPXprvl5Y-Sf0g4vX-m6g</td>\n",
       "      <td>jacksepticeye</td>\n",
       "      <td>24</td>\n",
       "      <td>2020-08-12T00:00:00Z</td>\n",
       "      <td>jacksepticeye|funny|funny meme|memes|jacksepti...</td>\n",
       "      <td>2038853</td>\n",
       "      <td>353787</td>\n",
       "      <td>2628</td>\n",
       "      <td>40221</td>\n",
       "      <td>https://i.ytimg.com/vi/J78aPJ3VyNs/default.jpg</td>\n",
       "      <td>False</td>\n",
       "      <td>False</td>\n",
       "      <td>I left youtube for a month and this is what ha...</td>\n",
       "    </tr>\n",
       "    <tr>\n",
       "      <th>3</th>\n",
       "      <td>kXLn3HkpjaA</td>\n",
       "      <td>XXL 2020 Freshman Class Revealed - Official An...</td>\n",
       "      <td>2020-08-11T16:38:55Z</td>\n",
       "      <td>UCbg_UMjlHJg_19SZckaKajg</td>\n",
       "      <td>XXL</td>\n",
       "      <td>10</td>\n",
       "      <td>2020-08-12T00:00:00Z</td>\n",
       "      <td>xxl freshman|xxl freshmen|2020 xxl freshman|20...</td>\n",
       "      <td>496771</td>\n",
       "      <td>23251</td>\n",
       "      <td>1856</td>\n",
       "      <td>7647</td>\n",
       "      <td>https://i.ytimg.com/vi/kXLn3HkpjaA/default.jpg</td>\n",
       "      <td>False</td>\n",
       "      <td>False</td>\n",
       "      <td>Subscribe to XXL → http://bit.ly/subscribe-xxl...</td>\n",
       "    </tr>\n",
       "    <tr>\n",
       "      <th>4</th>\n",
       "      <td>VIUo6yapDbc</td>\n",
       "      <td>Ultimate DIY Home Movie Theater for The LaBran...</td>\n",
       "      <td>2020-08-11T15:10:05Z</td>\n",
       "      <td>UCDVPcEbVLQgLZX0Rt6jo34A</td>\n",
       "      <td>Mr. Kate</td>\n",
       "      <td>26</td>\n",
       "      <td>2020-08-12T00:00:00Z</td>\n",
       "      <td>The LaBrant Family|DIY|Interior Design|Makeove...</td>\n",
       "      <td>1123889</td>\n",
       "      <td>45802</td>\n",
       "      <td>964</td>\n",
       "      <td>2196</td>\n",
       "      <td>https://i.ytimg.com/vi/VIUo6yapDbc/default.jpg</td>\n",
       "      <td>False</td>\n",
       "      <td>False</td>\n",
       "      <td>Transforming The LaBrant Family's empty white ...</td>\n",
       "    </tr>\n",
       "  </tbody>\n",
       "</table>\n",
       "</div>"
      ],
      "text/plain": [
       "      video_id                                              title  \\\n",
       "0  3C66w5Z0ixs                 I ASKED HER TO BE MY GIRLFRIEND...   \n",
       "1  M9Pmf9AB4Mo  Apex Legends | Stories from the Outlands – “Th...   \n",
       "2  J78aPJ3VyNs  I left youtube for a month and THIS is what ha...   \n",
       "3  kXLn3HkpjaA  XXL 2020 Freshman Class Revealed - Official An...   \n",
       "4  VIUo6yapDbc  Ultimate DIY Home Movie Theater for The LaBran...   \n",
       "\n",
       "            publishedAt                 channelId   channelTitle  categoryId  \\\n",
       "0  2020-08-11T19:20:14Z  UCvtRTOMP2TqYqu51xNrqAzg       Brawadis          22   \n",
       "1  2020-08-11T17:00:10Z  UC0ZV6M2THA81QT9hrVWJG3A   Apex Legends          20   \n",
       "2  2020-08-11T16:34:06Z  UCYzPXprvl5Y-Sf0g4vX-m6g  jacksepticeye          24   \n",
       "3  2020-08-11T16:38:55Z  UCbg_UMjlHJg_19SZckaKajg            XXL          10   \n",
       "4  2020-08-11T15:10:05Z  UCDVPcEbVLQgLZX0Rt6jo34A       Mr. Kate          26   \n",
       "\n",
       "          trending_date                                               tags  \\\n",
       "0  2020-08-12T00:00:00Z  brawadis|prank|basketball|skits|ghost|funny vi...   \n",
       "1  2020-08-12T00:00:00Z  Apex Legends|Apex Legends characters|new Apex ...   \n",
       "2  2020-08-12T00:00:00Z  jacksepticeye|funny|funny meme|memes|jacksepti...   \n",
       "3  2020-08-12T00:00:00Z  xxl freshman|xxl freshmen|2020 xxl freshman|20...   \n",
       "4  2020-08-12T00:00:00Z  The LaBrant Family|DIY|Interior Design|Makeove...   \n",
       "\n",
       "   view_count   likes  dislikes  comment_count  \\\n",
       "0     1514614  156908      5855          35313   \n",
       "1     2381688  146739      2794          16549   \n",
       "2     2038853  353787      2628          40221   \n",
       "3      496771   23251      1856           7647   \n",
       "4     1123889   45802       964           2196   \n",
       "\n",
       "                                   thumbnail_link  comments_disabled  \\\n",
       "0  https://i.ytimg.com/vi/3C66w5Z0ixs/default.jpg              False   \n",
       "1  https://i.ytimg.com/vi/M9Pmf9AB4Mo/default.jpg              False   \n",
       "2  https://i.ytimg.com/vi/J78aPJ3VyNs/default.jpg              False   \n",
       "3  https://i.ytimg.com/vi/kXLn3HkpjaA/default.jpg              False   \n",
       "4  https://i.ytimg.com/vi/VIUo6yapDbc/default.jpg              False   \n",
       "\n",
       "   ratings_disabled                                        description  \n",
       "0             False  SUBSCRIBE to BRAWADIS ▶ http://bit.ly/Subscrib...  \n",
       "1             False  While running her own modding shop, Ramya Pare...  \n",
       "2             False  I left youtube for a month and this is what ha...  \n",
       "3             False  Subscribe to XXL → http://bit.ly/subscribe-xxl...  \n",
       "4             False  Transforming The LaBrant Family's empty white ...  "
      ]
     },
     "execution_count": 57,
     "metadata": {},
     "output_type": "execute_result"
    }
   ],
   "source": [
    "df.head()"
   ]
  },
  {
   "cell_type": "code",
   "execution_count": null,
   "id": "fa130f06",
   "metadata": {},
   "outputs": [
    {
     "data": {
      "text/plain": [
       "Index(['video_id', 'title', 'publishedAt', 'channelId', 'channelTitle',\n",
       "       'categoryId', 'trending_date', 'tags', 'view_count', 'likes',\n",
       "       'dislikes', 'comment_count', 'thumbnail_link', 'comments_disabled',\n",
       "       'ratings_disabled', 'description'],\n",
       "      dtype='object')"
      ]
     },
     "execution_count": 58,
     "metadata": {},
     "output_type": "execute_result"
    }
   ],
   "source": [
    "df.columns"
   ]
  },
  {
   "cell_type": "code",
   "execution_count": null,
   "id": "c85bf113",
   "metadata": {},
   "outputs": [
    {
     "data": {
      "text/plain": [
       "video_id             object\n",
       "title                object\n",
       "publishedAt          object\n",
       "channelId            object\n",
       "channelTitle         object\n",
       "categoryId            int64\n",
       "trending_date        object\n",
       "tags                 object\n",
       "view_count            int64\n",
       "likes                 int64\n",
       "dislikes              int64\n",
       "comment_count         int64\n",
       "thumbnail_link       object\n",
       "comments_disabled      bool\n",
       "ratings_disabled       bool\n",
       "description          object\n",
       "dtype: object"
      ]
     },
     "execution_count": 59,
     "metadata": {},
     "output_type": "execute_result"
    }
   ],
   "source": [
    "df.dtypes"
   ]
  },
  {
   "cell_type": "code",
   "execution_count": null,
   "id": "700ddd16",
   "metadata": {},
   "outputs": [
    {
     "data": {
      "text/html": [
       "<div>\n",
       "<style scoped>\n",
       "    .dataframe tbody tr th:only-of-type {\n",
       "        vertical-align: middle;\n",
       "    }\n",
       "\n",
       "    .dataframe tbody tr th {\n",
       "        vertical-align: top;\n",
       "    }\n",
       "\n",
       "    .dataframe thead th {\n",
       "        text-align: right;\n",
       "    }\n",
       "</style>\n",
       "<table border=\"1\" class=\"dataframe\">\n",
       "  <thead>\n",
       "    <tr style=\"text-align: right;\">\n",
       "      <th></th>\n",
       "      <th>categoryId</th>\n",
       "      <th>view_count</th>\n",
       "      <th>likes</th>\n",
       "      <th>dislikes</th>\n",
       "      <th>comment_count</th>\n",
       "    </tr>\n",
       "  </thead>\n",
       "  <tbody>\n",
       "    <tr>\n",
       "      <th>count</th>\n",
       "      <td>195990.000000</td>\n",
       "      <td>1.959900e+05</td>\n",
       "      <td>1.959900e+05</td>\n",
       "      <td>195990.000000</td>\n",
       "      <td>1.959900e+05</td>\n",
       "    </tr>\n",
       "    <tr>\n",
       "      <th>mean</th>\n",
       "      <td>18.807720</td>\n",
       "      <td>2.498657e+06</td>\n",
       "      <td>1.293927e+05</td>\n",
       "      <td>1555.584698</td>\n",
       "      <td>1.077568e+04</td>\n",
       "    </tr>\n",
       "    <tr>\n",
       "      <th>std</th>\n",
       "      <td>6.759202</td>\n",
       "      <td>7.064335e+06</td>\n",
       "      <td>4.076709e+05</td>\n",
       "      <td>9389.205433</td>\n",
       "      <td>8.174297e+04</td>\n",
       "    </tr>\n",
       "    <tr>\n",
       "      <th>min</th>\n",
       "      <td>1.000000</td>\n",
       "      <td>0.000000e+00</td>\n",
       "      <td>0.000000e+00</td>\n",
       "      <td>0.000000</td>\n",
       "      <td>0.000000e+00</td>\n",
       "    </tr>\n",
       "    <tr>\n",
       "      <th>25%</th>\n",
       "      <td>17.000000</td>\n",
       "      <td>4.784200e+05</td>\n",
       "      <td>1.858800e+04</td>\n",
       "      <td>0.000000</td>\n",
       "      <td>1.328000e+03</td>\n",
       "    </tr>\n",
       "    <tr>\n",
       "      <th>50%</th>\n",
       "      <td>20.000000</td>\n",
       "      <td>9.659445e+05</td>\n",
       "      <td>4.272550e+04</td>\n",
       "      <td>24.500000</td>\n",
       "      <td>2.934000e+03</td>\n",
       "    </tr>\n",
       "    <tr>\n",
       "      <th>75%</th>\n",
       "      <td>24.000000</td>\n",
       "      <td>2.162866e+06</td>\n",
       "      <td>1.063425e+05</td>\n",
       "      <td>859.000000</td>\n",
       "      <td>6.920000e+03</td>\n",
       "    </tr>\n",
       "    <tr>\n",
       "      <th>max</th>\n",
       "      <td>29.000000</td>\n",
       "      <td>2.777917e+08</td>\n",
       "      <td>1.602153e+07</td>\n",
       "      <td>879354.000000</td>\n",
       "      <td>6.738537e+06</td>\n",
       "    </tr>\n",
       "  </tbody>\n",
       "</table>\n",
       "</div>"
      ],
      "text/plain": [
       "          categoryId    view_count         likes       dislikes  comment_count\n",
       "count  195990.000000  1.959900e+05  1.959900e+05  195990.000000   1.959900e+05\n",
       "mean       18.807720  2.498657e+06  1.293927e+05    1555.584698   1.077568e+04\n",
       "std         6.759202  7.064335e+06  4.076709e+05    9389.205433   8.174297e+04\n",
       "min         1.000000  0.000000e+00  0.000000e+00       0.000000   0.000000e+00\n",
       "25%        17.000000  4.784200e+05  1.858800e+04       0.000000   1.328000e+03\n",
       "50%        20.000000  9.659445e+05  4.272550e+04      24.500000   2.934000e+03\n",
       "75%        24.000000  2.162866e+06  1.063425e+05     859.000000   6.920000e+03\n",
       "max        29.000000  2.777917e+08  1.602153e+07  879354.000000   6.738537e+06"
      ]
     },
     "execution_count": 60,
     "metadata": {},
     "output_type": "execute_result"
    }
   ],
   "source": [
    "df.describe()"
   ]
  },
  {
   "cell_type": "code",
   "execution_count": null,
   "id": "822e5a9c",
   "metadata": {},
   "outputs": [],
   "source": [
    "df = df[['video_id', 'title', 'publishedAt', 'channelId', 'channelTitle',\n",
    "       'categoryId', 'trending_date', 'tags', 'view_count', 'likes',\n",
    "      'comment_count','description','thumbnail_link']].copy()\n"
   ]
  },
  {
   "cell_type": "code",
   "execution_count": null,
   "id": "d63c1cb8",
   "metadata": {},
   "outputs": [],
   "source": [
    "df = df.rename(columns={'video_id' : 'videoID',\n",
    "                   'trending_date':'trendingDate',\n",
    "                   'view_count':'views',\n",
    "                   'comment_count':'comments',\n",
    "                   'thumbnail_link':'thumbnailLink'})"
   ]
  },
  {
   "cell_type": "code",
   "execution_count": null,
   "id": "881007f5",
   "metadata": {},
   "outputs": [],
   "source": [
    "df['trendingDate'] = pd.to_datetime(df['trendingDate'])\n",
    "df['publishedAt'] = pd.to_datetime(df['publishedAt'])"
   ]
  },
  {
   "cell_type": "code",
   "execution_count": null,
   "id": "231ad762",
   "metadata": {},
   "outputs": [
    {
     "data": {
      "text/plain": [
       "(35719, 13)"
      ]
     },
     "execution_count": 64,
     "metadata": {},
     "output_type": "execute_result"
    }
   ],
   "source": [
    "df  = df.loc[~df.duplicated(subset=['videoID'],keep=\"last\")].reset_index(drop=True).copy()\n",
    "df.shape"
   ]
  },
  {
   "cell_type": "code",
   "execution_count": null,
   "id": "8c56163c",
   "metadata": {},
   "outputs": [],
   "source": [
    "df = df[(df.likes != 0)& (df.comments != 0) & (df.views != 0)]"
   ]
  },
  {
   "cell_type": "code",
   "execution_count": null,
   "id": "5a8a58be",
   "metadata": {},
   "outputs": [],
   "source": [
    "#Inverse Mapping\n",
    "df['description'] = df['description'].astype(object)"
   ]
  },
  {
   "cell_type": "code",
   "execution_count": null,
   "id": "f664ce68",
   "metadata": {},
   "outputs": [],
   "source": [
    "df.channelId = df.channelId.astype(\"category\")\n",
    "df.channelTitle = df.channelTitle.astype(\"category\")"
   ]
  },
  {
   "cell_type": "code",
   "execution_count": null,
   "id": "fb70d445",
   "metadata": {},
   "outputs": [],
   "source": [
    "df.description = df.description.fillna('No description')"
   ]
  },
  {
   "cell_type": "code",
   "execution_count": null,
   "id": "8b500fa3",
   "metadata": {
    "scrolled": true
   },
   "outputs": [
    {
     "data": {
      "text/plain": [
       "videoID          0\n",
       "title            0\n",
       "publishedAt      0\n",
       "channelId        0\n",
       "channelTitle     0\n",
       "categoryId       0\n",
       "trendingDate     0\n",
       "tags             0\n",
       "views            0\n",
       "likes            0\n",
       "comments         0\n",
       "description      0\n",
       "thumbnailLink    0\n",
       "dtype: int64"
      ]
     },
     "execution_count": 69,
     "metadata": {},
     "output_type": "execute_result"
    }
   ],
   "source": [
    "df.isna().sum()"
   ]
  },
  {
   "attachments": {},
   "cell_type": "markdown",
   "id": "60934d6f",
   "metadata": {},
   "source": [
    "# Video Dataset from Web Scrapping using Youtube Api "
   ]
  },
  {
   "cell_type": "code",
   "execution_count": null,
   "id": "a05b3121",
   "metadata": {},
   "outputs": [],
   "source": [
    "df2 = pd.read_csv(r'C:\\Users\\LEGION\\Desktop\\MMU\\Data Science Fundamental\\Project\\Prediction of Video\\dataset\\US_youtube_non_trending_data.csv')"
   ]
  },
  {
   "cell_type": "code",
   "execution_count": null,
   "id": "40bef6de",
   "metadata": {},
   "outputs": [],
   "source": [
    "df2 = df2.rename(columns={'video_id' : 'videoID',\n",
    "                   'view_count':'views',\n",
    "                   'comment_count':'comments',\n",
    "                   'thumbnail_link':'thumbnailLink'})"
   ]
  },
  {
   "cell_type": "code",
   "execution_count": null,
   "id": "764b30f8",
   "metadata": {},
   "outputs": [],
   "source": [
    "df2['publishedAt'] = pd.to_datetime(df2['publishedAt'])"
   ]
  },
  {
   "cell_type": "code",
   "execution_count": null,
   "id": "31695371",
   "metadata": {},
   "outputs": [],
   "source": [
    "df2.channelId = df2.channelId.astype(\"category\")\n",
    "df2.channelTitle = df2.channelTitle.astype(\"category\")"
   ]
  },
  {
   "cell_type": "code",
   "execution_count": null,
   "id": "0f868339",
   "metadata": {},
   "outputs": [],
   "source": [
    "df2.description = df2.description.fillna('No description')"
   ]
  },
  {
   "cell_type": "code",
   "execution_count": null,
   "id": "5fe3e604",
   "metadata": {},
   "outputs": [],
   "source": [
    "df2  = df2.loc[~df2.duplicated(subset=['videoID'],keep=\"last\")].reset_index(drop=True).copy()"
   ]
  },
  {
   "cell_type": "code",
   "execution_count": null,
   "id": "ba7ae86b",
   "metadata": {},
   "outputs": [],
   "source": [
    "df2 = df2.dropna(subset=['likes','comments','views'])\n",
    "df2 = df2[(df2.likes != 0)& (df2.comments != 0) & (df2.views != 0)]\n",
    "# df2 = df2[df2.views <=  999999]\n",
    "df2.tags = df2.tags.fillna('[None]')\n"
   ]
  },
  {
   "cell_type": "code",
   "execution_count": null,
   "id": "35e9bfe7",
   "metadata": {},
   "outputs": [],
   "source": [
    "import pytz\n",
    "\n",
    "cutoff_date = pd.Timestamp('2018-01-01', tz=pytz.utc)\n",
    "df2 = df2[df2['publishedAt'] >= cutoff_date]\n"
   ]
  },
  {
   "cell_type": "code",
   "execution_count": null,
   "id": "024cccdb",
   "metadata": {},
   "outputs": [
    {
     "data": {
      "text/plain": [
       "videoID          0\n",
       "title            0\n",
       "publishedAt      0\n",
       "channelId        0\n",
       "channelTitle     0\n",
       "categoryId       0\n",
       "tags             0\n",
       "views            0\n",
       "likes            0\n",
       "comments         0\n",
       "thumbnailLink    0\n",
       "description      0\n",
       "dtype: int64"
      ]
     },
     "execution_count": 86,
     "metadata": {},
     "output_type": "execute_result"
    }
   ],
   "source": [
    "df2.isna().sum()"
   ]
  },
  {
   "cell_type": "code",
   "execution_count": null,
   "id": "5b2698ed",
   "metadata": {},
   "outputs": [
    {
     "data": {
      "text/plain": [
       "(67912, 12)"
      ]
     },
     "execution_count": 72,
     "metadata": {},
     "output_type": "execute_result"
    }
   ],
   "source": [
    "df2.shape"
   ]
  },
  {
   "cell_type": "markdown",
   "id": "1b843816",
   "metadata": {},
   "source": [
    "# Save Both Data Set To CSV"
   ]
  },
  {
   "cell_type": "code",
   "execution_count": null,
   "id": "91139b22",
   "metadata": {},
   "outputs": [],
   "source": [
    "df.to_csv('US_youtube_cleaned_trending_data.csv')\n",
    "df2.to_csv('US_youtube_cleaned_non_trending_data.csv')"
   ]
  },
  {
   "cell_type": "markdown",
   "id": "3d5c3b5c",
   "metadata": {},
   "source": [
    "# Data Integration\n",
    "## Merge both dataset"
   ]
  },
  {
   "cell_type": "code",
   "execution_count": 26,
   "id": "420d3d32",
   "metadata": {},
   "outputs": [],
   "source": [
    "df = pd.read_csv(r'C:\\Users\\LEGION\\Desktop\\MMU\\Data Science Fundamental\\Project\\Prediction of Video\\dataset\\US_youtube_cleaned_trending_data.csv')\n",
    "df2 = pd.read_csv(r'C:\\Users\\LEGION\\Desktop\\MMU\\Data Science Fundamental\\Project\\Prediction of Video\\dataset\\US_youtube_cleaned_non_trending_data.csv')\n",
    "# df2 = df2[~df2['videoID'].isin(df['videoID'])]\n",
    "# df['trendingOrNot'] = 1\n",
    "# df2['trendingOrNot'] = 0\n",
    "trending = df.copy()\n",
    "nonTrending = df2.copy()\n",
    "\n",
    "common_cols = list(set(trending.columns).intersection(nonTrending.columns))\n",
    "\n",
    "# Merge the two dataframes using only the common columns\n",
    "merged_df = pd.merge(trending[common_cols], nonTrending[common_cols], how='outer')"
   ]
  },
  {
   "cell_type": "code",
   "execution_count": 27,
   "id": "8dcb337f",
   "metadata": {},
   "outputs": [
    {
     "data": {
      "text/plain": [
       "Index(['likes', 'channelTitle', 'tags', 'duration', 'title', 'categoryId',\n",
       "       'Unnamed: 0.4', 'comments', 'thumbnailLink', 'videoID', 'Unnamed: 0.2',\n",
       "       'Unnamed: 0.1', 'publishedAt', 'Unnamed: 0.3', 'Unnamed: 0',\n",
       "       'channelId', 'description', 'views'],\n",
       "      dtype='object')"
      ]
     },
     "execution_count": 27,
     "metadata": {},
     "output_type": "execute_result"
    }
   ],
   "source": [
    "merged_df.columns"
   ]
  },
  {
   "cell_type": "markdown",
   "id": "6d3f1c4f",
   "metadata": {},
   "source": [
    "# Data Transformation"
   ]
  },
  {
   "cell_type": "code",
   "execution_count": 28,
   "id": "23ce870f",
   "metadata": {},
   "outputs": [],
   "source": [
    "merged_df.drop_duplicates(subset='videoID', inplace=True)\n"
   ]
  },
  {
   "cell_type": "code",
   "execution_count": 29,
   "id": "d974e9e8",
   "metadata": {},
   "outputs": [],
   "source": [
    "merged_df = merged_df[(merged_df.duration != 0)]\n",
    "merged_df = merged_df.dropna(subset=['description'])"
   ]
  },
  {
   "cell_type": "code",
   "execution_count": 30,
   "id": "9c6db6c7",
   "metadata": {},
   "outputs": [
    {
     "name": "stdout",
     "output_type": "stream",
     "text": [
      "The threshold value is: 477131.1783798947\n"
     ]
    }
   ],
   "source": [
    "avg_views = merged_df['views'].mean()\n",
    "#Cast a wider net and capture a larger number of potentially trending videos\n",
    "threshold = avg_views / 2\n",
    "print(\"The threshold value is:\", threshold)"
   ]
  },
  {
   "cell_type": "code",
   "execution_count": 31,
   "id": "4ed7beb5",
   "metadata": {},
   "outputs": [
    {
     "data": {
      "text/plain": [
       "0    86588\n",
       "1    34614\n",
       "Name: trendingOrNot, dtype: int64"
      ]
     },
     "execution_count": 31,
     "metadata": {},
     "output_type": "execute_result"
    }
   ],
   "source": [
    "merged_df['trendingOrNot'] = merged_df['views'].apply(lambda x: 1 if x >=  threshold else 0)\n",
    "merged_df['trendingOrNot'].value_counts()"
   ]
  },
  {
   "cell_type": "code",
   "execution_count": null,
   "id": "733b87e9",
   "metadata": {},
   "outputs": [],
   "source": [
    "trend = len(merged_df[merged_df['trendingOrNot']==1])\n",
    "noTrend = len(merged_df[merged_df['trendingOrNot']==0])\n",
    "pctOfTrend = trend/(trend+noTrend)\n",
    "print(\"percentage of trend is\", pctOfTrend*100)\n",
    "pctOfNoTrend = 100 - pctOfTrend*100\n",
    "print(\"percentage of no trend\", pctOfNoTrend)"
   ]
  },
  {
   "attachments": {},
   "cell_type": "markdown",
   "id": "ff89157b",
   "metadata": {},
   "source": [
    "# Feature Adding"
   ]
  },
  {
   "cell_type": "code",
   "execution_count": 32,
   "id": "28ba9e04",
   "metadata": {},
   "outputs": [],
   "source": [
    "# Retrieve the day of the week and the day time for video published\n",
    "merged_df['publishedAt'] = pd.to_datetime(merged_df['publishedAt'])\n",
    "\n",
    "# create a frequency distribution of the words in the 'title' column\n",
    "\n",
    "merged_df['dayOfWeek'] = merged_df['publishedAt'].dt.weekday\n",
    "def getDaytime(x):\n",
    "    if x.hour>4 and x.hour<=10:\n",
    "        return \"Morning\"\n",
    "    elif x.hour>10 and x.hour<=16:\n",
    "        return \"Afternoon\"\n",
    "    elif x.hour>16 and x.hour<=22:\n",
    "        return \"Evening\"\n",
    "    else:\n",
    "        return \"Night\"\n",
    "\n",
    "merged_df['daytime']=merged_df.publishedAt.apply(lambda x: getDaytime(x))\n"
   ]
  },
  {
   "cell_type": "code",
   "execution_count": 33,
   "id": "68a1ea23",
   "metadata": {},
   "outputs": [],
   "source": [
    "from sklearn.preprocessing import LabelEncoder\n",
    "\n",
    "# Create a label encoder object\n",
    "le = LabelEncoder()\n",
    "# Fit the encoder to the data\n",
    "le.fit(merged_df['daytime'])\n",
    "# Transform the data using the encoder\n",
    "merged_df['daytime'] = le.transform(merged_df['daytime'])\n",
    "\n",
    "\n",
    "# Fit the label encoder to your category ID data and transform it\n",
    "# merged_df['categoryId'] = le.fit_transform(merged_df['categoryId'])\n"
   ]
  },
  {
   "cell_type": "code",
   "execution_count": 34,
   "id": "2ef34417",
   "metadata": {},
   "outputs": [],
   "source": [
    "from nltk.sentiment import SentimentIntensityAnalyzer\n",
    "\n",
    "analyzer = SentimentIntensityAnalyzer()\n",
    "\n",
    "def question_mark(title):\n",
    "    if '?' in title: \n",
    "        return True\n",
    "    else:\n",
    "        return False\n",
    "\n",
    "def exclamation_mark(title):\n",
    "    if '!' in str(title): \n",
    "        return True\n",
    "    else:\n",
    "        return False\n",
    "    \n",
    "def isEnglish(s):\n",
    "    try:\n",
    "        s.encode(encoding='utf-8').decode('ascii')\n",
    "    except UnicodeDecodeError:\n",
    "        return False\n",
    "    else:\n",
    "        return True\n",
    "    \n",
    "def countCapLetter(sentence):\n",
    "    count = 0\n",
    "    for letter in sentence:\n",
    "        if letter.isupper():\n",
    "            count += 1\n",
    "    return count\n",
    "\n",
    "def fullCapSentence(text):\n",
    "    words = text.split()\n",
    "    for word in words:\n",
    "        if not word.isupper():\n",
    "            return False\n",
    "    return True\n",
    "\n",
    "\n",
    "def getSentimentScore(title):\n",
    "    return analyzer.polarity_scores(title)['compound']\n"
   ]
  },
  {
   "cell_type": "code",
   "execution_count": 35,
   "id": "3e99f089",
   "metadata": {},
   "outputs": [],
   "source": [
    "merged_df['titleLength'] = merged_df['title'].apply(lambda x: len(x))\n",
    "merged_df['descriptionLength'] = merged_df['description'].apply(lambda x: len(x))\n",
    "merged_df['questionMark'] = merged_df['title'].apply(question_mark)\n",
    "merged_df['exclamationMark'] = merged_df['title'].apply(exclamation_mark)\n",
    "merged_df['fullCapCount'] = merged_df['title'].apply(countCapLetter)\n",
    "merged_df['fullCapSentence'] = merged_df['title'].apply(fullCapSentence)\n",
    "merged_df['sentimentScore'] = merged_df['title'].apply(getSentimentScore)\n"
   ]
  },
  {
   "cell_type": "code",
   "execution_count": 36,
   "id": "dd71cee7",
   "metadata": {},
   "outputs": [],
   "source": [
    "\n",
    "merged_df = merged_df[['videoID','title', 'publishedAt','channelId','channelTitle','categoryId', 'tags', 'views', 'likes', 'comments','descriptionLength',\\\n",
    "     'thumbnailLink', 'dayOfWeek','daytime','duration','titleLength','questionMark','exclamationMark','sentimentScore','fullCapSentence','fullCapCount','trendingOrNot']].copy()\n",
    "new_order = ['videoID','title','publishedAt', 'channelId','channelTitle','categoryId', 'tags', 'views', 'likes', 'comments','descriptionLength',\\\n",
    "    'thumbnailLink', 'dayOfWeek','daytime','duration','titleLength','questionMark','exclamationMark','sentimentScore','fullCapSentence','fullCapCount','trendingOrNot']\n",
    "merged_df = merged_df[new_order]"
   ]
  },
  {
   "cell_type": "code",
   "execution_count": 37,
   "id": "aa10b721",
   "metadata": {},
   "outputs": [
    {
     "data": {
      "text/html": [
       "<div>\n",
       "<style scoped>\n",
       "    .dataframe tbody tr th:only-of-type {\n",
       "        vertical-align: middle;\n",
       "    }\n",
       "\n",
       "    .dataframe tbody tr th {\n",
       "        vertical-align: top;\n",
       "    }\n",
       "\n",
       "    .dataframe thead th {\n",
       "        text-align: right;\n",
       "    }\n",
       "</style>\n",
       "<table border=\"1\" class=\"dataframe\">\n",
       "  <thead>\n",
       "    <tr style=\"text-align: right;\">\n",
       "      <th></th>\n",
       "      <th>Column Name</th>\n",
       "      <th>Missing Count</th>\n",
       "      <th>Percentage(%)</th>\n",
       "    </tr>\n",
       "  </thead>\n",
       "  <tbody>\n",
       "    <tr>\n",
       "      <th>0</th>\n",
       "      <td>videoID</td>\n",
       "      <td>0</td>\n",
       "      <td>0.00%</td>\n",
       "    </tr>\n",
       "    <tr>\n",
       "      <th>1</th>\n",
       "      <td>title</td>\n",
       "      <td>0</td>\n",
       "      <td>0.00%</td>\n",
       "    </tr>\n",
       "    <tr>\n",
       "      <th>2</th>\n",
       "      <td>fullCapCount</td>\n",
       "      <td>0</td>\n",
       "      <td>0.00%</td>\n",
       "    </tr>\n",
       "    <tr>\n",
       "      <th>3</th>\n",
       "      <td>fullCapSentence</td>\n",
       "      <td>0</td>\n",
       "      <td>0.00%</td>\n",
       "    </tr>\n",
       "    <tr>\n",
       "      <th>4</th>\n",
       "      <td>sentimentScore</td>\n",
       "      <td>0</td>\n",
       "      <td>0.00%</td>\n",
       "    </tr>\n",
       "    <tr>\n",
       "      <th>5</th>\n",
       "      <td>exclamationMark</td>\n",
       "      <td>0</td>\n",
       "      <td>0.00%</td>\n",
       "    </tr>\n",
       "    <tr>\n",
       "      <th>6</th>\n",
       "      <td>questionMark</td>\n",
       "      <td>0</td>\n",
       "      <td>0.00%</td>\n",
       "    </tr>\n",
       "    <tr>\n",
       "      <th>7</th>\n",
       "      <td>titleLength</td>\n",
       "      <td>0</td>\n",
       "      <td>0.00%</td>\n",
       "    </tr>\n",
       "    <tr>\n",
       "      <th>8</th>\n",
       "      <td>duration</td>\n",
       "      <td>0</td>\n",
       "      <td>0.00%</td>\n",
       "    </tr>\n",
       "    <tr>\n",
       "      <th>9</th>\n",
       "      <td>daytime</td>\n",
       "      <td>0</td>\n",
       "      <td>0.00%</td>\n",
       "    </tr>\n",
       "    <tr>\n",
       "      <th>10</th>\n",
       "      <td>dayOfWeek</td>\n",
       "      <td>0</td>\n",
       "      <td>0.00%</td>\n",
       "    </tr>\n",
       "    <tr>\n",
       "      <th>11</th>\n",
       "      <td>thumbnailLink</td>\n",
       "      <td>0</td>\n",
       "      <td>0.00%</td>\n",
       "    </tr>\n",
       "    <tr>\n",
       "      <th>12</th>\n",
       "      <td>descriptionLength</td>\n",
       "      <td>0</td>\n",
       "      <td>0.00%</td>\n",
       "    </tr>\n",
       "    <tr>\n",
       "      <th>13</th>\n",
       "      <td>comments</td>\n",
       "      <td>0</td>\n",
       "      <td>0.00%</td>\n",
       "    </tr>\n",
       "    <tr>\n",
       "      <th>14</th>\n",
       "      <td>likes</td>\n",
       "      <td>0</td>\n",
       "      <td>0.00%</td>\n",
       "    </tr>\n",
       "    <tr>\n",
       "      <th>15</th>\n",
       "      <td>views</td>\n",
       "      <td>0</td>\n",
       "      <td>0.00%</td>\n",
       "    </tr>\n",
       "    <tr>\n",
       "      <th>16</th>\n",
       "      <td>tags</td>\n",
       "      <td>0</td>\n",
       "      <td>0.00%</td>\n",
       "    </tr>\n",
       "    <tr>\n",
       "      <th>17</th>\n",
       "      <td>categoryId</td>\n",
       "      <td>0</td>\n",
       "      <td>0.00%</td>\n",
       "    </tr>\n",
       "    <tr>\n",
       "      <th>18</th>\n",
       "      <td>channelTitle</td>\n",
       "      <td>0</td>\n",
       "      <td>0.00%</td>\n",
       "    </tr>\n",
       "    <tr>\n",
       "      <th>19</th>\n",
       "      <td>channelId</td>\n",
       "      <td>0</td>\n",
       "      <td>0.00%</td>\n",
       "    </tr>\n",
       "    <tr>\n",
       "      <th>20</th>\n",
       "      <td>publishedAt</td>\n",
       "      <td>0</td>\n",
       "      <td>0.00%</td>\n",
       "    </tr>\n",
       "    <tr>\n",
       "      <th>21</th>\n",
       "      <td>trendingOrNot</td>\n",
       "      <td>0</td>\n",
       "      <td>0.00%</td>\n",
       "    </tr>\n",
       "  </tbody>\n",
       "</table>\n",
       "</div>"
      ],
      "text/plain": [
       "          Column Name  Missing Count Percentage(%)\n",
       "0             videoID              0         0.00%\n",
       "1               title              0         0.00%\n",
       "2        fullCapCount              0         0.00%\n",
       "3     fullCapSentence              0         0.00%\n",
       "4      sentimentScore              0         0.00%\n",
       "5     exclamationMark              0         0.00%\n",
       "6        questionMark              0         0.00%\n",
       "7         titleLength              0         0.00%\n",
       "8            duration              0         0.00%\n",
       "9             daytime              0         0.00%\n",
       "10          dayOfWeek              0         0.00%\n",
       "11      thumbnailLink              0         0.00%\n",
       "12  descriptionLength              0         0.00%\n",
       "13           comments              0         0.00%\n",
       "14              likes              0         0.00%\n",
       "15              views              0         0.00%\n",
       "16               tags              0         0.00%\n",
       "17         categoryId              0         0.00%\n",
       "18       channelTitle              0         0.00%\n",
       "19          channelId              0         0.00%\n",
       "20        publishedAt              0         0.00%\n",
       "21      trendingOrNot              0         0.00%"
      ]
     },
     "execution_count": 37,
     "metadata": {},
     "output_type": "execute_result"
    }
   ],
   "source": [
    "def Missing_Counts( Data, NoMissing=True ) : \n",
    "    missing = Data.isnull().sum()  \n",
    "    \n",
    "    if NoMissing==False :\n",
    "        missing = missing[ missing>0 ]\n",
    "        \n",
    "    missing.sort_values( ascending=False, inplace=True )  \n",
    "    Missing_Count = pd.DataFrame( { 'Column Name':missing.index, 'Missing Count':missing.values } ) \n",
    "    Missing_Count[ 'Percentage(%)' ] = Missing_Count['Missing Count'].apply( lambda x: '{:.2%}'.format(x/Data.shape[0] ))\n",
    "    return  Missing_Count\n",
    "\n",
    "Missing_Counts(merged_df)"
   ]
  },
  {
   "cell_type": "code",
   "execution_count": 38,
   "id": "05de191c",
   "metadata": {},
   "outputs": [],
   "source": [
    "merged_df.to_csv('merged.csv')"
   ]
  },
  {
   "cell_type": "code",
   "execution_count": 117,
   "id": "614b60d7",
   "metadata": {},
   "outputs": [
    {
     "data": {
      "text/plain": [
       "Index(['videoID', 'title', 'publishedAt', 'channelId', 'channelTitle',\n",
       "       'categoryId', 'tags', 'views', 'likes', 'comments', 'descriptionLength',\n",
       "       'thumbnailLink', 'dayOfWeek', 'daytime', 'duration', 'titleLength',\n",
       "       'questionMark', 'exclamationMark', 'sentimentScore', 'fullCapSentence',\n",
       "       'fullCapCount', 'trendingOrNot', 'cleanTitle', 'commonWordCount'],\n",
       "      dtype='object')"
      ]
     },
     "execution_count": 117,
     "metadata": {},
     "output_type": "execute_result"
    }
   ],
   "source": [
    "merged_df.columns"
   ]
  },
  {
   "cell_type": "code",
   "execution_count": 113,
   "id": "7b744e41",
   "metadata": {},
   "outputs": [],
   "source": [
    "import nltk\n",
    "import string\n",
    "import re\n",
    "from nltk.corpus import stopwords\n",
    "from nltk.tokenize import word_tokenize\n",
    "from nltk.stem import WordNetLemmatizer\n",
    "from collections import Counter\n",
    "\n",
    "\n",
    "stop_words = set(stopwords.words('english'))  # set of English stop words\n",
    "lemmatizer = WordNetLemmatizer()\n",
    "def preprocess(text,target_language='en'):\n",
    "    if not isinstance(text, str):\n",
    "        try:\n",
    "            text = str(text)\n",
    "        except:\n",
    "            raise TypeError('Input must be a string or a float')\n",
    "            \n",
    "  \n",
    "    # convert to lowercase\n",
    "    text = text.lower()\n",
    "    \n",
    "    # Remove URLs\n",
    "    text = re.sub(r'http\\S+', '', text) \n",
    "    # Remove special characters and punctuation\n",
    "    text = re.sub(r'[^a-zA-Z\\s]', '', text)\n",
    "    # Removing repeated characters\n",
    "    text = re.sub(r'(.)\\1{2,}', r'\\1', text)\n",
    "    # Remove single character\n",
    "    # words = [w for w in words if len(w) > 1]\n",
    "    # tokenize the text\n",
    "    words = word_tokenize(text)\n",
    "    # remove non-English words\n",
    "    # remove stop words\n",
    " \n",
    "\n",
    "    words = [lemmatizer.lemmatize(w) for w in words]\n",
    "    words = [w for w in words if not w in stop_words]\n",
    "    \n",
    "    return words\n",
    "\n",
    "# Applying preprocessing function to title column\n",
    "merged_df['cleanTitle'] = merged_df['title'].apply(preprocess)\n",
    "\n",
    "\n",
    "# Filter the dataset for trending videos\n",
    "trending_videos = merged_df[merged_df['trendingOrNot'] == 1]\n",
    "\n",
    "# Tokenize and count words in trending video titles\n",
    "word_counts = Counter()\n",
    "\n",
    "for title in trending_videos['cleanTitle']:\n",
    "    word_counts.update(title)\n",
    "\n",
    "# Get the top 500 most common words\n",
    "top_500_words = word_counts.most_common(500)"
   ]
  },
  {
   "cell_type": "code",
   "execution_count": 114,
   "id": "37f6ed4a",
   "metadata": {},
   "outputs": [],
   "source": [
    "common_word_counts = []\n",
    "\n",
    "# Iterate over each row in the DataFrame\n",
    "for index, row in merged_df.iterrows():\n",
    "    # Count the occurrences of common words in the cleanTitle\n",
    "    count = sum(row['cleanTitle'].count(word) for word, _ in top_500_words)\n",
    "    # Append the count to the common_word_counts list\n",
    "    common_word_counts.append(count)\n",
    "\n",
    "# Create a new column 'commonWordCount' in the DataFrame\n",
    "merged_df['commonWordCount'] = common_word_counts\n"
   ]
  },
  {
   "cell_type": "code",
   "execution_count": 95,
   "id": "96729478",
   "metadata": {},
   "outputs": [
    {
     "data": {
      "text/plain": [
       "<AxesSubplot:>"
      ]
     },
     "execution_count": 95,
     "metadata": {},
     "output_type": "execute_result"
    },
    {
     "data": {
      "image/png": "[encoded data removed]",
      "text/plain": [
       "<Figure size 720x576 with 2 Axes>"
      ]
     },
     "metadata": {
      "needs_background": "light"
     },
     "output_type": "display_data"
    }
   ],
   "source": [
    "import seaborn as sns\n",
    "import matplotlib.pyplot as plt\n",
    "cols = ['views','comments','likes','duration', 'titleLength', 'sentimentScore', 'fullCapCount','descriptionLength']\n",
    "corr_matrix = merged_df[cols].corr()\n",
    "\n",
    "corr_matrix\n",
    "fig, ax = plt.subplots(figsize=(10, 8))\n",
    "sns.heatmap(corr_matrix,annot=True,cmap='coolwarm',ax=ax)"
   ]
  },
  {
   "cell_type": "code",
   "execution_count": null,
   "id": "583f18b0",
   "metadata": {},
   "outputs": [],
   "source": [
    "import nltk\n",
    "import string\n",
    "import re\n",
    "from nltk.corpus import stopwords\n",
    "from nltk.tokenize import word_tokenize\n",
    "\n",
    "nltk.download('stopwords')\n",
    "nltk.download('punkt')\n",
    "\n",
    "stop_words = set(stopwords.words('english'))  # set of English stop words\n",
    "\n",
    "def preprocess(text):\n",
    "    if not isinstance(text, str):\n",
    "        try:\n",
    "            text = str(text)\n",
    "        except:\n",
    "            raise TypeError('Input must be a string or a float')\n",
    "            \n",
    "  \n",
    "    # convert to lowercase\n",
    "    text = text.lower()\n",
    "    \n",
    "    # Remove URLs\n",
    "    text = re.sub(r'http\\S+', '', text)\n",
    "    # Remove special characters and punctuation\n",
    "    text = re.sub(r'[^a-zA-Z\\s]', '', text)\n",
    "    # tokenize the text\n",
    "    words = word_tokenize(text)\n",
    "    # remove stop words\n",
    "    words = [w for w in words if not w in stop_words]\n",
    "    \n",
    "    return words\n",
    "\n",
    "title_words = df['title'].apply(preprocess)\n",
    "tags_words = df['tags'].apply(preprocess)\n",
    "from nltk.probability import FreqDist\n",
    "\n",
    "# create a frequency distribution of the words in the 'title' column\n",
    "title_freq = FreqDist([word.lower() for words in title_words for word in words])\n",
    "tags_freq = FreqDist([word.lower() for words in tags_words for word in words])"
   ]
  },
  {
   "cell_type": "code",
   "execution_count": null,
   "id": "5e310d59",
   "metadata": {},
   "outputs": [],
   "source": [
    "from nltk.probability import FreqDist\n",
    "\n",
    "# create a frequency distribution of the words in the 'title' column\n",
    "title_freq = FreqDist([word.lower() for words in title_words for word in words])\n",
    "tags_freq = FreqDist([word.lower() for words in tags_words for word in words])\n",
    "\n",
    "import matplotlib.pyplot as plt\n",
    "\n",
    "# create a bar chart of the top 20 words\n",
    "top_words = title_freq.most_common(20)\n",
    "words, counts = zip(*top_words)\n",
    "plt.bar(words, counts)\n",
    "plt.xticks(rotation=90)\n",
    "plt.show()\n",
    "\n",
    "top_words = tags_freq.most_common(20)\n",
    "words, counts = zip(*top_words)\n",
    "plt.bar(words, counts)\n",
    "plt.xticks(rotation=90)\n",
    "plt.show()"
   ]
  },
  {
   "cell_type": "code",
   "execution_count": 58,
   "id": "99769be4",
   "metadata": {},
   "outputs": [
    {
     "ename": "NameError",
     "evalue": "name 'word_tokenize' is not defined",
     "output_type": "error",
     "traceback": [
      "\u001b[1;31m---------------------------------------------------------------------------\u001b[0m",
      "\u001b[1;31mNameError\u001b[0m                                 Traceback (most recent call last)",
      "\u001b[1;32mc:\\Users\\LEGION\\Desktop\\MMU\\Data Science Fundamental\\Project\\Prediction of Video\\Data Preprocessing.ipynb Cell 49\u001b[0m in \u001b[0;36m<cell line: 9>\u001b[1;34m()\u001b[0m\n\u001b[0;32m      <a href='vscode-notebook-cell:/c%3A/Users/LEGION/Desktop/MMU/Data%20Science%20Fundamental/Project/Prediction%20of%20Video/Data%20Preprocessing.ipynb#X66sZmlsZQ%3D%3D?line=5'>6</a>\u001b[0m     \u001b[39melse\u001b[39;00m:\n\u001b[0;32m      <a href='vscode-notebook-cell:/c%3A/Users/LEGION/Desktop/MMU/Data%20Science%20Fundamental/Project/Prediction%20of%20Video/Data%20Preprocessing.ipynb#X66sZmlsZQ%3D%3D?line=6'>7</a>\u001b[0m         \u001b[39mreturn\u001b[39;00m \u001b[39mNone\u001b[39;00m\n\u001b[1;32m----> <a href='vscode-notebook-cell:/c%3A/Users/LEGION/Desktop/MMU/Data%20Science%20Fundamental/Project/Prediction%20of%20Video/Data%20Preprocessing.ipynb#X66sZmlsZQ%3D%3D?line=8'>9</a>\u001b[0m df[\u001b[39m'\u001b[39m\u001b[39mtitleKeyword\u001b[39m\u001b[39m'\u001b[39m] \u001b[39m=\u001b[39m df[\u001b[39m'\u001b[39;49m\u001b[39mtitle\u001b[39;49m\u001b[39m'\u001b[39;49m]\u001b[39m.\u001b[39;49mapply(extract_keyword)\n",
      "File \u001b[1;32mc:\\Users\\LEGION\\anaconda3\\lib\\site-packages\\pandas\\core\\series.py:4433\u001b[0m, in \u001b[0;36mSeries.apply\u001b[1;34m(self, func, convert_dtype, args, **kwargs)\u001b[0m\n\u001b[0;32m   4323\u001b[0m \u001b[39mdef\u001b[39;00m \u001b[39mapply\u001b[39m(\n\u001b[0;32m   4324\u001b[0m     \u001b[39mself\u001b[39m,\n\u001b[0;32m   4325\u001b[0m     func: AggFuncType,\n\u001b[1;32m   (...)\u001b[0m\n\u001b[0;32m   4328\u001b[0m     \u001b[39m*\u001b[39m\u001b[39m*\u001b[39mkwargs,\n\u001b[0;32m   4329\u001b[0m ) \u001b[39m-\u001b[39m\u001b[39m>\u001b[39m DataFrame \u001b[39m|\u001b[39m Series:\n\u001b[0;32m   4330\u001b[0m     \u001b[39m\"\"\"\u001b[39;00m\n\u001b[0;32m   4331\u001b[0m \u001b[39m    Invoke function on values of Series.\u001b[39;00m\n\u001b[0;32m   4332\u001b[0m \n\u001b[1;32m   (...)\u001b[0m\n\u001b[0;32m   4431\u001b[0m \u001b[39m    dtype: float64\u001b[39;00m\n\u001b[0;32m   4432\u001b[0m \u001b[39m    \"\"\"\u001b[39;00m\n\u001b[1;32m-> 4433\u001b[0m     \u001b[39mreturn\u001b[39;00m SeriesApply(\u001b[39mself\u001b[39;49m, func, convert_dtype, args, kwargs)\u001b[39m.\u001b[39;49mapply()\n",
      "File \u001b[1;32mc:\\Users\\LEGION\\anaconda3\\lib\\site-packages\\pandas\\core\\apply.py:1082\u001b[0m, in \u001b[0;36mSeriesApply.apply\u001b[1;34m(self)\u001b[0m\n\u001b[0;32m   1078\u001b[0m \u001b[39mif\u001b[39;00m \u001b[39misinstance\u001b[39m(\u001b[39mself\u001b[39m\u001b[39m.\u001b[39mf, \u001b[39mstr\u001b[39m):\n\u001b[0;32m   1079\u001b[0m     \u001b[39m# if we are a string, try to dispatch\u001b[39;00m\n\u001b[0;32m   1080\u001b[0m     \u001b[39mreturn\u001b[39;00m \u001b[39mself\u001b[39m\u001b[39m.\u001b[39mapply_str()\n\u001b[1;32m-> 1082\u001b[0m \u001b[39mreturn\u001b[39;00m \u001b[39mself\u001b[39;49m\u001b[39m.\u001b[39;49mapply_standard()\n",
      "File \u001b[1;32mc:\\Users\\LEGION\\anaconda3\\lib\\site-packages\\pandas\\core\\apply.py:1137\u001b[0m, in \u001b[0;36mSeriesApply.apply_standard\u001b[1;34m(self)\u001b[0m\n\u001b[0;32m   1131\u001b[0m         values \u001b[39m=\u001b[39m obj\u001b[39m.\u001b[39mastype(\u001b[39mobject\u001b[39m)\u001b[39m.\u001b[39m_values\n\u001b[0;32m   1132\u001b[0m         \u001b[39m# error: Argument 2 to \"map_infer\" has incompatible type\u001b[39;00m\n\u001b[0;32m   1133\u001b[0m         \u001b[39m# \"Union[Callable[..., Any], str, List[Union[Callable[..., Any], str]],\u001b[39;00m\n\u001b[0;32m   1134\u001b[0m         \u001b[39m# Dict[Hashable, Union[Union[Callable[..., Any], str],\u001b[39;00m\n\u001b[0;32m   1135\u001b[0m         \u001b[39m# List[Union[Callable[..., Any], str]]]]]\"; expected\u001b[39;00m\n\u001b[0;32m   1136\u001b[0m         \u001b[39m# \"Callable[[Any], Any]\"\u001b[39;00m\n\u001b[1;32m-> 1137\u001b[0m         mapped \u001b[39m=\u001b[39m lib\u001b[39m.\u001b[39;49mmap_infer(\n\u001b[0;32m   1138\u001b[0m             values,\n\u001b[0;32m   1139\u001b[0m             f,  \u001b[39m# type: ignore[arg-type]\u001b[39;49;00m\n\u001b[0;32m   1140\u001b[0m             convert\u001b[39m=\u001b[39;49m\u001b[39mself\u001b[39;49m\u001b[39m.\u001b[39;49mconvert_dtype,\n\u001b[0;32m   1141\u001b[0m         )\n\u001b[0;32m   1143\u001b[0m \u001b[39mif\u001b[39;00m \u001b[39mlen\u001b[39m(mapped) \u001b[39mand\u001b[39;00m \u001b[39misinstance\u001b[39m(mapped[\u001b[39m0\u001b[39m], ABCSeries):\n\u001b[0;32m   1144\u001b[0m     \u001b[39m# GH#43986 Need to do list(mapped) in order to get treated as nested\u001b[39;00m\n\u001b[0;32m   1145\u001b[0m     \u001b[39m#  See also GH#25959 regarding EA support\u001b[39;00m\n\u001b[0;32m   1146\u001b[0m     \u001b[39mreturn\u001b[39;00m obj\u001b[39m.\u001b[39m_constructor_expanddim(\u001b[39mlist\u001b[39m(mapped), index\u001b[39m=\u001b[39mobj\u001b[39m.\u001b[39mindex)\n",
      "File \u001b[1;32mc:\\Users\\LEGION\\anaconda3\\lib\\site-packages\\pandas\\_libs\\lib.pyx:2870\u001b[0m, in \u001b[0;36mpandas._libs.lib.map_infer\u001b[1;34m()\u001b[0m\n",
      "\u001b[1;32mc:\\Users\\LEGION\\Desktop\\MMU\\Data Science Fundamental\\Project\\Prediction of Video\\Data Preprocessing.ipynb Cell 49\u001b[0m in \u001b[0;36mextract_keyword\u001b[1;34m(title)\u001b[0m\n\u001b[0;32m      <a href='vscode-notebook-cell:/c%3A/Users/LEGION/Desktop/MMU/Data%20Science%20Fundamental/Project/Prediction%20of%20Video/Data%20Preprocessing.ipynb#X66sZmlsZQ%3D%3D?line=0'>1</a>\u001b[0m \u001b[39mdef\u001b[39;00m \u001b[39mextract_keyword\u001b[39m(title):\n\u001b[1;32m----> <a href='vscode-notebook-cell:/c%3A/Users/LEGION/Desktop/MMU/Data%20Science%20Fundamental/Project/Prediction%20of%20Video/Data%20Preprocessing.ipynb#X66sZmlsZQ%3D%3D?line=1'>2</a>\u001b[0m     words \u001b[39m=\u001b[39m word_tokenize(title)\n\u001b[0;32m      <a href='vscode-notebook-cell:/c%3A/Users/LEGION/Desktop/MMU/Data%20Science%20Fundamental/Project/Prediction%20of%20Video/Data%20Preprocessing.ipynb#X66sZmlsZQ%3D%3D?line=2'>3</a>\u001b[0m     keywords \u001b[39m=\u001b[39m [word \u001b[39mfor\u001b[39;00m word \u001b[39min\u001b[39;00m words \u001b[39mif\u001b[39;00m word\u001b[39m.\u001b[39mlower() \u001b[39min\u001b[39;00m title_freq]\n\u001b[0;32m      <a href='vscode-notebook-cell:/c%3A/Users/LEGION/Desktop/MMU/Data%20Science%20Fundamental/Project/Prediction%20of%20Video/Data%20Preprocessing.ipynb#X66sZmlsZQ%3D%3D?line=3'>4</a>\u001b[0m     \u001b[39mif\u001b[39;00m \u001b[39mlen\u001b[39m(keywords) \u001b[39m>\u001b[39m \u001b[39m0\u001b[39m:\n",
      "\u001b[1;31mNameError\u001b[0m: name 'word_tokenize' is not defined"
     ]
    }
   ],
   "source": [
    "def extract_keyword(title):\n",
    "    words = word_tokenize(title)\n",
    "    keywords = [word for word in words if word.lower() in title_freq]\n",
    "    if len(keywords) > 0:\n",
    "        return max(keywords, key=lambda word: title_freq[word.lower()])\n",
    "    else:\n",
    "        return None\n",
    "    \n",
    "df['titleKeyword'] = df['title'].apply(extract_keyword)\n"
   ]
  },
  {
   "cell_type": "code",
   "execution_count": null,
   "id": "9a5c3073",
   "metadata": {},
   "outputs": [],
   "source": [
    "title_freq_df = pd.DataFrame(list(title_freq.items()), columns=['word', 'frequency'])\n",
    "\n",
    "# sort the DataFrame by frequency in descending order\n",
    "title_freq_df = title_freq_df.sort_values(by='frequency', ascending=False)\n",
    "\n",
    "# reset the index of the DataFrame\n",
    "title_freq_df = title_freq_df.reset_index(drop=True)"
   ]
  }
 ],
 "metadata": {
  "kernelspec": {
   "display_name": "Python 3 (ipykernel)",
   "language": "python",
   "name": "python3"
  },
  "language_info": {
   "codemirror_mode": {
    "name": "ipython",
    "version": 3
   },
   "file_extension": ".py",
   "mimetype": "text/x-python",
   "name": "python",
   "nbconvert_exporter": "python",
   "pygments_lexer": "ipython3",
   "version": "3.9.12"
  }
 },
 "nbformat": 4,
 "nbformat_minor": 5
}
