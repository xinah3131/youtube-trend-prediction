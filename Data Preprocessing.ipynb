{
 "cells": [
  {
   "cell_type": "markdown",
   "id": "7987e7ee",
   "metadata": {},
   "source": [
    "# Data Cleaning "
   ]
  },
  {
   "attachments": {},
   "cell_type": "markdown",
   "id": "9c7ae53a",
   "metadata": {},
   "source": [
    "Import the libraries required"
   ]
  },
  {
   "cell_type": "code",
   "execution_count": 2,
   "id": "ad5f6e82",
   "metadata": {},
   "outputs": [],
   "source": [
    "import pandas as pd\n",
    "import numpy as np\n",
    "import os\n",
    "pd.options.display.max_rows = 4000"
   ]
  },
  {
   "attachments": {},
   "cell_type": "markdown",
   "id": "91fd9ac1",
   "metadata": {},
   "source": [
    "# Video Dataset from Kaggle (Trending)"
   ]
  },
  {
   "attachments": {},
   "cell_type": "markdown",
   "id": "7cb0f9a7",
   "metadata": {},
   "source": [
    "Load the datasets"
   ]
  },
  {
   "cell_type": "code",
   "execution_count": 21,
   "id": "a4289e2f",
   "metadata": {},
   "outputs": [],
   "source": [
    "df = pd.read_csv(r'C:\\Users\\LEGION\\Desktop\\MMU\\Data Science Fundamental\\Project\\Prediction of Video\\dataset\\US_youtube_trending_data.csv')"
   ]
  },
  {
   "attachments": {},
   "cell_type": "markdown",
   "id": "78c8e59c",
   "metadata": {},
   "source": [
    "Check the size of the dataframe"
   ]
  },
  {
   "cell_type": "code",
   "execution_count": 22,
   "id": "08bc7564",
   "metadata": {},
   "outputs": [
    {
     "data": {
      "text/plain": [
       "(195990, 16)"
      ]
     },
     "execution_count": 22,
     "metadata": {},
     "output_type": "execute_result"
    }
   ],
   "source": [
    "df.shape"
   ]
  },
  {
   "attachments": {},
   "cell_type": "markdown",
   "id": "b52360c6",
   "metadata": {},
   "source": [
    "View the first 5 rows of the dataframe"
   ]
  },
  {
   "cell_type": "code",
   "execution_count": null,
   "id": "b29c8cbd",
   "metadata": {},
   "outputs": [
    {
     "data": {
      "text/html": [
       "<div>\n",
       "<style scoped>\n",
       "    .dataframe tbody tr th:only-of-type {\n",
       "        vertical-align: middle;\n",
       "    }\n",
       "\n",
       "    .dataframe tbody tr th {\n",
       "        vertical-align: top;\n",
       "    }\n",
       "\n",
       "    .dataframe thead th {\n",
       "        text-align: right;\n",
       "    }\n",
       "</style>\n",
       "<table border=\"1\" class=\"dataframe\">\n",
       "  <thead>\n",
       "    <tr style=\"text-align: right;\">\n",
       "      <th></th>\n",
       "      <th>video_id</th>\n",
       "      <th>title</th>\n",
       "      <th>publishedAt</th>\n",
       "      <th>channelId</th>\n",
       "      <th>channelTitle</th>\n",
       "      <th>categoryId</th>\n",
       "      <th>trending_date</th>\n",
       "      <th>tags</th>\n",
       "      <th>view_count</th>\n",
       "      <th>likes</th>\n",
       "      <th>dislikes</th>\n",
       "      <th>comment_count</th>\n",
       "      <th>thumbnail_link</th>\n",
       "      <th>comments_disabled</th>\n",
       "      <th>ratings_disabled</th>\n",
       "      <th>description</th>\n",
       "    </tr>\n",
       "  </thead>\n",
       "  <tbody>\n",
       "    <tr>\n",
       "      <th>0</th>\n",
       "      <td>3C66w5Z0ixs</td>\n",
       "      <td>I ASKED HER TO BE MY GIRLFRIEND...</td>\n",
       "      <td>2020-08-11T19:20:14Z</td>\n",
       "      <td>UCvtRTOMP2TqYqu51xNrqAzg</td>\n",
       "      <td>Brawadis</td>\n",
       "      <td>22</td>\n",
       "      <td>2020-08-12T00:00:00Z</td>\n",
       "      <td>brawadis|prank|basketball|skits|ghost|funny vi...</td>\n",
       "      <td>1514614</td>\n",
       "      <td>156908</td>\n",
       "      <td>5855</td>\n",
       "      <td>35313</td>\n",
       "      <td>https://i.ytimg.com/vi/3C66w5Z0ixs/default.jpg</td>\n",
       "      <td>False</td>\n",
       "      <td>False</td>\n",
       "      <td>SUBSCRIBE to BRAWADIS ▶ http://bit.ly/Subscrib...</td>\n",
       "    </tr>\n",
       "    <tr>\n",
       "      <th>1</th>\n",
       "      <td>M9Pmf9AB4Mo</td>\n",
       "      <td>Apex Legends | Stories from the Outlands – “Th...</td>\n",
       "      <td>2020-08-11T17:00:10Z</td>\n",
       "      <td>UC0ZV6M2THA81QT9hrVWJG3A</td>\n",
       "      <td>Apex Legends</td>\n",
       "      <td>20</td>\n",
       "      <td>2020-08-12T00:00:00Z</td>\n",
       "      <td>Apex Legends|Apex Legends characters|new Apex ...</td>\n",
       "      <td>2381688</td>\n",
       "      <td>146739</td>\n",
       "      <td>2794</td>\n",
       "      <td>16549</td>\n",
       "      <td>https://i.ytimg.com/vi/M9Pmf9AB4Mo/default.jpg</td>\n",
       "      <td>False</td>\n",
       "      <td>False</td>\n",
       "      <td>While running her own modding shop, Ramya Pare...</td>\n",
       "    </tr>\n",
       "    <tr>\n",
       "      <th>2</th>\n",
       "      <td>J78aPJ3VyNs</td>\n",
       "      <td>I left youtube for a month and THIS is what ha...</td>\n",
       "      <td>2020-08-11T16:34:06Z</td>\n",
       "      <td>UCYzPXprvl5Y-Sf0g4vX-m6g</td>\n",
       "      <td>jacksepticeye</td>\n",
       "      <td>24</td>\n",
       "      <td>2020-08-12T00:00:00Z</td>\n",
       "      <td>jacksepticeye|funny|funny meme|memes|jacksepti...</td>\n",
       "      <td>2038853</td>\n",
       "      <td>353787</td>\n",
       "      <td>2628</td>\n",
       "      <td>40221</td>\n",
       "      <td>https://i.ytimg.com/vi/J78aPJ3VyNs/default.jpg</td>\n",
       "      <td>False</td>\n",
       "      <td>False</td>\n",
       "      <td>I left youtube for a month and this is what ha...</td>\n",
       "    </tr>\n",
       "    <tr>\n",
       "      <th>3</th>\n",
       "      <td>kXLn3HkpjaA</td>\n",
       "      <td>XXL 2020 Freshman Class Revealed - Official An...</td>\n",
       "      <td>2020-08-11T16:38:55Z</td>\n",
       "      <td>UCbg_UMjlHJg_19SZckaKajg</td>\n",
       "      <td>XXL</td>\n",
       "      <td>10</td>\n",
       "      <td>2020-08-12T00:00:00Z</td>\n",
       "      <td>xxl freshman|xxl freshmen|2020 xxl freshman|20...</td>\n",
       "      <td>496771</td>\n",
       "      <td>23251</td>\n",
       "      <td>1856</td>\n",
       "      <td>7647</td>\n",
       "      <td>https://i.ytimg.com/vi/kXLn3HkpjaA/default.jpg</td>\n",
       "      <td>False</td>\n",
       "      <td>False</td>\n",
       "      <td>Subscribe to XXL → http://bit.ly/subscribe-xxl...</td>\n",
       "    </tr>\n",
       "    <tr>\n",
       "      <th>4</th>\n",
       "      <td>VIUo6yapDbc</td>\n",
       "      <td>Ultimate DIY Home Movie Theater for The LaBran...</td>\n",
       "      <td>2020-08-11T15:10:05Z</td>\n",
       "      <td>UCDVPcEbVLQgLZX0Rt6jo34A</td>\n",
       "      <td>Mr. Kate</td>\n",
       "      <td>26</td>\n",
       "      <td>2020-08-12T00:00:00Z</td>\n",
       "      <td>The LaBrant Family|DIY|Interior Design|Makeove...</td>\n",
       "      <td>1123889</td>\n",
       "      <td>45802</td>\n",
       "      <td>964</td>\n",
       "      <td>2196</td>\n",
       "      <td>https://i.ytimg.com/vi/VIUo6yapDbc/default.jpg</td>\n",
       "      <td>False</td>\n",
       "      <td>False</td>\n",
       "      <td>Transforming The LaBrant Family's empty white ...</td>\n",
       "    </tr>\n",
       "  </tbody>\n",
       "</table>\n",
       "</div>"
      ],
      "text/plain": [
       "      video_id                                              title  \\\n",
       "0  3C66w5Z0ixs                 I ASKED HER TO BE MY GIRLFRIEND...   \n",
       "1  M9Pmf9AB4Mo  Apex Legends | Stories from the Outlands – “Th...   \n",
       "2  J78aPJ3VyNs  I left youtube for a month and THIS is what ha...   \n",
       "3  kXLn3HkpjaA  XXL 2020 Freshman Class Revealed - Official An...   \n",
       "4  VIUo6yapDbc  Ultimate DIY Home Movie Theater for The LaBran...   \n",
       "\n",
       "            publishedAt                 channelId   channelTitle  categoryId  \\\n",
       "0  2020-08-11T19:20:14Z  UCvtRTOMP2TqYqu51xNrqAzg       Brawadis          22   \n",
       "1  2020-08-11T17:00:10Z  UC0ZV6M2THA81QT9hrVWJG3A   Apex Legends          20   \n",
       "2  2020-08-11T16:34:06Z  UCYzPXprvl5Y-Sf0g4vX-m6g  jacksepticeye          24   \n",
       "3  2020-08-11T16:38:55Z  UCbg_UMjlHJg_19SZckaKajg            XXL          10   \n",
       "4  2020-08-11T15:10:05Z  UCDVPcEbVLQgLZX0Rt6jo34A       Mr. Kate          26   \n",
       "\n",
       "          trending_date                                               tags  \\\n",
       "0  2020-08-12T00:00:00Z  brawadis|prank|basketball|skits|ghost|funny vi...   \n",
       "1  2020-08-12T00:00:00Z  Apex Legends|Apex Legends characters|new Apex ...   \n",
       "2  2020-08-12T00:00:00Z  jacksepticeye|funny|funny meme|memes|jacksepti...   \n",
       "3  2020-08-12T00:00:00Z  xxl freshman|xxl freshmen|2020 xxl freshman|20...   \n",
       "4  2020-08-12T00:00:00Z  The LaBrant Family|DIY|Interior Design|Makeove...   \n",
       "\n",
       "   view_count   likes  dislikes  comment_count  \\\n",
       "0     1514614  156908      5855          35313   \n",
       "1     2381688  146739      2794          16549   \n",
       "2     2038853  353787      2628          40221   \n",
       "3      496771   23251      1856           7647   \n",
       "4     1123889   45802       964           2196   \n",
       "\n",
       "                                   thumbnail_link  comments_disabled  \\\n",
       "0  https://i.ytimg.com/vi/3C66w5Z0ixs/default.jpg              False   \n",
       "1  https://i.ytimg.com/vi/M9Pmf9AB4Mo/default.jpg              False   \n",
       "2  https://i.ytimg.com/vi/J78aPJ3VyNs/default.jpg              False   \n",
       "3  https://i.ytimg.com/vi/kXLn3HkpjaA/default.jpg              False   \n",
       "4  https://i.ytimg.com/vi/VIUo6yapDbc/default.jpg              False   \n",
       "\n",
       "   ratings_disabled                                        description  \n",
       "0             False  SUBSCRIBE to BRAWADIS ▶ http://bit.ly/Subscrib...  \n",
       "1             False  While running her own modding shop, Ramya Pare...  \n",
       "2             False  I left youtube for a month and this is what ha...  \n",
       "3             False  Subscribe to XXL → http://bit.ly/subscribe-xxl...  \n",
       "4             False  Transforming The LaBrant Family's empty white ...  "
      ]
     },
     "execution_count": 57,
     "metadata": {},
     "output_type": "execute_result"
    }
   ],
   "source": [
    "df.head()"
   ]
  },
  {
   "attachments": {},
   "cell_type": "markdown",
   "id": "1e08a374",
   "metadata": {},
   "source": [
    "Check each column from the dataframe"
   ]
  },
  {
   "cell_type": "code",
   "execution_count": null,
   "id": "fa130f06",
   "metadata": {},
   "outputs": [
    {
     "data": {
      "text/plain": [
       "Index(['video_id', 'title', 'publishedAt', 'channelId', 'channelTitle',\n",
       "       'categoryId', 'trending_date', 'tags', 'view_count', 'likes',\n",
       "       'dislikes', 'comment_count', 'thumbnail_link', 'comments_disabled',\n",
       "       'ratings_disabled', 'description'],\n",
       "      dtype='object')"
      ]
     },
     "execution_count": 58,
     "metadata": {},
     "output_type": "execute_result"
    }
   ],
   "source": [
    "df.columns"
   ]
  },
  {
   "attachments": {},
   "cell_type": "markdown",
   "id": "bed36b3f",
   "metadata": {},
   "source": [
    "Check for each column type"
   ]
  },
  {
   "cell_type": "code",
   "execution_count": null,
   "id": "c85bf113",
   "metadata": {},
   "outputs": [
    {
     "data": {
      "text/plain": [
       "video_id             object\n",
       "title                object\n",
       "publishedAt          object\n",
       "channelId            object\n",
       "channelTitle         object\n",
       "categoryId            int64\n",
       "trending_date        object\n",
       "tags                 object\n",
       "view_count            int64\n",
       "likes                 int64\n",
       "dislikes              int64\n",
       "comment_count         int64\n",
       "thumbnail_link       object\n",
       "comments_disabled      bool\n",
       "ratings_disabled       bool\n",
       "description          object\n",
       "dtype: object"
      ]
     },
     "execution_count": 59,
     "metadata": {},
     "output_type": "execute_result"
    }
   ],
   "source": [
    "df.dtypes"
   ]
  },
  {
   "attachments": {},
   "cell_type": "markdown",
   "id": "bdaa0778",
   "metadata": {},
   "source": [
    "View the descriptive stats of each column of the dataframe"
   ]
  },
  {
   "cell_type": "code",
   "execution_count": null,
   "id": "700ddd16",
   "metadata": {},
   "outputs": [
    {
     "data": {
      "text/html": [
       "<div>\n",
       "<style scoped>\n",
       "    .dataframe tbody tr th:only-of-type {\n",
       "        vertical-align: middle;\n",
       "    }\n",
       "\n",
       "    .dataframe tbody tr th {\n",
       "        vertical-align: top;\n",
       "    }\n",
       "\n",
       "    .dataframe thead th {\n",
       "        text-align: right;\n",
       "    }\n",
       "</style>\n",
       "<table border=\"1\" class=\"dataframe\">\n",
       "  <thead>\n",
       "    <tr style=\"text-align: right;\">\n",
       "      <th></th>\n",
       "      <th>categoryId</th>\n",
       "      <th>view_count</th>\n",
       "      <th>likes</th>\n",
       "      <th>dislikes</th>\n",
       "      <th>comment_count</th>\n",
       "    </tr>\n",
       "  </thead>\n",
       "  <tbody>\n",
       "    <tr>\n",
       "      <th>count</th>\n",
       "      <td>195990.000000</td>\n",
       "      <td>1.959900e+05</td>\n",
       "      <td>1.959900e+05</td>\n",
       "      <td>195990.000000</td>\n",
       "      <td>1.959900e+05</td>\n",
       "    </tr>\n",
       "    <tr>\n",
       "      <th>mean</th>\n",
       "      <td>18.807720</td>\n",
       "      <td>2.498657e+06</td>\n",
       "      <td>1.293927e+05</td>\n",
       "      <td>1555.584698</td>\n",
       "      <td>1.077568e+04</td>\n",
       "    </tr>\n",
       "    <tr>\n",
       "      <th>std</th>\n",
       "      <td>6.759202</td>\n",
       "      <td>7.064335e+06</td>\n",
       "      <td>4.076709e+05</td>\n",
       "      <td>9389.205433</td>\n",
       "      <td>8.174297e+04</td>\n",
       "    </tr>\n",
       "    <tr>\n",
       "      <th>min</th>\n",
       "      <td>1.000000</td>\n",
       "      <td>0.000000e+00</td>\n",
       "      <td>0.000000e+00</td>\n",
       "      <td>0.000000</td>\n",
       "      <td>0.000000e+00</td>\n",
       "    </tr>\n",
       "    <tr>\n",
       "      <th>25%</th>\n",
       "      <td>17.000000</td>\n",
       "      <td>4.784200e+05</td>\n",
       "      <td>1.858800e+04</td>\n",
       "      <td>0.000000</td>\n",
       "      <td>1.328000e+03</td>\n",
       "    </tr>\n",
       "    <tr>\n",
       "      <th>50%</th>\n",
       "      <td>20.000000</td>\n",
       "      <td>9.659445e+05</td>\n",
       "      <td>4.272550e+04</td>\n",
       "      <td>24.500000</td>\n",
       "      <td>2.934000e+03</td>\n",
       "    </tr>\n",
       "    <tr>\n",
       "      <th>75%</th>\n",
       "      <td>24.000000</td>\n",
       "      <td>2.162866e+06</td>\n",
       "      <td>1.063425e+05</td>\n",
       "      <td>859.000000</td>\n",
       "      <td>6.920000e+03</td>\n",
       "    </tr>\n",
       "    <tr>\n",
       "      <th>max</th>\n",
       "      <td>29.000000</td>\n",
       "      <td>2.777917e+08</td>\n",
       "      <td>1.602153e+07</td>\n",
       "      <td>879354.000000</td>\n",
       "      <td>6.738537e+06</td>\n",
       "    </tr>\n",
       "  </tbody>\n",
       "</table>\n",
       "</div>"
      ],
      "text/plain": [
       "          categoryId    view_count         likes       dislikes  comment_count\n",
       "count  195990.000000  1.959900e+05  1.959900e+05  195990.000000   1.959900e+05\n",
       "mean       18.807720  2.498657e+06  1.293927e+05    1555.584698   1.077568e+04\n",
       "std         6.759202  7.064335e+06  4.076709e+05    9389.205433   8.174297e+04\n",
       "min         1.000000  0.000000e+00  0.000000e+00       0.000000   0.000000e+00\n",
       "25%        17.000000  4.784200e+05  1.858800e+04       0.000000   1.328000e+03\n",
       "50%        20.000000  9.659445e+05  4.272550e+04      24.500000   2.934000e+03\n",
       "75%        24.000000  2.162866e+06  1.063425e+05     859.000000   6.920000e+03\n",
       "max        29.000000  2.777917e+08  1.602153e+07  879354.000000   6.738537e+06"
      ]
     },
     "execution_count": 60,
     "metadata": {},
     "output_type": "execute_result"
    }
   ],
   "source": [
    "df.describe()"
   ]
  },
  {
   "attachments": {},
   "cell_type": "markdown",
   "id": "9fc1c20b",
   "metadata": {},
   "source": [
    "Create a clone of the dataframe "
   ]
  },
  {
   "cell_type": "code",
   "execution_count": null,
   "id": "822e5a9c",
   "metadata": {},
   "outputs": [],
   "source": [
    "df = df[['video_id', 'title', 'publishedAt', 'channelId', 'channelTitle',\n",
    "       'categoryId', 'trending_date', 'tags', 'view_count', 'likes',\n",
    "      'comment_count','description','thumbnail_link']].copy()\n"
   ]
  },
  {
   "attachments": {},
   "cell_type": "markdown",
   "id": "1925e1b4",
   "metadata": {},
   "source": [
    "Rename the column name "
   ]
  },
  {
   "cell_type": "code",
   "execution_count": null,
   "id": "d63c1cb8",
   "metadata": {},
   "outputs": [],
   "source": [
    "df = df.rename(columns={'video_id' : 'videoID',\n",
    "                   'trending_date':'trendingDate',\n",
    "                   'view_count':'views',\n",
    "                   'comment_count':'comments',\n",
    "                   'thumbnail_link':'thumbnailLink'})"
   ]
  },
  {
   "attachments": {},
   "cell_type": "markdown",
   "id": "34422057",
   "metadata": {},
   "source": [
    "Change the type of the column of the trending data and the publish time into datatime format"
   ]
  },
  {
   "cell_type": "code",
   "execution_count": null,
   "id": "881007f5",
   "metadata": {},
   "outputs": [],
   "source": [
    "df['trendingDate'] = pd.to_datetime(df['trendingDate'])\n",
    "df['publishedAt'] = pd.to_datetime(df['publishedAt'])"
   ]
  },
  {
   "attachments": {},
   "cell_type": "markdown",
   "id": "87ba0f9d",
   "metadata": {},
   "source": [
    "Data Cleansing for duplicated video"
   ]
  },
  {
   "cell_type": "code",
   "execution_count": null,
   "id": "231ad762",
   "metadata": {},
   "outputs": [
    {
     "data": {
      "text/plain": [
       "(35719, 13)"
      ]
     },
     "execution_count": 64,
     "metadata": {},
     "output_type": "execute_result"
    }
   ],
   "source": [
    "df  = df.loc[~df.duplicated(subset=['videoID'],keep=\"last\")].reset_index(drop=True).copy()\n",
    "df.shape"
   ]
  },
  {
   "attachments": {},
   "cell_type": "markdown",
   "id": "8aeb495a",
   "metadata": {},
   "source": [
    "Remove video that with invalid views. (Note* if a video is with 0 views that means there is something wrong with it)"
   ]
  },
  {
   "cell_type": "code",
   "execution_count": null,
   "id": "8c56163c",
   "metadata": {},
   "outputs": [],
   "source": [
    "df = df[(df.views != 0)]"
   ]
  },
  {
   "attachments": {},
   "cell_type": "markdown",
   "id": "0dbc34e8",
   "metadata": {},
   "source": [
    "Changing the column type"
   ]
  },
  {
   "cell_type": "code",
   "execution_count": null,
   "id": "5a8a58be",
   "metadata": {},
   "outputs": [],
   "source": [
    "#Inverse Mapping\n",
    "df['description'] = df['description'].astype(object)\n",
    "df.channelId = df.channelId.astype(\"category\")\n",
    "df.channelTitle = df.channelTitle.astype(\"category\")"
   ]
  },
  {
   "attachments": {},
   "cell_type": "markdown",
   "id": "6497e503",
   "metadata": {},
   "source": [
    "Remove null value of description column"
   ]
  },
  {
   "cell_type": "code",
   "execution_count": null,
   "id": "fb70d445",
   "metadata": {},
   "outputs": [],
   "source": [
    "df.description = df.description.fillna('No description')"
   ]
  },
  {
   "attachments": {},
   "cell_type": "markdown",
   "id": "64845448",
   "metadata": {},
   "source": [
    "Check if the dataframe is fine without any null value in important columns"
   ]
  },
  {
   "cell_type": "code",
   "execution_count": null,
   "id": "8b500fa3",
   "metadata": {
    "scrolled": true
   },
   "outputs": [
    {
     "data": {
      "text/plain": [
       "videoID          0\n",
       "title            0\n",
       "publishedAt      0\n",
       "channelId        0\n",
       "channelTitle     0\n",
       "categoryId       0\n",
       "trendingDate     0\n",
       "tags             0\n",
       "views            0\n",
       "likes            0\n",
       "comments         0\n",
       "description      0\n",
       "thumbnailLink    0\n",
       "dtype: int64"
      ]
     },
     "execution_count": 69,
     "metadata": {},
     "output_type": "execute_result"
    }
   ],
   "source": [
    "df.isna().sum()"
   ]
  },
  {
   "attachments": {},
   "cell_type": "markdown",
   "id": "60934d6f",
   "metadata": {},
   "source": [
    "# Video Dataset from Web Scrapping using Youtube Api "
   ]
  },
  {
   "cell_type": "code",
   "execution_count": 46,
   "id": "a05b3121",
   "metadata": {},
   "outputs": [],
   "source": [
    "df2 = pd.read_csv(r'C:\\Users\\LEGION\\Desktop\\MMU\\Data Science Fundamental\\Project\\Prediction of Video\\dataset\\US_youtube_non_trending_data.csv')"
   ]
  },
  {
   "cell_type": "code",
   "execution_count": 47,
   "id": "40bef6de",
   "metadata": {},
   "outputs": [],
   "source": [
    "df2 = df2.rename(columns={'video_id' : 'videoID',\n",
    "                   'view_count':'views',\n",
    "                   'comment_count':'comments',\n",
    "                   'thumbnail_link':'thumbnailLink'})"
   ]
  },
  {
   "cell_type": "code",
   "execution_count": 48,
   "id": "764b30f8",
   "metadata": {},
   "outputs": [],
   "source": [
    "df2['publishedAt'] = pd.to_datetime(df2['publishedAt'])"
   ]
  },
  {
   "cell_type": "code",
   "execution_count": 49,
   "id": "31695371",
   "metadata": {},
   "outputs": [],
   "source": [
    "df2.channelId = df2.channelId.astype(\"category\")\n",
    "df2.channelTitle = df2.channelTitle.astype(\"category\")"
   ]
  },
  {
   "cell_type": "code",
   "execution_count": 50,
   "id": "0f868339",
   "metadata": {},
   "outputs": [],
   "source": [
    "df2.description = df2.description.fillna('No description')"
   ]
  },
  {
   "cell_type": "code",
   "execution_count": 51,
   "id": "5fe3e604",
   "metadata": {},
   "outputs": [],
   "source": [
    "df2  = df2.loc[~df2.duplicated(subset=['videoID'],keep=\"last\")].reset_index(drop=True).copy()"
   ]
  },
  {
   "cell_type": "code",
   "execution_count": 52,
   "id": "ba7ae86b",
   "metadata": {},
   "outputs": [],
   "source": [
    "#df2 = df2.dropna(subset=['likes','comments','views'])\n",
    "df2 = df2[(df2.views != 0)]\n",
    "# df2 = df2[df2.views <=  999999]\n",
    "df2.tags = df2.tags.fillna('[None]')\n"
   ]
  },
  {
   "cell_type": "code",
   "execution_count": 53,
   "id": "35e9bfe7",
   "metadata": {},
   "outputs": [],
   "source": [
    "import pytz\n",
    "\n",
    "cutoff_date = pd.Timestamp('2018-01-01', tz=pytz.utc)\n",
    "df2 = df2[df2['publishedAt'] >= cutoff_date]\n"
   ]
  },
  {
   "cell_type": "code",
   "execution_count": 54,
   "id": "024cccdb",
   "metadata": {},
   "outputs": [
    {
     "data": {
      "text/plain": [
       "videoID             0\n",
       "title               0\n",
       "publishedAt         0\n",
       "channelId           0\n",
       "channelTitle        0\n",
       "categoryId          0\n",
       "tags                0\n",
       "views               4\n",
       "likes             574\n",
       "comments         1714\n",
       "thumbnailLink       0\n",
       "description         0\n",
       "dtype: int64"
      ]
     },
     "execution_count": 54,
     "metadata": {},
     "output_type": "execute_result"
    }
   ],
   "source": [
    "df2.isna().sum()"
   ]
  },
  {
   "cell_type": "code",
   "execution_count": null,
   "id": "5b2698ed",
   "metadata": {},
   "outputs": [
    {
     "data": {
      "text/plain": [
       "(67912, 12)"
      ]
     },
     "execution_count": 72,
     "metadata": {},
     "output_type": "execute_result"
    }
   ],
   "source": [
    "df2.shape"
   ]
  },
  {
   "cell_type": "markdown",
   "id": "1b843816",
   "metadata": {},
   "source": [
    "# Save Both Data Set To CSV"
   ]
  },
  {
   "cell_type": "code",
   "execution_count": null,
   "id": "91139b22",
   "metadata": {},
   "outputs": [],
   "source": [
    "df.to_csv('US_youtube_cleaned_trending_data.csv')\n",
    "df2.to_csv('US_youtube_cleaned_non_trending_data.csv')"
   ]
  },
  {
   "cell_type": "markdown",
   "id": "3d5c3b5c",
   "metadata": {},
   "source": [
    "# Data Integration\n",
    "## Merge both dataset"
   ]
  },
  {
   "cell_type": "code",
   "execution_count": 3,
   "id": "420d3d32",
   "metadata": {},
   "outputs": [],
   "source": [
    "df = pd.read_csv(r'C:\\Users\\LEGION\\Desktop\\MMU\\Data Science Fundamental\\Project\\Prediction of Video\\dataset\\US_youtube_cleaned_trending_data.csv')\n",
    "df2 = pd.read_csv(r'C:\\Users\\LEGION\\Desktop\\MMU\\Data Science Fundamental\\Project\\Prediction of Video\\dataset\\US_youtube_cleaned_non_trending_data.csv')\n",
    "# df2 = df2[~df2['videoID'].isin(df['videoID'])]\n",
    "# df['trendingOrNot'] = 1\n",
    "# df2['trendingOrNot'] = 0\n",
    "trending = df.copy()\n",
    "nonTrending = df2.copy()\n",
    "\n",
    "common_cols = list(set(trending.columns).intersection(nonTrending.columns))\n",
    "# Merge the two dataframes using only the common columns\n",
    "merged_df = pd.merge(trending[common_cols], nonTrending[common_cols], how='outer')"
   ]
  },
  {
   "cell_type": "code",
   "execution_count": 4,
   "id": "8dcb337f",
   "metadata": {},
   "outputs": [
    {
     "data": {
      "text/plain": [
       "Index(['channelTitle', 'channelId', 'Unnamed: 0', 'description', 'tags',\n",
       "       'likes', 'videoID', 'views', 'duration', 'thumbnailLink', 'title',\n",
       "       'comments', 'categoryId', 'publishedAt', 'Unnamed: 0.1'],\n",
       "      dtype='object')"
      ]
     },
     "execution_count": 4,
     "metadata": {},
     "output_type": "execute_result"
    }
   ],
   "source": [
    "merged_df.columns"
   ]
  },
  {
   "cell_type": "markdown",
   "id": "6d3f1c4f",
   "metadata": {},
   "source": [
    "# Data Transformation"
   ]
  },
  {
   "attachments": {},
   "cell_type": "markdown",
   "id": "d7f9f1df",
   "metadata": {},
   "source": [
    "Data Cleansing for removing duplicated video and null value in duration column and description"
   ]
  },
  {
   "cell_type": "code",
   "execution_count": 5,
   "id": "23ce870f",
   "metadata": {},
   "outputs": [],
   "source": [
    "merged_df.drop_duplicates(subset='videoID', inplace=True)\n",
    "merged_df = merged_df[(merged_df.duration != 0)]\n",
    "merged_df = merged_df.dropna(subset=['description'])"
   ]
  },
  {
   "attachments": {},
   "cell_type": "markdown",
   "id": "9e9493c1",
   "metadata": {},
   "source": [
    "Set the threshold value for defining the value trending with the mean value of the overall views"
   ]
  },
  {
   "cell_type": "code",
   "execution_count": 7,
   "id": "9c6db6c7",
   "metadata": {},
   "outputs": [
    {
     "name": "stdout",
     "output_type": "stream",
     "text": [
      "The threshold value is: 536065.2539603235\n"
     ]
    }
   ],
   "source": [
    "avg_views = merged_df['views'].mean()\n",
    "#Cast a wider net and capture a larger number of potentially trending videos\n",
    "threshold = avg_views / 2\n",
    "print(\"The threshold value is:\", threshold)"
   ]
  },
  {
   "attachments": {},
   "cell_type": "markdown",
   "id": "5c1e2c06",
   "metadata": {},
   "source": [
    "Add a new target variable (trendingOrNot) column with each corresponding value with 0 indicates not trend and 1 indicates trend."
   ]
  },
  {
   "cell_type": "code",
   "execution_count": 8,
   "id": "4ed7beb5",
   "metadata": {},
   "outputs": [
    {
     "data": {
      "text/plain": [
       "0    110110\n",
       "1     40004\n",
       "Name: trendingOrNot, dtype: int64"
      ]
     },
     "execution_count": 8,
     "metadata": {},
     "output_type": "execute_result"
    }
   ],
   "source": [
    "merged_df['trendingOrNot'] = merged_df['views'].apply(lambda x: 1 if x >=  threshold else 0)\n",
    "merged_df['trendingOrNot'].value_counts()"
   ]
  },
  {
   "attachments": {},
   "cell_type": "markdown",
   "id": "e624d0a8",
   "metadata": {},
   "source": [
    "The percentage of trending vs not trending in percentage"
   ]
  },
  {
   "cell_type": "code",
   "execution_count": 9,
   "id": "733b87e9",
   "metadata": {},
   "outputs": [
    {
     "name": "stdout",
     "output_type": "stream",
     "text": [
      "percentage of trend is 26.649080032508625\n",
      "percentage of no trend 73.35091996749138\n"
     ]
    }
   ],
   "source": [
    "trend = len(merged_df[merged_df['trendingOrNot']==1])\n",
    "noTrend = len(merged_df[merged_df['trendingOrNot']==0])\n",
    "pctOfTrend = trend/(trend+noTrend)\n",
    "print(\"percentage of trend is\", pctOfTrend*100)\n",
    "pctOfNoTrend = 100 - pctOfTrend*100\n",
    "print(\"percentage of no trend\", pctOfNoTrend)"
   ]
  },
  {
   "attachments": {},
   "cell_type": "markdown",
   "id": "6490806e",
   "metadata": {},
   "source": [
    "The amounts of each category id"
   ]
  },
  {
   "cell_type": "code",
   "execution_count": 10,
   "id": "07096583",
   "metadata": {},
   "outputs": [
    {
     "data": {
      "text/plain": [
       "24    33684\n",
       "20    28988\n",
       "25    15570\n",
       "28    12327\n",
       "17    11928\n",
       "22     9236\n",
       "10     9038\n",
       "27     7631\n",
       "26     6330\n",
       "15     4602\n",
       "19     2879\n",
       "2      2853\n",
       "1      2697\n",
       "23     1769\n",
       "29      582\n",
       "Name: categoryId, dtype: int64"
      ]
     },
     "execution_count": 10,
     "metadata": {},
     "output_type": "execute_result"
    }
   ],
   "source": [
    "merged_df['categoryId'].value_counts()"
   ]
  },
  {
   "attachments": {},
   "cell_type": "markdown",
   "id": "ff89157b",
   "metadata": {},
   "source": [
    "# Feature Adding"
   ]
  },
  {
   "attachments": {},
   "cell_type": "markdown",
   "id": "d97b74b8",
   "metadata": {},
   "source": [
    "Feature of publishing time(Morning, Afternoon, Evening, Night)"
   ]
  },
  {
   "cell_type": "code",
   "execution_count": 11,
   "id": "28ba9e04",
   "metadata": {},
   "outputs": [],
   "source": [
    "# Retrieve the day of the week and the day time for video published\n",
    "merged_df['publishedAt'] = pd.to_datetime(merged_df['publishedAt'])\n",
    "\n",
    "# create a frequency distribution of the words in the 'title' column\n",
    "\n",
    "merged_df['dayOfWeek'] = merged_df['publishedAt'].dt.weekday\n",
    "def getDaytime(x):\n",
    "    if x.hour>4 and x.hour<=10:\n",
    "        return \"Morning\"\n",
    "    elif x.hour>10 and x.hour<=16:\n",
    "        return \"Afternoon\"\n",
    "    elif x.hour>16 and x.hour<=22:\n",
    "        return \"Evening\"\n",
    "    else:\n",
    "        return \"Night\"\n",
    "\n",
    "merged_df['daytime']=merged_df.publishedAt.apply(lambda x: getDaytime(x))\n"
   ]
  },
  {
   "attachments": {},
   "cell_type": "markdown",
   "id": "c66f984c",
   "metadata": {},
   "source": [
    "Encoding the day time column"
   ]
  },
  {
   "cell_type": "code",
   "execution_count": 12,
   "id": "68a1ea23",
   "metadata": {},
   "outputs": [],
   "source": [
    "from sklearn.preprocessing import LabelEncoder\n",
    "\n",
    "# Create a label encoder object\n",
    "le = LabelEncoder()\n",
    "# Fit the encoder to the data\n",
    "le.fit(merged_df['daytime'])\n",
    "# Transform the data using the encoder\n",
    "merged_df['daytime'] = le.transform(merged_df['daytime'])\n"
   ]
  },
  {
   "attachments": {},
   "cell_type": "markdown",
   "id": "0b5fa2e8",
   "metadata": {},
   "source": [
    "Feature of the title detail such as:\n",
    "1. titleLength - The length of the title\n",
    "2. descriptionLength - The length of the description\n",
    "3. questionMark - The existing of question mark (?) symbol in the title\n",
    "4. exclamationMark - The existing of exclamation mark (!) symbol in the title\n",
    "5. fullCapCount - The number amounts of capitalized character in the title.\n",
    "6. fullCapSentence - Is the title fully captalized or not.\n",
    "7. sentimentScore - The sentiment score of the title (neutral,bad,good)"
   ]
  },
  {
   "cell_type": "code",
   "execution_count": 13,
   "id": "2ef34417",
   "metadata": {},
   "outputs": [],
   "source": [
    "from nltk.sentiment import SentimentIntensityAnalyzer\n",
    "\n",
    "analyzer = SentimentIntensityAnalyzer()\n",
    "\n",
    "def question_mark(title):\n",
    "    if '?' in title: \n",
    "        return True\n",
    "    else:\n",
    "        return False\n",
    "\n",
    "def exclamation_mark(title):\n",
    "    if '!' in str(title): \n",
    "        return True\n",
    "    else:\n",
    "        return False\n",
    "    \n",
    "def isEnglish(s):\n",
    "    try:\n",
    "        s.encode(encoding='utf-8').decode('ascii')\n",
    "    except UnicodeDecodeError:\n",
    "        return False\n",
    "    else:\n",
    "        return True\n",
    "    \n",
    "def countCapLetter(sentence):\n",
    "    count = 0\n",
    "    for letter in sentence:\n",
    "        if letter.isupper():\n",
    "            count += 1\n",
    "    return count\n",
    "\n",
    "def fullCapSentence(text):\n",
    "    words = text.split()\n",
    "    for word in words:\n",
    "        if not word.isupper():\n",
    "            return False\n",
    "    return True\n",
    "\n",
    "\n",
    "def getSentimentScore(title):\n",
    "    return analyzer.polarity_scores(title)['compound']\n"
   ]
  },
  {
   "cell_type": "code",
   "execution_count": 14,
   "id": "3e99f089",
   "metadata": {},
   "outputs": [],
   "source": [
    "merged_df['titleLength'] = merged_df['title'].apply(lambda x: len(x))\n",
    "merged_df['descriptionLength'] = merged_df['description'].apply(lambda x: len(x))\n",
    "merged_df['questionMark'] = merged_df['title'].apply(question_mark)\n",
    "merged_df['exclamationMark'] = merged_df['title'].apply(exclamation_mark)\n",
    "merged_df['fullCapCount'] = merged_df['title'].apply(countCapLetter)\n",
    "merged_df['fullCapSentence'] = merged_df['title'].apply(fullCapSentence)\n",
    "merged_df['sentimentScore'] = merged_df['title'].apply(getSentimentScore)"
   ]
  },
  {
   "attachments": {},
   "cell_type": "markdown",
   "id": "97fbeaec",
   "metadata": {},
   "source": [
    "Change the order of column for neatly arrangement"
   ]
  },
  {
   "cell_type": "code",
   "execution_count": 15,
   "id": "dd71cee7",
   "metadata": {},
   "outputs": [],
   "source": [
    "\n",
    "merged_df = merged_df[['videoID','title', 'publishedAt','channelId','channelTitle','categoryId', 'tags', 'views', 'likes', 'comments','descriptionLength',\\\n",
    "     'thumbnailLink', 'dayOfWeek','daytime','duration','titleLength','questionMark','exclamationMark','sentimentScore','fullCapSentence','fullCapCount','trendingOrNot']].copy()\n",
    "new_order = ['videoID','title','publishedAt', 'channelId','channelTitle','categoryId', 'tags', 'views', 'likes', 'comments','descriptionLength',\\\n",
    "    'thumbnailLink', 'dayOfWeek','daytime','duration','titleLength','questionMark','exclamationMark','sentimentScore','fullCapSentence','fullCapCount','trendingOrNot']\n",
    "merged_df = merged_df[new_order]"
   ]
  },
  {
   "attachments": {},
   "cell_type": "markdown",
   "id": "4c5f8f79",
   "metadata": {},
   "source": [
    "Find the null value in a dataframe for better display"
   ]
  },
  {
   "cell_type": "code",
   "execution_count": 16,
   "id": "aa10b721",
   "metadata": {},
   "outputs": [
    {
     "data": {
      "text/html": [
       "<div>\n",
       "<style scoped>\n",
       "    .dataframe tbody tr th:only-of-type {\n",
       "        vertical-align: middle;\n",
       "    }\n",
       "\n",
       "    .dataframe tbody tr th {\n",
       "        vertical-align: top;\n",
       "    }\n",
       "\n",
       "    .dataframe thead th {\n",
       "        text-align: right;\n",
       "    }\n",
       "</style>\n",
       "<table border=\"1\" class=\"dataframe\">\n",
       "  <thead>\n",
       "    <tr style=\"text-align: right;\">\n",
       "      <th></th>\n",
       "      <th>Column Name</th>\n",
       "      <th>Missing Count</th>\n",
       "      <th>Percentage(%)</th>\n",
       "    </tr>\n",
       "  </thead>\n",
       "  <tbody>\n",
       "    <tr>\n",
       "      <th>0</th>\n",
       "      <td>comments</td>\n",
       "      <td>456</td>\n",
       "      <td>0.30%</td>\n",
       "    </tr>\n",
       "    <tr>\n",
       "      <th>1</th>\n",
       "      <td>videoID</td>\n",
       "      <td>0</td>\n",
       "      <td>0.00%</td>\n",
       "    </tr>\n",
       "    <tr>\n",
       "      <th>2</th>\n",
       "      <td>dayOfWeek</td>\n",
       "      <td>0</td>\n",
       "      <td>0.00%</td>\n",
       "    </tr>\n",
       "    <tr>\n",
       "      <th>3</th>\n",
       "      <td>fullCapCount</td>\n",
       "      <td>0</td>\n",
       "      <td>0.00%</td>\n",
       "    </tr>\n",
       "    <tr>\n",
       "      <th>4</th>\n",
       "      <td>fullCapSentence</td>\n",
       "      <td>0</td>\n",
       "      <td>0.00%</td>\n",
       "    </tr>\n",
       "    <tr>\n",
       "      <th>5</th>\n",
       "      <td>sentimentScore</td>\n",
       "      <td>0</td>\n",
       "      <td>0.00%</td>\n",
       "    </tr>\n",
       "    <tr>\n",
       "      <th>6</th>\n",
       "      <td>exclamationMark</td>\n",
       "      <td>0</td>\n",
       "      <td>0.00%</td>\n",
       "    </tr>\n",
       "    <tr>\n",
       "      <th>7</th>\n",
       "      <td>questionMark</td>\n",
       "      <td>0</td>\n",
       "      <td>0.00%</td>\n",
       "    </tr>\n",
       "    <tr>\n",
       "      <th>8</th>\n",
       "      <td>titleLength</td>\n",
       "      <td>0</td>\n",
       "      <td>0.00%</td>\n",
       "    </tr>\n",
       "    <tr>\n",
       "      <th>9</th>\n",
       "      <td>duration</td>\n",
       "      <td>0</td>\n",
       "      <td>0.00%</td>\n",
       "    </tr>\n",
       "    <tr>\n",
       "      <th>10</th>\n",
       "      <td>daytime</td>\n",
       "      <td>0</td>\n",
       "      <td>0.00%</td>\n",
       "    </tr>\n",
       "    <tr>\n",
       "      <th>11</th>\n",
       "      <td>thumbnailLink</td>\n",
       "      <td>0</td>\n",
       "      <td>0.00%</td>\n",
       "    </tr>\n",
       "    <tr>\n",
       "      <th>12</th>\n",
       "      <td>title</td>\n",
       "      <td>0</td>\n",
       "      <td>0.00%</td>\n",
       "    </tr>\n",
       "    <tr>\n",
       "      <th>13</th>\n",
       "      <td>descriptionLength</td>\n",
       "      <td>0</td>\n",
       "      <td>0.00%</td>\n",
       "    </tr>\n",
       "    <tr>\n",
       "      <th>14</th>\n",
       "      <td>likes</td>\n",
       "      <td>0</td>\n",
       "      <td>0.00%</td>\n",
       "    </tr>\n",
       "    <tr>\n",
       "      <th>15</th>\n",
       "      <td>views</td>\n",
       "      <td>0</td>\n",
       "      <td>0.00%</td>\n",
       "    </tr>\n",
       "    <tr>\n",
       "      <th>16</th>\n",
       "      <td>tags</td>\n",
       "      <td>0</td>\n",
       "      <td>0.00%</td>\n",
       "    </tr>\n",
       "    <tr>\n",
       "      <th>17</th>\n",
       "      <td>categoryId</td>\n",
       "      <td>0</td>\n",
       "      <td>0.00%</td>\n",
       "    </tr>\n",
       "    <tr>\n",
       "      <th>18</th>\n",
       "      <td>channelTitle</td>\n",
       "      <td>0</td>\n",
       "      <td>0.00%</td>\n",
       "    </tr>\n",
       "    <tr>\n",
       "      <th>19</th>\n",
       "      <td>channelId</td>\n",
       "      <td>0</td>\n",
       "      <td>0.00%</td>\n",
       "    </tr>\n",
       "    <tr>\n",
       "      <th>20</th>\n",
       "      <td>publishedAt</td>\n",
       "      <td>0</td>\n",
       "      <td>0.00%</td>\n",
       "    </tr>\n",
       "    <tr>\n",
       "      <th>21</th>\n",
       "      <td>trendingOrNot</td>\n",
       "      <td>0</td>\n",
       "      <td>0.00%</td>\n",
       "    </tr>\n",
       "  </tbody>\n",
       "</table>\n",
       "</div>"
      ],
      "text/plain": [
       "          Column Name  Missing Count Percentage(%)\n",
       "0            comments            456         0.30%\n",
       "1             videoID              0         0.00%\n",
       "2           dayOfWeek              0         0.00%\n",
       "3        fullCapCount              0         0.00%\n",
       "4     fullCapSentence              0         0.00%\n",
       "5      sentimentScore              0         0.00%\n",
       "6     exclamationMark              0         0.00%\n",
       "7        questionMark              0         0.00%\n",
       "8         titleLength              0         0.00%\n",
       "9            duration              0         0.00%\n",
       "10            daytime              0         0.00%\n",
       "11      thumbnailLink              0         0.00%\n",
       "12              title              0         0.00%\n",
       "13  descriptionLength              0         0.00%\n",
       "14              likes              0         0.00%\n",
       "15              views              0         0.00%\n",
       "16               tags              0         0.00%\n",
       "17         categoryId              0         0.00%\n",
       "18       channelTitle              0         0.00%\n",
       "19          channelId              0         0.00%\n",
       "20        publishedAt              0         0.00%\n",
       "21      trendingOrNot              0         0.00%"
      ]
     },
     "execution_count": 16,
     "metadata": {},
     "output_type": "execute_result"
    }
   ],
   "source": [
    "def Missing_Counts( Data, NoMissing=True ) : \n",
    "    missing = Data.isnull().sum()  \n",
    "    \n",
    "    if NoMissing==False :\n",
    "        missing = missing[ missing>0 ]\n",
    "        \n",
    "    missing.sort_values( ascending=False, inplace=True )  \n",
    "    Missing_Count = pd.DataFrame( { 'Column Name':missing.index, 'Missing Count':missing.values } ) \n",
    "    Missing_Count[ 'Percentage(%)' ] = Missing_Count['Missing Count'].apply( lambda x: '{:.2%}'.format(x/Data.shape[0] ))\n",
    "    return  Missing_Count\n",
    "\n",
    "Missing_Counts(merged_df)"
   ]
  },
  {
   "attachments": {},
   "cell_type": "markdown",
   "id": "2f8d7953",
   "metadata": {},
   "source": [
    "Save the dataset"
   ]
  },
  {
   "cell_type": "code",
   "execution_count": 17,
   "id": "05de191c",
   "metadata": {},
   "outputs": [],
   "source": [
    "merged_df.to_csv('merged.csv')"
   ]
  },
  {
   "attachments": {},
   "cell_type": "markdown",
   "id": "6bb08d7f",
   "metadata": {},
   "source": [
    "Check the column of the dataset"
   ]
  },
  {
   "cell_type": "code",
   "execution_count": 117,
   "id": "614b60d7",
   "metadata": {},
   "outputs": [
    {
     "data": {
      "text/plain": [
       "Index(['videoID', 'title', 'publishedAt', 'channelId', 'channelTitle',\n",
       "       'categoryId', 'tags', 'views', 'likes', 'comments', 'descriptionLength',\n",
       "       'thumbnailLink', 'dayOfWeek', 'daytime', 'duration', 'titleLength',\n",
       "       'questionMark', 'exclamationMark', 'sentimentScore', 'fullCapSentence',\n",
       "       'fullCapCount', 'trendingOrNot', 'cleanTitle', 'commonWordCount'],\n",
       "      dtype='object')"
      ]
     },
     "execution_count": 117,
     "metadata": {},
     "output_type": "execute_result"
    }
   ],
   "source": [
    "merged_df.columns"
   ]
  }
 ],
 "metadata": {
  "kernelspec": {
   "display_name": "Python 3 (ipykernel)",
   "language": "python",
   "name": "python3"
  },
  "language_info": {
   "codemirror_mode": {
    "name": "ipython",
    "version": 3
   },
   "file_extension": ".py",
   "mimetype": "text/x-python",
   "name": "python",
   "nbconvert_exporter": "python",
   "pygments_lexer": "ipython3",
   "version": "3.9.12"
  }
 },
 "nbformat": 4,
 "nbformat_minor": 5
}
